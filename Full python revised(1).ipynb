{
 "cells": [
  {
   "cell_type": "markdown",
   "id": "bb790756-d0a8-4093-a696-3d3210ccc740",
   "metadata": {},
   "source": [
    "# Variables"
   ]
  },
  {
   "cell_type": "code",
   "execution_count": 157,
   "id": "2d55317c-8c78-43c0-9ccf-e17a1c9c87ea",
   "metadata": {},
   "outputs": [],
   "source": [
    "x = 10\n"
   ]
  },
  {
   "cell_type": "code",
   "execution_count": 158,
   "id": "34ed6672-260a-44ea-84d1-73f222fe40f1",
   "metadata": {},
   "outputs": [
    {
     "data": {
      "text/plain": [
       "10"
      ]
     },
     "execution_count": 158,
     "metadata": {},
     "output_type": "execute_result"
    }
   ],
   "source": [
    "x"
   ]
  },
  {
   "cell_type": "code",
   "execution_count": 159,
   "id": "4ef69772-0235-401e-b6af-887c69ce781f",
   "metadata": {},
   "outputs": [],
   "source": [
    "x = 'ten'"
   ]
  },
  {
   "cell_type": "code",
   "execution_count": 160,
   "id": "864cb142-a428-4fd3-aba3-2eca75558038",
   "metadata": {},
   "outputs": [
    {
     "data": {
      "text/plain": [
       "'ten'"
      ]
     },
     "execution_count": 160,
     "metadata": {},
     "output_type": "execute_result"
    }
   ],
   "source": [
    "x"
   ]
  },
  {
   "cell_type": "code",
   "execution_count": 161,
   "id": "78d5e95f-c8e6-44bd-ae31-9ef4f6573442",
   "metadata": {},
   "outputs": [
    {
     "data": {
      "text/plain": [
       "3.14"
      ]
     },
     "execution_count": 161,
     "metadata": {},
     "output_type": "execute_result"
    }
   ],
   "source": [
    "x = 3.14\n",
    "x"
   ]
  },
  {
   "cell_type": "code",
   "execution_count": 162,
   "id": "eee3a67f-7d44-4287-bb60-90db6e41e3ea",
   "metadata": {},
   "outputs": [
    {
     "data": {
      "text/plain": [
       "True"
      ]
     },
     "execution_count": 162,
     "metadata": {},
     "output_type": "execute_result"
    }
   ],
   "source": [
    "x = True\n",
    "x"
   ]
  },
  {
   "cell_type": "markdown",
   "id": "b10fa27f-8696-4cff-96f0-3bd74241e626",
   "metadata": {},
   "source": [
    "#Datatypes in python"
   ]
  },
  {
   "cell_type": "markdown",
   "id": "b8659430-529b-4adf-a7d3-347c14f2ea8d",
   "metadata": {},
   "source": [
    "--> NUMERIC DATATYPES"
   ]
  },
  {
   "cell_type": "code",
   "execution_count": 163,
   "id": "62fb8bd8-e4b9-4ee3-930a-2b3cbfd60354",
   "metadata": {},
   "outputs": [
    {
     "data": {
      "text/plain": [
       "5"
      ]
     },
     "execution_count": 163,
     "metadata": {},
     "output_type": "execute_result"
    }
   ],
   "source": [
    "a=5\n",
    "a"
   ]
  },
  {
   "cell_type": "code",
   "execution_count": 164,
   "id": "119a001f-5899-4220-a334-84783adc0239",
   "metadata": {},
   "outputs": [
    {
     "data": {
      "text/plain": [
       "3.14"
      ]
     },
     "execution_count": 164,
     "metadata": {},
     "output_type": "execute_result"
    }
   ],
   "source": [
    "b=3.14\n",
    "b"
   ]
  },
  {
   "cell_type": "code",
   "execution_count": 165,
   "id": "06486067-d7a9-4b51-a9cf-a56e4aec286a",
   "metadata": {},
   "outputs": [
    {
     "data": {
      "text/plain": [
       "(2+3j)"
      ]
     },
     "execution_count": 165,
     "metadata": {},
     "output_type": "execute_result"
    }
   ],
   "source": [
    "c=2+3j\n",
    "c"
   ]
  },
  {
   "cell_type": "markdown",
   "id": "8ad8c852-4bca-4664-ab11-c61b2c534f68",
   "metadata": {},
   "source": [
    "SEQUENCE DATATYPES"
   ]
  },
  {
   "cell_type": "code",
   "execution_count": 166,
   "id": "4294aa59-1de2-4cdc-ac43-1413fbd021b2",
   "metadata": {},
   "outputs": [
    {
     "data": {
      "text/plain": [
       "['apple', 'banana', 'grapes']"
      ]
     },
     "execution_count": 166,
     "metadata": {},
     "output_type": "execute_result"
    }
   ],
   "source": [
    "fruits = ['apple', 'banana', 'grapes'] # LIST\n",
    "fruits"
   ]
  },
  {
   "cell_type": "code",
   "execution_count": 167,
   "id": "c42c50c0-a619-4038-8755-efdf097d7a61",
   "metadata": {},
   "outputs": [
    {
     "data": {
      "text/plain": [
       "(1, 2, 3)"
      ]
     },
     "execution_count": 167,
     "metadata": {},
     "output_type": "execute_result"
    }
   ],
   "source": [
    "number = (1,2,3) # tuple\n",
    "number"
   ]
  },
  {
   "cell_type": "code",
   "execution_count": 168,
   "id": "5dd6ef7d-bd8b-4360-a4fb-d407d7efdf6b",
   "metadata": {},
   "outputs": [
    {
     "data": {
      "text/plain": [
       "range(0, 5)"
      ]
     },
     "execution_count": 168,
     "metadata": {},
     "output_type": "execute_result"
    }
   ],
   "source": [
    "r = range(0,5) # Sequence of ranges\n",
    "r"
   ]
  },
  {
   "cell_type": "markdown",
   "id": "4895d592-0422-41b9-a0a0-b5cd865ec43a",
   "metadata": {},
   "source": [
    "MAPPING TYPES"
   ]
  },
  {
   "cell_type": "code",
   "execution_count": 169,
   "id": "54de70aa-2012-4996-acc4-0b3b01ad7080",
   "metadata": {},
   "outputs": [
    {
     "data": {
      "text/plain": [
       "{'name': 'sanket', 'age': '22'}"
      ]
     },
     "execution_count": 169,
     "metadata": {},
     "output_type": "execute_result"
    }
   ],
   "source": [
    "student = {'name':'sanket','age':'22'}\n",
    "student"
   ]
  },
  {
   "cell_type": "markdown",
   "id": "1de519bf-3f2b-48df-8bf6-13dddf73ac50",
   "metadata": {},
   "source": [
    "SET TYPES"
   ]
  },
  {
   "cell_type": "code",
   "execution_count": 170,
   "id": "0ab5aaaf-251e-41fb-b9df-3055de660e24",
   "metadata": {},
   "outputs": [
    {
     "data": {
      "text/plain": [
       "{1, 2, 3, 4, 5}"
      ]
     },
     "execution_count": 170,
     "metadata": {},
     "output_type": "execute_result"
    }
   ],
   "source": [
    "set = {1,2,3,4,5}\n",
    "set"
   ]
  },
  {
   "cell_type": "code",
   "execution_count": 171,
   "id": "6a6e5794-d211-44d1-9d27-65a42a748bda",
   "metadata": {},
   "outputs": [
    {
     "data": {
      "text/plain": [
       "int"
      ]
     },
     "execution_count": 171,
     "metadata": {},
     "output_type": "execute_result"
    }
   ],
   "source": [
    "a = 1\n",
    "type(a)"
   ]
  },
  {
   "cell_type": "code",
   "execution_count": 172,
   "id": "e39f8073-0b73-4e09-9699-82d08bec0996",
   "metadata": {},
   "outputs": [
    {
     "data": {
      "text/plain": [
       "1.0"
      ]
     },
     "execution_count": 172,
     "metadata": {},
     "output_type": "execute_result"
    }
   ],
   "source": [
    "float(a)\n"
   ]
  },
  {
   "cell_type": "code",
   "execution_count": 173,
   "id": "b8acce3d-9400-4047-80ba-395b7d58b482",
   "metadata": {},
   "outputs": [
    {
     "data": {
      "text/plain": [
       "'1'"
      ]
     },
     "execution_count": 173,
     "metadata": {},
     "output_type": "execute_result"
    }
   ],
   "source": [
    "str(a)"
   ]
  },
  {
   "cell_type": "code",
   "execution_count": 174,
   "id": "01fcee25-4f64-4422-93c9-c3651428d0b0",
   "metadata": {},
   "outputs": [
    {
     "data": {
      "text/plain": [
       "(1, 2, 3, 4, 5)"
      ]
     },
     "execution_count": 174,
     "metadata": {},
     "output_type": "execute_result"
    }
   ],
   "source": [
    "list1 = [1,2,3,4,5]\n",
    "tuple(list1)"
   ]
  },
  {
   "cell_type": "code",
   "execution_count": 175,
   "id": "8fc5edc8-2882-40d1-88f0-595a3f942449",
   "metadata": {},
   "outputs": [
    {
     "data": {
      "text/plain": [
       "list"
      ]
     },
     "execution_count": 175,
     "metadata": {},
     "output_type": "execute_result"
    }
   ],
   "source": [
    "type(list1)"
   ]
  },
  {
   "cell_type": "code",
   "execution_count": 176,
   "id": "e7aed2e7-3ea5-42c5-bbc7-7bc03502467b",
   "metadata": {},
   "outputs": [
    {
     "data": {
      "text/plain": [
       "(1, 2, 3, 4, 5)"
      ]
     },
     "execution_count": 176,
     "metadata": {},
     "output_type": "execute_result"
    }
   ],
   "source": [
    "t1 = (1,2,3,4,5)\n",
    "t1"
   ]
  },
  {
   "cell_type": "markdown",
   "id": "f5d69837-7a24-4640-af41-13ee60686e83",
   "metadata": {},
   "source": [
    "OPERATORS IN PYTHON"
   ]
  },
  {
   "cell_type": "markdown",
   "id": "bb8630a7-b006-44f4-af91-8eb9f8c0ac9c",
   "metadata": {},
   "source": [
    "ARITHMETIC OPERATORS"
   ]
  },
  {
   "cell_type": "code",
   "execution_count": 177,
   "id": "ad2e9d86-f5f4-4942-a608-bbeff2e587e6",
   "metadata": {},
   "outputs": [
    {
     "name": "stdout",
     "output_type": "stream",
     "text": [
      "13\n",
      "7\n",
      "30\n",
      "3.3333333333333335\n",
      "3\n",
      "1\n",
      "1000\n"
     ]
    }
   ],
   "source": [
    "a = 10\n",
    "b = 3\n",
    "print(a+b)\n",
    "print(a-b)\n",
    "print(a*b)\n",
    "print(a/b)\n",
    "print(a//b)\n",
    "print(a%b)\n",
    "print(a**b)"
   ]
  },
  {
   "cell_type": "markdown",
   "id": "31e3a1df-c139-4e60-b244-d353daa6bd75",
   "metadata": {},
   "source": [
    "COMPARISON / RELATIONAL OPERATOR"
   ]
  },
  {
   "cell_type": "code",
   "execution_count": 178,
   "id": "194bd386-dd80-4e2a-a2b8-66f6fce437a8",
   "metadata": {},
   "outputs": [
    {
     "name": "stdout",
     "output_type": "stream",
     "text": [
      "False\n",
      "True\n",
      "False\n",
      "True\n"
     ]
    }
   ],
   "source": [
    "x = 5\n",
    "y = 10\n",
    "print(x==y)\n",
    "print(x!=y)\n",
    "print(x>y)\n",
    "print(x<y)"
   ]
  },
  {
   "cell_type": "markdown",
   "id": "14cd961c-7775-49ff-9e45-adf2ac4660a5",
   "metadata": {},
   "source": [
    "LOGICAL OPERATOR"
   ]
  },
  {
   "cell_type": "code",
   "execution_count": 179,
   "id": "c368e0ff-1849-4edf-9db3-e43c695170d8",
   "metadata": {},
   "outputs": [
    {
     "name": "stdout",
     "output_type": "stream",
     "text": [
      "False\n",
      "True\n",
      "False\n",
      "False\n"
     ]
    }
   ],
   "source": [
    "a = True\n",
    "b = False\n",
    "print(a and b)\n",
    "print(a or b)\n",
    "print(not a)\n",
    "c = (not a)\n",
    "print(c)"
   ]
  },
  {
   "cell_type": "markdown",
   "id": "f07880c7-d198-4e9a-a91c-ea039c63bd3f",
   "metadata": {},
   "source": [
    "ASSIGNMENT OPERATOR"
   ]
  },
  {
   "cell_type": "code",
   "execution_count": 180,
   "id": "2141eacd-93ff-4220-95ca-672adcaffdfc",
   "metadata": {},
   "outputs": [
    {
     "name": "stdout",
     "output_type": "stream",
     "text": [
      "15\n"
     ]
    }
   ],
   "source": [
    "x = 10\n",
    "x+=5\n",
    "print(x)"
   ]
  },
  {
   "cell_type": "code",
   "execution_count": 181,
   "id": "f3e0c9fa-f17e-4771-9e0f-1e434688fc8e",
   "metadata": {},
   "outputs": [
    {
     "data": {
      "text/plain": [
       "12"
      ]
     },
     "execution_count": 181,
     "metadata": {},
     "output_type": "execute_result"
    }
   ],
   "source": [
    "x-=3\n",
    "x"
   ]
  },
  {
   "cell_type": "code",
   "execution_count": 182,
   "id": "ed6150d6-60e1-4cb8-bc94-e02bb92aaa29",
   "metadata": {},
   "outputs": [
    {
     "data": {
      "text/plain": [
       "24"
      ]
     },
     "execution_count": 182,
     "metadata": {},
     "output_type": "execute_result"
    }
   ],
   "source": [
    "x*=2\n",
    "x"
   ]
  },
  {
   "cell_type": "code",
   "execution_count": 183,
   "id": "9aee8166-e209-4578-85c3-2a45f99d8073",
   "metadata": {},
   "outputs": [
    {
     "data": {
      "text/plain": [
       "6.0"
      ]
     },
     "execution_count": 183,
     "metadata": {},
     "output_type": "execute_result"
    }
   ],
   "source": [
    "x/=4\n",
    "x"
   ]
  },
  {
   "cell_type": "code",
   "execution_count": 184,
   "id": "11f78333-9992-44e1-99a9-e2343bc981fa",
   "metadata": {},
   "outputs": [
    {
     "data": {
      "text/plain": [
       "3.0"
      ]
     },
     "execution_count": 184,
     "metadata": {},
     "output_type": "execute_result"
    }
   ],
   "source": [
    "x//=2\n",
    "x"
   ]
  },
  {
   "cell_type": "code",
   "execution_count": 185,
   "id": "7fabaa8a-e287-476f-b2c3-ecc2e482ce0e",
   "metadata": {},
   "outputs": [
    {
     "data": {
      "text/plain": [
       "1.0"
      ]
     },
     "execution_count": 185,
     "metadata": {},
     "output_type": "execute_result"
    }
   ],
   "source": [
    "x%=2\n",
    "x"
   ]
  },
  {
   "cell_type": "markdown",
   "id": "2e1eae0f-c179-458a-9944-78c5686f12bd",
   "metadata": {},
   "source": [
    "BITWISE OPERATOR"
   ]
  },
  {
   "cell_type": "code",
   "execution_count": 186,
   "id": "7714cb1b-537d-4bda-be07-c8e0123944a8",
   "metadata": {},
   "outputs": [
    {
     "name": "stdout",
     "output_type": "stream",
     "text": [
      "2\n",
      "7\n",
      "5\n",
      "-7\n",
      "24\n",
      "1\n"
     ]
    }
   ],
   "source": [
    "a = 6\n",
    "b = 3\n",
    "print(a&b)\n",
    "print(a|b)\n",
    "print(a^b)\n",
    "print(~a)\n",
    "print(a<<2)\n",
    "print(a>>2)"
   ]
  },
  {
   "cell_type": "markdown",
   "id": "7e22b2a5-62de-4e62-8225-3cd307e7bdf1",
   "metadata": {},
   "source": [
    "IDENTITY OPERATOR"
   ]
  },
  {
   "cell_type": "code",
   "execution_count": 187,
   "id": "5f0d54f5-088f-484a-8c1d-07325b4051a1",
   "metadata": {},
   "outputs": [
    {
     "name": "stdout",
     "output_type": "stream",
     "text": [
      "False\n",
      "True\n",
      "True\n",
      "False\n"
     ]
    }
   ],
   "source": [
    "x = [1,2,3]\n",
    "y = [1,2,3]\n",
    "z = x\n",
    "\n",
    "print(x is y)\n",
    "print(x is not y)\n",
    "print(x is z)\n",
    "print(x is not z)"
   ]
  },
  {
   "cell_type": "markdown",
   "id": "eb9bc53a-bc62-4989-985e-ae72782ee6f4",
   "metadata": {},
   "source": [
    "MEMBERSHIP OPERATOR"
   ]
  },
  {
   "cell_type": "code",
   "execution_count": 188,
   "id": "c3f2b99b-ff62-42ea-9651-2eb87cad55dd",
   "metadata": {},
   "outputs": [
    {
     "name": "stdout",
     "output_type": "stream",
     "text": [
      "True\n",
      "True\n",
      "True\n",
      "False\n"
     ]
    }
   ],
   "source": [
    "fruits = ['apple', 'banana', 'cherry']\n",
    "print('apple' in fruits)\n",
    "print('banana' in fruits)\n",
    "print('cherry' in fruits)\n",
    "print('mango' in fruits)\n"
   ]
  },
  {
   "cell_type": "markdown",
   "id": "3e5fc8ce-8d31-4e39-9254-a62c6ecd352e",
   "metadata": {},
   "source": [
    "DATA STRUCTURE IN PYTHON"
   ]
  },
  {
   "cell_type": "markdown",
   "id": "c6a2ddec-ccbd-4b7e-9709-fbe83b691b0b",
   "metadata": {},
   "source": [
    "LIST"
   ]
  },
  {
   "cell_type": "code",
   "execution_count": 189,
   "id": "25003acf-5c79-4d36-88e6-7ffae8f2ba12",
   "metadata": {},
   "outputs": [
    {
     "data": {
      "text/plain": [
       "['apple', 'banana', 'cherry', 'grapes']"
      ]
     },
     "execution_count": 189,
     "metadata": {},
     "output_type": "execute_result"
    }
   ],
   "source": [
    "fruits = ['apple', 'banana', 'cherry']\n",
    "\n",
    "fruits.append('grapes')\n",
    "fruits"
   ]
  },
  {
   "cell_type": "code",
   "execution_count": 190,
   "id": "c670cbeb-866c-4890-90dd-afee073434a7",
   "metadata": {},
   "outputs": [
    {
     "data": {
      "text/plain": [
       "['apple', 'berry', 'banana', 'cherry', 'grapes']"
      ]
     },
     "execution_count": 190,
     "metadata": {},
     "output_type": "execute_result"
    }
   ],
   "source": [
    "fruits.insert(1,'berry')\n",
    "fruits"
   ]
  },
  {
   "cell_type": "code",
   "execution_count": 191,
   "id": "03d0f08c-9582-4042-923e-addd7b254d9e",
   "metadata": {},
   "outputs": [
    {
     "data": {
      "text/plain": [
       "['apple',\n",
       " 'berry',\n",
       " 'banana',\n",
       " 'cherry',\n",
       " 'grapes',\n",
       " 'papaya',\n",
       " 'oranges',\n",
       " 'mangoes']"
      ]
     },
     "execution_count": 191,
     "metadata": {},
     "output_type": "execute_result"
    }
   ],
   "source": [
    "f1 = ['papaya','oranges','mangoes']\n",
    "fruits.extend(f1)\n",
    "fruits"
   ]
  },
  {
   "cell_type": "markdown",
   "id": "4092ddbe-3db6-430e-a6b5-b3646e282368",
   "metadata": {},
   "source": [
    "REMOVING ELEMENTS FROM LIST"
   ]
  },
  {
   "cell_type": "code",
   "execution_count": 192,
   "id": "54d16ec1-0ffb-43aa-ab61-f2a211acfaab",
   "metadata": {},
   "outputs": [
    {
     "data": {
      "text/plain": [
       "['apple', 'berry', 'banana', 'cherry', 'grapes', 'papaya', 'oranges']"
      ]
     },
     "execution_count": 192,
     "metadata": {},
     "output_type": "execute_result"
    }
   ],
   "source": [
    "fruits.remove('mangoes')\n",
    "fruits"
   ]
  },
  {
   "cell_type": "code",
   "execution_count": 193,
   "id": "28b805ab-1aa8-48c6-9289-176e36ac8368",
   "metadata": {},
   "outputs": [
    {
     "data": {
      "text/plain": [
       "['apple', 'berry', 'banana', 'cherry', 'grapes', 'papaya']"
      ]
     },
     "execution_count": 193,
     "metadata": {},
     "output_type": "execute_result"
    }
   ],
   "source": [
    "fruits.pop()\n",
    "fruits"
   ]
  },
  {
   "cell_type": "code",
   "execution_count": 194,
   "id": "b1ab0521-38ae-4a58-9dfb-a99624be4532",
   "metadata": {},
   "outputs": [
    {
     "data": {
      "text/plain": [
       "[]"
      ]
     },
     "execution_count": 194,
     "metadata": {},
     "output_type": "execute_result"
    }
   ],
   "source": [
    "fruits.clear()\n",
    "fruits"
   ]
  },
  {
   "cell_type": "code",
   "execution_count": 195,
   "id": "41e4df96-6e4e-44e1-8fc6-ac0dc1024710",
   "metadata": {},
   "outputs": [
    {
     "data": {
      "text/plain": [
       "2"
      ]
     },
     "execution_count": 195,
     "metadata": {},
     "output_type": "execute_result"
    }
   ],
   "source": [
    "l1 = ['a','b','c','d','e','f','a','a']\n",
    "l1.index('c')"
   ]
  },
  {
   "cell_type": "code",
   "execution_count": 196,
   "id": "6d059f5d-5399-4b9e-a5ba-0682472ce85c",
   "metadata": {},
   "outputs": [
    {
     "data": {
      "text/plain": [
       "3"
      ]
     },
     "execution_count": 196,
     "metadata": {},
     "output_type": "execute_result"
    }
   ],
   "source": [
    "l1.count('a')"
   ]
  },
  {
   "cell_type": "code",
   "execution_count": 197,
   "id": "618c045d-a36e-4468-8e98-7a930b750986",
   "metadata": {},
   "outputs": [
    {
     "data": {
      "text/plain": [
       "[2, 2, 3, 3, 3, 4, 5, 5, 6, 6, 7, 8, 34]"
      ]
     },
     "execution_count": 197,
     "metadata": {},
     "output_type": "execute_result"
    }
   ],
   "source": [
    "l2 = [3,4,2,3,5,2,3,5,6,7,8,34,6]\n",
    "l2.sort()\n",
    "l2"
   ]
  },
  {
   "cell_type": "code",
   "execution_count": 198,
   "id": "4699c777-f113-4b9d-8055-803ede4f1b7a",
   "metadata": {},
   "outputs": [
    {
     "data": {
      "text/plain": [
       "[6, 34, 8, 7, 6, 5, 3, 2, 5, 3, 2, 4, 3]"
      ]
     },
     "execution_count": 198,
     "metadata": {},
     "output_type": "execute_result"
    }
   ],
   "source": [
    "l2 = [3,4,2,3,5,2,3,5,6,7,8,34,6]\n",
    "l2.reverse()\n",
    "l2"
   ]
  },
  {
   "cell_type": "code",
   "execution_count": 199,
   "id": "f4c8aca6-55f0-4b0d-80c1-31d405ebaf43",
   "metadata": {},
   "outputs": [
    {
     "data": {
      "text/plain": [
       "[6, 34, 8, 7, 6, 5, 3, 2, 5, 3, 2, 4, 3]"
      ]
     },
     "execution_count": 199,
     "metadata": {},
     "output_type": "execute_result"
    }
   ],
   "source": [
    "l3 = l2.copy()\n",
    "l3"
   ]
  },
  {
   "cell_type": "code",
   "execution_count": 200,
   "id": "d14fa703-238e-421f-ab5c-b9aabf79eb56",
   "metadata": {},
   "outputs": [
    {
     "data": {
      "text/plain": [
       "34"
      ]
     },
     "execution_count": 200,
     "metadata": {},
     "output_type": "execute_result"
    }
   ],
   "source": [
    "max(l3)"
   ]
  },
  {
   "cell_type": "code",
   "execution_count": 201,
   "id": "4e577f1f-2827-4def-a81a-2a60243f2e0b",
   "metadata": {},
   "outputs": [
    {
     "data": {
      "text/plain": [
       "2"
      ]
     },
     "execution_count": 201,
     "metadata": {},
     "output_type": "execute_result"
    }
   ],
   "source": [
    "min(l3)"
   ]
  },
  {
   "cell_type": "code",
   "execution_count": 202,
   "id": "984fda18-6466-467e-a53f-ebe20bd44b50",
   "metadata": {},
   "outputs": [
    {
     "data": {
      "text/plain": [
       "88"
      ]
     },
     "execution_count": 202,
     "metadata": {},
     "output_type": "execute_result"
    }
   ],
   "source": [
    "sum(l3)"
   ]
  },
  {
   "cell_type": "code",
   "execution_count": 203,
   "id": "9a6e0605-fd82-4f78-8bb3-c94d99b97126",
   "metadata": {},
   "outputs": [
    {
     "data": {
      "text/plain": [
       "[2, 2, 3, 3, 3, 4, 5, 5, 6, 6, 7, 8, 34]"
      ]
     },
     "execution_count": 203,
     "metadata": {},
     "output_type": "execute_result"
    }
   ],
   "source": [
    "sorted(l3)"
   ]
  },
  {
   "cell_type": "markdown",
   "id": "cf035f5c-7258-4112-96f5-57b421ffe325",
   "metadata": {},
   "source": [
    "LIST SLICING"
   ]
  },
  {
   "cell_type": "code",
   "execution_count": 204,
   "id": "35b414e8-d612-49a1-9f35-e104a2c496d7",
   "metadata": {},
   "outputs": [
    {
     "data": {
      "text/plain": [
       "[6, 34, 8, 7, 6, 5, 3, 2, 5, 3, 2, 4, 3]"
      ]
     },
     "execution_count": 204,
     "metadata": {},
     "output_type": "execute_result"
    }
   ],
   "source": [
    "l3[:]"
   ]
  },
  {
   "cell_type": "code",
   "execution_count": 205,
   "id": "bf9b43bc-787b-4bf4-9cc5-bdb344484f91",
   "metadata": {},
   "outputs": [
    {
     "data": {
      "text/plain": [
       "[3, 4, 2, 3, 5, 2, 3, 5, 6, 7, 8, 34, 6]"
      ]
     },
     "execution_count": 205,
     "metadata": {},
     "output_type": "execute_result"
    }
   ],
   "source": [
    "l3[::-1]"
   ]
  },
  {
   "cell_type": "code",
   "execution_count": 206,
   "id": "c82541f1-d769-4a8a-904f-0db80e714750",
   "metadata": {},
   "outputs": [
    {
     "data": {
      "text/plain": [
       "[3, 2, 5, 3, 6, 8, 6]"
      ]
     },
     "execution_count": 206,
     "metadata": {},
     "output_type": "execute_result"
    }
   ],
   "source": [
    "l3[::-2]"
   ]
  },
  {
   "cell_type": "code",
   "execution_count": 207,
   "id": "e2e541fe-375a-4997-a649-729bc2b6a998",
   "metadata": {},
   "outputs": [
    {
     "data": {
      "text/plain": [
       "[3, 3, 3, 7, 6]"
      ]
     },
     "execution_count": 207,
     "metadata": {},
     "output_type": "execute_result"
    }
   ],
   "source": [
    "l3[::-3]"
   ]
  },
  {
   "cell_type": "code",
   "execution_count": 208,
   "id": "272a20b0-a2e7-4ea3-8fdf-56ab6702bf15",
   "metadata": {},
   "outputs": [
    {
     "data": {
      "text/plain": [
       "[7, 6, 5, 3]"
      ]
     },
     "execution_count": 208,
     "metadata": {},
     "output_type": "execute_result"
    }
   ],
   "source": [
    "l3[3:7]"
   ]
  },
  {
   "cell_type": "code",
   "execution_count": 209,
   "id": "60a10ef8-3d91-45ad-97ae-f5923bb65d2f",
   "metadata": {},
   "outputs": [
    {
     "data": {
      "text/plain": [
       "[6, 34, 8, 7, 6, 5, 3]"
      ]
     },
     "execution_count": 209,
     "metadata": {},
     "output_type": "execute_result"
    }
   ],
   "source": [
    "l3[:-6]"
   ]
  },
  {
   "cell_type": "code",
   "execution_count": 210,
   "id": "ec78d4ca-2d3e-41b4-bd2e-4902610b8d03",
   "metadata": {},
   "outputs": [
    {
     "data": {
      "text/plain": [
       "[3, 2, 4, 3]"
      ]
     },
     "execution_count": 210,
     "metadata": {},
     "output_type": "execute_result"
    }
   ],
   "source": [
    "l3[-4:]"
   ]
  },
  {
   "cell_type": "code",
   "execution_count": 211,
   "id": "fa75151f-7af3-4430-b1d3-2e5e5e528d55",
   "metadata": {},
   "outputs": [
    {
     "data": {
      "text/plain": [
       "[6, 34, 8, 7]"
      ]
     },
     "execution_count": 211,
     "metadata": {},
     "output_type": "execute_result"
    }
   ],
   "source": [
    "l3[:4]"
   ]
  },
  {
   "cell_type": "markdown",
   "id": "e62fc63d-8540-42f3-8d6b-329b34c756cb",
   "metadata": {},
   "source": [
    "TUPLES IN PYTHON"
   ]
  },
  {
   "cell_type": "code",
   "execution_count": 212,
   "id": "85aa08eb-75aa-48eb-a08a-9216f68b3830",
   "metadata": {},
   "outputs": [],
   "source": [
    "#CREATING TUPLES\n",
    "t1 = (1,2,3) # int tuple\n",
    "t2 = ('apple','banana') # string tuple\n",
    "t3 = (1,'hello',3.5,True) # tuple with mixed data types "
   ]
  },
  {
   "cell_type": "code",
   "execution_count": 213,
   "id": "15d1ebc8-c62c-420f-84f1-bac92224c67a",
   "metadata": {},
   "outputs": [
    {
     "name": "stdout",
     "output_type": "stream",
     "text": [
      "10\n",
      "50\n",
      "(20, 30)\n"
     ]
    }
   ],
   "source": [
    "t = (10,20,30,40,50)\n",
    "print(t[0])\n",
    "print(t[-1])\n",
    "print(t[1:3])"
   ]
  },
  {
   "cell_type": "code",
   "execution_count": 214,
   "id": "6fb5a07c-031e-4e6e-a62c-e4cc5a6882d2",
   "metadata": {},
   "outputs": [],
   "source": [
    "tp = (1,2,4,5,1,4,5,2,1)"
   ]
  },
  {
   "cell_type": "code",
   "execution_count": 215,
   "id": "c7c9eab1-cba7-416f-a5a4-2439f7d9c93d",
   "metadata": {},
   "outputs": [
    {
     "data": {
      "text/plain": [
       "3"
      ]
     },
     "execution_count": 215,
     "metadata": {},
     "output_type": "execute_result"
    }
   ],
   "source": [
    "tp.count(1)"
   ]
  },
  {
   "cell_type": "code",
   "execution_count": 216,
   "id": "77dd2e9d-7c12-489d-9b2d-aca995753a5c",
   "metadata": {},
   "outputs": [
    {
     "data": {
      "text/plain": [
       "2"
      ]
     },
     "execution_count": 216,
     "metadata": {},
     "output_type": "execute_result"
    }
   ],
   "source": [
    "tp.index(4)"
   ]
  },
  {
   "cell_type": "markdown",
   "id": "97058f7f-4094-446f-b503-3a092af5af49",
   "metadata": {},
   "source": [
    "TUPLE OPERATIONS"
   ]
  },
  {
   "cell_type": "code",
   "execution_count": 217,
   "id": "25bea0a9-19cc-45ab-ba49-b579a95fd678",
   "metadata": {},
   "outputs": [
    {
     "name": "stdout",
     "output_type": "stream",
     "text": [
      "(1, 2, 3, 'apple', 'banana')\n"
     ]
    }
   ],
   "source": [
    "print(t1+t2) # concatenate"
   ]
  },
  {
   "cell_type": "code",
   "execution_count": 218,
   "id": "ce491236-1205-424a-b84c-be3aa29b330f",
   "metadata": {},
   "outputs": [
    {
     "name": "stdout",
     "output_type": "stream",
     "text": [
      "(1, 2, 3, 1, 2, 3, 1, 2, 3)\n"
     ]
    }
   ],
   "source": [
    "print(t1*3) # repetition"
   ]
  },
  {
   "cell_type": "code",
   "execution_count": 219,
   "id": "9fc05406-d00c-443b-b69f-e8d19c21e87a",
   "metadata": {},
   "outputs": [
    {
     "name": "stdout",
     "output_type": "stream",
     "text": [
      "True\n"
     ]
    }
   ],
   "source": [
    "print(2 in t1)"
   ]
  },
  {
   "cell_type": "code",
   "execution_count": 220,
   "id": "459a71b5-6063-41a6-9bbb-6426a6cba537",
   "metadata": {},
   "outputs": [],
   "source": [
    "nested = (1,(2,2),(4,5))"
   ]
  },
  {
   "cell_type": "markdown",
   "id": "0f2c83de-34c5-4208-ad26-445acf30c933",
   "metadata": {},
   "source": [
    "TYPE CONVERSION WITH TUPLE"
   ]
  },
  {
   "cell_type": "code",
   "execution_count": 221,
   "id": "b0370a47-3dd0-463f-98bd-b1a020549f48",
   "metadata": {},
   "outputs": [
    {
     "name": "stdout",
     "output_type": "stream",
     "text": [
      "(1, 2, 3, 4)\n"
     ]
    }
   ],
   "source": [
    "l = [1,2,3,4]\n",
    "t = tuple(l)\n",
    "print(t)"
   ]
  },
  {
   "cell_type": "code",
   "execution_count": 222,
   "id": "ae7f266b-bcc3-45ba-84b2-88db369ea00f",
   "metadata": {},
   "outputs": [
    {
     "name": "stdout",
     "output_type": "stream",
     "text": [
      "[1, 2, 3, 4, 5]\n"
     ]
    }
   ],
   "source": [
    "t = (1,2,3,4,5)\n",
    "l = list(t)\n",
    "print(l)"
   ]
  },
  {
   "cell_type": "markdown",
   "id": "696be29b-3dc0-495c-aea5-7fbcf88b2fd0",
   "metadata": {},
   "source": [
    "SET IN PYTHON"
   ]
  },
  {
   "cell_type": "markdown",
   "id": "e84de7ef-a188-4327-8449-5829f17d6335",
   "metadata": {},
   "source": [
    "CREATION OF LIST"
   ]
  },
  {
   "cell_type": "code",
   "execution_count": 223,
   "id": "a8119920-7866-4500-9892-97d32ae73454",
   "metadata": {},
   "outputs": [],
   "source": [
    "s1 = {1,2,3,4,5}"
   ]
  },
  {
   "cell_type": "code",
   "execution_count": 224,
   "id": "35ee6d4d-f9f2-4069-a55f-9f448b67cf52",
   "metadata": {},
   "outputs": [
    {
     "data": {
      "text/plain": [
       "{0, 3, 4, 5, 6, 7, 8, 9}"
      ]
     },
     "execution_count": 224,
     "metadata": {},
     "output_type": "execute_result"
    }
   ],
   "source": [
    "s1 = {3,4,5,6,7,8,9,0}\n",
    "s1"
   ]
  },
  {
   "cell_type": "code",
   "execution_count": 225,
   "id": "47dd78e9-fd18-45ce-8b16-f819bc6222dd",
   "metadata": {},
   "outputs": [
    {
     "data": {
      "text/plain": [
       "{0, 3, 4, 5, 6, 7, 8, 9, 11}"
      ]
     },
     "execution_count": 225,
     "metadata": {},
     "output_type": "execute_result"
    }
   ],
   "source": [
    "s1.add(11)\n",
    "s1"
   ]
  },
  {
   "cell_type": "code",
   "execution_count": 226,
   "id": "6d5e6c66-033c-4d2b-9874-3238434c2da3",
   "metadata": {},
   "outputs": [
    {
     "data": {
      "text/plain": [
       "{0, 3, 4, 5, 6, 7, 8, 9, 11, 12, 13, 14}"
      ]
     },
     "execution_count": 226,
     "metadata": {},
     "output_type": "execute_result"
    }
   ],
   "source": [
    "s1.update([12,13,14])\n",
    "s1"
   ]
  },
  {
   "cell_type": "markdown",
   "id": "947d5c23-f607-4db5-bc10-baab95a13664",
   "metadata": {},
   "source": [
    "REMOVING ELEMENTS IN SET"
   ]
  },
  {
   "cell_type": "code",
   "execution_count": 227,
   "id": "c105a170-4562-4bdd-9e3a-7ac598a497a7",
   "metadata": {},
   "outputs": [
    {
     "data": {
      "text/plain": [
       "{0, 3, 4, 6, 7, 8, 9, 11, 12, 13, 14}"
      ]
     },
     "execution_count": 227,
     "metadata": {},
     "output_type": "execute_result"
    }
   ],
   "source": [
    "s1.remove(5)\n",
    "s1"
   ]
  },
  {
   "cell_type": "code",
   "execution_count": 228,
   "id": "412b1fc6-0fec-4f6f-9c01-733436a27ab5",
   "metadata": {},
   "outputs": [
    {
     "ename": "KeyError",
     "evalue": "20",
     "output_type": "error",
     "traceback": [
      "\u001b[1;31m---------------------------------------------------------------------------\u001b[0m",
      "\u001b[1;31mKeyError\u001b[0m                                  Traceback (most recent call last)",
      "Cell \u001b[1;32mIn[228], line 1\u001b[0m\n\u001b[1;32m----> 1\u001b[0m s1\u001b[38;5;241m.\u001b[39mremove(\u001b[38;5;241m20\u001b[39m)\n\u001b[0;32m      2\u001b[0m s1\n",
      "\u001b[1;31mKeyError\u001b[0m: 20"
     ]
    }
   ],
   "source": [
    "s1.remove(20)\n",
    "s1"
   ]
  },
  {
   "cell_type": "code",
   "execution_count": 229,
   "id": "8b9f9ee5-0f65-4d25-b848-3e989283b261",
   "metadata": {},
   "outputs": [
    {
     "data": {
      "text/plain": [
       "{0, 3, 4, 6, 7, 8, 11, 12, 13, 14}"
      ]
     },
     "execution_count": 229,
     "metadata": {},
     "output_type": "execute_result"
    }
   ],
   "source": [
    "s1.remove(9)\n",
    "s1"
   ]
  },
  {
   "cell_type": "code",
   "execution_count": 230,
   "id": "4293d5a1-9fc5-4c0d-8067-2d63d0feae8a",
   "metadata": {},
   "outputs": [
    {
     "data": {
      "text/plain": [
       "{0, 3, 4, 6, 7, 8, 12, 13, 14}"
      ]
     },
     "execution_count": 230,
     "metadata": {},
     "output_type": "execute_result"
    }
   ],
   "source": [
    "s1.discard(11)\n",
    "s1"
   ]
  },
  {
   "cell_type": "code",
   "execution_count": 231,
   "id": "1926484e-6d81-4de2-a1cb-7f292f52e33f",
   "metadata": {},
   "outputs": [
    {
     "data": {
      "text/plain": [
       "{0, 3, 4, 6, 7, 8, 12, 13, 14}"
      ]
     },
     "execution_count": 231,
     "metadata": {},
     "output_type": "execute_result"
    }
   ],
   "source": [
    "s1.discard(20)\n",
    "s1"
   ]
  },
  {
   "cell_type": "code",
   "execution_count": 232,
   "id": "65d17ee0-90d1-4050-a42b-7a4003bc2a76",
   "metadata": {},
   "outputs": [
    {
     "data": {
      "text/plain": [
       "{3, 4, 6, 7, 8, 12, 13, 14}"
      ]
     },
     "execution_count": 232,
     "metadata": {},
     "output_type": "execute_result"
    }
   ],
   "source": [
    "s1.pop()\n",
    "s1"
   ]
  },
  {
   "cell_type": "code",
   "execution_count": 233,
   "id": "140c9164-f1fb-4b1b-9cca-2be8f696235c",
   "metadata": {},
   "outputs": [
    {
     "data": {
      "text/plain": [
       "{4, 6, 7, 8, 12, 13, 14}"
      ]
     },
     "execution_count": 233,
     "metadata": {},
     "output_type": "execute_result"
    }
   ],
   "source": [
    "s1.pop()\n",
    "s1"
   ]
  },
  {
   "cell_type": "code",
   "execution_count": 234,
   "id": "b3b19174-84a6-44f0-9b31-1159b022fa0b",
   "metadata": {},
   "outputs": [
    {
     "data": {
      "text/plain": [
       "set()"
      ]
     },
     "execution_count": 234,
     "metadata": {},
     "output_type": "execute_result"
    }
   ],
   "source": [
    "s1.clear()\n",
    "s1"
   ]
  },
  {
   "cell_type": "markdown",
   "id": "10a01e84-d4e8-40fb-adf4-0d0071646816",
   "metadata": {},
   "source": [
    "SET OPERATIONS"
   ]
  },
  {
   "cell_type": "code",
   "execution_count": 235,
   "id": "6147c8a1-c801-41ac-93e4-84c3ecb7e1fb",
   "metadata": {},
   "outputs": [],
   "source": [
    "a = {1,2,3,4}\n",
    "b = {3,4,5,6}"
   ]
  },
  {
   "cell_type": "code",
   "execution_count": 236,
   "id": "cfbd424b-4dea-4730-80e2-b05b5980874d",
   "metadata": {},
   "outputs": [
    {
     "data": {
      "text/plain": [
       "{1, 2, 3, 4, 5, 6}"
      ]
     },
     "execution_count": 236,
     "metadata": {},
     "output_type": "execute_result"
    }
   ],
   "source": [
    "a.union(b)"
   ]
  },
  {
   "cell_type": "code",
   "execution_count": 237,
   "id": "e7775c26-c310-4182-b3c0-5e15d00e9b2f",
   "metadata": {},
   "outputs": [
    {
     "data": {
      "text/plain": [
       "{1, 2, 3, 4, 5, 6}"
      ]
     },
     "execution_count": 237,
     "metadata": {},
     "output_type": "execute_result"
    }
   ],
   "source": [
    "a|b"
   ]
  },
  {
   "cell_type": "code",
   "execution_count": 238,
   "id": "1a79654f-649d-4057-9ba4-6b0ba7ee7507",
   "metadata": {},
   "outputs": [
    {
     "data": {
      "text/plain": [
       "{3, 4}"
      ]
     },
     "execution_count": 238,
     "metadata": {},
     "output_type": "execute_result"
    }
   ],
   "source": [
    "a.intersection(b)"
   ]
  },
  {
   "cell_type": "code",
   "execution_count": 239,
   "id": "ba95c0de-43ee-4d25-a8d1-2366e2c60929",
   "metadata": {},
   "outputs": [
    {
     "data": {
      "text/plain": [
       "{3, 4}"
      ]
     },
     "execution_count": 239,
     "metadata": {},
     "output_type": "execute_result"
    }
   ],
   "source": [
    "a&b"
   ]
  },
  {
   "cell_type": "code",
   "execution_count": 240,
   "id": "d2fa64bf-b1f5-408d-afb3-37546d188852",
   "metadata": {},
   "outputs": [
    {
     "data": {
      "text/plain": [
       "{1, 2}"
      ]
     },
     "execution_count": 240,
     "metadata": {},
     "output_type": "execute_result"
    }
   ],
   "source": [
    "a.difference(b)"
   ]
  },
  {
   "cell_type": "code",
   "execution_count": 241,
   "id": "5e374974-425a-4e3a-bbf6-acd7f7a29cc8",
   "metadata": {},
   "outputs": [
    {
     "data": {
      "text/plain": [
       "{1, 2}"
      ]
     },
     "execution_count": 241,
     "metadata": {},
     "output_type": "execute_result"
    }
   ],
   "source": [
    "a-b"
   ]
  },
  {
   "cell_type": "code",
   "execution_count": 242,
   "id": "d17b4c5a-de6c-44ea-8189-37c5fa98713d",
   "metadata": {},
   "outputs": [
    {
     "data": {
      "text/plain": [
       "{1, 2, 5, 6}"
      ]
     },
     "execution_count": 242,
     "metadata": {},
     "output_type": "execute_result"
    }
   ],
   "source": [
    "a.symmetric_difference(b)"
   ]
  },
  {
   "cell_type": "code",
   "execution_count": 243,
   "id": "8c120c1d-60ca-4bf2-a3f5-d9445a0e79ad",
   "metadata": {},
   "outputs": [
    {
     "data": {
      "text/plain": [
       "{1, 2, 5, 6}"
      ]
     },
     "execution_count": 243,
     "metadata": {},
     "output_type": "execute_result"
    }
   ],
   "source": [
    "a^b"
   ]
  },
  {
   "cell_type": "markdown",
   "id": "159df8c2-6acd-4245-97ce-b9c95777e8fd",
   "metadata": {},
   "source": [
    "SET FUNCTIONS"
   ]
  },
  {
   "cell_type": "code",
   "execution_count": 244,
   "id": "d1a326e5-a358-4a5b-853c-374bef240087",
   "metadata": {},
   "outputs": [
    {
     "data": {
      "text/plain": [
       "4"
      ]
     },
     "execution_count": 244,
     "metadata": {},
     "output_type": "execute_result"
    }
   ],
   "source": [
    "len(a)"
   ]
  },
  {
   "cell_type": "code",
   "execution_count": 245,
   "id": "1a7aa7ad-0359-4c2c-9002-dc9d1f6bf045",
   "metadata": {},
   "outputs": [
    {
     "data": {
      "text/plain": [
       "4"
      ]
     },
     "execution_count": 245,
     "metadata": {},
     "output_type": "execute_result"
    }
   ],
   "source": [
    "max(a)"
   ]
  },
  {
   "cell_type": "code",
   "execution_count": 246,
   "id": "3d9e0093-7c30-4ad2-82cb-2c2f2ca86ab3",
   "metadata": {},
   "outputs": [
    {
     "data": {
      "text/plain": [
       "1"
      ]
     },
     "execution_count": 246,
     "metadata": {},
     "output_type": "execute_result"
    }
   ],
   "source": [
    "min(a)"
   ]
  },
  {
   "cell_type": "code",
   "execution_count": 247,
   "id": "97fd0b68-3b75-4ab4-a4f0-b44144219a15",
   "metadata": {},
   "outputs": [
    {
     "data": {
      "text/plain": [
       "10"
      ]
     },
     "execution_count": 247,
     "metadata": {},
     "output_type": "execute_result"
    }
   ],
   "source": [
    "sum(a)"
   ]
  },
  {
   "cell_type": "markdown",
   "id": "4565965c-d842-4577-acdb-6c29b90ee491",
   "metadata": {},
   "source": [
    "DICTIONARIES IN PYTHON"
   ]
  },
  {
   "cell_type": "code",
   "execution_count": 248,
   "id": "959bf5f5-9d62-477d-9346-c04f94a9d3aa",
   "metadata": {},
   "outputs": [],
   "source": [
    "student = {\n",
    "    'name':'abc',\n",
    "    'age':22,\n",
    "    'course':'cs'\n",
    "}"
   ]
  },
  {
   "cell_type": "code",
   "execution_count": 249,
   "id": "7c0c9887-a41b-4c7e-94ea-39ec483cb54a",
   "metadata": {},
   "outputs": [
    {
     "data": {
      "text/plain": [
       "'abc'"
      ]
     },
     "execution_count": 249,
     "metadata": {},
     "output_type": "execute_result"
    }
   ],
   "source": [
    "# accessing values --> by keys\n",
    "student['name']"
   ]
  },
  {
   "cell_type": "code",
   "execution_count": 250,
   "id": "eeb6a07f-7417-409f-99fc-4ae8be0e1a7d",
   "metadata": {},
   "outputs": [
    {
     "data": {
      "text/plain": [
       "22"
      ]
     },
     "execution_count": 250,
     "metadata": {},
     "output_type": "execute_result"
    }
   ],
   "source": [
    "student.get('age')"
   ]
  },
  {
   "cell_type": "code",
   "execution_count": 251,
   "id": "f29f5e28-9a81-43fe-88e9-e1e5019a1e11",
   "metadata": {},
   "outputs": [
    {
     "ename": "KeyError",
     "evalue": "'grade'",
     "output_type": "error",
     "traceback": [
      "\u001b[1;31m---------------------------------------------------------------------------\u001b[0m",
      "\u001b[1;31mKeyError\u001b[0m                                  Traceback (most recent call last)",
      "Cell \u001b[1;32mIn[251], line 1\u001b[0m\n\u001b[1;32m----> 1\u001b[0m student[\u001b[38;5;124m'\u001b[39m\u001b[38;5;124mgrade\u001b[39m\u001b[38;5;124m'\u001b[39m]\n",
      "\u001b[1;31mKeyError\u001b[0m: 'grade'"
     ]
    }
   ],
   "source": [
    "student['grade']"
   ]
  },
  {
   "cell_type": "markdown",
   "id": "c90e3daa-983f-4918-849f-45246359ac14",
   "metadata": {},
   "source": [
    "ADDING AND UPDATING IN DICTIONARIES"
   ]
  },
  {
   "cell_type": "code",
   "execution_count": 252,
   "id": "e403c5d9-4d12-41d7-813d-20b6857a9269",
   "metadata": {},
   "outputs": [],
   "source": [
    "student['grade'] = 'a'\n",
    "student['age'] = 22"
   ]
  },
  {
   "cell_type": "code",
   "execution_count": 253,
   "id": "be3fcd58-60ea-4e9e-92b7-e4b6a389bcd3",
   "metadata": {},
   "outputs": [
    {
     "data": {
      "text/plain": [
       "{'name': 'abc', 'age': 22, 'course': 'cs', 'grade': 'a'}"
      ]
     },
     "execution_count": 253,
     "metadata": {},
     "output_type": "execute_result"
    }
   ],
   "source": [
    "student"
   ]
  },
  {
   "cell_type": "markdown",
   "id": "98b40d94-dc15-413f-a51b-78d0cd5e64d4",
   "metadata": {},
   "source": [
    "REMOVING ITEMS"
   ]
  },
  {
   "cell_type": "code",
   "execution_count": 254,
   "id": "6c0ca84c-3d95-49b9-a38d-15059377ea20",
   "metadata": {},
   "outputs": [
    {
     "data": {
      "text/plain": [
       "'cs'"
      ]
     },
     "execution_count": 254,
     "metadata": {},
     "output_type": "execute_result"
    }
   ],
   "source": [
    "student.pop('course')"
   ]
  },
  {
   "cell_type": "code",
   "execution_count": 255,
   "id": "99ba2a54-e267-40e5-a05b-138d3b2d37bc",
   "metadata": {},
   "outputs": [
    {
     "data": {
      "text/plain": [
       "{'name': 'abc', 'age': 22, 'grade': 'a'}"
      ]
     },
     "execution_count": 255,
     "metadata": {},
     "output_type": "execute_result"
    }
   ],
   "source": [
    "student"
   ]
  },
  {
   "cell_type": "code",
   "execution_count": 256,
   "id": "e7342b13-476e-45d6-bc85-511748ef046a",
   "metadata": {},
   "outputs": [
    {
     "data": {
      "text/plain": [
       "('grade', 'a')"
      ]
     },
     "execution_count": 256,
     "metadata": {},
     "output_type": "execute_result"
    }
   ],
   "source": [
    "student.popitem()"
   ]
  },
  {
   "cell_type": "code",
   "execution_count": 257,
   "id": "40043442-4afb-4bd4-914c-07be4685f609",
   "metadata": {},
   "outputs": [
    {
     "data": {
      "text/plain": [
       "{'name': 'abc', 'age': 22}"
      ]
     },
     "execution_count": 257,
     "metadata": {},
     "output_type": "execute_result"
    }
   ],
   "source": [
    "student"
   ]
  },
  {
   "cell_type": "code",
   "execution_count": 258,
   "id": "9cabce1c-934c-4efa-8bd4-a7b997cb60db",
   "metadata": {},
   "outputs": [],
   "source": [
    "del student['age']"
   ]
  },
  {
   "cell_type": "code",
   "execution_count": 259,
   "id": "a5a8f740-a212-4abc-875e-57b91dfe2397",
   "metadata": {},
   "outputs": [
    {
     "data": {
      "text/plain": [
       "{'name': 'abc'}"
      ]
     },
     "execution_count": 259,
     "metadata": {},
     "output_type": "execute_result"
    }
   ],
   "source": [
    "student"
   ]
  },
  {
   "cell_type": "code",
   "execution_count": 260,
   "id": "87b8e73d-5ec0-46c3-8885-023fa00ab917",
   "metadata": {},
   "outputs": [],
   "source": [
    "student.clear()"
   ]
  },
  {
   "cell_type": "code",
   "execution_count": 261,
   "id": "b27144bf-439f-4a33-9434-0aa0f41431ff",
   "metadata": {},
   "outputs": [
    {
     "data": {
      "text/plain": [
       "{}"
      ]
     },
     "execution_count": 261,
     "metadata": {},
     "output_type": "execute_result"
    }
   ],
   "source": [
    "student"
   ]
  },
  {
   "cell_type": "code",
   "execution_count": 262,
   "id": "91e1c022-0088-4c04-bce5-f4a21242eb62",
   "metadata": {},
   "outputs": [],
   "source": [
    "student = {\n",
    "    'name':'abc',\n",
    "    'age':21,\n",
    "    'course':'cs'\n",
    "}"
   ]
  },
  {
   "cell_type": "code",
   "execution_count": 263,
   "id": "ec68b611-105b-44bd-b9ab-c96b1868422f",
   "metadata": {},
   "outputs": [
    {
     "data": {
      "text/plain": [
       "dict_keys(['name', 'age', 'course'])"
      ]
     },
     "execution_count": 263,
     "metadata": {},
     "output_type": "execute_result"
    }
   ],
   "source": [
    "student.keys()"
   ]
  },
  {
   "cell_type": "code",
   "execution_count": 264,
   "id": "126afcf8-26d4-4f14-9cc9-9fd559498e42",
   "metadata": {},
   "outputs": [
    {
     "data": {
      "text/plain": [
       "dict_values(['abc', 21, 'cs'])"
      ]
     },
     "execution_count": 264,
     "metadata": {},
     "output_type": "execute_result"
    }
   ],
   "source": [
    "student.values()"
   ]
  },
  {
   "cell_type": "code",
   "execution_count": 265,
   "id": "fb0c4ddc-83d3-42d6-a1a0-eb337c5767ce",
   "metadata": {},
   "outputs": [
    {
     "data": {
      "text/plain": [
       "dict_items([('name', 'abc'), ('age', 21), ('course', 'cs')])"
      ]
     },
     "execution_count": 265,
     "metadata": {},
     "output_type": "execute_result"
    }
   ],
   "source": [
    "student.items()"
   ]
  },
  {
   "cell_type": "code",
   "execution_count": 266,
   "id": "515a1e88-c5fb-49b8-a738-62c7c3df4794",
   "metadata": {},
   "outputs": [],
   "source": [
    "student2 = {\n",
    "    'name' :'abcd',\n",
    "    'age' : 26,\n",
    "    'course' : 'aiml'\n",
    "\n",
    "}"
   ]
  },
  {
   "cell_type": "code",
   "execution_count": 267,
   "id": "db38fc98-06e1-4871-8c88-113406bdc91c",
   "metadata": {},
   "outputs": [],
   "source": [
    "student.update(student2)"
   ]
  },
  {
   "cell_type": "code",
   "execution_count": 268,
   "id": "20b96fb1-ec8b-476f-9974-58e7bb58cfe2",
   "metadata": {},
   "outputs": [
    {
     "data": {
      "text/plain": [
       "{'name': 'abcd', 'age': 26, 'course': 'aiml'}"
      ]
     },
     "execution_count": 268,
     "metadata": {},
     "output_type": "execute_result"
    }
   ],
   "source": [
    "student"
   ]
  },
  {
   "cell_type": "code",
   "execution_count": 269,
   "id": "8031350f-50ca-470a-9bbc-11c7033cef41",
   "metadata": {},
   "outputs": [],
   "source": [
    "std = student.copy()"
   ]
  },
  {
   "cell_type": "code",
   "execution_count": 270,
   "id": "09eb4e95-f3b1-46a6-9d58-9e22b80bfe8e",
   "metadata": {},
   "outputs": [
    {
     "data": {
      "text/plain": [
       "{'name': 'abcd', 'age': 26, 'course': 'aiml'}"
      ]
     },
     "execution_count": 270,
     "metadata": {},
     "output_type": "execute_result"
    }
   ],
   "source": [
    "std"
   ]
  },
  {
   "cell_type": "code",
   "execution_count": 271,
   "id": "ebafab8a-32f4-4f4a-841b-d90ebc60fdbc",
   "metadata": {},
   "outputs": [
    {
     "name": "stdout",
     "output_type": "stream",
     "text": [
      "name\n",
      "age\n",
      "course\n"
     ]
    }
   ],
   "source": [
    "for d in std:\n",
    "    print(d)"
   ]
  },
  {
   "cell_type": "code",
   "execution_count": 272,
   "id": "2163dc77-9405-482a-be3a-6cca84eac69a",
   "metadata": {},
   "outputs": [],
   "source": [
    "nested_dict = {\n",
    "    '101': {'name':'abc','age':22},\n",
    "    '102':{'name':'efg','age':23}\n",
    "}"
   ]
  },
  {
   "cell_type": "code",
   "execution_count": 273,
   "id": "8ea43e5b-e1be-40fd-aabe-f11774b7ec87",
   "metadata": {},
   "outputs": [
    {
     "data": {
      "text/plain": [
       "{'101': {'name': 'abc', 'age': 22}, '102': {'name': 'efg', 'age': 23}}"
      ]
     },
     "execution_count": 273,
     "metadata": {},
     "output_type": "execute_result"
    }
   ],
   "source": [
    "nested_dict"
   ]
  },
  {
   "cell_type": "code",
   "execution_count": 274,
   "id": "35c0019f-2726-46dc-92e6-9815b008b2b1",
   "metadata": {},
   "outputs": [
    {
     "data": {
      "text/plain": [
       "3"
      ]
     },
     "execution_count": 274,
     "metadata": {},
     "output_type": "execute_result"
    }
   ],
   "source": [
    "len(std)"
   ]
  },
  {
   "cell_type": "code",
   "execution_count": 275,
   "id": "80be47ae-c10a-4c0e-9417-0291ce3a2115",
   "metadata": {},
   "outputs": [
    {
     "data": {
      "text/plain": [
       "\"{'name': 'abcd', 'age': 26, 'course': 'aiml'}\""
      ]
     },
     "execution_count": 275,
     "metadata": {},
     "output_type": "execute_result"
    }
   ],
   "source": [
    "str(std)"
   ]
  },
  {
   "cell_type": "code",
   "execution_count": 276,
   "id": "9fed0185-4da7-4cf1-a60e-92ea986df49e",
   "metadata": {},
   "outputs": [
    {
     "data": {
      "text/plain": [
       "['age', 'course', 'name']"
      ]
     },
     "execution_count": 276,
     "metadata": {},
     "output_type": "execute_result"
    }
   ],
   "source": [
    "sorted(std)"
   ]
  },
  {
   "cell_type": "markdown",
   "id": "bebcce92-b779-476d-a9c0-267fe12452af",
   "metadata": {},
   "source": [
    "STRING IN PYTHON"
   ]
  },
  {
   "cell_type": "code",
   "execution_count": 277,
   "id": "7872af29-eaf0-4bb6-8f21-465d8edd1866",
   "metadata": {},
   "outputs": [],
   "source": [
    "s = 'python'"
   ]
  },
  {
   "cell_type": "markdown",
   "id": "ec3e7aae-1733-42bd-b692-b9328bff81d6",
   "metadata": {},
   "source": [
    "INDEXING IN PYTHON"
   ]
  },
  {
   "cell_type": "code",
   "execution_count": 278,
   "id": "dc508497-44d6-49de-ba92-82fa348afdb9",
   "metadata": {},
   "outputs": [
    {
     "data": {
      "text/plain": [
       "('p', 'n', 't')"
      ]
     },
     "execution_count": 278,
     "metadata": {},
     "output_type": "execute_result"
    }
   ],
   "source": [
    "s[0],s[-1],s[2]"
   ]
  },
  {
   "cell_type": "code",
   "execution_count": 279,
   "id": "bac881c8-eb24-43f8-9c89-ae2d77e3cf60",
   "metadata": {},
   "outputs": [
    {
     "data": {
      "text/plain": [
       "'pyth'"
      ]
     },
     "execution_count": 279,
     "metadata": {},
     "output_type": "execute_result"
    }
   ],
   "source": [
    "s[0:4]"
   ]
  },
  {
   "cell_type": "code",
   "execution_count": 280,
   "id": "2d674f05-6d51-46d8-a5b7-f4e318da94b3",
   "metadata": {},
   "outputs": [
    {
     "data": {
      "text/plain": [
       "'pyth'"
      ]
     },
     "execution_count": 280,
     "metadata": {},
     "output_type": "execute_result"
    }
   ],
   "source": [
    "s[:4]"
   ]
  },
  {
   "cell_type": "code",
   "execution_count": 281,
   "id": "fb75084e-2dfe-438b-81bc-7788d873ced8",
   "metadata": {},
   "outputs": [
    {
     "data": {
      "text/plain": [
       "'thon'"
      ]
     },
     "execution_count": 281,
     "metadata": {},
     "output_type": "execute_result"
    }
   ],
   "source": [
    "s[2:]"
   ]
  },
  {
   "cell_type": "code",
   "execution_count": 282,
   "id": "e4058bdf-a306-4809-be4b-ba9a2e5049b1",
   "metadata": {},
   "outputs": [
    {
     "data": {
      "text/plain": [
       "'pto'"
      ]
     },
     "execution_count": 282,
     "metadata": {},
     "output_type": "execute_result"
    }
   ],
   "source": [
    "s[::2]"
   ]
  },
  {
   "cell_type": "code",
   "execution_count": 283,
   "id": "1e4e2571-f825-4e96-b49e-9709b78715dd",
   "metadata": {},
   "outputs": [
    {
     "data": {
      "text/plain": [
       "'nohtyp'"
      ]
     },
     "execution_count": 283,
     "metadata": {},
     "output_type": "execute_result"
    }
   ],
   "source": [
    "s[::-1]"
   ]
  },
  {
   "cell_type": "markdown",
   "id": "e1054bbe-1401-4858-82f5-e4e5ca1b241a",
   "metadata": {},
   "source": [
    "STRING METHODS"
   ]
  },
  {
   "cell_type": "code",
   "execution_count": 284,
   "id": "2da2ad97-df9c-42e7-8108-8fc9b3edaef6",
   "metadata": {},
   "outputs": [],
   "source": [
    "s = 'hello world'"
   ]
  },
  {
   "cell_type": "code",
   "execution_count": 285,
   "id": "3551d228-dd82-4243-b82a-0ea1545ef159",
   "metadata": {},
   "outputs": [
    {
     "data": {
      "text/plain": [
       "'HELLO WORLD'"
      ]
     },
     "execution_count": 285,
     "metadata": {},
     "output_type": "execute_result"
    }
   ],
   "source": [
    "s.upper()"
   ]
  },
  {
   "cell_type": "code",
   "execution_count": 286,
   "id": "8401e36c-340b-4c01-bfdb-4f9f2958daad",
   "metadata": {},
   "outputs": [
    {
     "data": {
      "text/plain": [
       "'hello world'"
      ]
     },
     "execution_count": 286,
     "metadata": {},
     "output_type": "execute_result"
    }
   ],
   "source": [
    "s.lower()"
   ]
  },
  {
   "cell_type": "code",
   "execution_count": 287,
   "id": "0719d9c1-d413-4a6d-9f52-c686cecca000",
   "metadata": {},
   "outputs": [
    {
     "data": {
      "text/plain": [
       "'Hello World'"
      ]
     },
     "execution_count": 287,
     "metadata": {},
     "output_type": "execute_result"
    }
   ],
   "source": [
    "s.title()"
   ]
  },
  {
   "cell_type": "code",
   "execution_count": 288,
   "id": "5ca04992-5e0d-4ec0-81c9-e4160870f62a",
   "metadata": {},
   "outputs": [
    {
     "data": {
      "text/plain": [
       "'Hello world'"
      ]
     },
     "execution_count": 288,
     "metadata": {},
     "output_type": "execute_result"
    }
   ],
   "source": [
    "s.capitalize()"
   ]
  },
  {
   "cell_type": "code",
   "execution_count": 289,
   "id": "54e5b3df-da60-4adc-beb6-5fdbb0612d96",
   "metadata": {},
   "outputs": [
    {
     "data": {
      "text/plain": [
       "'HELLO WORLD'"
      ]
     },
     "execution_count": 289,
     "metadata": {},
     "output_type": "execute_result"
    }
   ],
   "source": [
    "s.swapcase()"
   ]
  },
  {
   "cell_type": "markdown",
   "id": "b748c0bc-54e6-498b-b0cc-dd2da6edebc8",
   "metadata": {},
   "source": [
    "SEARCHING AND CHECKING"
   ]
  },
  {
   "cell_type": "code",
   "execution_count": 290,
   "id": "8e9934bf-6ee7-479e-ae45-31ae92ccb620",
   "metadata": {},
   "outputs": [
    {
     "data": {
      "text/plain": [
       "6"
      ]
     },
     "execution_count": 290,
     "metadata": {},
     "output_type": "execute_result"
    }
   ],
   "source": [
    "s.find('world')"
   ]
  },
  {
   "cell_type": "code",
   "execution_count": 291,
   "id": "5e23dec8-a15a-40c2-9a20-29db6df32a6e",
   "metadata": {},
   "outputs": [
    {
     "data": {
      "text/plain": [
       "10"
      ]
     },
     "execution_count": 291,
     "metadata": {},
     "output_type": "execute_result"
    }
   ],
   "source": [
    "s.index('d')"
   ]
  },
  {
   "cell_type": "code",
   "execution_count": 292,
   "id": "0e00df93-691f-4576-bad1-830fc7792877",
   "metadata": {},
   "outputs": [
    {
     "data": {
      "text/plain": [
       "True"
      ]
     },
     "execution_count": 292,
     "metadata": {},
     "output_type": "execute_result"
    }
   ],
   "source": [
    "s.startswith('hello')"
   ]
  },
  {
   "cell_type": "code",
   "execution_count": 293,
   "id": "1b6fd972-d612-4807-bb9b-abec045ed096",
   "metadata": {},
   "outputs": [
    {
     "data": {
      "text/plain": [
       "True"
      ]
     },
     "execution_count": 293,
     "metadata": {},
     "output_type": "execute_result"
    }
   ],
   "source": [
    "s.endswith('world')"
   ]
  },
  {
   "cell_type": "code",
   "execution_count": 294,
   "id": "358eb5ed-f6f8-46ed-a315-b338e7bee7a2",
   "metadata": {},
   "outputs": [
    {
     "data": {
      "text/plain": [
       "True"
      ]
     },
     "execution_count": 294,
     "metadata": {},
     "output_type": "execute_result"
    }
   ],
   "source": [
    "s.endswith('ld')"
   ]
  },
  {
   "cell_type": "code",
   "execution_count": 295,
   "id": "fee4f4c9-c701-42b4-8b30-f176a8c4be05",
   "metadata": {},
   "outputs": [
    {
     "name": "stdout",
     "output_type": "stream",
     "text": [
      "True\n"
     ]
    }
   ],
   "source": [
    "print('123'.isdigit())"
   ]
  },
  {
   "cell_type": "code",
   "execution_count": 296,
   "id": "1297d829-54e3-4047-a145-c799e3e3c149",
   "metadata": {},
   "outputs": [
    {
     "name": "stdout",
     "output_type": "stream",
     "text": [
      "True\n"
     ]
    }
   ],
   "source": [
    "print('abc'.isalpha())"
   ]
  },
  {
   "cell_type": "code",
   "execution_count": 297,
   "id": "240056e7-3400-49e0-8df0-2ba9f2a38666",
   "metadata": {},
   "outputs": [
    {
     "ename": "AttributeError",
     "evalue": "'str' object has no attribute 'isnum'",
     "output_type": "error",
     "traceback": [
      "\u001b[1;31m---------------------------------------------------------------------------\u001b[0m",
      "\u001b[1;31mAttributeError\u001b[0m                            Traceback (most recent call last)",
      "Cell \u001b[1;32mIn[297], line 1\u001b[0m\n\u001b[1;32m----> 1\u001b[0m \u001b[38;5;28mprint\u001b[39m(\u001b[38;5;124m'\u001b[39m\u001b[38;5;124mabc123\u001b[39m\u001b[38;5;124m'\u001b[39m\u001b[38;5;241m.\u001b[39misnum())\n",
      "\u001b[1;31mAttributeError\u001b[0m: 'str' object has no attribute 'isnum'"
     ]
    }
   ],
   "source": [
    "print('abc123'.isnum())"
   ]
  },
  {
   "cell_type": "code",
   "execution_count": 298,
   "id": "d9211759-ef2d-4d97-b32e-941f62b2c7e4",
   "metadata": {},
   "outputs": [
    {
     "name": "stdout",
     "output_type": "stream",
     "text": [
      "True\n"
     ]
    }
   ],
   "source": [
    "print('hello'.islower())"
   ]
  },
  {
   "cell_type": "code",
   "execution_count": 299,
   "id": "5ece9d19-78f8-433d-8d88-65d212a8bd6d",
   "metadata": {},
   "outputs": [
    {
     "name": "stdout",
     "output_type": "stream",
     "text": [
      "True\n"
     ]
    }
   ],
   "source": [
    "print('HELLO'.isupper())"
   ]
  },
  {
   "cell_type": "code",
   "execution_count": 300,
   "id": "6ddb9e6c-4504-4d33-afad-ce43aee41889",
   "metadata": {},
   "outputs": [
    {
     "name": "stdout",
     "output_type": "stream",
     "text": [
      "True\n"
     ]
    }
   ],
   "source": [
    "print('Hello'.istitle())"
   ]
  },
  {
   "cell_type": "markdown",
   "id": "8acb8357-2175-492a-81da-7dd376ca207e",
   "metadata": {},
   "source": [
    "MODIFICATION"
   ]
  },
  {
   "cell_type": "code",
   "execution_count": 301,
   "id": "7df2ecc4-9f1b-4dad-a3e5-4c8a56f3ef0e",
   "metadata": {},
   "outputs": [],
   "source": [
    "s = \"PYTHON\""
   ]
  },
  {
   "cell_type": "code",
   "execution_count": 302,
   "id": "7deff83e-7b09-4b30-a929-11cd93b1655b",
   "metadata": {},
   "outputs": [
    {
     "data": {
      "text/plain": [
       "'PYTHON'"
      ]
     },
     "execution_count": 302,
     "metadata": {},
     "output_type": "execute_result"
    }
   ],
   "source": [
    "s.strip()"
   ]
  },
  {
   "cell_type": "code",
   "execution_count": 303,
   "id": "3729990a-1d72-4967-a921-75b579b7e7cc",
   "metadata": {},
   "outputs": [
    {
     "data": {
      "text/plain": [
       "'PYTHON '"
      ]
     },
     "execution_count": 303,
     "metadata": {},
     "output_type": "execute_result"
    }
   ],
   "source": [
    "s = \" PYTHON \"\n",
    "s.lstrip()"
   ]
  },
  {
   "cell_type": "code",
   "execution_count": 304,
   "id": "dea0d80a-3dfd-46d1-b909-475f35b94013",
   "metadata": {},
   "outputs": [
    {
     "data": {
      "text/plain": [
       "' PYTHON'"
      ]
     },
     "execution_count": 304,
     "metadata": {},
     "output_type": "execute_result"
    }
   ],
   "source": [
    "s = \" PYTHON \"\n",
    "s.rstrip()"
   ]
  },
  {
   "cell_type": "code",
   "execution_count": 305,
   "id": "c92d3886-5c0d-4ee1-bfdc-e5184cc43d69",
   "metadata": {},
   "outputs": [
    {
     "data": {
      "text/plain": [
       "' java '"
      ]
     },
     "execution_count": 305,
     "metadata": {},
     "output_type": "execute_result"
    }
   ],
   "source": [
    "s.replace('PYTHON','java')"
   ]
  },
  {
   "cell_type": "code",
   "execution_count": 306,
   "id": "cbc16c4e-204c-497a-9eda-608cb55c49f1",
   "metadata": {},
   "outputs": [
    {
     "data": {
      "text/plain": [
       "3"
      ]
     },
     "execution_count": 306,
     "metadata": {},
     "output_type": "execute_result"
    }
   ],
   "source": [
    "s = 'banana'\n",
    "s.count('a')"
   ]
  },
  {
   "cell_type": "code",
   "execution_count": 307,
   "id": "55bbbb6a-36e4-44be-af4b-3f1816cf28e9",
   "metadata": {},
   "outputs": [
    {
     "data": {
      "text/plain": [
       "2"
      ]
     },
     "execution_count": 307,
     "metadata": {},
     "output_type": "execute_result"
    }
   ],
   "source": [
    "s.index('n')"
   ]
  },
  {
   "cell_type": "code",
   "execution_count": 308,
   "id": "8b45efd9-0413-49d2-82ca-8df0c92a8d40",
   "metadata": {},
   "outputs": [
    {
     "name": "stdout",
     "output_type": "stream",
     "text": [
      "my name is abc and i am 21 years old\n"
     ]
    }
   ],
   "source": [
    "name = 'abc'\n",
    "age = '21'\n",
    "print(f'my name is {name} and i am {age} years old')"
   ]
  },
  {
   "cell_type": "code",
   "execution_count": 309,
   "id": "6625bbad-d47d-47a3-bf03-62e027623148",
   "metadata": {},
   "outputs": [
    {
     "name": "stdout",
     "output_type": "stream",
     "text": [
      "my name is abc and i am 21 years old\n"
     ]
    }
   ],
   "source": [
    "print('my name is {} and i am {} years old'.format(name,age))"
   ]
  },
  {
   "cell_type": "markdown",
   "id": "a62cb4cd-b21e-4901-ae1b-fc3313e02b95",
   "metadata": {},
   "source": [
    "NUMPY IN PYTHON"
   ]
  },
  {
   "cell_type": "code",
   "execution_count": 310,
   "id": "85f41a5b-5f30-43e7-876d-d5c920a72327",
   "metadata": {},
   "outputs": [],
   "source": [
    "import numpy as np"
   ]
  },
  {
   "cell_type": "markdown",
   "id": "d9fcb513-bcd2-4280-a781-4c621b28b662",
   "metadata": {},
   "source": [
    "CREATING ARRAYS"
   ]
  },
  {
   "cell_type": "code",
   "execution_count": 311,
   "id": "2d0334f5-63f4-4f32-b717-a378544686ab",
   "metadata": {},
   "outputs": [],
   "source": [
    "arr = np.array([1,2,3,4]) # 1D ARRAY\n",
    "mat = np.array([[1,2,3,4],[5,6,7,8]]) #2D ARRAY"
   ]
  },
  {
   "cell_type": "markdown",
   "id": "47e70038-1298-4091-a34f-cea6f536ba22",
   "metadata": {},
   "source": [
    "USEFUL ARRAY CREATION"
   ]
  },
  {
   "cell_type": "code",
   "execution_count": 312,
   "id": "10346358-d0f4-45e4-bf46-a84f6da0205c",
   "metadata": {},
   "outputs": [
    {
     "data": {
      "text/plain": [
       "array([[0., 0., 0.],\n",
       "       [0., 0., 0.]])"
      ]
     },
     "execution_count": 312,
     "metadata": {},
     "output_type": "execute_result"
    }
   ],
   "source": [
    "np.zeros((2,3))"
   ]
  },
  {
   "cell_type": "code",
   "execution_count": 313,
   "id": "00d570b9-2c8c-4bdc-a9ea-9a1ddef622c6",
   "metadata": {},
   "outputs": [
    {
     "data": {
      "text/plain": [
       "array([[1., 1., 1.],\n",
       "       [1., 1., 1.],\n",
       "       [1., 1., 1.]])"
      ]
     },
     "execution_count": 313,
     "metadata": {},
     "output_type": "execute_result"
    }
   ],
   "source": [
    "np.ones((3,3))"
   ]
  },
  {
   "cell_type": "code",
   "execution_count": 314,
   "id": "288c7608-452d-4664-986d-762645dc3611",
   "metadata": {},
   "outputs": [
    {
     "data": {
      "text/plain": [
       "array([0, 2, 4, 6, 8])"
      ]
     },
     "execution_count": 314,
     "metadata": {},
     "output_type": "execute_result"
    }
   ],
   "source": [
    "np.arange(0,10,2)"
   ]
  },
  {
   "cell_type": "code",
   "execution_count": 315,
   "id": "c8978dd9-c697-4447-b234-97ff9e13833f",
   "metadata": {},
   "outputs": [
    {
     "data": {
      "text/plain": [
       "array([0.  , 0.25, 0.5 , 0.75, 1.  ])"
      ]
     },
     "execution_count": 315,
     "metadata": {},
     "output_type": "execute_result"
    }
   ],
   "source": [
    "np.linspace(0,1,5)"
   ]
  },
  {
   "cell_type": "code",
   "execution_count": 316,
   "id": "88e55b1e-3f61-495c-9f0f-b25f6a6bb1b8",
   "metadata": {},
   "outputs": [
    {
     "data": {
      "text/plain": [
       "array([[1., 0., 0.],\n",
       "       [0., 1., 0.],\n",
       "       [0., 0., 1.]])"
      ]
     },
     "execution_count": 316,
     "metadata": {},
     "output_type": "execute_result"
    }
   ],
   "source": [
    "np.eye(3)"
   ]
  },
  {
   "cell_type": "markdown",
   "id": "64cc2138-be7b-4d63-a3f9-1749eb6b521d",
   "metadata": {},
   "source": [
    "ARRAY ATTRIBUTES"
   ]
  },
  {
   "cell_type": "code",
   "execution_count": 317,
   "id": "6e4c6b8f-8ee4-499a-8047-319bd1d7d98d",
   "metadata": {},
   "outputs": [],
   "source": [
    "arr = np.array([[1,2,3],[4,5,6]])"
   ]
  },
  {
   "cell_type": "code",
   "execution_count": 318,
   "id": "619b34b6-9d75-4a9a-a68f-f454030ccc80",
   "metadata": {},
   "outputs": [
    {
     "data": {
      "text/plain": [
       "(2, 3)"
      ]
     },
     "execution_count": 318,
     "metadata": {},
     "output_type": "execute_result"
    }
   ],
   "source": [
    "arr.shape"
   ]
  },
  {
   "cell_type": "code",
   "execution_count": 319,
   "id": "bc0f313a-683e-402e-bd15-47838f283b15",
   "metadata": {},
   "outputs": [
    {
     "data": {
      "text/plain": [
       "2"
      ]
     },
     "execution_count": 319,
     "metadata": {},
     "output_type": "execute_result"
    }
   ],
   "source": [
    "arr.ndim"
   ]
  },
  {
   "cell_type": "code",
   "execution_count": 320,
   "id": "4edff003-9696-47a5-8b02-e7400c46c547",
   "metadata": {},
   "outputs": [
    {
     "data": {
      "text/plain": [
       "6"
      ]
     },
     "execution_count": 320,
     "metadata": {},
     "output_type": "execute_result"
    }
   ],
   "source": [
    "arr.size"
   ]
  },
  {
   "cell_type": "code",
   "execution_count": 321,
   "id": "e066032e-2498-4bfa-8479-213b70def139",
   "metadata": {},
   "outputs": [
    {
     "data": {
      "text/plain": [
       "dtype('int64')"
      ]
     },
     "execution_count": 321,
     "metadata": {},
     "output_type": "execute_result"
    }
   ],
   "source": [
    "arr.dtype"
   ]
  },
  {
   "cell_type": "markdown",
   "id": "d6d5ac2d-3dde-4dff-8d5e-f7a33d5c350c",
   "metadata": {},
   "source": [
    "INDEXING AND SLICING IN NUMPY"
   ]
  },
  {
   "cell_type": "code",
   "execution_count": 322,
   "id": "174bd147-80f2-4b56-9ff1-e65d024a03a4",
   "metadata": {},
   "outputs": [],
   "source": [
    "arr = np.array([10,20,30,40,50])"
   ]
  },
  {
   "cell_type": "code",
   "execution_count": 323,
   "id": "08611d5b-c284-4390-9b17-6e5039faedb8",
   "metadata": {},
   "outputs": [
    {
     "name": "stdout",
     "output_type": "stream",
     "text": [
      "10\n",
      "50\n",
      "[20 30 40]\n"
     ]
    }
   ],
   "source": [
    "print(arr[0])\n",
    "print(arr[-1])\n",
    "print(arr[1:4])"
   ]
  },
  {
   "cell_type": "code",
   "execution_count": 324,
   "id": "bf3d03f2-019c-42df-9e84-211c96d28921",
   "metadata": {},
   "outputs": [],
   "source": [
    "mat = np.array([[1,2,3],[4,5,6],[7,8,9]])"
   ]
  },
  {
   "cell_type": "code",
   "execution_count": 325,
   "id": "6bad2844-c6fb-473e-96b2-9a54d336b107",
   "metadata": {},
   "outputs": [
    {
     "name": "stdout",
     "output_type": "stream",
     "text": [
      "2\n",
      "[4 5 6]\n",
      "[[1 2 3]\n",
      " [4 5 6]]\n"
     ]
    }
   ],
   "source": [
    "print(mat[0,1])\n",
    "print(mat[1,:])\n",
    "print(mat[:2])"
   ]
  },
  {
   "cell_type": "markdown",
   "id": "3ab702ef-afd4-4032-aba8-60c1240fd859",
   "metadata": {},
   "source": [
    "MATHEMATICAL OPERATIONS"
   ]
  },
  {
   "cell_type": "code",
   "execution_count": 326,
   "id": "92a04906-3080-4345-9123-06bba2f32007",
   "metadata": {},
   "outputs": [],
   "source": [
    "a = np.array([1,2,3])\n",
    "b = np.array([4,5,6])"
   ]
  },
  {
   "cell_type": "code",
   "execution_count": 327,
   "id": "79306838-e870-497c-a220-78fa7b658ff8",
   "metadata": {},
   "outputs": [
    {
     "name": "stdout",
     "output_type": "stream",
     "text": [
      "[5 7 9]\n",
      "[-3 -3 -3]\n",
      "[ 4 10 18]\n",
      "[1 4 9]\n",
      "[1.         1.41421356 1.73205081]\n",
      "[0.25 0.4  0.5 ]\n",
      "[0 0 0]\n",
      "[1 2 3]\n"
     ]
    }
   ],
   "source": [
    "print(a+b)\n",
    "print(a-b)\n",
    "print(a*b)\n",
    "print(a**2)\n",
    "print(np.sqrt((a)))\n",
    "print(a/b)\n",
    "print(a//b)\n",
    "print(a%b)"
   ]
  },
  {
   "cell_type": "markdown",
   "id": "591d5385-f345-4e78-ac4a-63d16df20464",
   "metadata": {},
   "source": [
    "AGGREGATE FUNCTIONS"
   ]
  },
  {
   "cell_type": "code",
   "execution_count": 328,
   "id": "0b8a32eb-c0ee-407a-92af-8fe4edeaf573",
   "metadata": {},
   "outputs": [],
   "source": [
    "arr = np.array([1,2,3,4,5])"
   ]
  },
  {
   "cell_type": "code",
   "execution_count": 329,
   "id": "26a4a522-47c5-458e-926f-c44fe659c8d4",
   "metadata": {},
   "outputs": [
    {
     "name": "stdout",
     "output_type": "stream",
     "text": [
      "15\n",
      "3.0\n",
      "5\n",
      "1\n",
      "1.4142135623730951\n"
     ]
    }
   ],
   "source": [
    "print(arr.sum())\n",
    "print(arr.mean())\n",
    "print(arr.max())\n",
    "print(arr.min())\n",
    "print(arr.std())"
   ]
  },
  {
   "cell_type": "markdown",
   "id": "4089c916-6eaa-4def-aa83-8c4c6776c745",
   "metadata": {},
   "source": [
    "RESHAPING AND TRANSPOSING"
   ]
  },
  {
   "cell_type": "code",
   "execution_count": 330,
   "id": "ea4d49d2-02d7-436c-94fd-cc481022a4b6",
   "metadata": {},
   "outputs": [
    {
     "data": {
      "text/plain": [
       "array([1, 2, 3, 4, 5, 6, 7, 8, 9])"
      ]
     },
     "execution_count": 330,
     "metadata": {},
     "output_type": "execute_result"
    }
   ],
   "source": [
    "arr = np.arange(1,10)\n",
    "arr"
   ]
  },
  {
   "cell_type": "code",
   "execution_count": 331,
   "id": "2b0b6b42-bf99-4f42-827d-682a28c24a10",
   "metadata": {},
   "outputs": [
    {
     "data": {
      "text/plain": [
       "array([[1, 2, 3],\n",
       "       [4, 5, 6],\n",
       "       [7, 8, 9]])"
      ]
     },
     "execution_count": 331,
     "metadata": {},
     "output_type": "execute_result"
    }
   ],
   "source": [
    "mat = arr.reshape(3,3)\n",
    "mat"
   ]
  },
  {
   "cell_type": "code",
   "execution_count": 332,
   "id": "18ec6aec-d742-421c-82f1-4eecd1bbd8a3",
   "metadata": {},
   "outputs": [
    {
     "data": {
      "text/plain": [
       "array([[1, 4, 7],\n",
       "       [2, 5, 8],\n",
       "       [3, 6, 9]])"
      ]
     },
     "execution_count": 332,
     "metadata": {},
     "output_type": "execute_result"
    }
   ],
   "source": [
    "mat.T"
   ]
  },
  {
   "cell_type": "markdown",
   "id": "16c1ec0a-1d83-466e-9667-f520d0d23068",
   "metadata": {},
   "source": [
    "RANDOM NUMBERS"
   ]
  },
  {
   "cell_type": "code",
   "execution_count": 333,
   "id": "183e4a11-41de-45e5-9111-a785e255f35a",
   "metadata": {},
   "outputs": [
    {
     "data": {
      "text/plain": [
       "array([0.65278362, 0.18926663, 0.33860867])"
      ]
     },
     "execution_count": 333,
     "metadata": {},
     "output_type": "execute_result"
    }
   ],
   "source": [
    "np.random.rand(3)"
   ]
  },
  {
   "cell_type": "code",
   "execution_count": 334,
   "id": "b8c9d934-2818-44ff-b284-845826a6e097",
   "metadata": {},
   "outputs": [
    {
     "data": {
      "text/plain": [
       "array([7, 4, 3, 7, 5], dtype=int32)"
      ]
     },
     "execution_count": 334,
     "metadata": {},
     "output_type": "execute_result"
    }
   ],
   "source": [
    "np.random.randint(1,10,5)"
   ]
  },
  {
   "cell_type": "code",
   "execution_count": 335,
   "id": "98a4cf36-de32-40ec-b3ee-ee45d92ed88b",
   "metadata": {},
   "outputs": [
    {
     "data": {
      "text/plain": [
       "array([[-0.55912083, -0.52194912],\n",
       "       [ 0.85957483,  0.30639872]])"
      ]
     },
     "execution_count": 335,
     "metadata": {},
     "output_type": "execute_result"
    }
   ],
   "source": [
    "np.random.randn(2,2)"
   ]
  },
  {
   "cell_type": "markdown",
   "id": "b8c20380-94d0-45e9-b12d-8a0d286eed9f",
   "metadata": {},
   "source": [
    "PANDAS IN PYTHON"
   ]
  },
  {
   "cell_type": "code",
   "execution_count": 336,
   "id": "f2376d6e-f3d0-4b5c-9e83-d59c3f11f2d6",
   "metadata": {},
   "outputs": [],
   "source": [
    "import pandas as pd"
   ]
  },
  {
   "cell_type": "code",
   "execution_count": 337,
   "id": "b7e022f2-b178-445e-a252-9c997769c65f",
   "metadata": {},
   "outputs": [],
   "source": [
    "df = pd.read_csv(r'C:\\Users\\Sanket kshirsagar\\Downloads\\data.csv')"
   ]
  },
  {
   "cell_type": "code",
   "execution_count": 338,
   "id": "790102fe-6036-4c5f-9b88-4b47d6477e66",
   "metadata": {},
   "outputs": [
    {
     "data": {
      "text/html": [
       "<div>\n",
       "<style scoped>\n",
       "    .dataframe tbody tr th:only-of-type {\n",
       "        vertical-align: middle;\n",
       "    }\n",
       "\n",
       "    .dataframe tbody tr th {\n",
       "        vertical-align: top;\n",
       "    }\n",
       "\n",
       "    .dataframe thead th {\n",
       "        text-align: right;\n",
       "    }\n",
       "</style>\n",
       "<table border=\"1\" class=\"dataframe\">\n",
       "  <thead>\n",
       "    <tr style=\"text-align: right;\">\n",
       "      <th></th>\n",
       "      <th>CountryName</th>\n",
       "      <th>CountryCode</th>\n",
       "      <th>BirthRate</th>\n",
       "      <th>InternetUsers</th>\n",
       "      <th>IncomeGroup</th>\n",
       "    </tr>\n",
       "  </thead>\n",
       "  <tbody>\n",
       "    <tr>\n",
       "      <th>0</th>\n",
       "      <td>Aruba</td>\n",
       "      <td>ABW</td>\n",
       "      <td>10.244</td>\n",
       "      <td>78.9</td>\n",
       "      <td>High income</td>\n",
       "    </tr>\n",
       "    <tr>\n",
       "      <th>1</th>\n",
       "      <td>Afghanistan</td>\n",
       "      <td>AFG</td>\n",
       "      <td>35.253</td>\n",
       "      <td>5.9</td>\n",
       "      <td>Low income</td>\n",
       "    </tr>\n",
       "    <tr>\n",
       "      <th>2</th>\n",
       "      <td>Angola</td>\n",
       "      <td>AGO</td>\n",
       "      <td>45.985</td>\n",
       "      <td>19.1</td>\n",
       "      <td>Upper middle income</td>\n",
       "    </tr>\n",
       "    <tr>\n",
       "      <th>3</th>\n",
       "      <td>Albania</td>\n",
       "      <td>ALB</td>\n",
       "      <td>12.877</td>\n",
       "      <td>57.2</td>\n",
       "      <td>Upper middle income</td>\n",
       "    </tr>\n",
       "    <tr>\n",
       "      <th>4</th>\n",
       "      <td>United Arab Emirates</td>\n",
       "      <td>ARE</td>\n",
       "      <td>11.044</td>\n",
       "      <td>88.0</td>\n",
       "      <td>High income</td>\n",
       "    </tr>\n",
       "    <tr>\n",
       "      <th>...</th>\n",
       "      <td>...</td>\n",
       "      <td>...</td>\n",
       "      <td>...</td>\n",
       "      <td>...</td>\n",
       "      <td>...</td>\n",
       "    </tr>\n",
       "    <tr>\n",
       "      <th>190</th>\n",
       "      <td>Yemen, Rep.</td>\n",
       "      <td>YEM</td>\n",
       "      <td>32.947</td>\n",
       "      <td>20.0</td>\n",
       "      <td>Lower middle income</td>\n",
       "    </tr>\n",
       "    <tr>\n",
       "      <th>191</th>\n",
       "      <td>South Africa</td>\n",
       "      <td>ZAF</td>\n",
       "      <td>20.850</td>\n",
       "      <td>46.5</td>\n",
       "      <td>Upper middle income</td>\n",
       "    </tr>\n",
       "    <tr>\n",
       "      <th>192</th>\n",
       "      <td>Congo, Dem. Rep.</td>\n",
       "      <td>COD</td>\n",
       "      <td>42.394</td>\n",
       "      <td>2.2</td>\n",
       "      <td>Low income</td>\n",
       "    </tr>\n",
       "    <tr>\n",
       "      <th>193</th>\n",
       "      <td>Zambia</td>\n",
       "      <td>ZMB</td>\n",
       "      <td>40.471</td>\n",
       "      <td>15.4</td>\n",
       "      <td>Lower middle income</td>\n",
       "    </tr>\n",
       "    <tr>\n",
       "      <th>194</th>\n",
       "      <td>Zimbabwe</td>\n",
       "      <td>ZWE</td>\n",
       "      <td>35.715</td>\n",
       "      <td>18.5</td>\n",
       "      <td>Low income</td>\n",
       "    </tr>\n",
       "  </tbody>\n",
       "</table>\n",
       "<p>195 rows × 5 columns</p>\n",
       "</div>"
      ],
      "text/plain": [
       "              CountryName CountryCode  BirthRate  InternetUsers  \\\n",
       "0                   Aruba         ABW     10.244           78.9   \n",
       "1             Afghanistan         AFG     35.253            5.9   \n",
       "2                  Angola         AGO     45.985           19.1   \n",
       "3                 Albania         ALB     12.877           57.2   \n",
       "4    United Arab Emirates         ARE     11.044           88.0   \n",
       "..                    ...         ...        ...            ...   \n",
       "190           Yemen, Rep.         YEM     32.947           20.0   \n",
       "191          South Africa         ZAF     20.850           46.5   \n",
       "192      Congo, Dem. Rep.         COD     42.394            2.2   \n",
       "193                Zambia         ZMB     40.471           15.4   \n",
       "194              Zimbabwe         ZWE     35.715           18.5   \n",
       "\n",
       "             IncomeGroup  \n",
       "0            High income  \n",
       "1             Low income  \n",
       "2    Upper middle income  \n",
       "3    Upper middle income  \n",
       "4            High income  \n",
       "..                   ...  \n",
       "190  Lower middle income  \n",
       "191  Upper middle income  \n",
       "192           Low income  \n",
       "193  Lower middle income  \n",
       "194           Low income  \n",
       "\n",
       "[195 rows x 5 columns]"
      ]
     },
     "execution_count": 338,
     "metadata": {},
     "output_type": "execute_result"
    }
   ],
   "source": [
    "df"
   ]
  },
  {
   "cell_type": "code",
   "execution_count": 339,
   "id": "31f12697-247b-40d0-9af0-34de88c77fbd",
   "metadata": {},
   "outputs": [
    {
     "data": {
      "text/html": [
       "<div>\n",
       "<style scoped>\n",
       "    .dataframe tbody tr th:only-of-type {\n",
       "        vertical-align: middle;\n",
       "    }\n",
       "\n",
       "    .dataframe tbody tr th {\n",
       "        vertical-align: top;\n",
       "    }\n",
       "\n",
       "    .dataframe thead th {\n",
       "        text-align: right;\n",
       "    }\n",
       "</style>\n",
       "<table border=\"1\" class=\"dataframe\">\n",
       "  <thead>\n",
       "    <tr style=\"text-align: right;\">\n",
       "      <th></th>\n",
       "      <th>CountryName</th>\n",
       "      <th>CountryCode</th>\n",
       "      <th>BirthRate</th>\n",
       "      <th>InternetUsers</th>\n",
       "      <th>IncomeGroup</th>\n",
       "    </tr>\n",
       "  </thead>\n",
       "  <tbody>\n",
       "    <tr>\n",
       "      <th>0</th>\n",
       "      <td>Aruba</td>\n",
       "      <td>ABW</td>\n",
       "      <td>10.244</td>\n",
       "      <td>78.9</td>\n",
       "      <td>High income</td>\n",
       "    </tr>\n",
       "    <tr>\n",
       "      <th>1</th>\n",
       "      <td>Afghanistan</td>\n",
       "      <td>AFG</td>\n",
       "      <td>35.253</td>\n",
       "      <td>5.9</td>\n",
       "      <td>Low income</td>\n",
       "    </tr>\n",
       "    <tr>\n",
       "      <th>2</th>\n",
       "      <td>Angola</td>\n",
       "      <td>AGO</td>\n",
       "      <td>45.985</td>\n",
       "      <td>19.1</td>\n",
       "      <td>Upper middle income</td>\n",
       "    </tr>\n",
       "    <tr>\n",
       "      <th>3</th>\n",
       "      <td>Albania</td>\n",
       "      <td>ALB</td>\n",
       "      <td>12.877</td>\n",
       "      <td>57.2</td>\n",
       "      <td>Upper middle income</td>\n",
       "    </tr>\n",
       "    <tr>\n",
       "      <th>4</th>\n",
       "      <td>United Arab Emirates</td>\n",
       "      <td>ARE</td>\n",
       "      <td>11.044</td>\n",
       "      <td>88.0</td>\n",
       "      <td>High income</td>\n",
       "    </tr>\n",
       "  </tbody>\n",
       "</table>\n",
       "</div>"
      ],
      "text/plain": [
       "            CountryName CountryCode  BirthRate  InternetUsers  \\\n",
       "0                 Aruba         ABW     10.244           78.9   \n",
       "1           Afghanistan         AFG     35.253            5.9   \n",
       "2                Angola         AGO     45.985           19.1   \n",
       "3               Albania         ALB     12.877           57.2   \n",
       "4  United Arab Emirates         ARE     11.044           88.0   \n",
       "\n",
       "           IncomeGroup  \n",
       "0          High income  \n",
       "1           Low income  \n",
       "2  Upper middle income  \n",
       "3  Upper middle income  \n",
       "4          High income  "
      ]
     },
     "execution_count": 339,
     "metadata": {},
     "output_type": "execute_result"
    }
   ],
   "source": [
    "df.head()"
   ]
  },
  {
   "cell_type": "code",
   "execution_count": 340,
   "id": "637a6c66-2fda-44ab-9c67-b5a90df19d6a",
   "metadata": {},
   "outputs": [
    {
     "data": {
      "text/html": [
       "<div>\n",
       "<style scoped>\n",
       "    .dataframe tbody tr th:only-of-type {\n",
       "        vertical-align: middle;\n",
       "    }\n",
       "\n",
       "    .dataframe tbody tr th {\n",
       "        vertical-align: top;\n",
       "    }\n",
       "\n",
       "    .dataframe thead th {\n",
       "        text-align: right;\n",
       "    }\n",
       "</style>\n",
       "<table border=\"1\" class=\"dataframe\">\n",
       "  <thead>\n",
       "    <tr style=\"text-align: right;\">\n",
       "      <th></th>\n",
       "      <th>CountryName</th>\n",
       "      <th>CountryCode</th>\n",
       "      <th>BirthRate</th>\n",
       "      <th>InternetUsers</th>\n",
       "      <th>IncomeGroup</th>\n",
       "    </tr>\n",
       "  </thead>\n",
       "  <tbody>\n",
       "    <tr>\n",
       "      <th>190</th>\n",
       "      <td>Yemen, Rep.</td>\n",
       "      <td>YEM</td>\n",
       "      <td>32.947</td>\n",
       "      <td>20.0</td>\n",
       "      <td>Lower middle income</td>\n",
       "    </tr>\n",
       "    <tr>\n",
       "      <th>191</th>\n",
       "      <td>South Africa</td>\n",
       "      <td>ZAF</td>\n",
       "      <td>20.850</td>\n",
       "      <td>46.5</td>\n",
       "      <td>Upper middle income</td>\n",
       "    </tr>\n",
       "    <tr>\n",
       "      <th>192</th>\n",
       "      <td>Congo, Dem. Rep.</td>\n",
       "      <td>COD</td>\n",
       "      <td>42.394</td>\n",
       "      <td>2.2</td>\n",
       "      <td>Low income</td>\n",
       "    </tr>\n",
       "    <tr>\n",
       "      <th>193</th>\n",
       "      <td>Zambia</td>\n",
       "      <td>ZMB</td>\n",
       "      <td>40.471</td>\n",
       "      <td>15.4</td>\n",
       "      <td>Lower middle income</td>\n",
       "    </tr>\n",
       "    <tr>\n",
       "      <th>194</th>\n",
       "      <td>Zimbabwe</td>\n",
       "      <td>ZWE</td>\n",
       "      <td>35.715</td>\n",
       "      <td>18.5</td>\n",
       "      <td>Low income</td>\n",
       "    </tr>\n",
       "  </tbody>\n",
       "</table>\n",
       "</div>"
      ],
      "text/plain": [
       "          CountryName CountryCode  BirthRate  InternetUsers  \\\n",
       "190       Yemen, Rep.         YEM     32.947           20.0   \n",
       "191      South Africa         ZAF     20.850           46.5   \n",
       "192  Congo, Dem. Rep.         COD     42.394            2.2   \n",
       "193            Zambia         ZMB     40.471           15.4   \n",
       "194          Zimbabwe         ZWE     35.715           18.5   \n",
       "\n",
       "             IncomeGroup  \n",
       "190  Lower middle income  \n",
       "191  Upper middle income  \n",
       "192           Low income  \n",
       "193  Lower middle income  \n",
       "194           Low income  "
      ]
     },
     "execution_count": 340,
     "metadata": {},
     "output_type": "execute_result"
    }
   ],
   "source": [
    "df.tail()"
   ]
  },
  {
   "cell_type": "code",
   "execution_count": 341,
   "id": "b746a40f-f25c-498e-976c-d80afc84115e",
   "metadata": {},
   "outputs": [
    {
     "name": "stdout",
     "output_type": "stream",
     "text": [
      "<class 'pandas.core.frame.DataFrame'>\n",
      "RangeIndex: 195 entries, 0 to 194\n",
      "Data columns (total 5 columns):\n",
      " #   Column         Non-Null Count  Dtype  \n",
      "---  ------         --------------  -----  \n",
      " 0   CountryName    195 non-null    object \n",
      " 1   CountryCode    195 non-null    object \n",
      " 2   BirthRate      195 non-null    float64\n",
      " 3   InternetUsers  195 non-null    float64\n",
      " 4   IncomeGroup    195 non-null    object \n",
      "dtypes: float64(2), object(3)\n",
      "memory usage: 7.7+ KB\n"
     ]
    }
   ],
   "source": [
    "df.info()"
   ]
  },
  {
   "cell_type": "code",
   "execution_count": 342,
   "id": "e1013f10-d1f4-49a6-9794-91d00bbd1c64",
   "metadata": {},
   "outputs": [
    {
     "data": {
      "text/html": [
       "<div>\n",
       "<style scoped>\n",
       "    .dataframe tbody tr th:only-of-type {\n",
       "        vertical-align: middle;\n",
       "    }\n",
       "\n",
       "    .dataframe tbody tr th {\n",
       "        vertical-align: top;\n",
       "    }\n",
       "\n",
       "    .dataframe thead th {\n",
       "        text-align: right;\n",
       "    }\n",
       "</style>\n",
       "<table border=\"1\" class=\"dataframe\">\n",
       "  <thead>\n",
       "    <tr style=\"text-align: right;\">\n",
       "      <th></th>\n",
       "      <th>BirthRate</th>\n",
       "      <th>InternetUsers</th>\n",
       "    </tr>\n",
       "  </thead>\n",
       "  <tbody>\n",
       "    <tr>\n",
       "      <th>count</th>\n",
       "      <td>195.000000</td>\n",
       "      <td>195.000000</td>\n",
       "    </tr>\n",
       "    <tr>\n",
       "      <th>mean</th>\n",
       "      <td>21.469928</td>\n",
       "      <td>42.076471</td>\n",
       "    </tr>\n",
       "    <tr>\n",
       "      <th>std</th>\n",
       "      <td>10.605467</td>\n",
       "      <td>29.030788</td>\n",
       "    </tr>\n",
       "    <tr>\n",
       "      <th>min</th>\n",
       "      <td>7.900000</td>\n",
       "      <td>0.900000</td>\n",
       "    </tr>\n",
       "    <tr>\n",
       "      <th>25%</th>\n",
       "      <td>12.120500</td>\n",
       "      <td>14.520000</td>\n",
       "    </tr>\n",
       "    <tr>\n",
       "      <th>50%</th>\n",
       "      <td>19.680000</td>\n",
       "      <td>41.000000</td>\n",
       "    </tr>\n",
       "    <tr>\n",
       "      <th>75%</th>\n",
       "      <td>29.759500</td>\n",
       "      <td>66.225000</td>\n",
       "    </tr>\n",
       "    <tr>\n",
       "      <th>max</th>\n",
       "      <td>49.661000</td>\n",
       "      <td>96.546800</td>\n",
       "    </tr>\n",
       "  </tbody>\n",
       "</table>\n",
       "</div>"
      ],
      "text/plain": [
       "        BirthRate  InternetUsers\n",
       "count  195.000000     195.000000\n",
       "mean    21.469928      42.076471\n",
       "std     10.605467      29.030788\n",
       "min      7.900000       0.900000\n",
       "25%     12.120500      14.520000\n",
       "50%     19.680000      41.000000\n",
       "75%     29.759500      66.225000\n",
       "max     49.661000      96.546800"
      ]
     },
     "execution_count": 342,
     "metadata": {},
     "output_type": "execute_result"
    }
   ],
   "source": [
    "df.describe()"
   ]
  },
  {
   "cell_type": "code",
   "execution_count": 343,
   "id": "72084f77-d82a-4612-87ab-640907ffe1a3",
   "metadata": {},
   "outputs": [
    {
     "data": {
      "text/plain": [
       "0                     Aruba\n",
       "1               Afghanistan\n",
       "2                    Angola\n",
       "3                   Albania\n",
       "4      United Arab Emirates\n",
       "               ...         \n",
       "190             Yemen, Rep.\n",
       "191            South Africa\n",
       "192        Congo, Dem. Rep.\n",
       "193                  Zambia\n",
       "194                Zimbabwe\n",
       "Name: CountryName, Length: 195, dtype: object"
      ]
     },
     "execution_count": 343,
     "metadata": {},
     "output_type": "execute_result"
    }
   ],
   "source": [
    "df['CountryName']"
   ]
  },
  {
   "cell_type": "code",
   "execution_count": 344,
   "id": "bfae6ca6-ea6a-4f07-9c9e-b0c37a3469ca",
   "metadata": {},
   "outputs": [
    {
     "data": {
      "text/html": [
       "<div>\n",
       "<style scoped>\n",
       "    .dataframe tbody tr th:only-of-type {\n",
       "        vertical-align: middle;\n",
       "    }\n",
       "\n",
       "    .dataframe tbody tr th {\n",
       "        vertical-align: top;\n",
       "    }\n",
       "\n",
       "    .dataframe thead th {\n",
       "        text-align: right;\n",
       "    }\n",
       "</style>\n",
       "<table border=\"1\" class=\"dataframe\">\n",
       "  <thead>\n",
       "    <tr style=\"text-align: right;\">\n",
       "      <th></th>\n",
       "      <th>CountryName</th>\n",
       "      <th>CountryName</th>\n",
       "    </tr>\n",
       "  </thead>\n",
       "  <tbody>\n",
       "    <tr>\n",
       "      <th>0</th>\n",
       "      <td>Aruba</td>\n",
       "      <td>Aruba</td>\n",
       "    </tr>\n",
       "    <tr>\n",
       "      <th>1</th>\n",
       "      <td>Afghanistan</td>\n",
       "      <td>Afghanistan</td>\n",
       "    </tr>\n",
       "    <tr>\n",
       "      <th>2</th>\n",
       "      <td>Angola</td>\n",
       "      <td>Angola</td>\n",
       "    </tr>\n",
       "    <tr>\n",
       "      <th>3</th>\n",
       "      <td>Albania</td>\n",
       "      <td>Albania</td>\n",
       "    </tr>\n",
       "    <tr>\n",
       "      <th>4</th>\n",
       "      <td>United Arab Emirates</td>\n",
       "      <td>United Arab Emirates</td>\n",
       "    </tr>\n",
       "    <tr>\n",
       "      <th>...</th>\n",
       "      <td>...</td>\n",
       "      <td>...</td>\n",
       "    </tr>\n",
       "    <tr>\n",
       "      <th>190</th>\n",
       "      <td>Yemen, Rep.</td>\n",
       "      <td>Yemen, Rep.</td>\n",
       "    </tr>\n",
       "    <tr>\n",
       "      <th>191</th>\n",
       "      <td>South Africa</td>\n",
       "      <td>South Africa</td>\n",
       "    </tr>\n",
       "    <tr>\n",
       "      <th>192</th>\n",
       "      <td>Congo, Dem. Rep.</td>\n",
       "      <td>Congo, Dem. Rep.</td>\n",
       "    </tr>\n",
       "    <tr>\n",
       "      <th>193</th>\n",
       "      <td>Zambia</td>\n",
       "      <td>Zambia</td>\n",
       "    </tr>\n",
       "    <tr>\n",
       "      <th>194</th>\n",
       "      <td>Zimbabwe</td>\n",
       "      <td>Zimbabwe</td>\n",
       "    </tr>\n",
       "  </tbody>\n",
       "</table>\n",
       "<p>195 rows × 2 columns</p>\n",
       "</div>"
      ],
      "text/plain": [
       "              CountryName           CountryName\n",
       "0                   Aruba                 Aruba\n",
       "1             Afghanistan           Afghanistan\n",
       "2                  Angola                Angola\n",
       "3                 Albania               Albania\n",
       "4    United Arab Emirates  United Arab Emirates\n",
       "..                    ...                   ...\n",
       "190           Yemen, Rep.           Yemen, Rep.\n",
       "191          South Africa          South Africa\n",
       "192      Congo, Dem. Rep.      Congo, Dem. Rep.\n",
       "193                Zambia                Zambia\n",
       "194              Zimbabwe              Zimbabwe\n",
       "\n",
       "[195 rows x 2 columns]"
      ]
     },
     "execution_count": 344,
     "metadata": {},
     "output_type": "execute_result"
    }
   ],
   "source": [
    "df[['CountryName','CountryName']]"
   ]
  },
  {
   "cell_type": "code",
   "execution_count": 345,
   "id": "797d16d1-ca16-4036-91aa-3f7447a73079",
   "metadata": {},
   "outputs": [
    {
     "data": {
      "text/plain": [
       "CountryName            Aruba\n",
       "CountryCode              ABW\n",
       "BirthRate             10.244\n",
       "InternetUsers           78.9\n",
       "IncomeGroup      High income\n",
       "Name: 0, dtype: object"
      ]
     },
     "execution_count": 345,
     "metadata": {},
     "output_type": "execute_result"
    }
   ],
   "source": [
    "df.iloc[0]"
   ]
  },
  {
   "cell_type": "code",
   "execution_count": 346,
   "id": "2b4556d4-82b6-49c0-9703-9606087a1d19",
   "metadata": {},
   "outputs": [
    {
     "data": {
      "text/html": [
       "<div>\n",
       "<style scoped>\n",
       "    .dataframe tbody tr th:only-of-type {\n",
       "        vertical-align: middle;\n",
       "    }\n",
       "\n",
       "    .dataframe tbody tr th {\n",
       "        vertical-align: top;\n",
       "    }\n",
       "\n",
       "    .dataframe thead th {\n",
       "        text-align: right;\n",
       "    }\n",
       "</style>\n",
       "<table border=\"1\" class=\"dataframe\">\n",
       "  <thead>\n",
       "    <tr style=\"text-align: right;\">\n",
       "      <th></th>\n",
       "      <th>CountryName</th>\n",
       "      <th>CountryCode</th>\n",
       "      <th>BirthRate</th>\n",
       "      <th>InternetUsers</th>\n",
       "      <th>IncomeGroup</th>\n",
       "    </tr>\n",
       "  </thead>\n",
       "  <tbody>\n",
       "    <tr>\n",
       "      <th>0</th>\n",
       "      <td>Aruba</td>\n",
       "      <td>ABW</td>\n",
       "      <td>10.244</td>\n",
       "      <td>78.9</td>\n",
       "      <td>High income</td>\n",
       "    </tr>\n",
       "    <tr>\n",
       "      <th>3</th>\n",
       "      <td>Albania</td>\n",
       "      <td>ALB</td>\n",
       "      <td>12.877</td>\n",
       "      <td>57.2</td>\n",
       "      <td>Upper middle income</td>\n",
       "    </tr>\n",
       "    <tr>\n",
       "      <th>4</th>\n",
       "      <td>United Arab Emirates</td>\n",
       "      <td>ARE</td>\n",
       "      <td>11.044</td>\n",
       "      <td>88.0</td>\n",
       "      <td>High income</td>\n",
       "    </tr>\n",
       "    <tr>\n",
       "      <th>5</th>\n",
       "      <td>Argentina</td>\n",
       "      <td>ARG</td>\n",
       "      <td>17.716</td>\n",
       "      <td>59.9</td>\n",
       "      <td>High income</td>\n",
       "    </tr>\n",
       "    <tr>\n",
       "      <th>6</th>\n",
       "      <td>Armenia</td>\n",
       "      <td>ARM</td>\n",
       "      <td>13.308</td>\n",
       "      <td>41.9</td>\n",
       "      <td>Lower middle income</td>\n",
       "    </tr>\n",
       "    <tr>\n",
       "      <th>...</th>\n",
       "      <td>...</td>\n",
       "      <td>...</td>\n",
       "      <td>...</td>\n",
       "      <td>...</td>\n",
       "      <td>...</td>\n",
       "    </tr>\n",
       "    <tr>\n",
       "      <th>184</th>\n",
       "      <td>Venezuela, RB</td>\n",
       "      <td>VEN</td>\n",
       "      <td>19.842</td>\n",
       "      <td>54.9</td>\n",
       "      <td>High income</td>\n",
       "    </tr>\n",
       "    <tr>\n",
       "      <th>185</th>\n",
       "      <td>Virgin Islands (U.S.)</td>\n",
       "      <td>VIR</td>\n",
       "      <td>10.700</td>\n",
       "      <td>45.3</td>\n",
       "      <td>High income</td>\n",
       "    </tr>\n",
       "    <tr>\n",
       "      <th>186</th>\n",
       "      <td>Vietnam</td>\n",
       "      <td>VNM</td>\n",
       "      <td>15.537</td>\n",
       "      <td>43.9</td>\n",
       "      <td>Lower middle income</td>\n",
       "    </tr>\n",
       "    <tr>\n",
       "      <th>188</th>\n",
       "      <td>West Bank and Gaza</td>\n",
       "      <td>PSE</td>\n",
       "      <td>30.394</td>\n",
       "      <td>46.6</td>\n",
       "      <td>Lower middle income</td>\n",
       "    </tr>\n",
       "    <tr>\n",
       "      <th>191</th>\n",
       "      <td>South Africa</td>\n",
       "      <td>ZAF</td>\n",
       "      <td>20.850</td>\n",
       "      <td>46.5</td>\n",
       "      <td>Upper middle income</td>\n",
       "    </tr>\n",
       "  </tbody>\n",
       "</table>\n",
       "<p>115 rows × 5 columns</p>\n",
       "</div>"
      ],
      "text/plain": [
       "               CountryName CountryCode  BirthRate  InternetUsers  \\\n",
       "0                    Aruba         ABW     10.244           78.9   \n",
       "3                  Albania         ALB     12.877           57.2   \n",
       "4     United Arab Emirates         ARE     11.044           88.0   \n",
       "5                Argentina         ARG     17.716           59.9   \n",
       "6                  Armenia         ARM     13.308           41.9   \n",
       "..                     ...         ...        ...            ...   \n",
       "184          Venezuela, RB         VEN     19.842           54.9   \n",
       "185  Virgin Islands (U.S.)         VIR     10.700           45.3   \n",
       "186                Vietnam         VNM     15.537           43.9   \n",
       "188     West Bank and Gaza         PSE     30.394           46.6   \n",
       "191           South Africa         ZAF     20.850           46.5   \n",
       "\n",
       "             IncomeGroup  \n",
       "0            High income  \n",
       "3    Upper middle income  \n",
       "4            High income  \n",
       "5            High income  \n",
       "6    Lower middle income  \n",
       "..                   ...  \n",
       "184          High income  \n",
       "185          High income  \n",
       "186  Lower middle income  \n",
       "188  Lower middle income  \n",
       "191  Upper middle income  \n",
       "\n",
       "[115 rows x 5 columns]"
      ]
     },
     "execution_count": 346,
     "metadata": {},
     "output_type": "execute_result"
    }
   ],
   "source": [
    "df[df['InternetUsers']>34]"
   ]
  },
  {
   "cell_type": "code",
   "execution_count": 347,
   "id": "4649ba33-d88d-4a5e-9706-476181eeaa85",
   "metadata": {},
   "outputs": [
    {
     "data": {
      "text/html": [
       "<div>\n",
       "<style scoped>\n",
       "    .dataframe tbody tr th:only-of-type {\n",
       "        vertical-align: middle;\n",
       "    }\n",
       "\n",
       "    .dataframe tbody tr th {\n",
       "        vertical-align: top;\n",
       "    }\n",
       "\n",
       "    .dataframe thead th {\n",
       "        text-align: right;\n",
       "    }\n",
       "</style>\n",
       "<table border=\"1\" class=\"dataframe\">\n",
       "  <thead>\n",
       "    <tr style=\"text-align: right;\">\n",
       "      <th></th>\n",
       "      <th>CountryName</th>\n",
       "      <th>CountryCode</th>\n",
       "      <th>BirthRate</th>\n",
       "      <th>InternetUsers</th>\n",
       "      <th>IncomeGroup</th>\n",
       "    </tr>\n",
       "  </thead>\n",
       "  <tbody>\n",
       "    <tr>\n",
       "      <th>23</th>\n",
       "      <td>Bolivia</td>\n",
       "      <td>BOL</td>\n",
       "      <td>24.236</td>\n",
       "      <td>36.94</td>\n",
       "      <td>Lower middle income</td>\n",
       "    </tr>\n",
       "    <tr>\n",
       "      <th>88</th>\n",
       "      <td>Jordan</td>\n",
       "      <td>JOR</td>\n",
       "      <td>27.046</td>\n",
       "      <td>41.00</td>\n",
       "      <td>Upper middle income</td>\n",
       "    </tr>\n",
       "    <tr>\n",
       "      <th>91</th>\n",
       "      <td>Kenya</td>\n",
       "      <td>KEN</td>\n",
       "      <td>35.194</td>\n",
       "      <td>39.00</td>\n",
       "      <td>Lower middle income</td>\n",
       "    </tr>\n",
       "    <tr>\n",
       "      <th>128</th>\n",
       "      <td>Nigeria</td>\n",
       "      <td>NGA</td>\n",
       "      <td>40.045</td>\n",
       "      <td>38.00</td>\n",
       "      <td>Lower middle income</td>\n",
       "    </tr>\n",
       "    <tr>\n",
       "      <th>138</th>\n",
       "      <td>Philippines</td>\n",
       "      <td>PHL</td>\n",
       "      <td>23.790</td>\n",
       "      <td>37.00</td>\n",
       "      <td>Lower middle income</td>\n",
       "    </tr>\n",
       "    <tr>\n",
       "      <th>173</th>\n",
       "      <td>Tonga</td>\n",
       "      <td>TON</td>\n",
       "      <td>25.409</td>\n",
       "      <td>35.00</td>\n",
       "      <td>Upper middle income</td>\n",
       "    </tr>\n",
       "    <tr>\n",
       "      <th>188</th>\n",
       "      <td>West Bank and Gaza</td>\n",
       "      <td>PSE</td>\n",
       "      <td>30.394</td>\n",
       "      <td>46.60</td>\n",
       "      <td>Lower middle income</td>\n",
       "    </tr>\n",
       "  </tbody>\n",
       "</table>\n",
       "</div>"
      ],
      "text/plain": [
       "            CountryName CountryCode  BirthRate  InternetUsers  \\\n",
       "23              Bolivia         BOL     24.236          36.94   \n",
       "88               Jordan         JOR     27.046          41.00   \n",
       "91                Kenya         KEN     35.194          39.00   \n",
       "128             Nigeria         NGA     40.045          38.00   \n",
       "138         Philippines         PHL     23.790          37.00   \n",
       "173               Tonga         TON     25.409          35.00   \n",
       "188  West Bank and Gaza         PSE     30.394          46.60   \n",
       "\n",
       "             IncomeGroup  \n",
       "23   Lower middle income  \n",
       "88   Upper middle income  \n",
       "91   Lower middle income  \n",
       "128  Lower middle income  \n",
       "138  Lower middle income  \n",
       "173  Upper middle income  \n",
       "188  Lower middle income  "
      ]
     },
     "execution_count": 347,
     "metadata": {},
     "output_type": "execute_result"
    }
   ],
   "source": [
    "df[(df['BirthRate']>23) & (df['InternetUsers']>34)]"
   ]
  },
  {
   "cell_type": "markdown",
   "id": "d7042cd0-3d63-47d3-ba7d-b9496c1220be",
   "metadata": {},
   "source": [
    "ADDING/REMOVING COLUMNS IN PANDAS"
   ]
  },
  {
   "cell_type": "code",
   "execution_count": 348,
   "id": "df603d9b-19be-440b-b207-1913a9c808d7",
   "metadata": {},
   "outputs": [],
   "source": [
    "df['Bonus'] = df['InternetUsers']*0.1"
   ]
  },
  {
   "cell_type": "code",
   "execution_count": 349,
   "id": "2a408cf1-6d04-4d18-a033-b4529aefeda5",
   "metadata": {},
   "outputs": [
    {
     "data": {
      "text/html": [
       "<div>\n",
       "<style scoped>\n",
       "    .dataframe tbody tr th:only-of-type {\n",
       "        vertical-align: middle;\n",
       "    }\n",
       "\n",
       "    .dataframe tbody tr th {\n",
       "        vertical-align: top;\n",
       "    }\n",
       "\n",
       "    .dataframe thead th {\n",
       "        text-align: right;\n",
       "    }\n",
       "</style>\n",
       "<table border=\"1\" class=\"dataframe\">\n",
       "  <thead>\n",
       "    <tr style=\"text-align: right;\">\n",
       "      <th></th>\n",
       "      <th>CountryName</th>\n",
       "      <th>CountryCode</th>\n",
       "      <th>BirthRate</th>\n",
       "      <th>InternetUsers</th>\n",
       "      <th>IncomeGroup</th>\n",
       "      <th>Bonus</th>\n",
       "    </tr>\n",
       "  </thead>\n",
       "  <tbody>\n",
       "    <tr>\n",
       "      <th>0</th>\n",
       "      <td>Aruba</td>\n",
       "      <td>ABW</td>\n",
       "      <td>10.244</td>\n",
       "      <td>78.9</td>\n",
       "      <td>High income</td>\n",
       "      <td>7.89</td>\n",
       "    </tr>\n",
       "    <tr>\n",
       "      <th>1</th>\n",
       "      <td>Afghanistan</td>\n",
       "      <td>AFG</td>\n",
       "      <td>35.253</td>\n",
       "      <td>5.9</td>\n",
       "      <td>Low income</td>\n",
       "      <td>0.59</td>\n",
       "    </tr>\n",
       "    <tr>\n",
       "      <th>2</th>\n",
       "      <td>Angola</td>\n",
       "      <td>AGO</td>\n",
       "      <td>45.985</td>\n",
       "      <td>19.1</td>\n",
       "      <td>Upper middle income</td>\n",
       "      <td>1.91</td>\n",
       "    </tr>\n",
       "    <tr>\n",
       "      <th>3</th>\n",
       "      <td>Albania</td>\n",
       "      <td>ALB</td>\n",
       "      <td>12.877</td>\n",
       "      <td>57.2</td>\n",
       "      <td>Upper middle income</td>\n",
       "      <td>5.72</td>\n",
       "    </tr>\n",
       "    <tr>\n",
       "      <th>4</th>\n",
       "      <td>United Arab Emirates</td>\n",
       "      <td>ARE</td>\n",
       "      <td>11.044</td>\n",
       "      <td>88.0</td>\n",
       "      <td>High income</td>\n",
       "      <td>8.80</td>\n",
       "    </tr>\n",
       "    <tr>\n",
       "      <th>...</th>\n",
       "      <td>...</td>\n",
       "      <td>...</td>\n",
       "      <td>...</td>\n",
       "      <td>...</td>\n",
       "      <td>...</td>\n",
       "      <td>...</td>\n",
       "    </tr>\n",
       "    <tr>\n",
       "      <th>190</th>\n",
       "      <td>Yemen, Rep.</td>\n",
       "      <td>YEM</td>\n",
       "      <td>32.947</td>\n",
       "      <td>20.0</td>\n",
       "      <td>Lower middle income</td>\n",
       "      <td>2.00</td>\n",
       "    </tr>\n",
       "    <tr>\n",
       "      <th>191</th>\n",
       "      <td>South Africa</td>\n",
       "      <td>ZAF</td>\n",
       "      <td>20.850</td>\n",
       "      <td>46.5</td>\n",
       "      <td>Upper middle income</td>\n",
       "      <td>4.65</td>\n",
       "    </tr>\n",
       "    <tr>\n",
       "      <th>192</th>\n",
       "      <td>Congo, Dem. Rep.</td>\n",
       "      <td>COD</td>\n",
       "      <td>42.394</td>\n",
       "      <td>2.2</td>\n",
       "      <td>Low income</td>\n",
       "      <td>0.22</td>\n",
       "    </tr>\n",
       "    <tr>\n",
       "      <th>193</th>\n",
       "      <td>Zambia</td>\n",
       "      <td>ZMB</td>\n",
       "      <td>40.471</td>\n",
       "      <td>15.4</td>\n",
       "      <td>Lower middle income</td>\n",
       "      <td>1.54</td>\n",
       "    </tr>\n",
       "    <tr>\n",
       "      <th>194</th>\n",
       "      <td>Zimbabwe</td>\n",
       "      <td>ZWE</td>\n",
       "      <td>35.715</td>\n",
       "      <td>18.5</td>\n",
       "      <td>Low income</td>\n",
       "      <td>1.85</td>\n",
       "    </tr>\n",
       "  </tbody>\n",
       "</table>\n",
       "<p>195 rows × 6 columns</p>\n",
       "</div>"
      ],
      "text/plain": [
       "              CountryName CountryCode  BirthRate  InternetUsers  \\\n",
       "0                   Aruba         ABW     10.244           78.9   \n",
       "1             Afghanistan         AFG     35.253            5.9   \n",
       "2                  Angola         AGO     45.985           19.1   \n",
       "3                 Albania         ALB     12.877           57.2   \n",
       "4    United Arab Emirates         ARE     11.044           88.0   \n",
       "..                    ...         ...        ...            ...   \n",
       "190           Yemen, Rep.         YEM     32.947           20.0   \n",
       "191          South Africa         ZAF     20.850           46.5   \n",
       "192      Congo, Dem. Rep.         COD     42.394            2.2   \n",
       "193                Zambia         ZMB     40.471           15.4   \n",
       "194              Zimbabwe         ZWE     35.715           18.5   \n",
       "\n",
       "             IncomeGroup  Bonus  \n",
       "0            High income   7.89  \n",
       "1             Low income   0.59  \n",
       "2    Upper middle income   1.91  \n",
       "3    Upper middle income   5.72  \n",
       "4            High income   8.80  \n",
       "..                   ...    ...  \n",
       "190  Lower middle income   2.00  \n",
       "191  Upper middle income   4.65  \n",
       "192           Low income   0.22  \n",
       "193  Lower middle income   1.54  \n",
       "194           Low income   1.85  \n",
       "\n",
       "[195 rows x 6 columns]"
      ]
     },
     "execution_count": 349,
     "metadata": {},
     "output_type": "execute_result"
    }
   ],
   "source": [
    "df"
   ]
  },
  {
   "cell_type": "code",
   "execution_count": 350,
   "id": "456ff382-e8c9-4679-818e-74f376474ab8",
   "metadata": {},
   "outputs": [],
   "source": [
    "df.drop('Bonus',axis=1,inplace=True)"
   ]
  },
  {
   "cell_type": "code",
   "execution_count": 351,
   "id": "fcb346fe-45fe-45af-b249-d2b8e76a71c2",
   "metadata": {},
   "outputs": [
    {
     "data": {
      "text/html": [
       "<div>\n",
       "<style scoped>\n",
       "    .dataframe tbody tr th:only-of-type {\n",
       "        vertical-align: middle;\n",
       "    }\n",
       "\n",
       "    .dataframe tbody tr th {\n",
       "        vertical-align: top;\n",
       "    }\n",
       "\n",
       "    .dataframe thead th {\n",
       "        text-align: right;\n",
       "    }\n",
       "</style>\n",
       "<table border=\"1\" class=\"dataframe\">\n",
       "  <thead>\n",
       "    <tr style=\"text-align: right;\">\n",
       "      <th></th>\n",
       "      <th>CountryName</th>\n",
       "      <th>CountryCode</th>\n",
       "      <th>BirthRate</th>\n",
       "      <th>InternetUsers</th>\n",
       "      <th>IncomeGroup</th>\n",
       "    </tr>\n",
       "  </thead>\n",
       "  <tbody>\n",
       "    <tr>\n",
       "      <th>0</th>\n",
       "      <td>Aruba</td>\n",
       "      <td>ABW</td>\n",
       "      <td>10.244</td>\n",
       "      <td>78.9</td>\n",
       "      <td>High income</td>\n",
       "    </tr>\n",
       "    <tr>\n",
       "      <th>1</th>\n",
       "      <td>Afghanistan</td>\n",
       "      <td>AFG</td>\n",
       "      <td>35.253</td>\n",
       "      <td>5.9</td>\n",
       "      <td>Low income</td>\n",
       "    </tr>\n",
       "    <tr>\n",
       "      <th>2</th>\n",
       "      <td>Angola</td>\n",
       "      <td>AGO</td>\n",
       "      <td>45.985</td>\n",
       "      <td>19.1</td>\n",
       "      <td>Upper middle income</td>\n",
       "    </tr>\n",
       "    <tr>\n",
       "      <th>3</th>\n",
       "      <td>Albania</td>\n",
       "      <td>ALB</td>\n",
       "      <td>12.877</td>\n",
       "      <td>57.2</td>\n",
       "      <td>Upper middle income</td>\n",
       "    </tr>\n",
       "    <tr>\n",
       "      <th>4</th>\n",
       "      <td>United Arab Emirates</td>\n",
       "      <td>ARE</td>\n",
       "      <td>11.044</td>\n",
       "      <td>88.0</td>\n",
       "      <td>High income</td>\n",
       "    </tr>\n",
       "    <tr>\n",
       "      <th>...</th>\n",
       "      <td>...</td>\n",
       "      <td>...</td>\n",
       "      <td>...</td>\n",
       "      <td>...</td>\n",
       "      <td>...</td>\n",
       "    </tr>\n",
       "    <tr>\n",
       "      <th>190</th>\n",
       "      <td>Yemen, Rep.</td>\n",
       "      <td>YEM</td>\n",
       "      <td>32.947</td>\n",
       "      <td>20.0</td>\n",
       "      <td>Lower middle income</td>\n",
       "    </tr>\n",
       "    <tr>\n",
       "      <th>191</th>\n",
       "      <td>South Africa</td>\n",
       "      <td>ZAF</td>\n",
       "      <td>20.850</td>\n",
       "      <td>46.5</td>\n",
       "      <td>Upper middle income</td>\n",
       "    </tr>\n",
       "    <tr>\n",
       "      <th>192</th>\n",
       "      <td>Congo, Dem. Rep.</td>\n",
       "      <td>COD</td>\n",
       "      <td>42.394</td>\n",
       "      <td>2.2</td>\n",
       "      <td>Low income</td>\n",
       "    </tr>\n",
       "    <tr>\n",
       "      <th>193</th>\n",
       "      <td>Zambia</td>\n",
       "      <td>ZMB</td>\n",
       "      <td>40.471</td>\n",
       "      <td>15.4</td>\n",
       "      <td>Lower middle income</td>\n",
       "    </tr>\n",
       "    <tr>\n",
       "      <th>194</th>\n",
       "      <td>Zimbabwe</td>\n",
       "      <td>ZWE</td>\n",
       "      <td>35.715</td>\n",
       "      <td>18.5</td>\n",
       "      <td>Low income</td>\n",
       "    </tr>\n",
       "  </tbody>\n",
       "</table>\n",
       "<p>195 rows × 5 columns</p>\n",
       "</div>"
      ],
      "text/plain": [
       "              CountryName CountryCode  BirthRate  InternetUsers  \\\n",
       "0                   Aruba         ABW     10.244           78.9   \n",
       "1             Afghanistan         AFG     35.253            5.9   \n",
       "2                  Angola         AGO     45.985           19.1   \n",
       "3                 Albania         ALB     12.877           57.2   \n",
       "4    United Arab Emirates         ARE     11.044           88.0   \n",
       "..                    ...         ...        ...            ...   \n",
       "190           Yemen, Rep.         YEM     32.947           20.0   \n",
       "191          South Africa         ZAF     20.850           46.5   \n",
       "192      Congo, Dem. Rep.         COD     42.394            2.2   \n",
       "193                Zambia         ZMB     40.471           15.4   \n",
       "194              Zimbabwe         ZWE     35.715           18.5   \n",
       "\n",
       "             IncomeGroup  \n",
       "0            High income  \n",
       "1             Low income  \n",
       "2    Upper middle income  \n",
       "3    Upper middle income  \n",
       "4            High income  \n",
       "..                   ...  \n",
       "190  Lower middle income  \n",
       "191  Upper middle income  \n",
       "192           Low income  \n",
       "193  Lower middle income  \n",
       "194           Low income  \n",
       "\n",
       "[195 rows x 5 columns]"
      ]
     },
     "execution_count": 351,
     "metadata": {},
     "output_type": "execute_result"
    }
   ],
   "source": [
    "df"
   ]
  },
  {
   "cell_type": "markdown",
   "id": "fa19aea2-c430-4fd9-89bd-d1eaa7660f42",
   "metadata": {},
   "source": [
    "UPDATING DATA IN PANDAS"
   ]
  },
  {
   "cell_type": "code",
   "execution_count": 352,
   "id": "5c3bce13-95bb-4f75-a64e-d91a6dcdfe35",
   "metadata": {},
   "outputs": [],
   "source": [
    "df.at[0,'InternetUsers'] = 30"
   ]
  },
  {
   "cell_type": "code",
   "execution_count": 353,
   "id": "dcd38aca-1489-42ed-876d-b840fbccd7b8",
   "metadata": {},
   "outputs": [
    {
     "data": {
      "text/html": [
       "<div>\n",
       "<style scoped>\n",
       "    .dataframe tbody tr th:only-of-type {\n",
       "        vertical-align: middle;\n",
       "    }\n",
       "\n",
       "    .dataframe tbody tr th {\n",
       "        vertical-align: top;\n",
       "    }\n",
       "\n",
       "    .dataframe thead th {\n",
       "        text-align: right;\n",
       "    }\n",
       "</style>\n",
       "<table border=\"1\" class=\"dataframe\">\n",
       "  <thead>\n",
       "    <tr style=\"text-align: right;\">\n",
       "      <th></th>\n",
       "      <th>CountryName</th>\n",
       "      <th>CountryCode</th>\n",
       "      <th>BirthRate</th>\n",
       "      <th>InternetUsers</th>\n",
       "      <th>IncomeGroup</th>\n",
       "    </tr>\n",
       "  </thead>\n",
       "  <tbody>\n",
       "    <tr>\n",
       "      <th>0</th>\n",
       "      <td>Aruba</td>\n",
       "      <td>ABW</td>\n",
       "      <td>10.244</td>\n",
       "      <td>30.0</td>\n",
       "      <td>High income</td>\n",
       "    </tr>\n",
       "    <tr>\n",
       "      <th>1</th>\n",
       "      <td>Afghanistan</td>\n",
       "      <td>AFG</td>\n",
       "      <td>35.253</td>\n",
       "      <td>5.9</td>\n",
       "      <td>Low income</td>\n",
       "    </tr>\n",
       "    <tr>\n",
       "      <th>2</th>\n",
       "      <td>Angola</td>\n",
       "      <td>AGO</td>\n",
       "      <td>45.985</td>\n",
       "      <td>19.1</td>\n",
       "      <td>Upper middle income</td>\n",
       "    </tr>\n",
       "    <tr>\n",
       "      <th>3</th>\n",
       "      <td>Albania</td>\n",
       "      <td>ALB</td>\n",
       "      <td>12.877</td>\n",
       "      <td>57.2</td>\n",
       "      <td>Upper middle income</td>\n",
       "    </tr>\n",
       "    <tr>\n",
       "      <th>4</th>\n",
       "      <td>United Arab Emirates</td>\n",
       "      <td>ARE</td>\n",
       "      <td>11.044</td>\n",
       "      <td>88.0</td>\n",
       "      <td>High income</td>\n",
       "    </tr>\n",
       "    <tr>\n",
       "      <th>...</th>\n",
       "      <td>...</td>\n",
       "      <td>...</td>\n",
       "      <td>...</td>\n",
       "      <td>...</td>\n",
       "      <td>...</td>\n",
       "    </tr>\n",
       "    <tr>\n",
       "      <th>190</th>\n",
       "      <td>Yemen, Rep.</td>\n",
       "      <td>YEM</td>\n",
       "      <td>32.947</td>\n",
       "      <td>20.0</td>\n",
       "      <td>Lower middle income</td>\n",
       "    </tr>\n",
       "    <tr>\n",
       "      <th>191</th>\n",
       "      <td>South Africa</td>\n",
       "      <td>ZAF</td>\n",
       "      <td>20.850</td>\n",
       "      <td>46.5</td>\n",
       "      <td>Upper middle income</td>\n",
       "    </tr>\n",
       "    <tr>\n",
       "      <th>192</th>\n",
       "      <td>Congo, Dem. Rep.</td>\n",
       "      <td>COD</td>\n",
       "      <td>42.394</td>\n",
       "      <td>2.2</td>\n",
       "      <td>Low income</td>\n",
       "    </tr>\n",
       "    <tr>\n",
       "      <th>193</th>\n",
       "      <td>Zambia</td>\n",
       "      <td>ZMB</td>\n",
       "      <td>40.471</td>\n",
       "      <td>15.4</td>\n",
       "      <td>Lower middle income</td>\n",
       "    </tr>\n",
       "    <tr>\n",
       "      <th>194</th>\n",
       "      <td>Zimbabwe</td>\n",
       "      <td>ZWE</td>\n",
       "      <td>35.715</td>\n",
       "      <td>18.5</td>\n",
       "      <td>Low income</td>\n",
       "    </tr>\n",
       "  </tbody>\n",
       "</table>\n",
       "<p>195 rows × 5 columns</p>\n",
       "</div>"
      ],
      "text/plain": [
       "              CountryName CountryCode  BirthRate  InternetUsers  \\\n",
       "0                   Aruba         ABW     10.244           30.0   \n",
       "1             Afghanistan         AFG     35.253            5.9   \n",
       "2                  Angola         AGO     45.985           19.1   \n",
       "3                 Albania         ALB     12.877           57.2   \n",
       "4    United Arab Emirates         ARE     11.044           88.0   \n",
       "..                    ...         ...        ...            ...   \n",
       "190           Yemen, Rep.         YEM     32.947           20.0   \n",
       "191          South Africa         ZAF     20.850           46.5   \n",
       "192      Congo, Dem. Rep.         COD     42.394            2.2   \n",
       "193                Zambia         ZMB     40.471           15.4   \n",
       "194              Zimbabwe         ZWE     35.715           18.5   \n",
       "\n",
       "             IncomeGroup  \n",
       "0            High income  \n",
       "1             Low income  \n",
       "2    Upper middle income  \n",
       "3    Upper middle income  \n",
       "4            High income  \n",
       "..                   ...  \n",
       "190  Lower middle income  \n",
       "191  Upper middle income  \n",
       "192           Low income  \n",
       "193  Lower middle income  \n",
       "194           Low income  \n",
       "\n",
       "[195 rows x 5 columns]"
      ]
     },
     "execution_count": 353,
     "metadata": {},
     "output_type": "execute_result"
    }
   ],
   "source": [
    "df"
   ]
  },
  {
   "cell_type": "markdown",
   "id": "4b548f01-a636-4d83-bbea-e3e9900e5532",
   "metadata": {},
   "source": [
    "SORTING"
   ]
  },
  {
   "cell_type": "code",
   "execution_count": 354,
   "id": "540e78ab-aaf1-494e-bf9f-c41d7c4fb56a",
   "metadata": {},
   "outputs": [
    {
     "data": {
      "text/html": [
       "<div>\n",
       "<style scoped>\n",
       "    .dataframe tbody tr th:only-of-type {\n",
       "        vertical-align: middle;\n",
       "    }\n",
       "\n",
       "    .dataframe tbody tr th {\n",
       "        vertical-align: top;\n",
       "    }\n",
       "\n",
       "    .dataframe thead th {\n",
       "        text-align: right;\n",
       "    }\n",
       "</style>\n",
       "<table border=\"1\" class=\"dataframe\">\n",
       "  <thead>\n",
       "    <tr style=\"text-align: right;\">\n",
       "      <th></th>\n",
       "      <th>CountryName</th>\n",
       "      <th>CountryCode</th>\n",
       "      <th>BirthRate</th>\n",
       "      <th>InternetUsers</th>\n",
       "      <th>IncomeGroup</th>\n",
       "    </tr>\n",
       "  </thead>\n",
       "  <tbody>\n",
       "    <tr>\n",
       "      <th>52</th>\n",
       "      <td>Eritrea</td>\n",
       "      <td>ERI</td>\n",
       "      <td>34.800</td>\n",
       "      <td>0.9000</td>\n",
       "      <td>Low income</td>\n",
       "    </tr>\n",
       "    <tr>\n",
       "      <th>172</th>\n",
       "      <td>Timor-Leste</td>\n",
       "      <td>TLS</td>\n",
       "      <td>35.755</td>\n",
       "      <td>1.1000</td>\n",
       "      <td>Lower middle income</td>\n",
       "    </tr>\n",
       "    <tr>\n",
       "      <th>11</th>\n",
       "      <td>Burundi</td>\n",
       "      <td>BDI</td>\n",
       "      <td>44.151</td>\n",
       "      <td>1.3000</td>\n",
       "      <td>Low income</td>\n",
       "    </tr>\n",
       "    <tr>\n",
       "      <th>156</th>\n",
       "      <td>Somalia</td>\n",
       "      <td>SOM</td>\n",
       "      <td>43.891</td>\n",
       "      <td>1.5000</td>\n",
       "      <td>Low income</td>\n",
       "    </tr>\n",
       "    <tr>\n",
       "      <th>117</th>\n",
       "      <td>Myanmar</td>\n",
       "      <td>MMR</td>\n",
       "      <td>18.119</td>\n",
       "      <td>1.6000</td>\n",
       "      <td>Lower middle income</td>\n",
       "    </tr>\n",
       "    <tr>\n",
       "      <th>...</th>\n",
       "      <td>...</td>\n",
       "      <td>...</td>\n",
       "      <td>...</td>\n",
       "      <td>...</td>\n",
       "      <td>...</td>\n",
       "    </tr>\n",
       "    <tr>\n",
       "      <th>47</th>\n",
       "      <td>Denmark</td>\n",
       "      <td>DNK</td>\n",
       "      <td>10.000</td>\n",
       "      <td>94.6297</td>\n",
       "      <td>High income</td>\n",
       "    </tr>\n",
       "    <tr>\n",
       "      <th>163</th>\n",
       "      <td>Sweden</td>\n",
       "      <td>SWE</td>\n",
       "      <td>11.800</td>\n",
       "      <td>94.7836</td>\n",
       "      <td>High income</td>\n",
       "    </tr>\n",
       "    <tr>\n",
       "      <th>131</th>\n",
       "      <td>Norway</td>\n",
       "      <td>NOR</td>\n",
       "      <td>11.600</td>\n",
       "      <td>95.0534</td>\n",
       "      <td>High income</td>\n",
       "    </tr>\n",
       "    <tr>\n",
       "      <th>22</th>\n",
       "      <td>Bermuda</td>\n",
       "      <td>BMU</td>\n",
       "      <td>10.400</td>\n",
       "      <td>95.3000</td>\n",
       "      <td>High income</td>\n",
       "    </tr>\n",
       "    <tr>\n",
       "      <th>84</th>\n",
       "      <td>Iceland</td>\n",
       "      <td>ISL</td>\n",
       "      <td>13.400</td>\n",
       "      <td>96.5468</td>\n",
       "      <td>High income</td>\n",
       "    </tr>\n",
       "  </tbody>\n",
       "</table>\n",
       "<p>195 rows × 5 columns</p>\n",
       "</div>"
      ],
      "text/plain": [
       "     CountryName CountryCode  BirthRate  InternetUsers          IncomeGroup\n",
       "52       Eritrea         ERI     34.800         0.9000           Low income\n",
       "172  Timor-Leste         TLS     35.755         1.1000  Lower middle income\n",
       "11       Burundi         BDI     44.151         1.3000           Low income\n",
       "156      Somalia         SOM     43.891         1.5000           Low income\n",
       "117      Myanmar         MMR     18.119         1.6000  Lower middle income\n",
       "..           ...         ...        ...            ...                  ...\n",
       "47       Denmark         DNK     10.000        94.6297          High income\n",
       "163       Sweden         SWE     11.800        94.7836          High income\n",
       "131       Norway         NOR     11.600        95.0534          High income\n",
       "22       Bermuda         BMU     10.400        95.3000          High income\n",
       "84       Iceland         ISL     13.400        96.5468          High income\n",
       "\n",
       "[195 rows x 5 columns]"
      ]
     },
     "execution_count": 354,
     "metadata": {},
     "output_type": "execute_result"
    }
   ],
   "source": [
    "df.sort_values('InternetUsers')"
   ]
  },
  {
   "cell_type": "code",
   "execution_count": 355,
   "id": "15899167-79df-4379-b6cc-c5b19002348d",
   "metadata": {},
   "outputs": [
    {
     "data": {
      "text/html": [
       "<div>\n",
       "<style scoped>\n",
       "    .dataframe tbody tr th:only-of-type {\n",
       "        vertical-align: middle;\n",
       "    }\n",
       "\n",
       "    .dataframe tbody tr th {\n",
       "        vertical-align: top;\n",
       "    }\n",
       "\n",
       "    .dataframe thead th {\n",
       "        text-align: right;\n",
       "    }\n",
       "</style>\n",
       "<table border=\"1\" class=\"dataframe\">\n",
       "  <thead>\n",
       "    <tr style=\"text-align: right;\">\n",
       "      <th></th>\n",
       "      <th>CountryName</th>\n",
       "      <th>CountryCode</th>\n",
       "      <th>BirthRate</th>\n",
       "      <th>InternetUsers</th>\n",
       "      <th>IncomeGroup</th>\n",
       "    </tr>\n",
       "  </thead>\n",
       "  <tbody>\n",
       "    <tr>\n",
       "      <th>84</th>\n",
       "      <td>Iceland</td>\n",
       "      <td>ISL</td>\n",
       "      <td>13.400</td>\n",
       "      <td>96.5468</td>\n",
       "      <td>High income</td>\n",
       "    </tr>\n",
       "    <tr>\n",
       "      <th>22</th>\n",
       "      <td>Bermuda</td>\n",
       "      <td>BMU</td>\n",
       "      <td>10.400</td>\n",
       "      <td>95.3000</td>\n",
       "      <td>High income</td>\n",
       "    </tr>\n",
       "    <tr>\n",
       "      <th>131</th>\n",
       "      <td>Norway</td>\n",
       "      <td>NOR</td>\n",
       "      <td>11.600</td>\n",
       "      <td>95.0534</td>\n",
       "      <td>High income</td>\n",
       "    </tr>\n",
       "    <tr>\n",
       "      <th>163</th>\n",
       "      <td>Sweden</td>\n",
       "      <td>SWE</td>\n",
       "      <td>11.800</td>\n",
       "      <td>94.7836</td>\n",
       "      <td>High income</td>\n",
       "    </tr>\n",
       "    <tr>\n",
       "      <th>47</th>\n",
       "      <td>Denmark</td>\n",
       "      <td>DNK</td>\n",
       "      <td>10.000</td>\n",
       "      <td>94.6297</td>\n",
       "      <td>High income</td>\n",
       "    </tr>\n",
       "    <tr>\n",
       "      <th>...</th>\n",
       "      <td>...</td>\n",
       "      <td>...</td>\n",
       "      <td>...</td>\n",
       "      <td>...</td>\n",
       "      <td>...</td>\n",
       "    </tr>\n",
       "    <tr>\n",
       "      <th>117</th>\n",
       "      <td>Myanmar</td>\n",
       "      <td>MMR</td>\n",
       "      <td>18.119</td>\n",
       "      <td>1.6000</td>\n",
       "      <td>Lower middle income</td>\n",
       "    </tr>\n",
       "    <tr>\n",
       "      <th>156</th>\n",
       "      <td>Somalia</td>\n",
       "      <td>SOM</td>\n",
       "      <td>43.891</td>\n",
       "      <td>1.5000</td>\n",
       "      <td>Low income</td>\n",
       "    </tr>\n",
       "    <tr>\n",
       "      <th>11</th>\n",
       "      <td>Burundi</td>\n",
       "      <td>BDI</td>\n",
       "      <td>44.151</td>\n",
       "      <td>1.3000</td>\n",
       "      <td>Low income</td>\n",
       "    </tr>\n",
       "    <tr>\n",
       "      <th>172</th>\n",
       "      <td>Timor-Leste</td>\n",
       "      <td>TLS</td>\n",
       "      <td>35.755</td>\n",
       "      <td>1.1000</td>\n",
       "      <td>Lower middle income</td>\n",
       "    </tr>\n",
       "    <tr>\n",
       "      <th>52</th>\n",
       "      <td>Eritrea</td>\n",
       "      <td>ERI</td>\n",
       "      <td>34.800</td>\n",
       "      <td>0.9000</td>\n",
       "      <td>Low income</td>\n",
       "    </tr>\n",
       "  </tbody>\n",
       "</table>\n",
       "<p>195 rows × 5 columns</p>\n",
       "</div>"
      ],
      "text/plain": [
       "     CountryName CountryCode  BirthRate  InternetUsers          IncomeGroup\n",
       "84       Iceland         ISL     13.400        96.5468          High income\n",
       "22       Bermuda         BMU     10.400        95.3000          High income\n",
       "131       Norway         NOR     11.600        95.0534          High income\n",
       "163       Sweden         SWE     11.800        94.7836          High income\n",
       "47       Denmark         DNK     10.000        94.6297          High income\n",
       "..           ...         ...        ...            ...                  ...\n",
       "117      Myanmar         MMR     18.119         1.6000  Lower middle income\n",
       "156      Somalia         SOM     43.891         1.5000           Low income\n",
       "11       Burundi         BDI     44.151         1.3000           Low income\n",
       "172  Timor-Leste         TLS     35.755         1.1000  Lower middle income\n",
       "52       Eritrea         ERI     34.800         0.9000           Low income\n",
       "\n",
       "[195 rows x 5 columns]"
      ]
     },
     "execution_count": 355,
     "metadata": {},
     "output_type": "execute_result"
    }
   ],
   "source": [
    "df.sort_values('InternetUsers', ascending = False)"
   ]
  },
  {
   "cell_type": "markdown",
   "id": "757bb077-a86b-4614-8d74-7d8193b70206",
   "metadata": {},
   "source": [
    "GROUPING IN PANDAS"
   ]
  },
  {
   "cell_type": "code",
   "execution_count": 356,
   "id": "d956edff-b853-4988-82ec-d3e66e10beaf",
   "metadata": {},
   "outputs": [
    {
     "data": {
      "text/plain": [
       "CountryName\n",
       "Afghanistan              35.253\n",
       "Albania                  12.877\n",
       "Algeria                  24.738\n",
       "Angola                   45.985\n",
       "Antigua and Barbuda      16.447\n",
       "                          ...  \n",
       "Virgin Islands (U.S.)    10.700\n",
       "West Bank and Gaza       30.394\n",
       "Yemen, Rep.              32.947\n",
       "Zambia                   40.471\n",
       "Zimbabwe                 35.715\n",
       "Name: BirthRate, Length: 195, dtype: float64"
      ]
     },
     "execution_count": 356,
     "metadata": {},
     "output_type": "execute_result"
    }
   ],
   "source": [
    "df.groupby('CountryName')['BirthRate'].mean()"
   ]
  },
  {
   "cell_type": "markdown",
   "id": "be7d09f5-9a55-4a86-b28b-b66090e32363",
   "metadata": {},
   "source": [
    "HANDLING MISSING DATA PANDAS"
   ]
  },
  {
   "cell_type": "code",
   "execution_count": 357,
   "id": "5a0bb36d-e52c-4eba-87a7-835bbc56a56b",
   "metadata": {},
   "outputs": [
    {
     "data": {
      "text/html": [
       "<div>\n",
       "<style scoped>\n",
       "    .dataframe tbody tr th:only-of-type {\n",
       "        vertical-align: middle;\n",
       "    }\n",
       "\n",
       "    .dataframe tbody tr th {\n",
       "        vertical-align: top;\n",
       "    }\n",
       "\n",
       "    .dataframe thead th {\n",
       "        text-align: right;\n",
       "    }\n",
       "</style>\n",
       "<table border=\"1\" class=\"dataframe\">\n",
       "  <thead>\n",
       "    <tr style=\"text-align: right;\">\n",
       "      <th></th>\n",
       "      <th>CountryName</th>\n",
       "      <th>CountryCode</th>\n",
       "      <th>BirthRate</th>\n",
       "      <th>InternetUsers</th>\n",
       "      <th>IncomeGroup</th>\n",
       "    </tr>\n",
       "  </thead>\n",
       "  <tbody>\n",
       "    <tr>\n",
       "      <th>0</th>\n",
       "      <td>False</td>\n",
       "      <td>False</td>\n",
       "      <td>False</td>\n",
       "      <td>False</td>\n",
       "      <td>False</td>\n",
       "    </tr>\n",
       "    <tr>\n",
       "      <th>1</th>\n",
       "      <td>False</td>\n",
       "      <td>False</td>\n",
       "      <td>False</td>\n",
       "      <td>False</td>\n",
       "      <td>False</td>\n",
       "    </tr>\n",
       "    <tr>\n",
       "      <th>2</th>\n",
       "      <td>False</td>\n",
       "      <td>False</td>\n",
       "      <td>False</td>\n",
       "      <td>False</td>\n",
       "      <td>False</td>\n",
       "    </tr>\n",
       "    <tr>\n",
       "      <th>3</th>\n",
       "      <td>False</td>\n",
       "      <td>False</td>\n",
       "      <td>False</td>\n",
       "      <td>False</td>\n",
       "      <td>False</td>\n",
       "    </tr>\n",
       "    <tr>\n",
       "      <th>4</th>\n",
       "      <td>False</td>\n",
       "      <td>False</td>\n",
       "      <td>False</td>\n",
       "      <td>False</td>\n",
       "      <td>False</td>\n",
       "    </tr>\n",
       "    <tr>\n",
       "      <th>...</th>\n",
       "      <td>...</td>\n",
       "      <td>...</td>\n",
       "      <td>...</td>\n",
       "      <td>...</td>\n",
       "      <td>...</td>\n",
       "    </tr>\n",
       "    <tr>\n",
       "      <th>190</th>\n",
       "      <td>False</td>\n",
       "      <td>False</td>\n",
       "      <td>False</td>\n",
       "      <td>False</td>\n",
       "      <td>False</td>\n",
       "    </tr>\n",
       "    <tr>\n",
       "      <th>191</th>\n",
       "      <td>False</td>\n",
       "      <td>False</td>\n",
       "      <td>False</td>\n",
       "      <td>False</td>\n",
       "      <td>False</td>\n",
       "    </tr>\n",
       "    <tr>\n",
       "      <th>192</th>\n",
       "      <td>False</td>\n",
       "      <td>False</td>\n",
       "      <td>False</td>\n",
       "      <td>False</td>\n",
       "      <td>False</td>\n",
       "    </tr>\n",
       "    <tr>\n",
       "      <th>193</th>\n",
       "      <td>False</td>\n",
       "      <td>False</td>\n",
       "      <td>False</td>\n",
       "      <td>False</td>\n",
       "      <td>False</td>\n",
       "    </tr>\n",
       "    <tr>\n",
       "      <th>194</th>\n",
       "      <td>False</td>\n",
       "      <td>False</td>\n",
       "      <td>False</td>\n",
       "      <td>False</td>\n",
       "      <td>False</td>\n",
       "    </tr>\n",
       "  </tbody>\n",
       "</table>\n",
       "<p>195 rows × 5 columns</p>\n",
       "</div>"
      ],
      "text/plain": [
       "     CountryName  CountryCode  BirthRate  InternetUsers  IncomeGroup\n",
       "0          False        False      False          False        False\n",
       "1          False        False      False          False        False\n",
       "2          False        False      False          False        False\n",
       "3          False        False      False          False        False\n",
       "4          False        False      False          False        False\n",
       "..           ...          ...        ...            ...          ...\n",
       "190        False        False      False          False        False\n",
       "191        False        False      False          False        False\n",
       "192        False        False      False          False        False\n",
       "193        False        False      False          False        False\n",
       "194        False        False      False          False        False\n",
       "\n",
       "[195 rows x 5 columns]"
      ]
     },
     "execution_count": 357,
     "metadata": {},
     "output_type": "execute_result"
    }
   ],
   "source": [
    "df.isnull()"
   ]
  },
  {
   "cell_type": "code",
   "execution_count": 358,
   "id": "1aeea2f8-e049-482d-8cd1-2c3130c6e427",
   "metadata": {},
   "outputs": [
    {
     "data": {
      "text/plain": [
       "CountryName      0\n",
       "CountryCode      0\n",
       "BirthRate        0\n",
       "InternetUsers    0\n",
       "IncomeGroup      0\n",
       "dtype: int64"
      ]
     },
     "execution_count": 358,
     "metadata": {},
     "output_type": "execute_result"
    }
   ],
   "source": [
    "df.isnull().sum()"
   ]
  },
  {
   "cell_type": "code",
   "execution_count": 359,
   "id": "a891101e-9029-46bc-a551-87346fc9448e",
   "metadata": {},
   "outputs": [],
   "source": [
    "df.fillna(0,inplace=True)"
   ]
  },
  {
   "cell_type": "code",
   "execution_count": 360,
   "id": "a74d84c3-3e69-4e33-b2d4-007f4866fe9b",
   "metadata": {},
   "outputs": [
    {
     "data": {
      "text/html": [
       "<div>\n",
       "<style scoped>\n",
       "    .dataframe tbody tr th:only-of-type {\n",
       "        vertical-align: middle;\n",
       "    }\n",
       "\n",
       "    .dataframe tbody tr th {\n",
       "        vertical-align: top;\n",
       "    }\n",
       "\n",
       "    .dataframe thead th {\n",
       "        text-align: right;\n",
       "    }\n",
       "</style>\n",
       "<table border=\"1\" class=\"dataframe\">\n",
       "  <thead>\n",
       "    <tr style=\"text-align: right;\">\n",
       "      <th></th>\n",
       "      <th>CountryName</th>\n",
       "      <th>CountryCode</th>\n",
       "      <th>BirthRate</th>\n",
       "      <th>InternetUsers</th>\n",
       "      <th>IncomeGroup</th>\n",
       "    </tr>\n",
       "  </thead>\n",
       "  <tbody>\n",
       "    <tr>\n",
       "      <th>0</th>\n",
       "      <td>Aruba</td>\n",
       "      <td>ABW</td>\n",
       "      <td>10.244</td>\n",
       "      <td>30.0</td>\n",
       "      <td>High income</td>\n",
       "    </tr>\n",
       "    <tr>\n",
       "      <th>1</th>\n",
       "      <td>Afghanistan</td>\n",
       "      <td>AFG</td>\n",
       "      <td>35.253</td>\n",
       "      <td>5.9</td>\n",
       "      <td>Low income</td>\n",
       "    </tr>\n",
       "    <tr>\n",
       "      <th>2</th>\n",
       "      <td>Angola</td>\n",
       "      <td>AGO</td>\n",
       "      <td>45.985</td>\n",
       "      <td>19.1</td>\n",
       "      <td>Upper middle income</td>\n",
       "    </tr>\n",
       "    <tr>\n",
       "      <th>3</th>\n",
       "      <td>Albania</td>\n",
       "      <td>ALB</td>\n",
       "      <td>12.877</td>\n",
       "      <td>57.2</td>\n",
       "      <td>Upper middle income</td>\n",
       "    </tr>\n",
       "    <tr>\n",
       "      <th>4</th>\n",
       "      <td>United Arab Emirates</td>\n",
       "      <td>ARE</td>\n",
       "      <td>11.044</td>\n",
       "      <td>88.0</td>\n",
       "      <td>High income</td>\n",
       "    </tr>\n",
       "    <tr>\n",
       "      <th>...</th>\n",
       "      <td>...</td>\n",
       "      <td>...</td>\n",
       "      <td>...</td>\n",
       "      <td>...</td>\n",
       "      <td>...</td>\n",
       "    </tr>\n",
       "    <tr>\n",
       "      <th>190</th>\n",
       "      <td>Yemen, Rep.</td>\n",
       "      <td>YEM</td>\n",
       "      <td>32.947</td>\n",
       "      <td>20.0</td>\n",
       "      <td>Lower middle income</td>\n",
       "    </tr>\n",
       "    <tr>\n",
       "      <th>191</th>\n",
       "      <td>South Africa</td>\n",
       "      <td>ZAF</td>\n",
       "      <td>20.850</td>\n",
       "      <td>46.5</td>\n",
       "      <td>Upper middle income</td>\n",
       "    </tr>\n",
       "    <tr>\n",
       "      <th>192</th>\n",
       "      <td>Congo, Dem. Rep.</td>\n",
       "      <td>COD</td>\n",
       "      <td>42.394</td>\n",
       "      <td>2.2</td>\n",
       "      <td>Low income</td>\n",
       "    </tr>\n",
       "    <tr>\n",
       "      <th>193</th>\n",
       "      <td>Zambia</td>\n",
       "      <td>ZMB</td>\n",
       "      <td>40.471</td>\n",
       "      <td>15.4</td>\n",
       "      <td>Lower middle income</td>\n",
       "    </tr>\n",
       "    <tr>\n",
       "      <th>194</th>\n",
       "      <td>Zimbabwe</td>\n",
       "      <td>ZWE</td>\n",
       "      <td>35.715</td>\n",
       "      <td>18.5</td>\n",
       "      <td>Low income</td>\n",
       "    </tr>\n",
       "  </tbody>\n",
       "</table>\n",
       "<p>195 rows × 5 columns</p>\n",
       "</div>"
      ],
      "text/plain": [
       "              CountryName CountryCode  BirthRate  InternetUsers  \\\n",
       "0                   Aruba         ABW     10.244           30.0   \n",
       "1             Afghanistan         AFG     35.253            5.9   \n",
       "2                  Angola         AGO     45.985           19.1   \n",
       "3                 Albania         ALB     12.877           57.2   \n",
       "4    United Arab Emirates         ARE     11.044           88.0   \n",
       "..                    ...         ...        ...            ...   \n",
       "190           Yemen, Rep.         YEM     32.947           20.0   \n",
       "191          South Africa         ZAF     20.850           46.5   \n",
       "192      Congo, Dem. Rep.         COD     42.394            2.2   \n",
       "193                Zambia         ZMB     40.471           15.4   \n",
       "194              Zimbabwe         ZWE     35.715           18.5   \n",
       "\n",
       "             IncomeGroup  \n",
       "0            High income  \n",
       "1             Low income  \n",
       "2    Upper middle income  \n",
       "3    Upper middle income  \n",
       "4            High income  \n",
       "..                   ...  \n",
       "190  Lower middle income  \n",
       "191  Upper middle income  \n",
       "192           Low income  \n",
       "193  Lower middle income  \n",
       "194           Low income  \n",
       "\n",
       "[195 rows x 5 columns]"
      ]
     },
     "execution_count": 360,
     "metadata": {},
     "output_type": "execute_result"
    }
   ],
   "source": [
    "df"
   ]
  },
  {
   "cell_type": "code",
   "execution_count": 361,
   "id": "645c9c6d-13d2-4bb5-899c-8ebf89aa563f",
   "metadata": {},
   "outputs": [],
   "source": [
    "df.dropna(inplace=True)"
   ]
  },
  {
   "cell_type": "code",
   "execution_count": 362,
   "id": "679538fc-33fe-48f1-9919-c852b41b1e75",
   "metadata": {},
   "outputs": [
    {
     "data": {
      "text/html": [
       "<div>\n",
       "<style scoped>\n",
       "    .dataframe tbody tr th:only-of-type {\n",
       "        vertical-align: middle;\n",
       "    }\n",
       "\n",
       "    .dataframe tbody tr th {\n",
       "        vertical-align: top;\n",
       "    }\n",
       "\n",
       "    .dataframe thead th {\n",
       "        text-align: right;\n",
       "    }\n",
       "</style>\n",
       "<table border=\"1\" class=\"dataframe\">\n",
       "  <thead>\n",
       "    <tr style=\"text-align: right;\">\n",
       "      <th></th>\n",
       "      <th>CountryName</th>\n",
       "      <th>CountryCode</th>\n",
       "      <th>BirthRate</th>\n",
       "      <th>InternetUsers</th>\n",
       "      <th>IncomeGroup</th>\n",
       "    </tr>\n",
       "  </thead>\n",
       "  <tbody>\n",
       "    <tr>\n",
       "      <th>0</th>\n",
       "      <td>Aruba</td>\n",
       "      <td>ABW</td>\n",
       "      <td>10.244</td>\n",
       "      <td>30.0</td>\n",
       "      <td>High income</td>\n",
       "    </tr>\n",
       "    <tr>\n",
       "      <th>1</th>\n",
       "      <td>Afghanistan</td>\n",
       "      <td>AFG</td>\n",
       "      <td>35.253</td>\n",
       "      <td>5.9</td>\n",
       "      <td>Low income</td>\n",
       "    </tr>\n",
       "    <tr>\n",
       "      <th>2</th>\n",
       "      <td>Angola</td>\n",
       "      <td>AGO</td>\n",
       "      <td>45.985</td>\n",
       "      <td>19.1</td>\n",
       "      <td>Upper middle income</td>\n",
       "    </tr>\n",
       "    <tr>\n",
       "      <th>3</th>\n",
       "      <td>Albania</td>\n",
       "      <td>ALB</td>\n",
       "      <td>12.877</td>\n",
       "      <td>57.2</td>\n",
       "      <td>Upper middle income</td>\n",
       "    </tr>\n",
       "    <tr>\n",
       "      <th>4</th>\n",
       "      <td>United Arab Emirates</td>\n",
       "      <td>ARE</td>\n",
       "      <td>11.044</td>\n",
       "      <td>88.0</td>\n",
       "      <td>High income</td>\n",
       "    </tr>\n",
       "    <tr>\n",
       "      <th>...</th>\n",
       "      <td>...</td>\n",
       "      <td>...</td>\n",
       "      <td>...</td>\n",
       "      <td>...</td>\n",
       "      <td>...</td>\n",
       "    </tr>\n",
       "    <tr>\n",
       "      <th>190</th>\n",
       "      <td>Yemen, Rep.</td>\n",
       "      <td>YEM</td>\n",
       "      <td>32.947</td>\n",
       "      <td>20.0</td>\n",
       "      <td>Lower middle income</td>\n",
       "    </tr>\n",
       "    <tr>\n",
       "      <th>191</th>\n",
       "      <td>South Africa</td>\n",
       "      <td>ZAF</td>\n",
       "      <td>20.850</td>\n",
       "      <td>46.5</td>\n",
       "      <td>Upper middle income</td>\n",
       "    </tr>\n",
       "    <tr>\n",
       "      <th>192</th>\n",
       "      <td>Congo, Dem. Rep.</td>\n",
       "      <td>COD</td>\n",
       "      <td>42.394</td>\n",
       "      <td>2.2</td>\n",
       "      <td>Low income</td>\n",
       "    </tr>\n",
       "    <tr>\n",
       "      <th>193</th>\n",
       "      <td>Zambia</td>\n",
       "      <td>ZMB</td>\n",
       "      <td>40.471</td>\n",
       "      <td>15.4</td>\n",
       "      <td>Lower middle income</td>\n",
       "    </tr>\n",
       "    <tr>\n",
       "      <th>194</th>\n",
       "      <td>Zimbabwe</td>\n",
       "      <td>ZWE</td>\n",
       "      <td>35.715</td>\n",
       "      <td>18.5</td>\n",
       "      <td>Low income</td>\n",
       "    </tr>\n",
       "  </tbody>\n",
       "</table>\n",
       "<p>195 rows × 5 columns</p>\n",
       "</div>"
      ],
      "text/plain": [
       "              CountryName CountryCode  BirthRate  InternetUsers  \\\n",
       "0                   Aruba         ABW     10.244           30.0   \n",
       "1             Afghanistan         AFG     35.253            5.9   \n",
       "2                  Angola         AGO     45.985           19.1   \n",
       "3                 Albania         ALB     12.877           57.2   \n",
       "4    United Arab Emirates         ARE     11.044           88.0   \n",
       "..                    ...         ...        ...            ...   \n",
       "190           Yemen, Rep.         YEM     32.947           20.0   \n",
       "191          South Africa         ZAF     20.850           46.5   \n",
       "192      Congo, Dem. Rep.         COD     42.394            2.2   \n",
       "193                Zambia         ZMB     40.471           15.4   \n",
       "194              Zimbabwe         ZWE     35.715           18.5   \n",
       "\n",
       "             IncomeGroup  \n",
       "0            High income  \n",
       "1             Low income  \n",
       "2    Upper middle income  \n",
       "3    Upper middle income  \n",
       "4            High income  \n",
       "..                   ...  \n",
       "190  Lower middle income  \n",
       "191  Upper middle income  \n",
       "192           Low income  \n",
       "193  Lower middle income  \n",
       "194           Low income  \n",
       "\n",
       "[195 rows x 5 columns]"
      ]
     },
     "execution_count": 362,
     "metadata": {},
     "output_type": "execute_result"
    }
   ],
   "source": [
    "df"
   ]
  },
  {
   "cell_type": "markdown",
   "id": "29e0da3e-36de-4b49-a77d-f59630321d1c",
   "metadata": {},
   "source": [
    "USEFUL ATTRIBUTES IN PANDAS"
   ]
  },
  {
   "cell_type": "code",
   "execution_count": 363,
   "id": "dd2a4cd5-b7eb-4908-815e-60126945e25a",
   "metadata": {},
   "outputs": [
    {
     "data": {
      "text/plain": [
       "(195, 5)"
      ]
     },
     "execution_count": 363,
     "metadata": {},
     "output_type": "execute_result"
    }
   ],
   "source": [
    "df.shape"
   ]
  },
  {
   "cell_type": "code",
   "execution_count": 364,
   "id": "b58a24b5-2592-4a70-b185-daa4e26d0438",
   "metadata": {},
   "outputs": [
    {
     "data": {
      "text/plain": [
       "Index(['CountryName', 'CountryCode', 'BirthRate', 'InternetUsers',\n",
       "       'IncomeGroup'],\n",
       "      dtype='object')"
      ]
     },
     "execution_count": 364,
     "metadata": {},
     "output_type": "execute_result"
    }
   ],
   "source": [
    "df.columns"
   ]
  },
  {
   "cell_type": "code",
   "execution_count": 365,
   "id": "52bfc6e3-0ffa-48ca-b8b8-125f3a5d5469",
   "metadata": {},
   "outputs": [
    {
     "data": {
      "text/plain": [
       "RangeIndex(start=0, stop=195, step=1)"
      ]
     },
     "execution_count": 365,
     "metadata": {},
     "output_type": "execute_result"
    }
   ],
   "source": [
    "df.index"
   ]
  },
  {
   "cell_type": "code",
   "execution_count": 366,
   "id": "6886faa1-3917-4911-b84f-b9d46180d312",
   "metadata": {},
   "outputs": [
    {
     "data": {
      "text/plain": [
       "array([['Aruba', 'ABW', 10.244, 30.0, 'High income'],\n",
       "       ['Afghanistan', 'AFG', 35.253, 5.9, 'Low income'],\n",
       "       ['Angola', 'AGO', 45.985, 19.1, 'Upper middle income'],\n",
       "       ['Albania', 'ALB', 12.877, 57.2, 'Upper middle income'],\n",
       "       ['United Arab Emirates', 'ARE', 11.044, 88.0, 'High income'],\n",
       "       ['Argentina', 'ARG', 17.716, 59.9, 'High income'],\n",
       "       ['Armenia', 'ARM', 13.308, 41.9, 'Lower middle income'],\n",
       "       ['Antigua and Barbuda', 'ATG', 16.447, 63.4, 'High income'],\n",
       "       ['Australia', 'AUS', 13.2, 83.0, 'High income'],\n",
       "       ['Austria', 'AUT', 9.4, 80.6188, 'High income'],\n",
       "       ['Azerbaijan', 'AZE', 18.3, 58.7, 'Upper middle income'],\n",
       "       ['Burundi', 'BDI', 44.151, 1.3, 'Low income'],\n",
       "       ['Belgium', 'BEL', 11.2, 82.1702, 'High income'],\n",
       "       ['Benin', 'BEN', 36.44, 4.9, 'Low income'],\n",
       "       ['Burkina Faso', 'BFA', 40.551, 9.1, 'Low income'],\n",
       "       ['Bangladesh', 'BGD', 20.142, 6.63, 'Lower middle income'],\n",
       "       ['Bulgaria', 'BGR', 9.2, 53.0615, 'Upper middle income'],\n",
       "       ['Bahrain', 'BHR', 15.04, 90.0000397, 'High income'],\n",
       "       ['Bahamas, The', 'BHS', 15.339, 72.0, 'High income'],\n",
       "       ['Bosnia and Herzegovina', 'BIH', 9.062, 57.79,\n",
       "        'Upper middle income'],\n",
       "       ['Belarus', 'BLR', 12.5, 54.17, 'Upper middle income'],\n",
       "       ['Belize', 'BLZ', 23.092, 33.6, 'Upper middle income'],\n",
       "       ['Bermuda', 'BMU', 10.4, 95.3, 'High income'],\n",
       "       ['Bolivia', 'BOL', 24.236, 36.94, 'Lower middle income'],\n",
       "       ['Brazil', 'BRA', 14.931, 51.04, 'Upper middle income'],\n",
       "       ['Barbados', 'BRB', 12.188, 73.0, 'High income'],\n",
       "       ['Brunei Darussalam', 'BRN', 16.405, 64.5, 'High income'],\n",
       "       ['Bhutan', 'BTN', 18.134, 29.9, 'Lower middle income'],\n",
       "       ['Botswana', 'BWA', 25.267, 15.0, 'Upper middle income'],\n",
       "       ['Central African Republic', 'CAF', 34.076, 3.5, 'Low income'],\n",
       "       ['Canada', 'CAN', 10.9, 85.8, 'High income'],\n",
       "       ['Switzerland', 'CHE', 10.2, 86.34, 'High income'],\n",
       "       ['Chile', 'CHL', 13.385, 66.5, 'High income'],\n",
       "       ['China', 'CHN', 12.1, 45.8, 'Upper middle income'],\n",
       "       [\"Cote d'Ivoire\", 'CIV', 37.32, 8.4, 'Lower middle income'],\n",
       "       ['Cameroon', 'CMR', 37.236, 6.4, 'Lower middle income'],\n",
       "       ['Congo, Rep.', 'COG', 37.011, 6.6, 'Lower middle income'],\n",
       "       ['Colombia', 'COL', 16.076, 51.7, 'Upper middle income'],\n",
       "       ['Comoros', 'COM', 34.326, 6.5, 'Low income'],\n",
       "       ['Cabo Verde', 'CPV', 21.625, 37.5, 'Lower middle income'],\n",
       "       ['Costa Rica', 'CRI', 15.022, 45.96, 'Upper middle income'],\n",
       "       ['Cuba', 'CUB', 10.4, 27.93, 'Upper middle income'],\n",
       "       ['Cayman Islands', 'CYM', 12.5, 74.1, 'High income'],\n",
       "       ['Cyprus', 'CYP', 11.436, 65.4548, 'High income'],\n",
       "       ['Czech Republic', 'CZE', 10.2, 74.1104, 'High income'],\n",
       "       ['Germany', 'DEU', 8.5, 84.17, 'High income'],\n",
       "       ['Djibouti', 'DJI', 25.486, 9.5, 'Lower middle income'],\n",
       "       ['Denmark', 'DNK', 10.0, 94.6297, 'High income'],\n",
       "       ['Dominican Republic', 'DOM', 21.198, 45.9, 'Upper middle income'],\n",
       "       ['Algeria', 'DZA', 24.738, 16.5, 'Upper middle income'],\n",
       "       ['Ecuador', 'ECU', 21.07, 40.35368423, 'Upper middle income'],\n",
       "       ['Egypt, Arab Rep.', 'EGY', 28.032, 29.4, 'Lower middle income'],\n",
       "       ['Eritrea', 'ERI', 34.8, 0.9, 'Low income'],\n",
       "       ['Spain', 'ESP', 9.1, 71.635, 'High income'],\n",
       "       ['Estonia', 'EST', 10.3, 79.4, 'High income'],\n",
       "       ['Ethiopia', 'ETH', 32.925, 1.9, 'Low income'],\n",
       "       ['Finland', 'FIN', 10.7, 91.5144, 'High income'],\n",
       "       ['Fiji', 'FJI', 20.463, 37.1, 'Upper middle income'],\n",
       "       ['France', 'FRA', 12.3, 81.9198, 'High income'],\n",
       "       ['Micronesia, Fed. Sts.', 'FSM', 23.511, 27.8,\n",
       "        'Lower middle income'],\n",
       "       ['Gabon', 'GAB', 30.555, 9.2, 'Upper middle income'],\n",
       "       ['United Kingdom', 'GBR', 12.2, 89.8441, 'High income'],\n",
       "       ['Georgia', 'GEO', 13.332, 43.3, 'Lower middle income'],\n",
       "       ['Ghana', 'GHA', 33.131, 12.3, 'Lower middle income'],\n",
       "       ['Guinea', 'GIN', 37.337, 1.6, 'Low income'],\n",
       "       ['Gambia, The', 'GMB', 42.525, 14.0, 'Low income'],\n",
       "       ['Guinea-Bissau', 'GNB', 37.503, 3.1, 'Low income'],\n",
       "       ['Equatorial Guinea', 'GNQ', 35.362, 16.4, 'High income'],\n",
       "       ['Greece', 'GRC', 8.5, 59.8663, 'High income'],\n",
       "       ['Grenada', 'GRD', 19.334, 35.0, 'Upper middle income'],\n",
       "       ['Greenland', 'GRL', 14.5, 65.8, 'High income'],\n",
       "       ['Guatemala', 'GTM', 27.465, 19.7, 'Lower middle income'],\n",
       "       ['Guam', 'GUM', 17.389, 65.4, 'High income'],\n",
       "       ['Guyana', 'GUY', 18.885, 35.0, 'Lower middle income'],\n",
       "       ['Hong Kong SAR, China', 'HKG', 7.9, 74.2, 'High income'],\n",
       "       ['Honduras', 'HND', 21.593, 17.8, 'Lower middle income'],\n",
       "       ['Croatia', 'HRV', 9.4, 66.7476, 'High income'],\n",
       "       ['Haiti', 'HTI', 25.345, 10.6, 'Low income'],\n",
       "       ['Hungary', 'HUN', 9.2, 72.6439, 'High income'],\n",
       "       ['Indonesia', 'IDN', 20.297, 14.94, 'Lower middle income'],\n",
       "       ['India', 'IND', 20.291, 15.1, 'Lower middle income'],\n",
       "       ['Ireland', 'IRL', 15.0, 78.2477, 'High income'],\n",
       "       ['Iran, Islamic Rep.', 'IRN', 17.9, 29.95, 'Upper middle income'],\n",
       "       ['Iraq', 'IRQ', 31.093, 9.2, 'Upper middle income'],\n",
       "       ['Iceland', 'ISL', 13.4, 96.5468, 'High income'],\n",
       "       ['Israel', 'ISR', 21.3, 70.8, 'High income'],\n",
       "       ['Italy', 'ITA', 8.5, 58.4593, 'High income'],\n",
       "       ['Jamaica', 'JAM', 13.54, 37.1, 'Upper middle income'],\n",
       "       ['Jordan', 'JOR', 27.046, 41.0, 'Upper middle income'],\n",
       "       ['Japan', 'JPN', 8.2, 89.71, 'High income'],\n",
       "       ['Kazakhstan', 'KAZ', 22.73, 54.0, 'Upper middle income'],\n",
       "       ['Kenya', 'KEN', 35.194, 39.0, 'Lower middle income'],\n",
       "       ['Kyrgyz Republic', 'KGZ', 27.2, 23.0, 'Lower middle income'],\n",
       "       ['Cambodia', 'KHM', 24.462, 6.8, 'Low income'],\n",
       "       ['Kiribati', 'KIR', 29.044, 11.5, 'Lower middle income'],\n",
       "       ['Korea, Rep.', 'KOR', 8.6, 84.77, 'High income'],\n",
       "       ['Kuwait', 'KWT', 20.575, 75.46, 'High income'],\n",
       "       ['Lao PDR', 'LAO', 27.051, 12.5, 'Lower middle income'],\n",
       "       ['Lebanon', 'LBN', 13.426, 70.5, 'Upper middle income'],\n",
       "       ['Liberia', 'LBR', 35.521, 3.2, 'Low income'],\n",
       "       ['Libya', 'LBY', 21.425, 16.5, 'Upper middle income'],\n",
       "       ['St. Lucia', 'LCA', 15.43, 46.2, 'Upper middle income'],\n",
       "       ['Liechtenstein', 'LIE', 9.2, 93.8, 'High income'],\n",
       "       ['Sri Lanka', 'LKA', 17.863, 21.9, 'Lower middle income'],\n",
       "       ['Lesotho', 'LSO', 28.738, 5.0, 'Lower middle income'],\n",
       "       ['Lithuania', 'LTU', 10.1, 68.4529, 'High income'],\n",
       "       ['Luxembourg', 'LUX', 11.3, 93.7765, 'High income'],\n",
       "       ['Latvia', 'LVA', 10.2, 75.2344, 'High income'],\n",
       "       ['Macao SAR, China', 'MAC', 11.256, 65.8, 'High income'],\n",
       "       ['Morocco', 'MAR', 21.023, 56.0, 'Lower middle income'],\n",
       "       ['Moldova', 'MDA', 12.141, 45.0, 'Lower middle income'],\n",
       "       ['Madagascar', 'MDG', 34.686, 3.0, 'Low income'],\n",
       "       ['Maldives', 'MDV', 21.447, 44.1, 'Upper middle income'],\n",
       "       ['Mexico', 'MEX', 19.104, 43.46, 'Upper middle income'],\n",
       "       ['Macedonia, FYR', 'MKD', 11.222, 65.24, 'Upper middle income'],\n",
       "       ['Mali', 'MLI', 44.138, 3.5, 'Low income'],\n",
       "       ['Malta', 'MLT', 9.5, 68.9138, 'High income'],\n",
       "       ['Myanmar', 'MMR', 18.119, 1.6, 'Lower middle income'],\n",
       "       ['Montenegro', 'MNE', 11.616, 60.31, 'Upper middle income'],\n",
       "       ['Mongolia', 'MNG', 24.275, 20.0, 'Upper middle income'],\n",
       "       ['Mozambique', 'MOZ', 39.705, 5.4, 'Low income'],\n",
       "       ['Mauritania', 'MRT', 33.801, 6.2, 'Lower middle income'],\n",
       "       ['Mauritius', 'MUS', 10.9, 39.0, 'Upper middle income'],\n",
       "       ['Malawi', 'MWI', 39.459, 5.05, 'Low income'],\n",
       "       ['Malaysia', 'MYS', 16.805, 66.97, 'Upper middle income'],\n",
       "       ['Namibia', 'NAM', 29.937, 13.9, 'Upper middle income'],\n",
       "       ['New Caledonia', 'NCL', 17.0, 66.0, 'High income'],\n",
       "       ['Niger', 'NER', 49.661, 1.7, 'Low income'],\n",
       "       ['Nigeria', 'NGA', 40.045, 38.0, 'Lower middle income'],\n",
       "       ['Nicaragua', 'NIC', 20.788, 15.5, 'Lower middle income'],\n",
       "       ['Netherlands', 'NLD', 10.2, 93.9564, 'High income'],\n",
       "       ['Norway', 'NOR', 11.6, 95.0534, 'High income'],\n",
       "       ['Nepal', 'NPL', 20.923, 13.3, 'Low income'],\n",
       "       ['New Zealand', 'NZL', 13.12, 82.78, 'High income'],\n",
       "       ['Oman', 'OMN', 20.419, 66.45, 'High income'],\n",
       "       ['Pakistan', 'PAK', 29.582, 10.9, 'Lower middle income'],\n",
       "       ['Panama', 'PAN', 19.68, 44.03, 'Upper middle income'],\n",
       "       ['Peru', 'PER', 20.198, 39.2, 'Upper middle income'],\n",
       "       ['Philippines', 'PHL', 23.79, 37.0, 'Lower middle income'],\n",
       "       ['Papua New Guinea', 'PNG', 28.899, 6.5, 'Lower middle income'],\n",
       "       ['Poland', 'POL', 9.6, 62.8492, 'High income'],\n",
       "       ['Puerto Rico', 'PRI', 10.8, 73.9, 'High income'],\n",
       "       ['Portugal', 'PRT', 7.9, 62.0956, 'High income'],\n",
       "       ['Paraguay', 'PRY', 21.588, 36.9, 'Upper middle income'],\n",
       "       ['French Polynesia', 'PYF', 16.393, 56.8, 'High income'],\n",
       "       ['Qatar', 'QAT', 11.94, 85.3, 'High income'],\n",
       "       ['Romania', 'ROU', 8.8, 49.7645, 'Upper middle income'],\n",
       "       ['Russian Federation', 'RUS', 13.2, 67.97, 'High income'],\n",
       "       ['Rwanda', 'RWA', 32.689, 9.0, 'Low income'],\n",
       "       ['Saudi Arabia', 'SAU', 20.576, 60.5, 'High income'],\n",
       "       ['Sudan', 'SDN', 33.477, 22.7, 'Lower middle income'],\n",
       "       ['Senegal', 'SEN', 38.533, 13.1, 'Lower middle income'],\n",
       "       ['Singapore', 'SGP', 9.3, 81.0, 'High income'],\n",
       "       ['Solomon Islands', 'SLB', 30.578, 8.0, 'Lower middle income'],\n",
       "       ['Sierra Leone', 'SLE', 36.729, 1.7, 'Low income'],\n",
       "       ['El Salvador', 'SLV', 17.476, 23.1093, 'Lower middle income'],\n",
       "       ['Somalia', 'SOM', 43.891, 1.5, 'Low income'],\n",
       "       ['Serbia', 'SRB', 9.2, 51.5, 'Upper middle income'],\n",
       "       ['South Sudan', 'SSD', 37.126, 14.1, 'Low income'],\n",
       "       ['Sao Tome and Principe', 'STP', 34.537, 23.0,\n",
       "        'Lower middle income'],\n",
       "       ['Suriname', 'SUR', 18.455, 37.4, 'Upper middle income'],\n",
       "       ['Slovak Republic', 'SVK', 10.1, 77.8826, 'High income'],\n",
       "       ['Slovenia', 'SVN', 10.2, 72.6756, 'High income'],\n",
       "       ['Sweden', 'SWE', 11.8, 94.7836, 'High income'],\n",
       "       ['Swaziland', 'SWZ', 30.093, 24.7, 'Lower middle income'],\n",
       "       ['Seychelles', 'SYC', 18.6, 50.4, 'High income'],\n",
       "       ['Syrian Arab Republic', 'SYR', 24.043, 26.2,\n",
       "        'Lower middle income'],\n",
       "       ['Chad', 'TCD', 45.745, 2.3, 'Low income'],\n",
       "       ['Togo', 'TGO', 36.08, 4.5, 'Low income'],\n",
       "       ['Thailand', 'THA', 11.041, 28.94, 'Upper middle income'],\n",
       "       ['Tajikistan', 'TJK', 30.792, 16.0, 'Lower middle income'],\n",
       "       ['Turkmenistan', 'TKM', 21.322, 9.6, 'Upper middle income'],\n",
       "       ['Timor-Leste', 'TLS', 35.755, 1.1, 'Lower middle income'],\n",
       "       ['Tonga', 'TON', 25.409, 35.0, 'Upper middle income'],\n",
       "       ['Trinidad and Tobago', 'TTO', 14.59, 63.8, 'High income'],\n",
       "       ['Tunisia', 'TUN', 19.8, 43.8, 'Upper middle income'],\n",
       "       ['Turkey', 'TUR', 16.836, 46.25, 'Upper middle income'],\n",
       "       ['Tanzania', 'TZA', 39.518, 4.4, 'Low income'],\n",
       "       ['Uganda', 'UGA', 43.474, 16.2, 'Low income'],\n",
       "       ['Ukraine', 'UKR', 11.1, 41.0, 'Lower middle income'],\n",
       "       ['Uruguay', 'URY', 14.374, 57.69, 'High income'],\n",
       "       ['United States', 'USA', 12.5, 84.2, 'High income'],\n",
       "       ['Uzbekistan', 'UZB', 22.5, 38.2, 'Lower middle income'],\n",
       "       ['St. Vincent and the Grenadines', 'VCT', 16.306, 52.0,\n",
       "        'Upper middle income'],\n",
       "       ['Venezuela, RB', 'VEN', 19.842, 54.9, 'High income'],\n",
       "       ['Virgin Islands (U.S.)', 'VIR', 10.7, 45.3, 'High income'],\n",
       "       ['Vietnam', 'VNM', 15.537, 43.9, 'Lower middle income'],\n",
       "       ['Vanuatu', 'VUT', 26.739, 11.3, 'Lower middle income'],\n",
       "       ['West Bank and Gaza', 'PSE', 30.394, 46.6, 'Lower middle income'],\n",
       "       ['Samoa', 'WSM', 26.172, 15.3, 'Lower middle income'],\n",
       "       ['Yemen, Rep.', 'YEM', 32.947, 20.0, 'Lower middle income'],\n",
       "       ['South Africa', 'ZAF', 20.85, 46.5, 'Upper middle income'],\n",
       "       ['Congo, Dem. Rep.', 'COD', 42.394, 2.2, 'Low income'],\n",
       "       ['Zambia', 'ZMB', 40.471, 15.4, 'Lower middle income'],\n",
       "       ['Zimbabwe', 'ZWE', 35.715, 18.5, 'Low income']], dtype=object)"
      ]
     },
     "execution_count": 366,
     "metadata": {},
     "output_type": "execute_result"
    }
   ],
   "source": [
    "df.values"
   ]
  },
  {
   "cell_type": "code",
   "execution_count": 367,
   "id": "7bacf3a8-f97f-41b0-b64b-bd144eea6467",
   "metadata": {},
   "outputs": [
    {
     "data": {
      "text/plain": [
       "CountryName       object\n",
       "CountryCode       object\n",
       "BirthRate        float64\n",
       "InternetUsers    float64\n",
       "IncomeGroup       object\n",
       "dtype: object"
      ]
     },
     "execution_count": 367,
     "metadata": {},
     "output_type": "execute_result"
    }
   ],
   "source": [
    "df.dtypes"
   ]
  },
  {
   "cell_type": "markdown",
   "id": "9bb4eece-be78-480b-8a9c-0e6a3bfd1ba6",
   "metadata": {},
   "source": [
    "JOINING AND MERGING IN PANDAS"
   ]
  },
  {
   "cell_type": "code",
   "execution_count": 368,
   "id": "ef5c1bda-b2b7-47ec-8dff-967cf0347d63",
   "metadata": {},
   "outputs": [
    {
     "name": "stdout",
     "output_type": "stream",
     "text": [
      "   id  name  salary\n",
      "0   1  amit    5000\n",
      "1   2  raju    6000\n"
     ]
    }
   ],
   "source": [
    "df1 = pd.DataFrame({'id':[1,2],'name':['amit','raju']})\n",
    "df2 = pd.DataFrame({'id':[1,2],'salary':[5000,6000]})\n",
    "merged = pd.merge(df1,df2, on = 'id')\n",
    "print(merged)"
   ]
  },
  {
   "cell_type": "markdown",
   "id": "8a409d6b-b129-4f87-83d8-8696431ce734",
   "metadata": {},
   "source": [
    "MATPLOTLIB IN PYTHON"
   ]
  },
  {
   "cell_type": "code",
   "execution_count": 369,
   "id": "e3ec64ee-98d2-4567-a887-7fa82e6f7bfa",
   "metadata": {},
   "outputs": [],
   "source": [
    "import matplotlib.pyplot as plt"
   ]
  },
  {
   "cell_type": "code",
   "execution_count": 370,
   "id": "be2484e6-c239-4ee2-ad95-4314e5660a9c",
   "metadata": {},
   "outputs": [
    {
     "data": {
      "text/plain": [
       "[<matplotlib.lines.Line2D at 0x1af80f3c2d0>]"
      ]
     },
     "execution_count": 370,
     "metadata": {},
     "output_type": "execute_result"
    },
    {
     "data": {
      "image/png": "[encoded data removed]",
      "text/plain": [
       "<Figure size 640x480 with 1 Axes>"
      ]
     },
     "metadata": {},
     "output_type": "display_data"
    }
   ],
   "source": [
    "x = [1,2,3,4,5]\n",
    "y = [2,4,6,8,10]\n",
    "plt.plot(x,y)"
   ]
  },
  {
   "cell_type": "code",
   "execution_count": 371,
   "id": "624d8f43-4245-4853-982d-251e193ec011",
   "metadata": {},
   "outputs": [
    {
     "data": {
      "image/png": "[encoded data removed]",
      "text/plain": [
       "<Figure size 640x480 with 1 Axes>"
      ]
     },
     "metadata": {},
     "output_type": "display_data"
    }
   ],
   "source": [
    "plt.plot(x,y)\n",
    "plt.title('line plot')\n",
    "plt.xlabel('x_axis')\n",
    "plt.ylabel('y_axis')\n",
    "plt.show()"
   ]
  },
  {
   "cell_type": "markdown",
   "id": "16cf070e-45be-437d-a8ef-f96ce1066237",
   "metadata": {},
   "source": [
    "TYPES OF PLOTS"
   ]
  },
  {
   "cell_type": "code",
   "execution_count": 372,
   "id": "7607ad43-0be3-486a-8f7a-cc26839dc8d4",
   "metadata": {},
   "outputs": [
    {
     "data": {
      "text/plain": [
       "<BarContainer object of 5 artists>"
      ]
     },
     "execution_count": 372,
     "metadata": {},
     "output_type": "execute_result"
    },
    {
     "data": {
      "image/png": "[encoded data removed]",
      "text/plain": [
       "<Figure size 640x480 with 1 Axes>"
      ]
     },
     "metadata": {},
     "output_type": "display_data"
    }
   ],
   "source": [
    "plt.bar(x,y,color='orange') # barchart\n"
   ]
  },
  {
   "cell_type": "code",
   "execution_count": 373,
   "id": "874de9f9-e9f2-49fe-92a1-349c13a7f829",
   "metadata": {},
   "outputs": [
    {
     "data": {
      "text/plain": [
       "<BarContainer object of 5 artists>"
      ]
     },
     "execution_count": 373,
     "metadata": {},
     "output_type": "execute_result"
    },
    {
     "data": {
      "image/png": "[encoded data removed]",
      "text/plain": [
       "<Figure size 640x480 with 1 Axes>"
      ]
     },
     "metadata": {},
     "output_type": "display_data"
    }
   ],
   "source": [
    "plt.barh(x,y,color='green') # horizontal bar"
   ]
  },
  {
   "cell_type": "code",
   "execution_count": 374,
   "id": "9bad4760-5d8f-4cda-9a27-7a41ba170201",
   "metadata": {},
   "outputs": [
    {
     "data": {
      "text/plain": [
       "(array([66., 29., 35., 37., 28.]),\n",
       " array([ 0.9    , 20.02936, 39.15872, 58.28808, 77.41744, 96.5468 ]),\n",
       " <BarContainer object of 5 artists>)"
      ]
     },
     "execution_count": 374,
     "metadata": {},
     "output_type": "execute_result"
    },
    {
     "data": {
      "image/png": "[encoded data removed]",
      "text/plain": [
       "<Figure size 640x480 with 1 Axes>"
      ]
     },
     "metadata": {},
     "output_type": "display_data"
    }
   ],
   "source": [
    "plt.hist(df['InternetUsers'],bins=5,color='yellow') #histogram"
   ]
  },
  {
   "cell_type": "code",
   "execution_count": 375,
   "id": "6f180b6a-37f7-4bf4-97d5-8c6c3e559043",
   "metadata": {},
   "outputs": [
    {
     "data": {
      "text/plain": [
       "<matplotlib.collections.PathCollection at 0x1af80e29be0>"
      ]
     },
     "execution_count": 375,
     "metadata": {},
     "output_type": "execute_result"
    },
    {
     "data": {
      "image/png": "[encoded data removed]",
      "text/plain": [
       "<Figure size 640x480 with 1 Axes>"
      ]
     },
     "metadata": {},
     "output_type": "display_data"
    }
   ],
   "source": [
    "plt.scatter(x,y,color='red')"
   ]
  },
  {
   "cell_type": "code",
   "execution_count": 376,
   "id": "d1f46751-ddc8-4262-b9ef-628ba1f9b1b8",
   "metadata": {},
   "outputs": [],
   "source": [
    "sample = df.head(4)"
   ]
  },
  {
   "cell_type": "code",
   "execution_count": 377,
   "id": "0d161b15-1cfc-4dfb-bb46-33980b01cf63",
   "metadata": {},
   "outputs": [
    {
     "data": {
      "text/html": [
       "<div>\n",
       "<style scoped>\n",
       "    .dataframe tbody tr th:only-of-type {\n",
       "        vertical-align: middle;\n",
       "    }\n",
       "\n",
       "    .dataframe tbody tr th {\n",
       "        vertical-align: top;\n",
       "    }\n",
       "\n",
       "    .dataframe thead th {\n",
       "        text-align: right;\n",
       "    }\n",
       "</style>\n",
       "<table border=\"1\" class=\"dataframe\">\n",
       "  <thead>\n",
       "    <tr style=\"text-align: right;\">\n",
       "      <th></th>\n",
       "      <th>CountryName</th>\n",
       "      <th>CountryCode</th>\n",
       "      <th>BirthRate</th>\n",
       "      <th>InternetUsers</th>\n",
       "      <th>IncomeGroup</th>\n",
       "    </tr>\n",
       "  </thead>\n",
       "  <tbody>\n",
       "    <tr>\n",
       "      <th>0</th>\n",
       "      <td>Aruba</td>\n",
       "      <td>ABW</td>\n",
       "      <td>10.244</td>\n",
       "      <td>30.0</td>\n",
       "      <td>High income</td>\n",
       "    </tr>\n",
       "    <tr>\n",
       "      <th>1</th>\n",
       "      <td>Afghanistan</td>\n",
       "      <td>AFG</td>\n",
       "      <td>35.253</td>\n",
       "      <td>5.9</td>\n",
       "      <td>Low income</td>\n",
       "    </tr>\n",
       "    <tr>\n",
       "      <th>2</th>\n",
       "      <td>Angola</td>\n",
       "      <td>AGO</td>\n",
       "      <td>45.985</td>\n",
       "      <td>19.1</td>\n",
       "      <td>Upper middle income</td>\n",
       "    </tr>\n",
       "    <tr>\n",
       "      <th>3</th>\n",
       "      <td>Albania</td>\n",
       "      <td>ALB</td>\n",
       "      <td>12.877</td>\n",
       "      <td>57.2</td>\n",
       "      <td>Upper middle income</td>\n",
       "    </tr>\n",
       "  </tbody>\n",
       "</table>\n",
       "</div>"
      ],
      "text/plain": [
       "   CountryName CountryCode  BirthRate  InternetUsers          IncomeGroup\n",
       "0        Aruba         ABW     10.244           30.0          High income\n",
       "1  Afghanistan         AFG     35.253            5.9           Low income\n",
       "2       Angola         AGO     45.985           19.1  Upper middle income\n",
       "3      Albania         ALB     12.877           57.2  Upper middle income"
      ]
     },
     "execution_count": 377,
     "metadata": {},
     "output_type": "execute_result"
    }
   ],
   "source": [
    "sample"
   ]
  },
  {
   "cell_type": "code",
   "execution_count": 380,
   "id": "b84cb620-1159-4111-a070-e8b481c27a8d",
   "metadata": {},
   "outputs": [
    {
     "data": {
      "text/plain": [
       "([<matplotlib.patches.Wedge at 0x1af80e29d30>,\n",
       "  <matplotlib.patches.Wedge at 0x1af811b25d0>,\n",
       "  <matplotlib.patches.Wedge at 0x1af811b2990>,\n",
       "  <matplotlib.patches.Wedge at 0x1af811b2d50>],\n",
       " [Text(-0.8191060881740078, 0.7342106076026651, ''),\n",
       "  Text(-1.058846865120503, -0.2980659595198409, ''),\n",
       "  Text(-0.6178332986990895, -0.9101000027571705, ''),\n",
       "  Text(1.0994782997163062, -0.03387430372628139, '')],\n",
       " [Text(-0.44678513900400424, 0.4004785132378173, '%1f%'),\n",
       "  Text(-0.5775528355202743, -0.16258143246536774, '%1f%'),\n",
       "  Text(-0.33699998110859425, -0.496418183322093, '%1f%'),\n",
       "  Text(0.5997154362088942, -0.01847689294160803, '%1f%')])"
      ]
     },
     "execution_count": 380,
     "metadata": {},
     "output_type": "execute_result"
    },
    {
     "data": {
      "image/png": "[encoded data removed]",
      "text/plain": [
       "<Figure size 640x480 with 1 Axes>"
      ]
     },
     "metadata": {},
     "output_type": "display_data"
    }
   ],
   "source": [
    "plt.pie(sample['InternetUsers'], autopct='%%1f%%',startangle=90)"
   ]
  },
  {
   "cell_type": "markdown",
   "id": "b2555147-6260-4327-b8d1-770a98aba523",
   "metadata": {},
   "source": [
    "CUSTOMIZATION IN MATPLOTLIB"
   ]
  },
  {
   "cell_type": "code",
   "execution_count": 381,
   "id": "12d16841-6c2d-4a81-906d-9cc3c6e2de59",
   "metadata": {},
   "outputs": [
    {
     "data": {
      "text/plain": [
       "[<matplotlib.lines.Line2D at 0x1af811f25d0>]"
      ]
     },
     "execution_count": 381,
     "metadata": {},
     "output_type": "execute_result"
    },
    {
     "data": {
      "image/png": "[encoded data removed]",
      "text/plain": [
       "<Figure size 640x480 with 1 Axes>"
      ]
     },
     "metadata": {},
     "output_type": "display_data"
    }
   ],
   "source": [
    "plt.plot(x,y, color = 'red', ls ='--', marker='o')"
   ]
  },
  {
   "cell_type": "markdown",
   "id": "57cb4eb3-3fdd-4c23-89d9-ea2850889d3c",
   "metadata": {},
   "source": [
    "SUBPLOT IN MATPLOTLIB"
   ]
  },
  {
   "cell_type": "code",
   "execution_count": 383,
   "id": "a91a8dc0-4d58-4e50-9455-b2c750523d2c",
   "metadata": {},
   "outputs": [
    {
     "data": {
      "text/plain": [
       "[<matplotlib.lines.Line2D at 0x1af812b2350>]"
      ]
     },
     "execution_count": 383,
     "metadata": {},
     "output_type": "execute_result"
    },
    {
     "data": {
      "image/png": "[encoded data removed]",
      "text/plain": [
       "<Figure size 640x480 with 2 Axes>"
      ]
     },
     "metadata": {},
     "output_type": "display_data"
    }
   ],
   "source": [
    "plt.subplot(1,2,1)\n",
    "plt.plot([1,2,3],[1,2,3])\n",
    "\n",
    "plt.subplot(1,2,2)\n",
    "plt.plot([1,2,3],[1,4,9])\n",
    "\n"
   ]
  },
  {
   "cell_type": "code",
   "execution_count": 384,
   "id": "240f4565-964c-47a8-9896-13c48cdf7a39",
   "metadata": {},
   "outputs": [
    {
     "data": {
      "image/png": "[encoded data removed]",
      "text/plain": [
       "<Figure size 640x480 with 1 Axes>"
      ]
     },
     "metadata": {},
     "output_type": "display_data"
    }
   ],
   "source": [
    "plt.plot(x,y)\n",
    "plt.title('line plot')\n",
    "plt.xlabel('x_axis')\n",
    "plt.ylabel('y_axis')\n",
    "plt.grid(True)\n"
   ]
  },
  {
   "cell_type": "markdown",
   "id": "641ccb1c-d1d5-4b5e-86a7-204bdd638d72",
   "metadata": {},
   "source": [
    "SEABORN IN PYTHON"
   ]
  },
  {
   "cell_type": "code",
   "execution_count": 385,
   "id": "7efd53f2-a359-4771-a0e4-d90e222ab9da",
   "metadata": {},
   "outputs": [],
   "source": [
    "import seaborn as sns"
   ]
  },
  {
   "cell_type": "code",
   "execution_count": 386,
   "id": "bdc45555-5799-43b5-8a4d-c38d480d6b36",
   "metadata": {},
   "outputs": [],
   "source": [
    "sns.set_style('darkgrid')"
   ]
  },
  {
   "cell_type": "markdown",
   "id": "886753d4-464f-44ee-ae83-4757fe637562",
   "metadata": {},
   "source": [
    "TYPES OF PLOTS IN SEABORN"
   ]
  },
  {
   "cell_type": "code",
   "execution_count": 388,
   "id": "0fcd8de6-f74a-47a9-87e7-68df5c722040",
   "metadata": {},
   "outputs": [
    {
     "data": {
      "text/plain": [
       "<Axes: xlabel='InternetUsers', ylabel='BirthRate'>"
      ]
     },
     "execution_count": 388,
     "metadata": {},
     "output_type": "execute_result"
    },
    {
     "data": {
      "image/png": "[encoded data removed]",
      "text/plain": [
       "<Figure size 640x480 with 1 Axes>"
      ]
     },
     "metadata": {},
     "output_type": "display_data"
    }
   ],
   "source": [
    "sns.scatterplot(x='InternetUsers',y='BirthRate', data=df)"
   ]
  },
  {
   "cell_type": "code",
   "execution_count": 391,
   "id": "5900784f-eed8-41e3-b7ed-f0764cd30518",
   "metadata": {},
   "outputs": [
    {
     "data": {
      "text/plain": [
       "<Axes: xlabel='InternetUsers', ylabel='BirthRate'>"
      ]
     },
     "execution_count": 391,
     "metadata": {},
     "output_type": "execute_result"
    },
    {
     "data": {
      "image/png": "[encoded data removed]",
      "text/plain": [
       "<Figure size 640x480 with 1 Axes>"
      ]
     },
     "metadata": {},
     "output_type": "display_data"
    }
   ],
   "source": [
    "sns.lineplot(x='InternetUsers', y='BirthRate',data=df)"
   ]
  },
  {
   "cell_type": "markdown",
   "id": "6aa3750f-7734-48a7-99c9-e94faf50b7b7",
   "metadata": {},
   "source": [
    "DISTRIBUTION PLOT"
   ]
  },
  {
   "cell_type": "code",
   "execution_count": 392,
   "id": "08d067bc-0559-4424-9b97-7a62e468cca6",
   "metadata": {},
   "outputs": [
    {
     "data": {
      "text/plain": [
       "<Axes: xlabel='InternetUsers', ylabel='Count'>"
      ]
     },
     "execution_count": 392,
     "metadata": {},
     "output_type": "execute_result"
    },
    {
     "data": {
      "image/png": "[encoded data removed]",
      "text/plain": [
       "<Figure size 640x480 with 1 Axes>"
      ]
     },
     "metadata": {},
     "output_type": "display_data"
    }
   ],
   "source": [
    "sns.histplot(df['InternetUsers'],bins=20,kde= True)"
   ]
  },
  {
   "cell_type": "code",
   "execution_count": 393,
   "id": "a06ba59f-69b2-4c72-899c-bc9e19c0cfb9",
   "metadata": {},
   "outputs": [
    {
     "name": "stderr",
     "output_type": "stream",
     "text": [
      "C:\\Users\\Sanket kshirsagar\\AppData\\Local\\Temp\\ipykernel_18016\\532597831.py:1: FutureWarning: \n",
      "\n",
      "`shade` is now deprecated in favor of `fill`; setting `fill=True`.\n",
      "This will become an error in seaborn v0.14.0; please update your code.\n",
      "\n",
      "  sns.kdeplot(df['InternetUsers'],shade=True)\n"
     ]
    },
    {
     "data": {
      "text/plain": [
       "<Axes: xlabel='InternetUsers', ylabel='Density'>"
      ]
     },
     "execution_count": 393,
     "metadata": {},
     "output_type": "execute_result"
    },
    {
     "data": {
      "image/png": "[encoded data removed]",
      "text/plain": [
       "<Figure size 640x480 with 1 Axes>"
      ]
     },
     "metadata": {},
     "output_type": "display_data"
    }
   ],
   "source": [
    "sns.kdeplot(df['InternetUsers'],shade=True)"
   ]
  },
  {
   "cell_type": "code",
   "execution_count": 394,
   "id": "99a7f749-ce72-483f-8856-60abb4ff4734",
   "metadata": {},
   "outputs": [
    {
     "data": {
      "text/plain": [
       "<seaborn.axisgrid.JointGrid at 0x1af846ad400>"
      ]
     },
     "execution_count": 394,
     "metadata": {},
     "output_type": "execute_result"
    },
    {
     "data": {
      "image/png": "[encoded data removed]",
      "text/plain": [
       "<Figure size 600x600 with 3 Axes>"
      ]
     },
     "metadata": {},
     "output_type": "display_data"
    }
   ],
   "source": [
    "sns.jointplot(x='InternetUsers',y='BirthRate',data=df,kind='hex')"
   ]
  },
  {
   "cell_type": "code",
   "execution_count": 396,
   "id": "92ee9613-7282-4981-b344-ca1d1b664653",
   "metadata": {},
   "outputs": [
    {
     "data": {
      "text/plain": [
       "<seaborn.axisgrid.PairGrid at 0x1affe424d70>"
      ]
     },
     "execution_count": 396,
     "metadata": {},
     "output_type": "execute_result"
    },
    {
     "data": {
      "image/png": "[encoded data removed]",
      "text/plain": [
       "<Figure size 681.25x500 with 6 Axes>"
      ]
     },
     "metadata": {},
     "output_type": "display_data"
    }
   ],
   "source": [
    "sns.pairplot(df,hue='IncomeGroup')"
   ]
  },
  {
   "cell_type": "markdown",
   "id": "0dd9eb3f-74f7-4285-aeb8-ff7a4ccf48ee",
   "metadata": {},
   "source": [
    "CATEGORICAL PLOT IN SEABORN"
   ]
  },
  {
   "cell_type": "code",
   "execution_count": 397,
   "id": "4f1362ab-8bca-46b2-8569-a35115464a51",
   "metadata": {},
   "outputs": [
    {
     "data": {
      "text/plain": [
       "<Axes: xlabel='InternetUsers', ylabel='BirthRate'>"
      ]
     },
     "execution_count": 397,
     "metadata": {},
     "output_type": "execute_result"
    },
    {
     "data": {
      "image/png": "[encoded data removed]",
      "text/plain": [
       "<Figure size 640x480 with 1 Axes>"
      ]
     },
     "metadata": {},
     "output_type": "display_data"
    }
   ],
   "source": [
    "sns.barplot(x='InternetUsers',y='BirthRate',data=df)"
   ]
  },
  {
   "cell_type": "code",
   "execution_count": 398,
   "id": "016b5243-3a70-4b3e-8de7-afe04054c027",
   "metadata": {},
   "outputs": [
    {
     "data": {
      "text/plain": [
       "<Axes: xlabel='BirthRate', ylabel='count'>"
      ]
     },
     "execution_count": 398,
     "metadata": {},
     "output_type": "execute_result"
    },
    {
     "data": {
      "image/png": "[encoded data removed]",
      "text/plain": [
       "<Figure size 640x480 with 1 Axes>"
      ]
     },
     "metadata": {},
     "output_type": "display_data"
    }
   ],
   "source": [
    "sns.countplot(x='BirthRate',data=df)"
   ]
  },
  {
   "cell_type": "markdown",
   "id": "bfba80e4-195a-4e1b-9e66-22100cada247",
   "metadata": {},
   "source": [
    "BOXPLOT IN PYTHON"
   ]
  },
  {
   "cell_type": "code",
   "execution_count": 399,
   "id": "b0e36980-2c51-4535-a11b-55f4576c30a1",
   "metadata": {},
   "outputs": [
    {
     "data": {
      "text/plain": [
       "<Axes: xlabel='InternetUsers', ylabel='BirthRate'>"
      ]
     },
     "execution_count": 399,
     "metadata": {},
     "output_type": "execute_result"
    },
    {
     "data": {
      "image/png": "[encoded data removed]",
      "text/plain": [
       "<Figure size 640x480 with 1 Axes>"
      ]
     },
     "metadata": {},
     "output_type": "display_data"
    }
   ],
   "source": [
    "sns.boxplot(x='InternetUsers', y='BirthRate',data=df)"
   ]
  },
  {
   "cell_type": "markdown",
   "id": "4040e9b2-c5b7-45c3-8c7b-a049634f50c2",
   "metadata": {},
   "source": [
    "VOILIN PLOT IN SEABORN"
   ]
  },
  {
   "cell_type": "code",
   "execution_count": 401,
   "id": "22cd205f-ccd1-427c-851f-14493ee482aa",
   "metadata": {},
   "outputs": [
    {
     "data": {
      "text/plain": [
       "<Axes: xlabel='InternetUsers', ylabel='BirthRate'>"
      ]
     },
     "execution_count": 401,
     "metadata": {},
     "output_type": "execute_result"
    },
    {
     "data": {
      "image/png": "[encoded data removed]",
      "text/plain": [
       "<Figure size 640x480 with 1 Axes>"
      ]
     },
     "metadata": {},
     "output_type": "display_data"
    }
   ],
   "source": [
    "sns.violinplot(x='InternetUsers',y='BirthRate',data=df)"
   ]
  },
  {
   "cell_type": "markdown",
   "id": "a00fd466-c5b2-49fa-8a42-5e05dfbdfd00",
   "metadata": {},
   "source": [
    "STRIP/SWARM PLOT IN SEABORN"
   ]
  },
  {
   "cell_type": "code",
   "execution_count": 403,
   "id": "e0cd27ca-feec-497f-8977-63ef0180a82b",
   "metadata": {},
   "outputs": [
    {
     "data": {
      "text/plain": [
       "<Axes: xlabel='InternetUsers', ylabel='BirthRate'>"
      ]
     },
     "execution_count": 403,
     "metadata": {},
     "output_type": "execute_result"
    },
    {
     "data": {
      "image/png": "[encoded data removed]",
      "text/plain": [
       "<Figure size 640x480 with 1 Axes>"
      ]
     },
     "metadata": {},
     "output_type": "display_data"
    }
   ],
   "source": [
    "sns.stripplot(x='InternetUsers',y='BirthRate',data=df,jitter=True)"
   ]
  },
  {
   "cell_type": "code",
   "execution_count": 406,
   "id": "33dc85bc-97e2-498b-8098-ecaf324ab87f",
   "metadata": {},
   "outputs": [
    {
     "name": "stderr",
     "output_type": "stream",
     "text": [
      "C:\\Users\\Sanket kshirsagar\\anaconda3\\Lib\\site-packages\\seaborn\\categorical.py:3399: UserWarning: 50.0% of the points cannot be placed; you may want to decrease the size of the markers or use stripplot.\n",
      "  warnings.warn(msg, UserWarning)\n",
      "C:\\Users\\Sanket kshirsagar\\anaconda3\\Lib\\site-packages\\seaborn\\categorical.py:3399: UserWarning: 33.3% of the points cannot be placed; you may want to decrease the size of the markers or use stripplot.\n",
      "  warnings.warn(msg, UserWarning)\n"
     ]
    },
    {
     "data": {
      "text/plain": [
       "<Axes: xlabel='InternetUsers', ylabel='BirthRate'>"
      ]
     },
     "execution_count": 406,
     "metadata": {},
     "output_type": "execute_result"
    },
    {
     "data": {
      "image/png": "[encoded data removed]",
      "text/plain": [
       "<Figure size 640x480 with 1 Axes>"
      ]
     },
     "metadata": {},
     "output_type": "display_data"
    }
   ],
   "source": [
    "sns.swarmplot(x='InternetUsers',y='BirthRate',data=df)"
   ]
  },
  {
   "cell_type": "code",
   "execution_count": null,
   "id": "74f724a0-a701-4a75-aaa4-ed8149736e01",
   "metadata": {},
   "outputs": [],
   "source": []
  },
  {
   "cell_type": "code",
   "execution_count": null,
   "id": "9e03cb15-c2ac-435e-b1cd-d940b1de07bd",
   "metadata": {},
   "outputs": [],
   "source": []
  },
  {
   "cell_type": "code",
   "execution_count": null,
   "id": "0b433918-f29a-4351-9f07-76442b5ec69b",
   "metadata": {},
   "outputs": [],
   "source": []
  },
  {
   "cell_type": "code",
   "execution_count": null,
   "id": "80bcf357-79df-4530-9081-a7afaa856218",
   "metadata": {},
   "outputs": [],
   "source": []
  },
  {
   "cell_type": "code",
   "execution_count": null,
   "id": "368f1fad-cfbf-45a5-a654-3a66d0f12cb7",
   "metadata": {},
   "outputs": [],
   "source": []
  },
  {
   "cell_type": "code",
   "execution_count": null,
   "id": "83263463-436b-4042-812b-a99e676d24e0",
   "metadata": {},
   "outputs": [],
   "source": []
  },
  {
   "cell_type": "code",
   "execution_count": null,
   "id": "ed9b005f-a3a0-45b3-a981-df8a4e3e77a9",
   "metadata": {},
   "outputs": [],
   "source": []
  },
  {
   "cell_type": "code",
   "execution_count": null,
   "id": "d3501916-7df6-4614-945d-eac0d06c12dc",
   "metadata": {},
   "outputs": [],
   "source": []
  },
  {
   "cell_type": "code",
   "execution_count": null,
   "id": "b0b09fb5-7703-4c40-a5ac-7f2298dc5928",
   "metadata": {},
   "outputs": [],
   "source": []
  },
  {
   "cell_type": "code",
   "execution_count": null,
   "id": "6d6621e5-d414-4331-a418-55704c84e7b5",
   "metadata": {},
   "outputs": [],
   "source": []
  },
  {
   "cell_type": "code",
   "execution_count": null,
   "id": "eb3b9279-ee43-4951-8cf2-f5c78f8ec5c6",
   "metadata": {},
   "outputs": [],
   "source": []
  },
  {
   "cell_type": "code",
   "execution_count": null,
   "id": "bb006094-fbba-4b2d-92c6-ff89d25d36a8",
   "metadata": {},
   "outputs": [],
   "source": []
  },
  {
   "cell_type": "code",
   "execution_count": null,
   "id": "1389ec72-35fb-4bf7-90f5-64666bdc53bf",
   "metadata": {},
   "outputs": [],
   "source": []
  },
  {
   "cell_type": "code",
   "execution_count": null,
   "id": "d631c3cc-d47c-417e-bcdd-c3e779d37631",
   "metadata": {},
   "outputs": [],
   "source": []
  },
  {
   "cell_type": "code",
   "execution_count": null,
   "id": "27675671-313e-4972-a6df-e17426538ddb",
   "metadata": {},
   "outputs": [],
   "source": []
  },
  {
   "cell_type": "code",
   "execution_count": null,
   "id": "97a3eab8-3cf1-4d05-8db3-a34531799f1a",
   "metadata": {},
   "outputs": [],
   "source": []
  }
 ],
 "metadata": {
  "kernelspec": {
   "display_name": "Python 3 (ipykernel)",
   "language": "python",
   "name": "python3"
  },
  "language_info": {
   "codemirror_mode": {
    "name": "ipython",
    "version": 3
   },
   "file_extension": ".py",
   "mimetype": "text/x-python",
   "name": "python",
   "nbconvert_exporter": "python",
   "pygments_lexer": "ipython3",
   "version": "3.13.5"
  }
 },
 "nbformat": 4,
 "nbformat_minor": 5
}
