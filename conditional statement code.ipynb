{
 "cells": [
  {
   "cell_type": "code",
   "execution_count": 1,
   "id": "9ef69407-54c4-412b-b079-4cab00a8a805",
   "metadata": {},
   "outputs": [
    {
     "name": "stdin",
     "output_type": "stream",
     "text": [
      "Enter the number 2\n"
     ]
    },
    {
     "name": "stdout",
     "output_type": "stream",
     "text": [
      "even number\n"
     ]
    }
   ],
   "source": [
    "a = int(input('Enter the number'))\n",
    "if a%2 == 0:\n",
    "    print('even number')\n",
    "else:\n",
    "    print('odd number')\n",
    "        "
   ]
  },
  {
   "cell_type": "code",
   "execution_count": 6,
   "id": "63d10e2d-aca5-418e-9abe-48943812f53a",
   "metadata": {},
   "outputs": [
    {
     "name": "stdin",
     "output_type": "stream",
     "text": [
      "Enter the number 17\n"
     ]
    },
    {
     "name": "stdout",
     "output_type": "stream",
     "text": [
      "not eligible to vote\n"
     ]
    }
   ],
   "source": [
    "a = int(input('Enter the number'))\n",
    "if a>=18:\n",
    "    print('eligible to vote')\n",
    "else:\n",
    "    print('not eligible to vote')"
   ]
  },
  {
   "cell_type": "code",
   "execution_count": 8,
   "id": "0b6b72ef-fe8b-4b54-8427-55febf6c1af1",
   "metadata": {},
   "outputs": [
    {
     "name": "stdin",
     "output_type": "stream",
     "text": [
      "Enter the year 2025\n"
     ]
    },
    {
     "name": "stdout",
     "output_type": "stream",
     "text": [
      "not a leap year\n"
     ]
    }
   ],
   "source": [
    "a = int(input('Enter the year'))\n",
    "if a%4 == 0:\n",
    "    print('a leap year')\n",
    "else:\n",
    "    print('not a leap year')\n",
    "        "
   ]
  },
  {
   "cell_type": "code",
   "execution_count": 12,
   "id": "68a3eec3-97a5-42fa-ae8d-dcf99045adf2",
   "metadata": {},
   "outputs": [
    {
     "name": "stdin",
     "output_type": "stream",
     "text": [
      "Enter the number 0\n"
     ]
    },
    {
     "name": "stdout",
     "output_type": "stream",
     "text": [
      "This is zero\n"
     ]
    }
   ],
   "source": [
    "a = int(input('Enter the number'))\n",
    "if a>0:\n",
    "    print('This is positive number')\n",
    "elif a<0:\n",
    "    print('This is negative number')\n",
    "else:\n",
    "    print('This is zero')"
   ]
  },
  {
   "cell_type": "code",
   "execution_count": 14,
   "id": "7fce2759-35cc-4ec6-bfe2-b924846b8ba3",
   "metadata": {},
   "outputs": [
    {
     "name": "stdin",
     "output_type": "stream",
     "text": [
      "Enter a first number 5\n",
      "Enter a second number 6\n"
     ]
    },
    {
     "name": "stdout",
     "output_type": "stream",
     "text": [
      "b is the greatest number\n"
     ]
    }
   ],
   "source": [
    "a = int(input('Enter a first number'))\n",
    "b = int(input('Enter a second number'))\n",
    "if a>b:\n",
    "    print('a is a greatest number')\n",
    "else:\n",
    "    print('b is the greatest number')"
   ]
  },
  {
   "cell_type": "code",
   "execution_count": 20,
   "id": "410bf4c5-b356-49a2-870d-30f44d0a5612",
   "metadata": {},
   "outputs": [
    {
     "name": "stdin",
     "output_type": "stream",
     "text": [
      "Enter the number 25\n"
     ]
    },
    {
     "name": "stdout",
     "output_type": "stream",
     "text": [
      "This is the multiple of 5\n"
     ]
    }
   ],
   "source": [
    "a = int(input('Enter the number'))\n",
    "if a%5 ==0:\n",
    "    print('This is the multiple of 5')\n",
    "else:\n",
    "    print('This is not the multiple of 5')"
   ]
  },
  {
   "cell_type": "code",
   "execution_count": null,
   "id": "9d8f246b-2ea1-4469-9082-7ecde2d7d581",
   "metadata": {},
   "outputs": [],
   "source": [
    "a = int(input('Enter the character'))\n",
    "if "
   ]
  },
  {
   "cell_type": "code",
   "execution_count": 22,
   "id": "cecec8f2-b7b8-48f7-bc03-c6041b000649",
   "metadata": {},
   "outputs": [
    {
     "name": "stdin",
     "output_type": "stream",
     "text": [
      "Enter the age: 59\n"
     ]
    },
    {
     "name": "stdout",
     "output_type": "stream",
     "text": [
      "This person is not eligible for a senior citizen discount\n"
     ]
    }
   ],
   "source": [
    "a = int(input('Enter the age:'))\n",
    "if a>=60:\n",
    "    print('This person is eligible for a senior citizen discount')\n",
    "else:\n",
    "    print('This person is not eligible for a senior citizen discount')"
   ]
  },
  {
   "cell_type": "code",
   "execution_count": 24,
   "id": "a69300c3-4ca8-4f1c-b7a6-e9a46a8d8286",
   "metadata": {},
   "outputs": [
    {
     "name": "stdin",
     "output_type": "stream",
     "text": [
      "Enter the number 10\n"
     ]
    },
    {
     "name": "stdout",
     "output_type": "stream",
     "text": [
      "This is not a single digit number\n"
     ]
    }
   ],
   "source": [
    "a = int(input('Enter the number'))\n",
    "if a<10:\n",
    "    print('This is single digit number')\n",
    "else:\n",
    "    print('This is not a single digit number')"
   ]
  },
  {
   "cell_type": "code",
   "execution_count": 25,
   "id": "8e8201d5-87e0-4d6d-bda2-040ef0b162fa",
   "metadata": {},
   "outputs": [
    {
     "name": "stdin",
     "output_type": "stream",
     "text": [
      "Enter the time 12\n"
     ]
    },
    {
     "name": "stdout",
     "output_type": "stream",
     "text": [
      "Good Afternoon\n"
     ]
    }
   ],
   "source": [
    "a = int(input('Enter the time'))\n",
    "if a<12:\n",
    "    print('Good Morning')\n",
    "else:\n",
    "    print('Good Afternoon')        "
   ]
  },
  {
   "cell_type": "code",
   "execution_count": 36,
   "id": "1628047c-c0ab-4fd4-9f1b-bb776581154c",
   "metadata": {},
   "outputs": [
    {
     "name": "stdin",
     "output_type": "stream",
     "text": [
      "Enter the day monday\n"
     ]
    },
    {
     "name": "stdout",
     "output_type": "stream",
     "text": [
      "Weekday\n"
     ]
    }
   ],
   "source": [
    "a = input('Enter the day')\n",
    "if a=='saturday':\n",
    "    print('Weekend')\n",
    "elif a=='sunday':\n",
    "    print('Weekend')\n",
    "else:\n",
    "    print('Weekday')"
   ]
  },
  {
   "cell_type": "code",
   "execution_count": 46,
   "id": "5113548a-12f0-46de-8357-f0d9aa271bc1",
   "metadata": {},
   "outputs": [
    {
     "name": "stdin",
     "output_type": "stream",
     "text": [
      "Enter the number 0\n"
     ]
    },
    {
     "name": "stdout",
     "output_type": "stream",
     "text": [
      "This number is not between 1 and 100\n"
     ]
    }
   ],
   "source": [
    "a = int(input('Enter the number'))\n",
    "if a==0:\n",
    "    print('This number is not between 1 and 100')\n",
    "elif a<=100:\n",
    "    print('This number is between 1 and 100')\n",
    "else:\n",
    "    print('This number is not between 1 and 100')"
   ]
  },
  {
   "cell_type": "code",
   "execution_count": 49,
   "id": "17a6f03f-11a3-443c-a356-9ca23f1582f8",
   "metadata": {},
   "outputs": [
    {
     "name": "stdin",
     "output_type": "stream",
     "text": [
      "Enter the number 101\n"
     ]
    },
    {
     "name": "stdout",
     "output_type": "stream",
     "text": [
      "This number is not between 1 and 100\n"
     ]
    }
   ],
   "source": [
    "a = int(input('Enter the number'))\n",
    "if a>0 and a<101:\n",
    "    print('This number is between 1 and 100')\n",
    "else:\n",
    "    print('This number is not between 1 and 100')"
   ]
  },
  {
   "cell_type": "code",
   "execution_count": 53,
   "id": "a2983c97-f98d-437c-bed2-c04f86213dba",
   "metadata": {},
   "outputs": [
    {
     "name": "stdin",
     "output_type": "stream",
     "text": [
      "Enter the number 63\n"
     ]
    },
    {
     "name": "stdout",
     "output_type": "stream",
     "text": [
      "This number is divisible by both 3 and 7\n"
     ]
    }
   ],
   "source": [
    "a = int(input('Enter the number'))\n",
    "if a%3==0 and a%7==0:\n",
    "    print('This number is divisible by both 3 and 7')\n",
    "else:\n",
    "    print('This number is not divisible by both 3 and 7')"
   ]
  },
  {
   "cell_type": "code",
   "execution_count": 62,
   "id": "ade1d641-504a-4ede-acd6-ccf80d764f46",
   "metadata": {},
   "outputs": [
    {
     "name": "stdin",
     "output_type": "stream",
     "text": [
      "Enter the first number 9\n",
      "Enter the second number 5\n"
     ]
    },
    {
     "name": "stdout",
     "output_type": "stream",
     "text": [
      "b is minimum\n"
     ]
    }
   ],
   "source": [
    "a = int(input('Enter the first number'))\n",
    "b = int(input('Enter the second number'))\n",
    "if a<=b:\n",
    "    print('a is minimum')\n",
    "else:\n",
    "    print('b is minimum')"
   ]
  },
  {
   "cell_type": "code",
   "execution_count": 1,
   "id": "8393aa36-d3ae-43db-a137-f07686e14e6d",
   "metadata": {},
   "outputs": [
    {
     "name": "stdin",
     "output_type": "stream",
     "text": [
      "Enter the number 4\n"
     ]
    },
    {
     "name": "stdout",
     "output_type": "stream",
     "text": [
      "this is the number which is not divisible by 3 but divisible by 2\n"
     ]
    }
   ],
   "source": [
    "a = int(input('Enter the number'))\n",
    "if a%2 ==0 and a%3 ==0:\n",
    "    print('this is the number which is divisible by 2 and 3')\n",
    "elif a%2 !=0 and a%3 !=0:\n",
    "    print('this is the number which is not divisible by 3 and 2')\n",
    "elif a%3 ==0:\n",
    "    print('This is the number which is divisible by 3')\n",
    "else:\n",
    "    print('this is the number which is not divisible by 3 but divisible by 2')"
   ]
  },
  {
   "cell_type": "code",
   "execution_count": 8,
   "id": "8b27599a-a804-4253-bd46-5e36b79d0775",
   "metadata": {},
   "outputs": [
    {
     "name": "stdin",
     "output_type": "stream",
     "text": [
      "Enter the char a\n"
     ]
    },
    {
     "name": "stdout",
     "output_type": "stream",
     "text": [
      "Lowercase\n"
     ]
    }
   ],
   "source": [
    "a = input('Enter the char')\n",
    "if a == a.upper():\n",
    "    print('Uppercase')\n",
    "elif a == a.lower():\n",
    "    print('Lowercase')\n"
   ]
  },
  {
   "cell_type": "code",
   "execution_count": 10,
   "id": "e973dcc7-4ee4-44b0-91f8-3a12cb133531",
   "metadata": {},
   "outputs": [
    {
     "name": "stdin",
     "output_type": "stream",
     "text": [
      "Enter the first number 6\n",
      "Enter the second number 8\n",
      "Enter the third number 2\n"
     ]
    },
    {
     "name": "stdout",
     "output_type": "stream",
     "text": [
      "b is largest\n"
     ]
    }
   ],
   "source": [
    "a = int(input('Enter the first number'))\n",
    "b = int(input('Enter the second number'))\n",
    "c = int(input('Enter the third number'))\n",
    "if a>b and a>c:\n",
    "    print('a is largest')\n",
    "elif b>a and b>c:\n",
    "    print('b is largest')\n",
    "else:\n",
    "    print('c is largest')\n",
    "    \n"
   ]
  },
  {
   "cell_type": "code",
   "execution_count": 16,
   "id": "110992a5-5f56-4a87-86a5-990b33488842",
   "metadata": {},
   "outputs": [
    {
     "name": "stdin",
     "output_type": "stream",
     "text": [
      "Enter the number 19\n"
     ]
    },
    {
     "name": "stdout",
     "output_type": "stream",
     "text": [
      "Eligible for driving license\n"
     ]
    }
   ],
   "source": [
    "a = int(input('Enter the number'))\n",
    "if a>=18:\n",
    "    print('Eligible for driving license')\n",
    "else:\n",
    "    print('Not eligible for driving license')"
   ]
  },
  {
   "cell_type": "code",
   "execution_count": 18,
   "id": "a3c2428b-a796-4512-9927-e29b7ef65879",
   "metadata": {},
   "outputs": [
    {
     "name": "stdin",
     "output_type": "stream",
     "text": [
      "Enter the marks 39\n"
     ]
    },
    {
     "name": "stdout",
     "output_type": "stream",
     "text": [
      "The student if failed\n"
     ]
    }
   ],
   "source": [
    "a = int(input('Enter the marks'))\n",
    "if a>=40:\n",
    "    print('The student is passed')\n",
    "else:\n",
    "    print('The student if failed')"
   ]
  },
  {
   "cell_type": "code",
   "execution_count": 3,
   "id": "c70bc6aa-4c31-42b7-a8a1-f56a61b748b0",
   "metadata": {},
   "outputs": [
    {
     "name": "stdin",
     "output_type": "stream",
     "text": [
      "Enter the char naman\n"
     ]
    },
    {
     "name": "stdout",
     "output_type": "stream",
     "text": [
      "It is a palindrome\n"
     ]
    }
   ],
   "source": [
    "a = input('Enter the char')\n",
    "b = a[::-1]\n",
    "if b==a:\n",
    "    print('It is a palindrome')\n",
    "else:\n",
    "    print('It is not a palindrome')\n",
    "    \n",
    "\n"
   ]
  },
  {
   "cell_type": "code",
   "execution_count": 61,
   "id": "6571ebab-2476-405d-baba-07f31594ae39",
   "metadata": {},
   "outputs": [
    {
     "name": "stdin",
     "output_type": "stream",
     "text": [
      "Enter the units 300\n"
     ]
    },
    {
     "name": "stdout",
     "output_type": "stream",
     "text": [
      "The electricity bill for 300 unit is 2500\n"
     ]
    }
   ],
   "source": [
    "a = int(input('Enter the units'))\n",
    "bill = 0\n",
    "if a<=100:\n",
    "    bill = a*5\n",
    "elif a<=300:\n",
    "    bill = (100*5) + (a-100)*10\n",
    "else:\n",
    "    bill = (100*5) + (200*10) + (a-300)*15\n",
    "print(f'The electricity bill for {a} unit is {bill}')\n"
   ]
  },
  {
   "cell_type": "code",
   "execution_count": 54,
   "id": "e86700e6-b6bf-446d-b43e-423e1e5713fb",
   "metadata": {},
   "outputs": [
    {
     "name": "stdin",
     "output_type": "stream",
     "text": [
      "Enter the marks 80\n"
     ]
    },
    {
     "name": "stdout",
     "output_type": "stream",
     "text": [
      "grade B\n"
     ]
    }
   ],
   "source": [
    "a = int(input('Enter the marks'))\n",
    "if a>=90:\n",
    "    print('grade A')\n",
    "elif a>=80 and a<90:\n",
    "    print('grade B')\n",
    "\n"
   ]
  },
  {
   "cell_type": "code",
   "execution_count": 65,
   "id": "71c6ba4d-db17-4e7f-85ba-842c5b0fd9c4",
   "metadata": {},
   "outputs": [
    {
     "name": "stdin",
     "output_type": "stream",
     "text": [
      "Enter the date 29\n",
      "enter the year 2024\n"
     ]
    },
    {
     "name": "stdout",
     "output_type": "stream",
     "text": [
      "The date is valid\n"
     ]
    }
   ],
   "source": [
    "date = int(input('Enter the date'))\n",
    "year = int(input('enter the year'))\n",
    "if date>29 and year%4==0:\n",
    "    print('The date is valid')\n",
    "elif date>28 and year%4!=0:\n",
    "    print('The date is not valid')\n",
    "else:\n",
    "    print('The date is valid')\n",
    "\n",
    "    "
   ]
  },
  {
   "cell_type": "code",
   "execution_count": 67,
   "id": "3a80680f-2a09-4f50-98b2-b79d1d7f9e45",
   "metadata": {},
   "outputs": [
    {
     "name": "stdin",
     "output_type": "stream",
     "text": [
      "enter the balance 400\n"
     ]
    },
    {
     "name": "stdout",
     "output_type": "stream",
     "text": [
      "The balance is not nsufficient for withdrawl\n"
     ]
    }
   ],
   "source": [
    "balance = int(input('enter the balance'))\n",
    "if balance>=500:\n",
    "    print('The balance is sufficient for withdrawl')\n",
    "else:\n",
    "    print('The balance is not nsufficient for withdrawl')\n",
    "              "
   ]
  },
  {
   "cell_type": "code",
   "execution_count": 75,
   "id": "e58fd8b4-2dd6-42db-a16a-0e25e9b512e8",
   "metadata": {},
   "outputs": [
    {
     "name": "stdin",
     "output_type": "stream",
     "text": [
      "Enter the first number 4\n",
      "enter the second number 2\n",
      "Enter the operator /\n"
     ]
    },
    {
     "name": "stdout",
     "output_type": "stream",
     "text": [
      "The division of a and b is 2.0\n"
     ]
    }
   ],
   "source": [
    "a = int(input('Enter the first number'))\n",
    "b = int(input('enter the second number'))\n",
    "o = input('Enter the operator')\n",
    "if o == '+':\n",
    "    print(f'The addition of a and b is {a+b}')\n",
    "elif o == '-':\n",
    "    print(f'The substraction of a and b is {a-b}')\n",
    "elif o == '*':\n",
    "    print(f'The multiplication of a and b is {a*b}')\n",
    "elif o == '/':\n",
    "    print(f'The division of a and b is {a/b}')\n"
   ]
  },
  {
   "cell_type": "code",
   "execution_count": 86,
   "id": "46f3cb24-2032-44b0-ab93-dd51089bd79f",
   "metadata": {},
   "outputs": [
    {
     "name": "stdin",
     "output_type": "stream",
     "text": [
      "Enter the celcius 20\n"
     ]
    },
    {
     "name": "stdout",
     "output_type": "stream",
     "text": [
      "The fahrenheit value is  68.0\n"
     ]
    }
   ],
   "source": [
    "cel = int(input('Enter the celcius'))\n",
    "f =  cel*(9/5)+32 \n",
    "print('The fahrenheit value is ',f)\n",
    "\n"
   ]
  },
  {
   "cell_type": "code",
   "execution_count": 90,
   "id": "eab30771-c99e-40e0-936e-1c7e467f8c53",
   "metadata": {},
   "outputs": [
    {
     "name": "stdin",
     "output_type": "stream",
     "text": [
      "Enter the fahrenheit 68\n"
     ]
    },
    {
     "name": "stdout",
     "output_type": "stream",
     "text": [
      "The celcius value is  20.0\n"
     ]
    }
   ],
   "source": [
    "f = int(input('Enter the fahrenheit'))\n",
    "c = (f-32)*5/9\n",
    "print('The celcius value is ',c)"
   ]
  },
  {
   "cell_type": "code",
   "execution_count": 94,
   "id": "b6756638-2324-455f-9968-92e8caa9760f",
   "metadata": {},
   "outputs": [
    {
     "name": "stdin",
     "output_type": "stream",
     "text": [
      "Enter the number 100\n"
     ]
    },
    {
     "name": "stdout",
     "output_type": "stream",
     "text": [
      "This number is lies between a specific range\n"
     ]
    }
   ],
   "source": [
    "a = int(input('Enter the number'))\n",
    "if a>=50 and a<=100:\n",
    "    print('This number is lies between a specific range')\n",
    "else:\n",
    "    print('This number is not lies between a specific range')"
   ]
  },
  {
   "cell_type": "code",
   "execution_count": 101,
   "id": "bb6ea4e8-c69a-4f3d-95a2-7361b60fb487",
   "metadata": {},
   "outputs": [
    {
     "name": "stdin",
     "output_type": "stream",
     "text": [
      "Enter the year 2025\n"
     ]
    },
    {
     "name": "stdout",
     "output_type": "stream",
     "text": [
      "The given year is not century year\n"
     ]
    }
   ],
   "source": [
    "a = int(input('Enter the year'))\n",
    "if a%100==0:\n",
    "    print('The given year is century year')\n",
    "else:\n",
    "    print('The given year is not century year')\n",
    "        "
   ]
  },
  {
   "cell_type": "code",
   "execution_count": null,
   "id": "6c2b9630-c754-4853-8301-92af83b2b2b5",
   "metadata": {},
   "outputs": [],
   "source": []
  }
 ],
 "metadata": {
  "kernelspec": {
   "display_name": "Python 3 (ipykernel)",
   "language": "python",
   "name": "python3"
  },
  "language_info": {
   "codemirror_mode": {
    "name": "ipython",
    "version": 3
   },
   "file_extension": ".py",
   "mimetype": "text/x-python",
   "name": "python",
   "nbconvert_exporter": "python",
   "pygments_lexer": "ipython3",
   "version": "3.13.5"
  }
 },
 "nbformat": 4,
 "nbformat_minor": 5
}
