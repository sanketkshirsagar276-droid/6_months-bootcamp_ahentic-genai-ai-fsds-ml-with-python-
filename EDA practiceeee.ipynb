{
 "cells": [
  {
   "cell_type": "code",
   "execution_count": 1,
   "id": "289caa63-169e-4325-9dc1-d528ab1d4ab1",
   "metadata": {},
   "outputs": [
    {
     "name": "stdout",
     "output_type": "stream",
     "text": [
      "    Name              Domain     Age  Location    Salary    Exp\n",
      "0  Alex$               AI&ML   29yrs     Pun@e   40@@000  3+yrs\n",
      "1  Rina^     Data-Engineer##     NaN    Mumabi    8$5000     <2\n",
      "2   Sam@     CyberSecu^^rity   52 yr       NaN   1200^00  15+yr\n",
      "3  Lara*  Business^Analytics     NaN     Chnai    7%%000  5>yrs\n",
      "4  Omar#      DeepL^^earning   38-yr     Delhi    95000-    NaN\n",
      "5  Tina@    Cloud##Computing  44 yrs  Hydrabad  1$10%000    10+\n"
     ]
    }
   ],
   "source": [
    "data = {\n",
    "    \"Name\": [\"Alex$\", \"Rina^\", \"Sam@\", \"Lara*\", \"Omar#\", \"Tina@\"],\n",
    "    \"Domain\": [\"AI&ML\", \"Data-Engineer##\", \"CyberSecu^^rity\", \n",
    "               \"Business^Analytics\", \"DeepL^^earning\", \"Cloud##Computing\"],\n",
    "    \"Age\": [\"29yrs\", \"NaN\", \"52 yr\", \"NaN\", \"38-yr\", \"44 yrs\"],\n",
    "    \"Location\": [\"Pun@e\", \"Mumabi\", \"NaN\", \"Chnai\", \"Delhi\", \"Hydrabad\"],\n",
    "    \"Salary\": [\"40@@000\", \"8$5000\", \"1200^00\", \"7%%000\", \"95000-\", \"1$10%000\"],\n",
    "    \"Exp\": [\"3+yrs\", \"<2\", \"15+yr\", \"5>yrs\", \"NaN\", \"10+\"]\n",
    "}\n",
    "import pandas as pd\n",
    "\n",
    "df = pd.DataFrame(data)\n",
    "print(df)\n"
   ]
  },
  {
   "cell_type": "code",
   "execution_count": 2,
   "id": "619794ca-dee7-46e0-9b80-8bcce3ca7ee2",
   "metadata": {},
   "outputs": [
    {
     "data": {
      "text/html": [
       "<div>\n",
       "<style scoped>\n",
       "    .dataframe tbody tr th:only-of-type {\n",
       "        vertical-align: middle;\n",
       "    }\n",
       "\n",
       "    .dataframe tbody tr th {\n",
       "        vertical-align: top;\n",
       "    }\n",
       "\n",
       "    .dataframe thead th {\n",
       "        text-align: right;\n",
       "    }\n",
       "</style>\n",
       "<table border=\"1\" class=\"dataframe\">\n",
       "  <thead>\n",
       "    <tr style=\"text-align: right;\">\n",
       "      <th></th>\n",
       "      <th>Name</th>\n",
       "      <th>Domain</th>\n",
       "      <th>Age</th>\n",
       "      <th>Location</th>\n",
       "      <th>Salary</th>\n",
       "      <th>Exp</th>\n",
       "    </tr>\n",
       "  </thead>\n",
       "  <tbody>\n",
       "    <tr>\n",
       "      <th>0</th>\n",
       "      <td>Alex$</td>\n",
       "      <td>AI&amp;ML</td>\n",
       "      <td>29yrs</td>\n",
       "      <td>Pun@e</td>\n",
       "      <td>40@@000</td>\n",
       "      <td>3+yrs</td>\n",
       "    </tr>\n",
       "    <tr>\n",
       "      <th>1</th>\n",
       "      <td>Rina^</td>\n",
       "      <td>Data-Engineer##</td>\n",
       "      <td>NaN</td>\n",
       "      <td>Mumabi</td>\n",
       "      <td>8$5000</td>\n",
       "      <td>&lt;2</td>\n",
       "    </tr>\n",
       "    <tr>\n",
       "      <th>2</th>\n",
       "      <td>Sam@</td>\n",
       "      <td>CyberSecu^^rity</td>\n",
       "      <td>52 yr</td>\n",
       "      <td>NaN</td>\n",
       "      <td>1200^00</td>\n",
       "      <td>15+yr</td>\n",
       "    </tr>\n",
       "    <tr>\n",
       "      <th>3</th>\n",
       "      <td>Lara*</td>\n",
       "      <td>Business^Analytics</td>\n",
       "      <td>NaN</td>\n",
       "      <td>Chnai</td>\n",
       "      <td>7%%000</td>\n",
       "      <td>5&gt;yrs</td>\n",
       "    </tr>\n",
       "    <tr>\n",
       "      <th>4</th>\n",
       "      <td>Omar#</td>\n",
       "      <td>DeepL^^earning</td>\n",
       "      <td>38-yr</td>\n",
       "      <td>Delhi</td>\n",
       "      <td>95000-</td>\n",
       "      <td>NaN</td>\n",
       "    </tr>\n",
       "  </tbody>\n",
       "</table>\n",
       "</div>"
      ],
      "text/plain": [
       "    Name              Domain    Age Location   Salary    Exp\n",
       "0  Alex$               AI&ML  29yrs    Pun@e  40@@000  3+yrs\n",
       "1  Rina^     Data-Engineer##    NaN   Mumabi   8$5000     <2\n",
       "2   Sam@     CyberSecu^^rity  52 yr      NaN  1200^00  15+yr\n",
       "3  Lara*  Business^Analytics    NaN    Chnai   7%%000  5>yrs\n",
       "4  Omar#      DeepL^^earning  38-yr    Delhi   95000-    NaN"
      ]
     },
     "execution_count": 2,
     "metadata": {},
     "output_type": "execute_result"
    }
   ],
   "source": [
    "df.head()"
   ]
  },
  {
   "cell_type": "code",
   "execution_count": 3,
   "id": "489d65ba-54bd-4d01-b2ef-31a03f40fe41",
   "metadata": {},
   "outputs": [
    {
     "data": {
      "text/html": [
       "<div>\n",
       "<style scoped>\n",
       "    .dataframe tbody tr th:only-of-type {\n",
       "        vertical-align: middle;\n",
       "    }\n",
       "\n",
       "    .dataframe tbody tr th {\n",
       "        vertical-align: top;\n",
       "    }\n",
       "\n",
       "    .dataframe thead th {\n",
       "        text-align: right;\n",
       "    }\n",
       "</style>\n",
       "<table border=\"1\" class=\"dataframe\">\n",
       "  <thead>\n",
       "    <tr style=\"text-align: right;\">\n",
       "      <th></th>\n",
       "      <th>Name</th>\n",
       "      <th>Domain</th>\n",
       "      <th>Age</th>\n",
       "      <th>Location</th>\n",
       "      <th>Salary</th>\n",
       "      <th>Exp</th>\n",
       "    </tr>\n",
       "  </thead>\n",
       "  <tbody>\n",
       "    <tr>\n",
       "      <th>1</th>\n",
       "      <td>Rina^</td>\n",
       "      <td>Data-Engineer##</td>\n",
       "      <td>NaN</td>\n",
       "      <td>Mumabi</td>\n",
       "      <td>8$5000</td>\n",
       "      <td>&lt;2</td>\n",
       "    </tr>\n",
       "    <tr>\n",
       "      <th>2</th>\n",
       "      <td>Sam@</td>\n",
       "      <td>CyberSecu^^rity</td>\n",
       "      <td>52 yr</td>\n",
       "      <td>NaN</td>\n",
       "      <td>1200^00</td>\n",
       "      <td>15+yr</td>\n",
       "    </tr>\n",
       "    <tr>\n",
       "      <th>3</th>\n",
       "      <td>Lara*</td>\n",
       "      <td>Business^Analytics</td>\n",
       "      <td>NaN</td>\n",
       "      <td>Chnai</td>\n",
       "      <td>7%%000</td>\n",
       "      <td>5&gt;yrs</td>\n",
       "    </tr>\n",
       "    <tr>\n",
       "      <th>4</th>\n",
       "      <td>Omar#</td>\n",
       "      <td>DeepL^^earning</td>\n",
       "      <td>38-yr</td>\n",
       "      <td>Delhi</td>\n",
       "      <td>95000-</td>\n",
       "      <td>NaN</td>\n",
       "    </tr>\n",
       "    <tr>\n",
       "      <th>5</th>\n",
       "      <td>Tina@</td>\n",
       "      <td>Cloud##Computing</td>\n",
       "      <td>44 yrs</td>\n",
       "      <td>Hydrabad</td>\n",
       "      <td>1$10%000</td>\n",
       "      <td>10+</td>\n",
       "    </tr>\n",
       "  </tbody>\n",
       "</table>\n",
       "</div>"
      ],
      "text/plain": [
       "    Name              Domain     Age  Location    Salary    Exp\n",
       "1  Rina^     Data-Engineer##     NaN    Mumabi    8$5000     <2\n",
       "2   Sam@     CyberSecu^^rity   52 yr       NaN   1200^00  15+yr\n",
       "3  Lara*  Business^Analytics     NaN     Chnai    7%%000  5>yrs\n",
       "4  Omar#      DeepL^^earning   38-yr     Delhi    95000-    NaN\n",
       "5  Tina@    Cloud##Computing  44 yrs  Hydrabad  1$10%000    10+"
      ]
     },
     "execution_count": 3,
     "metadata": {},
     "output_type": "execute_result"
    }
   ],
   "source": [
    "df.tail()"
   ]
  },
  {
   "cell_type": "code",
   "execution_count": 4,
   "id": "abb4ab7b-9179-42ef-bf8d-6f0ff3fc6061",
   "metadata": {},
   "outputs": [
    {
     "name": "stdout",
     "output_type": "stream",
     "text": [
      "<class 'pandas.core.frame.DataFrame'>\n",
      "RangeIndex: 6 entries, 0 to 5\n",
      "Data columns (total 6 columns):\n",
      " #   Column    Non-Null Count  Dtype \n",
      "---  ------    --------------  ----- \n",
      " 0   Name      6 non-null      object\n",
      " 1   Domain    6 non-null      object\n",
      " 2   Age       6 non-null      object\n",
      " 3   Location  6 non-null      object\n",
      " 4   Salary    6 non-null      object\n",
      " 5   Exp       6 non-null      object\n",
      "dtypes: object(6)\n",
      "memory usage: 420.0+ bytes\n"
     ]
    }
   ],
   "source": [
    "df.info()"
   ]
  },
  {
   "cell_type": "code",
   "execution_count": 5,
   "id": "933f5882-615f-4536-91d3-0355f3a73523",
   "metadata": {},
   "outputs": [
    {
     "data": {
      "text/plain": [
       "Index(['Name', 'Domain', 'Age', 'Location', 'Salary', 'Exp'], dtype='object')"
      ]
     },
     "execution_count": 5,
     "metadata": {},
     "output_type": "execute_result"
    }
   ],
   "source": [
    "df.columns"
   ]
  },
  {
   "cell_type": "code",
   "execution_count": 6,
   "id": "924c16a8-6cbf-4bf8-afb6-f8dcb81492e2",
   "metadata": {},
   "outputs": [
    {
     "data": {
      "text/html": [
       "<div>\n",
       "<style scoped>\n",
       "    .dataframe tbody tr th:only-of-type {\n",
       "        vertical-align: middle;\n",
       "    }\n",
       "\n",
       "    .dataframe tbody tr th {\n",
       "        vertical-align: top;\n",
       "    }\n",
       "\n",
       "    .dataframe thead th {\n",
       "        text-align: right;\n",
       "    }\n",
       "</style>\n",
       "<table border=\"1\" class=\"dataframe\">\n",
       "  <thead>\n",
       "    <tr style=\"text-align: right;\">\n",
       "      <th></th>\n",
       "      <th>Name</th>\n",
       "      <th>Domain</th>\n",
       "      <th>Age</th>\n",
       "      <th>Location</th>\n",
       "      <th>Salary</th>\n",
       "      <th>Exp</th>\n",
       "    </tr>\n",
       "  </thead>\n",
       "  <tbody>\n",
       "    <tr>\n",
       "      <th>0</th>\n",
       "      <td>False</td>\n",
       "      <td>False</td>\n",
       "      <td>False</td>\n",
       "      <td>False</td>\n",
       "      <td>False</td>\n",
       "      <td>False</td>\n",
       "    </tr>\n",
       "    <tr>\n",
       "      <th>1</th>\n",
       "      <td>False</td>\n",
       "      <td>False</td>\n",
       "      <td>False</td>\n",
       "      <td>False</td>\n",
       "      <td>False</td>\n",
       "      <td>False</td>\n",
       "    </tr>\n",
       "    <tr>\n",
       "      <th>2</th>\n",
       "      <td>False</td>\n",
       "      <td>False</td>\n",
       "      <td>False</td>\n",
       "      <td>False</td>\n",
       "      <td>False</td>\n",
       "      <td>False</td>\n",
       "    </tr>\n",
       "    <tr>\n",
       "      <th>3</th>\n",
       "      <td>False</td>\n",
       "      <td>False</td>\n",
       "      <td>False</td>\n",
       "      <td>False</td>\n",
       "      <td>False</td>\n",
       "      <td>False</td>\n",
       "    </tr>\n",
       "    <tr>\n",
       "      <th>4</th>\n",
       "      <td>False</td>\n",
       "      <td>False</td>\n",
       "      <td>False</td>\n",
       "      <td>False</td>\n",
       "      <td>False</td>\n",
       "      <td>False</td>\n",
       "    </tr>\n",
       "    <tr>\n",
       "      <th>5</th>\n",
       "      <td>False</td>\n",
       "      <td>False</td>\n",
       "      <td>False</td>\n",
       "      <td>False</td>\n",
       "      <td>False</td>\n",
       "      <td>False</td>\n",
       "    </tr>\n",
       "  </tbody>\n",
       "</table>\n",
       "</div>"
      ],
      "text/plain": [
       "    Name  Domain    Age  Location  Salary    Exp\n",
       "0  False   False  False     False   False  False\n",
       "1  False   False  False     False   False  False\n",
       "2  False   False  False     False   False  False\n",
       "3  False   False  False     False   False  False\n",
       "4  False   False  False     False   False  False\n",
       "5  False   False  False     False   False  False"
      ]
     },
     "execution_count": 6,
     "metadata": {},
     "output_type": "execute_result"
    }
   ],
   "source": [
    "df.isnull()"
   ]
  },
  {
   "cell_type": "code",
   "execution_count": 7,
   "id": "0b1bf2f9-eb2e-4623-9d22-bfd2fc514114",
   "metadata": {},
   "outputs": [
    {
     "data": {
      "text/html": [
       "<div>\n",
       "<style scoped>\n",
       "    .dataframe tbody tr th:only-of-type {\n",
       "        vertical-align: middle;\n",
       "    }\n",
       "\n",
       "    .dataframe tbody tr th {\n",
       "        vertical-align: top;\n",
       "    }\n",
       "\n",
       "    .dataframe thead th {\n",
       "        text-align: right;\n",
       "    }\n",
       "</style>\n",
       "<table border=\"1\" class=\"dataframe\">\n",
       "  <thead>\n",
       "    <tr style=\"text-align: right;\">\n",
       "      <th></th>\n",
       "      <th>Name</th>\n",
       "      <th>Domain</th>\n",
       "      <th>Age</th>\n",
       "      <th>Location</th>\n",
       "      <th>Salary</th>\n",
       "      <th>Exp</th>\n",
       "    </tr>\n",
       "  </thead>\n",
       "  <tbody>\n",
       "    <tr>\n",
       "      <th>0</th>\n",
       "      <td>Alex$</td>\n",
       "      <td>AI&amp;ML</td>\n",
       "      <td>29yrs</td>\n",
       "      <td>Pun@e</td>\n",
       "      <td>40@@000</td>\n",
       "      <td>3+yrs</td>\n",
       "    </tr>\n",
       "    <tr>\n",
       "      <th>1</th>\n",
       "      <td>Rina^</td>\n",
       "      <td>Data-Engineer##</td>\n",
       "      <td>NaN</td>\n",
       "      <td>Mumabi</td>\n",
       "      <td>8$5000</td>\n",
       "      <td>&lt;2</td>\n",
       "    </tr>\n",
       "    <tr>\n",
       "      <th>2</th>\n",
       "      <td>Sam@</td>\n",
       "      <td>CyberSecu^^rity</td>\n",
       "      <td>52 yr</td>\n",
       "      <td>NaN</td>\n",
       "      <td>1200^00</td>\n",
       "      <td>15+yr</td>\n",
       "    </tr>\n",
       "    <tr>\n",
       "      <th>3</th>\n",
       "      <td>Lara*</td>\n",
       "      <td>Business^Analytics</td>\n",
       "      <td>NaN</td>\n",
       "      <td>Chnai</td>\n",
       "      <td>7%%000</td>\n",
       "      <td>5&gt;yrs</td>\n",
       "    </tr>\n",
       "    <tr>\n",
       "      <th>4</th>\n",
       "      <td>Omar#</td>\n",
       "      <td>DeepL^^earning</td>\n",
       "      <td>38-yr</td>\n",
       "      <td>Delhi</td>\n",
       "      <td>95000-</td>\n",
       "      <td>NaN</td>\n",
       "    </tr>\n",
       "    <tr>\n",
       "      <th>5</th>\n",
       "      <td>Tina@</td>\n",
       "      <td>Cloud##Computing</td>\n",
       "      <td>44 yrs</td>\n",
       "      <td>Hydrabad</td>\n",
       "      <td>1$10%000</td>\n",
       "      <td>10+</td>\n",
       "    </tr>\n",
       "  </tbody>\n",
       "</table>\n",
       "</div>"
      ],
      "text/plain": [
       "    Name              Domain     Age  Location    Salary    Exp\n",
       "0  Alex$               AI&ML   29yrs     Pun@e   40@@000  3+yrs\n",
       "1  Rina^     Data-Engineer##     NaN    Mumabi    8$5000     <2\n",
       "2   Sam@     CyberSecu^^rity   52 yr       NaN   1200^00  15+yr\n",
       "3  Lara*  Business^Analytics     NaN     Chnai    7%%000  5>yrs\n",
       "4  Omar#      DeepL^^earning   38-yr     Delhi    95000-    NaN\n",
       "5  Tina@    Cloud##Computing  44 yrs  Hydrabad  1$10%000    10+"
      ]
     },
     "execution_count": 7,
     "metadata": {},
     "output_type": "execute_result"
    }
   ],
   "source": [
    "df"
   ]
  },
  {
   "cell_type": "code",
   "execution_count": 8,
   "id": "1beeaccb-4871-4191-9304-b364650fe724",
   "metadata": {},
   "outputs": [
    {
     "data": {
      "text/plain": [
       "Name        0\n",
       "Domain      0\n",
       "Age         0\n",
       "Location    0\n",
       "Salary      0\n",
       "Exp         0\n",
       "dtype: int64"
      ]
     },
     "execution_count": 8,
     "metadata": {},
     "output_type": "execute_result"
    }
   ],
   "source": [
    "df.isnull().sum()"
   ]
  },
  {
   "cell_type": "code",
   "execution_count": 10,
   "id": "f85de921-ad12-4c79-beda-5999f2f5787a",
   "metadata": {},
   "outputs": [
    {
     "data": {
      "text/plain": [
       "0    Alex\n",
       "1    Rina\n",
       "2     Sam\n",
       "3    Lara\n",
       "4    Omar\n",
       "5    Tina\n",
       "Name: Name, dtype: object"
      ]
     },
     "execution_count": 10,
     "metadata": {},
     "output_type": "execute_result"
    }
   ],
   "source": [
    "df['Name'] = df['Name'].str.replace(r'\\W','',regex=True)\n",
    "df['Name']"
   ]
  },
  {
   "cell_type": "code",
   "execution_count": 11,
   "id": "6309ad12-2827-4312-ac5a-2fdbc525e533",
   "metadata": {},
   "outputs": [
    {
     "data": {
      "text/plain": [
       "0                 AI&ML\n",
       "1       Data-Engineer##\n",
       "2       CyberSecu^^rity\n",
       "3    Business^Analytics\n",
       "4        DeepL^^earning\n",
       "5      Cloud##Computing\n",
       "Name: Domain, dtype: object"
      ]
     },
     "execution_count": 11,
     "metadata": {},
     "output_type": "execute_result"
    }
   ],
   "source": [
    "df['Domain']"
   ]
  },
  {
   "cell_type": "code",
   "execution_count": 12,
   "id": "7d29c114-7c8d-4fcb-bb09-2181af169eeb",
   "metadata": {},
   "outputs": [],
   "source": [
    "df['Domain'] = df['Domain'].str.replace(r'\\W','',regex=True)"
   ]
  },
  {
   "cell_type": "code",
   "execution_count": 13,
   "id": "49aba8a5-7b96-4a47-bef8-3db874e56ac0",
   "metadata": {},
   "outputs": [
    {
     "data": {
      "text/plain": [
       "0                 AIML\n",
       "1         DataEngineer\n",
       "2        CyberSecurity\n",
       "3    BusinessAnalytics\n",
       "4         DeepLearning\n",
       "5       CloudComputing\n",
       "Name: Domain, dtype: object"
      ]
     },
     "execution_count": 13,
     "metadata": {},
     "output_type": "execute_result"
    }
   ],
   "source": [
    "df['Domain']"
   ]
  },
  {
   "cell_type": "code",
   "execution_count": 14,
   "id": "5667dc03-5172-42c1-bb21-4cfcf814377a",
   "metadata": {},
   "outputs": [
    {
     "data": {
      "text/html": [
       "<div>\n",
       "<style scoped>\n",
       "    .dataframe tbody tr th:only-of-type {\n",
       "        vertical-align: middle;\n",
       "    }\n",
       "\n",
       "    .dataframe tbody tr th {\n",
       "        vertical-align: top;\n",
       "    }\n",
       "\n",
       "    .dataframe thead th {\n",
       "        text-align: right;\n",
       "    }\n",
       "</style>\n",
       "<table border=\"1\" class=\"dataframe\">\n",
       "  <thead>\n",
       "    <tr style=\"text-align: right;\">\n",
       "      <th></th>\n",
       "      <th>Name</th>\n",
       "      <th>Domain</th>\n",
       "      <th>Age</th>\n",
       "      <th>Location</th>\n",
       "      <th>Salary</th>\n",
       "      <th>Exp</th>\n",
       "    </tr>\n",
       "  </thead>\n",
       "  <tbody>\n",
       "    <tr>\n",
       "      <th>0</th>\n",
       "      <td>Alex</td>\n",
       "      <td>AIML</td>\n",
       "      <td>29yrs</td>\n",
       "      <td>Pun@e</td>\n",
       "      <td>40@@000</td>\n",
       "      <td>3+yrs</td>\n",
       "    </tr>\n",
       "    <tr>\n",
       "      <th>1</th>\n",
       "      <td>Rina</td>\n",
       "      <td>DataEngineer</td>\n",
       "      <td>NaN</td>\n",
       "      <td>Mumabi</td>\n",
       "      <td>8$5000</td>\n",
       "      <td>&lt;2</td>\n",
       "    </tr>\n",
       "    <tr>\n",
       "      <th>2</th>\n",
       "      <td>Sam</td>\n",
       "      <td>CyberSecurity</td>\n",
       "      <td>52 yr</td>\n",
       "      <td>NaN</td>\n",
       "      <td>1200^00</td>\n",
       "      <td>15+yr</td>\n",
       "    </tr>\n",
       "    <tr>\n",
       "      <th>3</th>\n",
       "      <td>Lara</td>\n",
       "      <td>BusinessAnalytics</td>\n",
       "      <td>NaN</td>\n",
       "      <td>Chnai</td>\n",
       "      <td>7%%000</td>\n",
       "      <td>5&gt;yrs</td>\n",
       "    </tr>\n",
       "    <tr>\n",
       "      <th>4</th>\n",
       "      <td>Omar</td>\n",
       "      <td>DeepLearning</td>\n",
       "      <td>38-yr</td>\n",
       "      <td>Delhi</td>\n",
       "      <td>95000-</td>\n",
       "      <td>NaN</td>\n",
       "    </tr>\n",
       "    <tr>\n",
       "      <th>5</th>\n",
       "      <td>Tina</td>\n",
       "      <td>CloudComputing</td>\n",
       "      <td>44 yrs</td>\n",
       "      <td>Hydrabad</td>\n",
       "      <td>1$10%000</td>\n",
       "      <td>10+</td>\n",
       "    </tr>\n",
       "  </tbody>\n",
       "</table>\n",
       "</div>"
      ],
      "text/plain": [
       "   Name             Domain     Age  Location    Salary    Exp\n",
       "0  Alex               AIML   29yrs     Pun@e   40@@000  3+yrs\n",
       "1  Rina       DataEngineer     NaN    Mumabi    8$5000     <2\n",
       "2   Sam      CyberSecurity   52 yr       NaN   1200^00  15+yr\n",
       "3  Lara  BusinessAnalytics     NaN     Chnai    7%%000  5>yrs\n",
       "4  Omar       DeepLearning   38-yr     Delhi    95000-    NaN\n",
       "5  Tina     CloudComputing  44 yrs  Hydrabad  1$10%000    10+"
      ]
     },
     "execution_count": 14,
     "metadata": {},
     "output_type": "execute_result"
    }
   ],
   "source": [
    "df"
   ]
  },
  {
   "cell_type": "code",
   "execution_count": 15,
   "id": "16e78baf-dce5-42a2-8afd-65118d609cd2",
   "metadata": {},
   "outputs": [
    {
     "data": {
      "text/plain": [
       "0     29yrs\n",
       "1       NaN\n",
       "2     52 yr\n",
       "3       NaN\n",
       "4     38-yr\n",
       "5    44 yrs\n",
       "Name: Age, dtype: object"
      ]
     },
     "execution_count": 15,
     "metadata": {},
     "output_type": "execute_result"
    }
   ],
   "source": [
    "df['Age']"
   ]
  },
  {
   "cell_type": "code",
   "execution_count": 16,
   "id": "e42fce67-b984-4929-90c8-e8793d8f7da1",
   "metadata": {},
   "outputs": [
    {
     "data": {
      "text/plain": [
       "0    29yrs\n",
       "1      NaN\n",
       "2     52yr\n",
       "3      NaN\n",
       "4     38yr\n",
       "5    44yrs\n",
       "Name: Age, dtype: object"
      ]
     },
     "execution_count": 16,
     "metadata": {},
     "output_type": "execute_result"
    }
   ],
   "source": [
    "df['Age'] = df['Age'].str.replace(r'\\W','',regex=True)\n",
    "df['Age']"
   ]
  },
  {
   "cell_type": "code",
   "execution_count": 17,
   "id": "aa20a43c-f541-4bd0-b1ab-00d801cb03cb",
   "metadata": {},
   "outputs": [
    {
     "data": {
      "text/plain": [
       "0     29\n",
       "1    NaN\n",
       "2     52\n",
       "3    NaN\n",
       "4     38\n",
       "5     44\n",
       "Name: Age, dtype: object"
      ]
     },
     "execution_count": 17,
     "metadata": {},
     "output_type": "execute_result"
    }
   ],
   "source": [
    "df['Age'] = df['Age'].str.extract('(\\\\d+)')\n",
    "df['Age']"
   ]
  },
  {
   "cell_type": "code",
   "execution_count": 18,
   "id": "ee4c203e-7b8f-4f18-82fe-3ffba9d76cd1",
   "metadata": {},
   "outputs": [
    {
     "data": {
      "text/html": [
       "<div>\n",
       "<style scoped>\n",
       "    .dataframe tbody tr th:only-of-type {\n",
       "        vertical-align: middle;\n",
       "    }\n",
       "\n",
       "    .dataframe tbody tr th {\n",
       "        vertical-align: top;\n",
       "    }\n",
       "\n",
       "    .dataframe thead th {\n",
       "        text-align: right;\n",
       "    }\n",
       "</style>\n",
       "<table border=\"1\" class=\"dataframe\">\n",
       "  <thead>\n",
       "    <tr style=\"text-align: right;\">\n",
       "      <th></th>\n",
       "      <th>Name</th>\n",
       "      <th>Domain</th>\n",
       "      <th>Age</th>\n",
       "      <th>Location</th>\n",
       "      <th>Salary</th>\n",
       "      <th>Exp</th>\n",
       "    </tr>\n",
       "  </thead>\n",
       "  <tbody>\n",
       "    <tr>\n",
       "      <th>0</th>\n",
       "      <td>Alex</td>\n",
       "      <td>AIML</td>\n",
       "      <td>29</td>\n",
       "      <td>Pun@e</td>\n",
       "      <td>40@@000</td>\n",
       "      <td>3+yrs</td>\n",
       "    </tr>\n",
       "    <tr>\n",
       "      <th>1</th>\n",
       "      <td>Rina</td>\n",
       "      <td>DataEngineer</td>\n",
       "      <td>NaN</td>\n",
       "      <td>Mumabi</td>\n",
       "      <td>8$5000</td>\n",
       "      <td>&lt;2</td>\n",
       "    </tr>\n",
       "    <tr>\n",
       "      <th>2</th>\n",
       "      <td>Sam</td>\n",
       "      <td>CyberSecurity</td>\n",
       "      <td>52</td>\n",
       "      <td>NaN</td>\n",
       "      <td>1200^00</td>\n",
       "      <td>15+yr</td>\n",
       "    </tr>\n",
       "    <tr>\n",
       "      <th>3</th>\n",
       "      <td>Lara</td>\n",
       "      <td>BusinessAnalytics</td>\n",
       "      <td>NaN</td>\n",
       "      <td>Chnai</td>\n",
       "      <td>7%%000</td>\n",
       "      <td>5&gt;yrs</td>\n",
       "    </tr>\n",
       "    <tr>\n",
       "      <th>4</th>\n",
       "      <td>Omar</td>\n",
       "      <td>DeepLearning</td>\n",
       "      <td>38</td>\n",
       "      <td>Delhi</td>\n",
       "      <td>95000-</td>\n",
       "      <td>NaN</td>\n",
       "    </tr>\n",
       "    <tr>\n",
       "      <th>5</th>\n",
       "      <td>Tina</td>\n",
       "      <td>CloudComputing</td>\n",
       "      <td>44</td>\n",
       "      <td>Hydrabad</td>\n",
       "      <td>1$10%000</td>\n",
       "      <td>10+</td>\n",
       "    </tr>\n",
       "  </tbody>\n",
       "</table>\n",
       "</div>"
      ],
      "text/plain": [
       "   Name             Domain  Age  Location    Salary    Exp\n",
       "0  Alex               AIML   29     Pun@e   40@@000  3+yrs\n",
       "1  Rina       DataEngineer  NaN    Mumabi    8$5000     <2\n",
       "2   Sam      CyberSecurity   52       NaN   1200^00  15+yr\n",
       "3  Lara  BusinessAnalytics  NaN     Chnai    7%%000  5>yrs\n",
       "4  Omar       DeepLearning   38     Delhi    95000-    NaN\n",
       "5  Tina     CloudComputing   44  Hydrabad  1$10%000    10+"
      ]
     },
     "execution_count": 18,
     "metadata": {},
     "output_type": "execute_result"
    }
   ],
   "source": [
    "df"
   ]
  },
  {
   "cell_type": "code",
   "execution_count": 19,
   "id": "e55efec9-ae09-4766-8714-78afff81f1d3",
   "metadata": {},
   "outputs": [
    {
     "data": {
      "text/plain": [
       "0       Pun@e\n",
       "1      Mumabi\n",
       "2         NaN\n",
       "3       Chnai\n",
       "4       Delhi\n",
       "5    Hydrabad\n",
       "Name: Location, dtype: object"
      ]
     },
     "execution_count": 19,
     "metadata": {},
     "output_type": "execute_result"
    }
   ],
   "source": [
    "df['Location']"
   ]
  },
  {
   "cell_type": "code",
   "execution_count": 20,
   "id": "225d15d6-0e1a-42f3-9550-48479f7e2987",
   "metadata": {},
   "outputs": [
    {
     "data": {
      "text/plain": [
       "0        Pune\n",
       "1      Mumabi\n",
       "2         NaN\n",
       "3       Chnai\n",
       "4       Delhi\n",
       "5    Hydrabad\n",
       "Name: Location, dtype: object"
      ]
     },
     "execution_count": 20,
     "metadata": {},
     "output_type": "execute_result"
    }
   ],
   "source": [
    "df['Location'] = df['Location'].str.replace(r'\\W','',regex=True)\n",
    "df['Location']"
   ]
  },
  {
   "cell_type": "code",
   "execution_count": 21,
   "id": "8c446d5e-4163-43e2-b666-7c82b27c4ed7",
   "metadata": {},
   "outputs": [
    {
     "data": {
      "text/html": [
       "<div>\n",
       "<style scoped>\n",
       "    .dataframe tbody tr th:only-of-type {\n",
       "        vertical-align: middle;\n",
       "    }\n",
       "\n",
       "    .dataframe tbody tr th {\n",
       "        vertical-align: top;\n",
       "    }\n",
       "\n",
       "    .dataframe thead th {\n",
       "        text-align: right;\n",
       "    }\n",
       "</style>\n",
       "<table border=\"1\" class=\"dataframe\">\n",
       "  <thead>\n",
       "    <tr style=\"text-align: right;\">\n",
       "      <th></th>\n",
       "      <th>Name</th>\n",
       "      <th>Domain</th>\n",
       "      <th>Age</th>\n",
       "      <th>Location</th>\n",
       "      <th>Salary</th>\n",
       "      <th>Exp</th>\n",
       "    </tr>\n",
       "  </thead>\n",
       "  <tbody>\n",
       "    <tr>\n",
       "      <th>0</th>\n",
       "      <td>Alex</td>\n",
       "      <td>AIML</td>\n",
       "      <td>29</td>\n",
       "      <td>Pune</td>\n",
       "      <td>40@@000</td>\n",
       "      <td>3+yrs</td>\n",
       "    </tr>\n",
       "    <tr>\n",
       "      <th>1</th>\n",
       "      <td>Rina</td>\n",
       "      <td>DataEngineer</td>\n",
       "      <td>NaN</td>\n",
       "      <td>Mumabi</td>\n",
       "      <td>8$5000</td>\n",
       "      <td>&lt;2</td>\n",
       "    </tr>\n",
       "    <tr>\n",
       "      <th>2</th>\n",
       "      <td>Sam</td>\n",
       "      <td>CyberSecurity</td>\n",
       "      <td>52</td>\n",
       "      <td>NaN</td>\n",
       "      <td>1200^00</td>\n",
       "      <td>15+yr</td>\n",
       "    </tr>\n",
       "    <tr>\n",
       "      <th>3</th>\n",
       "      <td>Lara</td>\n",
       "      <td>BusinessAnalytics</td>\n",
       "      <td>NaN</td>\n",
       "      <td>Chnai</td>\n",
       "      <td>7%%000</td>\n",
       "      <td>5&gt;yrs</td>\n",
       "    </tr>\n",
       "    <tr>\n",
       "      <th>4</th>\n",
       "      <td>Omar</td>\n",
       "      <td>DeepLearning</td>\n",
       "      <td>38</td>\n",
       "      <td>Delhi</td>\n",
       "      <td>95000-</td>\n",
       "      <td>NaN</td>\n",
       "    </tr>\n",
       "    <tr>\n",
       "      <th>5</th>\n",
       "      <td>Tina</td>\n",
       "      <td>CloudComputing</td>\n",
       "      <td>44</td>\n",
       "      <td>Hydrabad</td>\n",
       "      <td>1$10%000</td>\n",
       "      <td>10+</td>\n",
       "    </tr>\n",
       "  </tbody>\n",
       "</table>\n",
       "</div>"
      ],
      "text/plain": [
       "   Name             Domain  Age  Location    Salary    Exp\n",
       "0  Alex               AIML   29      Pune   40@@000  3+yrs\n",
       "1  Rina       DataEngineer  NaN    Mumabi    8$5000     <2\n",
       "2   Sam      CyberSecurity   52       NaN   1200^00  15+yr\n",
       "3  Lara  BusinessAnalytics  NaN     Chnai    7%%000  5>yrs\n",
       "4  Omar       DeepLearning   38     Delhi    95000-    NaN\n",
       "5  Tina     CloudComputing   44  Hydrabad  1$10%000    10+"
      ]
     },
     "execution_count": 21,
     "metadata": {},
     "output_type": "execute_result"
    }
   ],
   "source": [
    "df"
   ]
  },
  {
   "cell_type": "code",
   "execution_count": 22,
   "id": "2322bca3-c7b0-4ba5-a4a9-c4f7577d27be",
   "metadata": {},
   "outputs": [
    {
     "data": {
      "text/plain": [
       "0     40@@000\n",
       "1      8$5000\n",
       "2     1200^00\n",
       "3      7%%000\n",
       "4      95000-\n",
       "5    1$10%000\n",
       "Name: Salary, dtype: object"
      ]
     },
     "execution_count": 22,
     "metadata": {},
     "output_type": "execute_result"
    }
   ],
   "source": [
    "df['Salary']"
   ]
  },
  {
   "cell_type": "code",
   "execution_count": 23,
   "id": "80a3c3c1-c2e1-4e97-9547-ba60a7635455",
   "metadata": {},
   "outputs": [
    {
     "data": {
      "text/plain": [
       "0     40000\n",
       "1     85000\n",
       "2    120000\n",
       "3      7000\n",
       "4     95000\n",
       "5    110000\n",
       "Name: Salary, dtype: object"
      ]
     },
     "execution_count": 23,
     "metadata": {},
     "output_type": "execute_result"
    }
   ],
   "source": [
    "df['Salary'] = df['Salary'].str.replace(r'\\W','',regex=True)\n",
    "df['Salary']"
   ]
  },
  {
   "cell_type": "code",
   "execution_count": 24,
   "id": "4702cf04-b87c-4edc-b0b1-77c48a833c5d",
   "metadata": {},
   "outputs": [
    {
     "data": {
      "text/html": [
       "<div>\n",
       "<style scoped>\n",
       "    .dataframe tbody tr th:only-of-type {\n",
       "        vertical-align: middle;\n",
       "    }\n",
       "\n",
       "    .dataframe tbody tr th {\n",
       "        vertical-align: top;\n",
       "    }\n",
       "\n",
       "    .dataframe thead th {\n",
       "        text-align: right;\n",
       "    }\n",
       "</style>\n",
       "<table border=\"1\" class=\"dataframe\">\n",
       "  <thead>\n",
       "    <tr style=\"text-align: right;\">\n",
       "      <th></th>\n",
       "      <th>Name</th>\n",
       "      <th>Domain</th>\n",
       "      <th>Age</th>\n",
       "      <th>Location</th>\n",
       "      <th>Salary</th>\n",
       "      <th>Exp</th>\n",
       "    </tr>\n",
       "  </thead>\n",
       "  <tbody>\n",
       "    <tr>\n",
       "      <th>0</th>\n",
       "      <td>Alex</td>\n",
       "      <td>AIML</td>\n",
       "      <td>29</td>\n",
       "      <td>Pune</td>\n",
       "      <td>40000</td>\n",
       "      <td>3+yrs</td>\n",
       "    </tr>\n",
       "    <tr>\n",
       "      <th>1</th>\n",
       "      <td>Rina</td>\n",
       "      <td>DataEngineer</td>\n",
       "      <td>NaN</td>\n",
       "      <td>Mumabi</td>\n",
       "      <td>85000</td>\n",
       "      <td>&lt;2</td>\n",
       "    </tr>\n",
       "    <tr>\n",
       "      <th>2</th>\n",
       "      <td>Sam</td>\n",
       "      <td>CyberSecurity</td>\n",
       "      <td>52</td>\n",
       "      <td>NaN</td>\n",
       "      <td>120000</td>\n",
       "      <td>15+yr</td>\n",
       "    </tr>\n",
       "    <tr>\n",
       "      <th>3</th>\n",
       "      <td>Lara</td>\n",
       "      <td>BusinessAnalytics</td>\n",
       "      <td>NaN</td>\n",
       "      <td>Chnai</td>\n",
       "      <td>7000</td>\n",
       "      <td>5&gt;yrs</td>\n",
       "    </tr>\n",
       "    <tr>\n",
       "      <th>4</th>\n",
       "      <td>Omar</td>\n",
       "      <td>DeepLearning</td>\n",
       "      <td>38</td>\n",
       "      <td>Delhi</td>\n",
       "      <td>95000</td>\n",
       "      <td>NaN</td>\n",
       "    </tr>\n",
       "    <tr>\n",
       "      <th>5</th>\n",
       "      <td>Tina</td>\n",
       "      <td>CloudComputing</td>\n",
       "      <td>44</td>\n",
       "      <td>Hydrabad</td>\n",
       "      <td>110000</td>\n",
       "      <td>10+</td>\n",
       "    </tr>\n",
       "  </tbody>\n",
       "</table>\n",
       "</div>"
      ],
      "text/plain": [
       "   Name             Domain  Age  Location  Salary    Exp\n",
       "0  Alex               AIML   29      Pune   40000  3+yrs\n",
       "1  Rina       DataEngineer  NaN    Mumabi   85000     <2\n",
       "2   Sam      CyberSecurity   52       NaN  120000  15+yr\n",
       "3  Lara  BusinessAnalytics  NaN     Chnai    7000  5>yrs\n",
       "4  Omar       DeepLearning   38     Delhi   95000    NaN\n",
       "5  Tina     CloudComputing   44  Hydrabad  110000    10+"
      ]
     },
     "execution_count": 24,
     "metadata": {},
     "output_type": "execute_result"
    }
   ],
   "source": [
    "df"
   ]
  },
  {
   "cell_type": "code",
   "execution_count": 25,
   "id": "06fe18af-872e-4a59-9b8d-c4b18d758181",
   "metadata": {},
   "outputs": [
    {
     "data": {
      "text/plain": [
       "0    3+yrs\n",
       "1       <2\n",
       "2    15+yr\n",
       "3    5>yrs\n",
       "4      NaN\n",
       "5      10+\n",
       "Name: Exp, dtype: object"
      ]
     },
     "execution_count": 25,
     "metadata": {},
     "output_type": "execute_result"
    }
   ],
   "source": [
    "df['Exp']"
   ]
  },
  {
   "cell_type": "code",
   "execution_count": 26,
   "id": "0b994eec-d9b5-4249-94fa-43c9d5254706",
   "metadata": {},
   "outputs": [
    {
     "data": {
      "text/plain": [
       "0    3yrs\n",
       "1       2\n",
       "2    15yr\n",
       "3    5yrs\n",
       "4     NaN\n",
       "5      10\n",
       "Name: Exp, dtype: object"
      ]
     },
     "execution_count": 26,
     "metadata": {},
     "output_type": "execute_result"
    }
   ],
   "source": [
    "df['Exp'] = df['Exp'].str.replace(r'\\W','',regex=True)\n",
    "df['Exp']"
   ]
  },
  {
   "cell_type": "code",
   "execution_count": 27,
   "id": "d16a9ae4-fdaa-4e3e-bf84-0963b0110003",
   "metadata": {},
   "outputs": [
    {
     "data": {
      "text/plain": [
       "0      3\n",
       "1      2\n",
       "2     15\n",
       "3      5\n",
       "4    NaN\n",
       "5     10\n",
       "Name: Exp, dtype: object"
      ]
     },
     "execution_count": 27,
     "metadata": {},
     "output_type": "execute_result"
    }
   ],
   "source": [
    "df['Exp'] = df['Exp'].str.extract('(\\\\d+)')\n",
    "df['Exp']"
   ]
  },
  {
   "cell_type": "code",
   "execution_count": 28,
   "id": "dc2e3429-a8b7-4710-9fd0-24384624634d",
   "metadata": {},
   "outputs": [
    {
     "data": {
      "text/html": [
       "<div>\n",
       "<style scoped>\n",
       "    .dataframe tbody tr th:only-of-type {\n",
       "        vertical-align: middle;\n",
       "    }\n",
       "\n",
       "    .dataframe tbody tr th {\n",
       "        vertical-align: top;\n",
       "    }\n",
       "\n",
       "    .dataframe thead th {\n",
       "        text-align: right;\n",
       "    }\n",
       "</style>\n",
       "<table border=\"1\" class=\"dataframe\">\n",
       "  <thead>\n",
       "    <tr style=\"text-align: right;\">\n",
       "      <th></th>\n",
       "      <th>Name</th>\n",
       "      <th>Domain</th>\n",
       "      <th>Age</th>\n",
       "      <th>Location</th>\n",
       "      <th>Salary</th>\n",
       "      <th>Exp</th>\n",
       "    </tr>\n",
       "  </thead>\n",
       "  <tbody>\n",
       "    <tr>\n",
       "      <th>0</th>\n",
       "      <td>Alex</td>\n",
       "      <td>AIML</td>\n",
       "      <td>29</td>\n",
       "      <td>Pune</td>\n",
       "      <td>40000</td>\n",
       "      <td>3</td>\n",
       "    </tr>\n",
       "    <tr>\n",
       "      <th>1</th>\n",
       "      <td>Rina</td>\n",
       "      <td>DataEngineer</td>\n",
       "      <td>NaN</td>\n",
       "      <td>Mumabi</td>\n",
       "      <td>85000</td>\n",
       "      <td>2</td>\n",
       "    </tr>\n",
       "    <tr>\n",
       "      <th>2</th>\n",
       "      <td>Sam</td>\n",
       "      <td>CyberSecurity</td>\n",
       "      <td>52</td>\n",
       "      <td>NaN</td>\n",
       "      <td>120000</td>\n",
       "      <td>15</td>\n",
       "    </tr>\n",
       "    <tr>\n",
       "      <th>3</th>\n",
       "      <td>Lara</td>\n",
       "      <td>BusinessAnalytics</td>\n",
       "      <td>NaN</td>\n",
       "      <td>Chnai</td>\n",
       "      <td>7000</td>\n",
       "      <td>5</td>\n",
       "    </tr>\n",
       "    <tr>\n",
       "      <th>4</th>\n",
       "      <td>Omar</td>\n",
       "      <td>DeepLearning</td>\n",
       "      <td>38</td>\n",
       "      <td>Delhi</td>\n",
       "      <td>95000</td>\n",
       "      <td>NaN</td>\n",
       "    </tr>\n",
       "    <tr>\n",
       "      <th>5</th>\n",
       "      <td>Tina</td>\n",
       "      <td>CloudComputing</td>\n",
       "      <td>44</td>\n",
       "      <td>Hydrabad</td>\n",
       "      <td>110000</td>\n",
       "      <td>10</td>\n",
       "    </tr>\n",
       "  </tbody>\n",
       "</table>\n",
       "</div>"
      ],
      "text/plain": [
       "   Name             Domain  Age  Location  Salary  Exp\n",
       "0  Alex               AIML   29      Pune   40000    3\n",
       "1  Rina       DataEngineer  NaN    Mumabi   85000    2\n",
       "2   Sam      CyberSecurity   52       NaN  120000   15\n",
       "3  Lara  BusinessAnalytics  NaN     Chnai    7000    5\n",
       "4  Omar       DeepLearning   38     Delhi   95000  NaN\n",
       "5  Tina     CloudComputing   44  Hydrabad  110000   10"
      ]
     },
     "execution_count": 28,
     "metadata": {},
     "output_type": "execute_result"
    }
   ],
   "source": [
    "df"
   ]
  },
  {
   "cell_type": "code",
   "execution_count": 32,
   "id": "415b5e4a-6109-4908-88c7-37ecf8e354b4",
   "metadata": {},
   "outputs": [],
   "source": [
    "clean_data = df.copy()"
   ]
  },
  {
   "cell_type": "code",
   "execution_count": 33,
   "id": "b82f845d-0fe1-498e-ab44-7a170821f9c8",
   "metadata": {},
   "outputs": [
    {
     "data": {
      "text/html": [
       "<div>\n",
       "<style scoped>\n",
       "    .dataframe tbody tr th:only-of-type {\n",
       "        vertical-align: middle;\n",
       "    }\n",
       "\n",
       "    .dataframe tbody tr th {\n",
       "        vertical-align: top;\n",
       "    }\n",
       "\n",
       "    .dataframe thead th {\n",
       "        text-align: right;\n",
       "    }\n",
       "</style>\n",
       "<table border=\"1\" class=\"dataframe\">\n",
       "  <thead>\n",
       "    <tr style=\"text-align: right;\">\n",
       "      <th></th>\n",
       "      <th>Name</th>\n",
       "      <th>Domain</th>\n",
       "      <th>Age</th>\n",
       "      <th>Location</th>\n",
       "      <th>Salary</th>\n",
       "      <th>Exp</th>\n",
       "    </tr>\n",
       "  </thead>\n",
       "  <tbody>\n",
       "    <tr>\n",
       "      <th>0</th>\n",
       "      <td>Alex</td>\n",
       "      <td>AIML</td>\n",
       "      <td>29</td>\n",
       "      <td>Pune</td>\n",
       "      <td>40000</td>\n",
       "      <td>3</td>\n",
       "    </tr>\n",
       "    <tr>\n",
       "      <th>1</th>\n",
       "      <td>Rina</td>\n",
       "      <td>DataEngineer</td>\n",
       "      <td>NaN</td>\n",
       "      <td>Mumabi</td>\n",
       "      <td>85000</td>\n",
       "      <td>2</td>\n",
       "    </tr>\n",
       "    <tr>\n",
       "      <th>2</th>\n",
       "      <td>Sam</td>\n",
       "      <td>CyberSecurity</td>\n",
       "      <td>52</td>\n",
       "      <td>NaN</td>\n",
       "      <td>120000</td>\n",
       "      <td>15</td>\n",
       "    </tr>\n",
       "    <tr>\n",
       "      <th>3</th>\n",
       "      <td>Lara</td>\n",
       "      <td>BusinessAnalytics</td>\n",
       "      <td>NaN</td>\n",
       "      <td>Chnai</td>\n",
       "      <td>7000</td>\n",
       "      <td>5</td>\n",
       "    </tr>\n",
       "    <tr>\n",
       "      <th>4</th>\n",
       "      <td>Omar</td>\n",
       "      <td>DeepLearning</td>\n",
       "      <td>38</td>\n",
       "      <td>Delhi</td>\n",
       "      <td>95000</td>\n",
       "      <td>NaN</td>\n",
       "    </tr>\n",
       "    <tr>\n",
       "      <th>5</th>\n",
       "      <td>Tina</td>\n",
       "      <td>CloudComputing</td>\n",
       "      <td>44</td>\n",
       "      <td>Hydrabad</td>\n",
       "      <td>110000</td>\n",
       "      <td>10</td>\n",
       "    </tr>\n",
       "  </tbody>\n",
       "</table>\n",
       "</div>"
      ],
      "text/plain": [
       "   Name             Domain  Age  Location  Salary  Exp\n",
       "0  Alex               AIML   29      Pune   40000    3\n",
       "1  Rina       DataEngineer  NaN    Mumabi   85000    2\n",
       "2   Sam      CyberSecurity   52       NaN  120000   15\n",
       "3  Lara  BusinessAnalytics  NaN     Chnai    7000    5\n",
       "4  Omar       DeepLearning   38     Delhi   95000  NaN\n",
       "5  Tina     CloudComputing   44  Hydrabad  110000   10"
      ]
     },
     "execution_count": 33,
     "metadata": {},
     "output_type": "execute_result"
    }
   ],
   "source": [
    "clean_data"
   ]
  },
  {
   "cell_type": "code",
   "execution_count": 34,
   "id": "ac0fe07c-c0ed-4722-8610-a8a4a8f7a7c7",
   "metadata": {},
   "outputs": [
    {
     "data": {
      "text/html": [
       "<div>\n",
       "<style scoped>\n",
       "    .dataframe tbody tr th:only-of-type {\n",
       "        vertical-align: middle;\n",
       "    }\n",
       "\n",
       "    .dataframe tbody tr th {\n",
       "        vertical-align: top;\n",
       "    }\n",
       "\n",
       "    .dataframe thead th {\n",
       "        text-align: right;\n",
       "    }\n",
       "</style>\n",
       "<table border=\"1\" class=\"dataframe\">\n",
       "  <thead>\n",
       "    <tr style=\"text-align: right;\">\n",
       "      <th></th>\n",
       "      <th>Name</th>\n",
       "      <th>Domain</th>\n",
       "      <th>Age</th>\n",
       "      <th>Location</th>\n",
       "      <th>Salary</th>\n",
       "      <th>Exp</th>\n",
       "    </tr>\n",
       "  </thead>\n",
       "  <tbody>\n",
       "    <tr>\n",
       "      <th>0</th>\n",
       "      <td>Alex</td>\n",
       "      <td>AIML</td>\n",
       "      <td>29</td>\n",
       "      <td>Pune</td>\n",
       "      <td>40000</td>\n",
       "      <td>3</td>\n",
       "    </tr>\n",
       "    <tr>\n",
       "      <th>1</th>\n",
       "      <td>Rina</td>\n",
       "      <td>DataEngineer</td>\n",
       "      <td>NaN</td>\n",
       "      <td>Mumabi</td>\n",
       "      <td>85000</td>\n",
       "      <td>2</td>\n",
       "    </tr>\n",
       "    <tr>\n",
       "      <th>2</th>\n",
       "      <td>Sam</td>\n",
       "      <td>CyberSecurity</td>\n",
       "      <td>52</td>\n",
       "      <td>NaN</td>\n",
       "      <td>120000</td>\n",
       "      <td>15</td>\n",
       "    </tr>\n",
       "    <tr>\n",
       "      <th>3</th>\n",
       "      <td>Lara</td>\n",
       "      <td>BusinessAnalytics</td>\n",
       "      <td>NaN</td>\n",
       "      <td>Chnai</td>\n",
       "      <td>7000</td>\n",
       "      <td>5</td>\n",
       "    </tr>\n",
       "    <tr>\n",
       "      <th>4</th>\n",
       "      <td>Omar</td>\n",
       "      <td>DeepLearning</td>\n",
       "      <td>38</td>\n",
       "      <td>Delhi</td>\n",
       "      <td>95000</td>\n",
       "      <td>NaN</td>\n",
       "    </tr>\n",
       "  </tbody>\n",
       "</table>\n",
       "</div>"
      ],
      "text/plain": [
       "   Name             Domain  Age Location  Salary  Exp\n",
       "0  Alex               AIML   29     Pune   40000    3\n",
       "1  Rina       DataEngineer  NaN   Mumabi   85000    2\n",
       "2   Sam      CyberSecurity   52      NaN  120000   15\n",
       "3  Lara  BusinessAnalytics  NaN    Chnai    7000    5\n",
       "4  Omar       DeepLearning   38    Delhi   95000  NaN"
      ]
     },
     "execution_count": 34,
     "metadata": {},
     "output_type": "execute_result"
    }
   ],
   "source": [
    "clean_data.head()"
   ]
  },
  {
   "cell_type": "code",
   "execution_count": 35,
   "id": "5bcc8ef8-401b-4d72-8e66-7a224b077471",
   "metadata": {},
   "outputs": [
    {
     "data": {
      "text/html": [
       "<div>\n",
       "<style scoped>\n",
       "    .dataframe tbody tr th:only-of-type {\n",
       "        vertical-align: middle;\n",
       "    }\n",
       "\n",
       "    .dataframe tbody tr th {\n",
       "        vertical-align: top;\n",
       "    }\n",
       "\n",
       "    .dataframe thead th {\n",
       "        text-align: right;\n",
       "    }\n",
       "</style>\n",
       "<table border=\"1\" class=\"dataframe\">\n",
       "  <thead>\n",
       "    <tr style=\"text-align: right;\">\n",
       "      <th></th>\n",
       "      <th>Name</th>\n",
       "      <th>Domain</th>\n",
       "      <th>Age</th>\n",
       "      <th>Location</th>\n",
       "      <th>Salary</th>\n",
       "      <th>Exp</th>\n",
       "    </tr>\n",
       "  </thead>\n",
       "  <tbody>\n",
       "    <tr>\n",
       "      <th>1</th>\n",
       "      <td>Rina</td>\n",
       "      <td>DataEngineer</td>\n",
       "      <td>NaN</td>\n",
       "      <td>Mumabi</td>\n",
       "      <td>85000</td>\n",
       "      <td>2</td>\n",
       "    </tr>\n",
       "    <tr>\n",
       "      <th>2</th>\n",
       "      <td>Sam</td>\n",
       "      <td>CyberSecurity</td>\n",
       "      <td>52</td>\n",
       "      <td>NaN</td>\n",
       "      <td>120000</td>\n",
       "      <td>15</td>\n",
       "    </tr>\n",
       "    <tr>\n",
       "      <th>3</th>\n",
       "      <td>Lara</td>\n",
       "      <td>BusinessAnalytics</td>\n",
       "      <td>NaN</td>\n",
       "      <td>Chnai</td>\n",
       "      <td>7000</td>\n",
       "      <td>5</td>\n",
       "    </tr>\n",
       "    <tr>\n",
       "      <th>4</th>\n",
       "      <td>Omar</td>\n",
       "      <td>DeepLearning</td>\n",
       "      <td>38</td>\n",
       "      <td>Delhi</td>\n",
       "      <td>95000</td>\n",
       "      <td>NaN</td>\n",
       "    </tr>\n",
       "    <tr>\n",
       "      <th>5</th>\n",
       "      <td>Tina</td>\n",
       "      <td>CloudComputing</td>\n",
       "      <td>44</td>\n",
       "      <td>Hydrabad</td>\n",
       "      <td>110000</td>\n",
       "      <td>10</td>\n",
       "    </tr>\n",
       "  </tbody>\n",
       "</table>\n",
       "</div>"
      ],
      "text/plain": [
       "   Name             Domain  Age  Location  Salary  Exp\n",
       "1  Rina       DataEngineer  NaN    Mumabi   85000    2\n",
       "2   Sam      CyberSecurity   52       NaN  120000   15\n",
       "3  Lara  BusinessAnalytics  NaN     Chnai    7000    5\n",
       "4  Omar       DeepLearning   38     Delhi   95000  NaN\n",
       "5  Tina     CloudComputing   44  Hydrabad  110000   10"
      ]
     },
     "execution_count": 35,
     "metadata": {},
     "output_type": "execute_result"
    }
   ],
   "source": [
    "clean_data.tail()"
   ]
  },
  {
   "cell_type": "code",
   "execution_count": 36,
   "id": "2630ef9e-6350-4ec3-99af-d68702f1448c",
   "metadata": {},
   "outputs": [
    {
     "name": "stdout",
     "output_type": "stream",
     "text": [
      "<class 'pandas.core.frame.DataFrame'>\n",
      "RangeIndex: 6 entries, 0 to 5\n",
      "Data columns (total 6 columns):\n",
      " #   Column    Non-Null Count  Dtype \n",
      "---  ------    --------------  ----- \n",
      " 0   Name      6 non-null      object\n",
      " 1   Domain    6 non-null      object\n",
      " 2   Age       4 non-null      object\n",
      " 3   Location  6 non-null      object\n",
      " 4   Salary    6 non-null      object\n",
      " 5   Exp       5 non-null      object\n",
      "dtypes: object(6)\n",
      "memory usage: 420.0+ bytes\n"
     ]
    }
   ],
   "source": [
    "clean_data.info()"
   ]
  },
  {
   "cell_type": "code",
   "execution_count": 37,
   "id": "1619d437-f8ca-4276-865c-4f5d9bc0201e",
   "metadata": {},
   "outputs": [
    {
     "data": {
      "text/html": [
       "<div>\n",
       "<style scoped>\n",
       "    .dataframe tbody tr th:only-of-type {\n",
       "        vertical-align: middle;\n",
       "    }\n",
       "\n",
       "    .dataframe tbody tr th {\n",
       "        vertical-align: top;\n",
       "    }\n",
       "\n",
       "    .dataframe thead th {\n",
       "        text-align: right;\n",
       "    }\n",
       "</style>\n",
       "<table border=\"1\" class=\"dataframe\">\n",
       "  <thead>\n",
       "    <tr style=\"text-align: right;\">\n",
       "      <th></th>\n",
       "      <th>Name</th>\n",
       "      <th>Domain</th>\n",
       "      <th>Age</th>\n",
       "      <th>Location</th>\n",
       "      <th>Salary</th>\n",
       "      <th>Exp</th>\n",
       "    </tr>\n",
       "  </thead>\n",
       "  <tbody>\n",
       "    <tr>\n",
       "      <th>0</th>\n",
       "      <td>Alex</td>\n",
       "      <td>AIML</td>\n",
       "      <td>29</td>\n",
       "      <td>Pune</td>\n",
       "      <td>40000</td>\n",
       "      <td>3</td>\n",
       "    </tr>\n",
       "    <tr>\n",
       "      <th>1</th>\n",
       "      <td>Rina</td>\n",
       "      <td>DataEngineer</td>\n",
       "      <td>NaN</td>\n",
       "      <td>Mumabi</td>\n",
       "      <td>85000</td>\n",
       "      <td>2</td>\n",
       "    </tr>\n",
       "    <tr>\n",
       "      <th>2</th>\n",
       "      <td>Sam</td>\n",
       "      <td>CyberSecurity</td>\n",
       "      <td>52</td>\n",
       "      <td>NaN</td>\n",
       "      <td>120000</td>\n",
       "      <td>15</td>\n",
       "    </tr>\n",
       "    <tr>\n",
       "      <th>3</th>\n",
       "      <td>Lara</td>\n",
       "      <td>BusinessAnalytics</td>\n",
       "      <td>NaN</td>\n",
       "      <td>Chnai</td>\n",
       "      <td>7000</td>\n",
       "      <td>5</td>\n",
       "    </tr>\n",
       "    <tr>\n",
       "      <th>4</th>\n",
       "      <td>Omar</td>\n",
       "      <td>DeepLearning</td>\n",
       "      <td>38</td>\n",
       "      <td>Delhi</td>\n",
       "      <td>95000</td>\n",
       "      <td>NaN</td>\n",
       "    </tr>\n",
       "    <tr>\n",
       "      <th>5</th>\n",
       "      <td>Tina</td>\n",
       "      <td>CloudComputing</td>\n",
       "      <td>44</td>\n",
       "      <td>Hydrabad</td>\n",
       "      <td>110000</td>\n",
       "      <td>10</td>\n",
       "    </tr>\n",
       "  </tbody>\n",
       "</table>\n",
       "</div>"
      ],
      "text/plain": [
       "   Name             Domain  Age  Location  Salary  Exp\n",
       "0  Alex               AIML   29      Pune   40000    3\n",
       "1  Rina       DataEngineer  NaN    Mumabi   85000    2\n",
       "2   Sam      CyberSecurity   52       NaN  120000   15\n",
       "3  Lara  BusinessAnalytics  NaN     Chnai    7000    5\n",
       "4  Omar       DeepLearning   38     Delhi   95000  NaN\n",
       "5  Tina     CloudComputing   44  Hydrabad  110000   10"
      ]
     },
     "execution_count": 37,
     "metadata": {},
     "output_type": "execute_result"
    }
   ],
   "source": [
    "clean_data"
   ]
  },
  {
   "cell_type": "code",
   "execution_count": 38,
   "id": "107a80b9-f5a5-4639-aa2d-b6bde4870cf2",
   "metadata": {},
   "outputs": [
    {
     "data": {
      "text/plain": [
       "0    Alex\n",
       "1    Rina\n",
       "2     Sam\n",
       "3    Lara\n",
       "4    Omar\n",
       "5    Tina\n",
       "Name: Name, dtype: object"
      ]
     },
     "execution_count": 38,
     "metadata": {},
     "output_type": "execute_result"
    }
   ],
   "source": [
    "clean_data['Name']"
   ]
  },
  {
   "cell_type": "code",
   "execution_count": 40,
   "id": "6fd74477-9c6a-4f21-bd5a-6d72bf2c2a63",
   "metadata": {},
   "outputs": [],
   "source": [
    "import numpy as np"
   ]
  },
  {
   "cell_type": "raw",
   "id": "a42777c7-6faa-4e75-a2d5-01202ab63e91",
   "metadata": {},
   "source": [
    "import pandas as  pd"
   ]
  },
  {
   "cell_type": "code",
   "execution_count": 43,
   "id": "913ee713-ba0e-46d0-88c5-44aa068c35af",
   "metadata": {},
   "outputs": [],
   "source": [
    "clean_data['Name'] = clean_data['Name'].fillna(clean_data['Name'].mode()[0])"
   ]
  },
  {
   "cell_type": "code",
   "execution_count": 44,
   "id": "ed945d38-3668-4a40-a156-59c71269095d",
   "metadata": {},
   "outputs": [
    {
     "data": {
      "text/plain": [
       "0    Alex\n",
       "1    Rina\n",
       "2     Sam\n",
       "3    Lara\n",
       "4    Omar\n",
       "5    Tina\n",
       "Name: Name, dtype: object"
      ]
     },
     "execution_count": 44,
     "metadata": {},
     "output_type": "execute_result"
    }
   ],
   "source": [
    "clean_data['Name']"
   ]
  },
  {
   "cell_type": "code",
   "execution_count": 45,
   "id": "c10e34fb-6c64-42b7-bf3d-e3deeb31e3a0",
   "metadata": {},
   "outputs": [
    {
     "data": {
      "text/plain": [
       "0     29\n",
       "1    NaN\n",
       "2     52\n",
       "3    NaN\n",
       "4     38\n",
       "5     44\n",
       "Name: Age, dtype: object"
      ]
     },
     "execution_count": 45,
     "metadata": {},
     "output_type": "execute_result"
    }
   ],
   "source": [
    "clean_data['Age']"
   ]
  },
  {
   "cell_type": "code",
   "execution_count": 46,
   "id": "35803b30-e6e6-4bca-aff7-dfc6c57ff064",
   "metadata": {},
   "outputs": [],
   "source": [
    "clean_data['Age'] = clean_data['Age'].fillna(np.mean(pd.to_numeric(clean_data['Age'])))"
   ]
  },
  {
   "cell_type": "code",
   "execution_count": 47,
   "id": "42b14043-2c0f-457c-b418-4e66d70509b6",
   "metadata": {},
   "outputs": [
    {
     "data": {
      "text/plain": [
       "0       29\n",
       "1    40.75\n",
       "2       52\n",
       "3    40.75\n",
       "4       38\n",
       "5       44\n",
       "Name: Age, dtype: object"
      ]
     },
     "execution_count": 47,
     "metadata": {},
     "output_type": "execute_result"
    }
   ],
   "source": [
    "clean_data['Age']"
   ]
  },
  {
   "cell_type": "code",
   "execution_count": 48,
   "id": "777161b2-27ed-465d-b3d7-e0c51620c39a",
   "metadata": {},
   "outputs": [
    {
     "data": {
      "text/html": [
       "<div>\n",
       "<style scoped>\n",
       "    .dataframe tbody tr th:only-of-type {\n",
       "        vertical-align: middle;\n",
       "    }\n",
       "\n",
       "    .dataframe tbody tr th {\n",
       "        vertical-align: top;\n",
       "    }\n",
       "\n",
       "    .dataframe thead th {\n",
       "        text-align: right;\n",
       "    }\n",
       "</style>\n",
       "<table border=\"1\" class=\"dataframe\">\n",
       "  <thead>\n",
       "    <tr style=\"text-align: right;\">\n",
       "      <th></th>\n",
       "      <th>Name</th>\n",
       "      <th>Domain</th>\n",
       "      <th>Age</th>\n",
       "      <th>Location</th>\n",
       "      <th>Salary</th>\n",
       "      <th>Exp</th>\n",
       "    </tr>\n",
       "  </thead>\n",
       "  <tbody>\n",
       "    <tr>\n",
       "      <th>0</th>\n",
       "      <td>Alex</td>\n",
       "      <td>AIML</td>\n",
       "      <td>29</td>\n",
       "      <td>Pune</td>\n",
       "      <td>40000</td>\n",
       "      <td>3</td>\n",
       "    </tr>\n",
       "    <tr>\n",
       "      <th>1</th>\n",
       "      <td>Rina</td>\n",
       "      <td>DataEngineer</td>\n",
       "      <td>40.75</td>\n",
       "      <td>Mumabi</td>\n",
       "      <td>85000</td>\n",
       "      <td>2</td>\n",
       "    </tr>\n",
       "    <tr>\n",
       "      <th>2</th>\n",
       "      <td>Sam</td>\n",
       "      <td>CyberSecurity</td>\n",
       "      <td>52</td>\n",
       "      <td>NaN</td>\n",
       "      <td>120000</td>\n",
       "      <td>15</td>\n",
       "    </tr>\n",
       "    <tr>\n",
       "      <th>3</th>\n",
       "      <td>Lara</td>\n",
       "      <td>BusinessAnalytics</td>\n",
       "      <td>40.75</td>\n",
       "      <td>Chnai</td>\n",
       "      <td>7000</td>\n",
       "      <td>5</td>\n",
       "    </tr>\n",
       "    <tr>\n",
       "      <th>4</th>\n",
       "      <td>Omar</td>\n",
       "      <td>DeepLearning</td>\n",
       "      <td>38</td>\n",
       "      <td>Delhi</td>\n",
       "      <td>95000</td>\n",
       "      <td>NaN</td>\n",
       "    </tr>\n",
       "    <tr>\n",
       "      <th>5</th>\n",
       "      <td>Tina</td>\n",
       "      <td>CloudComputing</td>\n",
       "      <td>44</td>\n",
       "      <td>Hydrabad</td>\n",
       "      <td>110000</td>\n",
       "      <td>10</td>\n",
       "    </tr>\n",
       "  </tbody>\n",
       "</table>\n",
       "</div>"
      ],
      "text/plain": [
       "   Name             Domain    Age  Location  Salary  Exp\n",
       "0  Alex               AIML     29      Pune   40000    3\n",
       "1  Rina       DataEngineer  40.75    Mumabi   85000    2\n",
       "2   Sam      CyberSecurity     52       NaN  120000   15\n",
       "3  Lara  BusinessAnalytics  40.75     Chnai    7000    5\n",
       "4  Omar       DeepLearning     38     Delhi   95000  NaN\n",
       "5  Tina     CloudComputing     44  Hydrabad  110000   10"
      ]
     },
     "execution_count": 48,
     "metadata": {},
     "output_type": "execute_result"
    }
   ],
   "source": [
    "clean_data"
   ]
  },
  {
   "cell_type": "code",
   "execution_count": 56,
   "id": "ee7c68ea-77f4-4584-9d78-7b567184a1bb",
   "metadata": {},
   "outputs": [
    {
     "data": {
      "text/plain": [
       "0        Pune\n",
       "1      Mumabi\n",
       "2         NaN\n",
       "3       Chnai\n",
       "4       Delhi\n",
       "5    Hydrabad\n",
       "Name: Location, dtype: object"
      ]
     },
     "execution_count": 56,
     "metadata": {},
     "output_type": "execute_result"
    }
   ],
   "source": [
    "clean_data['Location']"
   ]
  },
  {
   "cell_type": "code",
   "execution_count": 57,
   "id": "f48d18bc-3529-4c12-b0a1-cf6adeaf96d6",
   "metadata": {},
   "outputs": [],
   "source": [
    "clean_data['Location'] = clean_data['Location'].fillna(clean_data['Location'].mode()[0])"
   ]
  },
  {
   "cell_type": "code",
   "execution_count": 58,
   "id": "8c8eaabe-d001-41d9-b5b3-4f6b2c32b13e",
   "metadata": {},
   "outputs": [
    {
     "data": {
      "text/plain": [
       "0        Pune\n",
       "1      Mumabi\n",
       "2         NaN\n",
       "3       Chnai\n",
       "4       Delhi\n",
       "5    Hydrabad\n",
       "Name: Location, dtype: object"
      ]
     },
     "execution_count": 58,
     "metadata": {},
     "output_type": "execute_result"
    }
   ],
   "source": [
    "clean_data['Location']"
   ]
  },
  {
   "cell_type": "code",
   "execution_count": 54,
   "id": "b01f3040-c422-4585-be6b-b8069e702a90",
   "metadata": {},
   "outputs": [],
   "source": [
    "clean_data['Location'] = clean_data['Location'].fillna(clean_data['Location'].mode()[0])"
   ]
  },
  {
   "cell_type": "code",
   "execution_count": 55,
   "id": "07574ed1-058c-466e-98e0-7509402e4cc1",
   "metadata": {},
   "outputs": [
    {
     "data": {
      "text/plain": [
       "0        Pune\n",
       "1      Mumabi\n",
       "2         NaN\n",
       "3       Chnai\n",
       "4       Delhi\n",
       "5    Hydrabad\n",
       "Name: Location, dtype: object"
      ]
     },
     "execution_count": 55,
     "metadata": {},
     "output_type": "execute_result"
    }
   ],
   "source": [
    "clean_data['Location']"
   ]
  },
  {
   "cell_type": "code",
   "execution_count": 59,
   "id": "0c08edee-09e6-4e7c-9aa1-2089ca50659e",
   "metadata": {},
   "outputs": [
    {
     "data": {
      "text/html": [
       "<div>\n",
       "<style scoped>\n",
       "    .dataframe tbody tr th:only-of-type {\n",
       "        vertical-align: middle;\n",
       "    }\n",
       "\n",
       "    .dataframe tbody tr th {\n",
       "        vertical-align: top;\n",
       "    }\n",
       "\n",
       "    .dataframe thead th {\n",
       "        text-align: right;\n",
       "    }\n",
       "</style>\n",
       "<table border=\"1\" class=\"dataframe\">\n",
       "  <thead>\n",
       "    <tr style=\"text-align: right;\">\n",
       "      <th></th>\n",
       "      <th>Name</th>\n",
       "      <th>Domain</th>\n",
       "      <th>Age</th>\n",
       "      <th>Location</th>\n",
       "      <th>Salary</th>\n",
       "      <th>Exp</th>\n",
       "    </tr>\n",
       "  </thead>\n",
       "  <tbody>\n",
       "    <tr>\n",
       "      <th>0</th>\n",
       "      <td>Alex</td>\n",
       "      <td>AIML</td>\n",
       "      <td>29</td>\n",
       "      <td>Pune</td>\n",
       "      <td>40000</td>\n",
       "      <td>3</td>\n",
       "    </tr>\n",
       "    <tr>\n",
       "      <th>1</th>\n",
       "      <td>Rina</td>\n",
       "      <td>DataEngineer</td>\n",
       "      <td>40.75</td>\n",
       "      <td>Mumabi</td>\n",
       "      <td>85000</td>\n",
       "      <td>2</td>\n",
       "    </tr>\n",
       "    <tr>\n",
       "      <th>2</th>\n",
       "      <td>Sam</td>\n",
       "      <td>CyberSecurity</td>\n",
       "      <td>52</td>\n",
       "      <td>NaN</td>\n",
       "      <td>120000</td>\n",
       "      <td>15</td>\n",
       "    </tr>\n",
       "    <tr>\n",
       "      <th>3</th>\n",
       "      <td>Lara</td>\n",
       "      <td>BusinessAnalytics</td>\n",
       "      <td>40.75</td>\n",
       "      <td>Chnai</td>\n",
       "      <td>7000</td>\n",
       "      <td>5</td>\n",
       "    </tr>\n",
       "    <tr>\n",
       "      <th>4</th>\n",
       "      <td>Omar</td>\n",
       "      <td>DeepLearning</td>\n",
       "      <td>38</td>\n",
       "      <td>Delhi</td>\n",
       "      <td>95000</td>\n",
       "      <td>NaN</td>\n",
       "    </tr>\n",
       "    <tr>\n",
       "      <th>5</th>\n",
       "      <td>Tina</td>\n",
       "      <td>CloudComputing</td>\n",
       "      <td>44</td>\n",
       "      <td>Hydrabad</td>\n",
       "      <td>110000</td>\n",
       "      <td>10</td>\n",
       "    </tr>\n",
       "  </tbody>\n",
       "</table>\n",
       "</div>"
      ],
      "text/plain": [
       "   Name             Domain    Age  Location  Salary  Exp\n",
       "0  Alex               AIML     29      Pune   40000    3\n",
       "1  Rina       DataEngineer  40.75    Mumabi   85000    2\n",
       "2   Sam      CyberSecurity     52       NaN  120000   15\n",
       "3  Lara  BusinessAnalytics  40.75     Chnai    7000    5\n",
       "4  Omar       DeepLearning     38     Delhi   95000  NaN\n",
       "5  Tina     CloudComputing     44  Hydrabad  110000   10"
      ]
     },
     "execution_count": 59,
     "metadata": {},
     "output_type": "execute_result"
    }
   ],
   "source": [
    "clean_data"
   ]
  },
  {
   "cell_type": "code",
   "execution_count": 60,
   "id": "4a78ca46-39e9-4d30-bf4c-df8fbfc16ef2",
   "metadata": {},
   "outputs": [
    {
     "data": {
      "text/plain": [
       "0        Pune\n",
       "1      Mumabi\n",
       "2         NaN\n",
       "3       Chnai\n",
       "4       Delhi\n",
       "5    Hydrabad\n",
       "Name: Location, dtype: object"
      ]
     },
     "execution_count": 60,
     "metadata": {},
     "output_type": "execute_result"
    }
   ],
   "source": [
    "clean_data['Location']"
   ]
  },
  {
   "cell_type": "code",
   "execution_count": 61,
   "id": "026c6306-baf2-4a7a-a7f7-6ef0b1fe3bcf",
   "metadata": {},
   "outputs": [],
   "source": [
    "clean_data['Location'] = clean_data['Location'].fillna(clean_data['Location'].mode()[0])"
   ]
  },
  {
   "cell_type": "code",
   "execution_count": 62,
   "id": "abed8cc9-08cb-4bdc-9c80-1f3fa1e8d572",
   "metadata": {},
   "outputs": [
    {
     "data": {
      "text/plain": [
       "0        Pune\n",
       "1      Mumabi\n",
       "2         NaN\n",
       "3       Chnai\n",
       "4       Delhi\n",
       "5    Hydrabad\n",
       "Name: Location, dtype: object"
      ]
     },
     "execution_count": 62,
     "metadata": {},
     "output_type": "execute_result"
    }
   ],
   "source": [
    "clean_data['Location']"
   ]
  },
  {
   "cell_type": "code",
   "execution_count": 64,
   "id": "0a53d72e-7bab-4d7e-b76a-56534295a6e1",
   "metadata": {},
   "outputs": [],
   "source": [
    "clean_data = clean_data.replace('NaN',np.nan)"
   ]
  },
  {
   "cell_type": "code",
   "execution_count": 65,
   "id": "ce97712b-e605-483c-ad34-50940879e7b6",
   "metadata": {},
   "outputs": [
    {
     "data": {
      "text/html": [
       "<div>\n",
       "<style scoped>\n",
       "    .dataframe tbody tr th:only-of-type {\n",
       "        vertical-align: middle;\n",
       "    }\n",
       "\n",
       "    .dataframe tbody tr th {\n",
       "        vertical-align: top;\n",
       "    }\n",
       "\n",
       "    .dataframe thead th {\n",
       "        text-align: right;\n",
       "    }\n",
       "</style>\n",
       "<table border=\"1\" class=\"dataframe\">\n",
       "  <thead>\n",
       "    <tr style=\"text-align: right;\">\n",
       "      <th></th>\n",
       "      <th>Name</th>\n",
       "      <th>Domain</th>\n",
       "      <th>Age</th>\n",
       "      <th>Location</th>\n",
       "      <th>Salary</th>\n",
       "      <th>Exp</th>\n",
       "    </tr>\n",
       "  </thead>\n",
       "  <tbody>\n",
       "    <tr>\n",
       "      <th>0</th>\n",
       "      <td>Alex</td>\n",
       "      <td>AIML</td>\n",
       "      <td>29</td>\n",
       "      <td>Pune</td>\n",
       "      <td>40000</td>\n",
       "      <td>3</td>\n",
       "    </tr>\n",
       "    <tr>\n",
       "      <th>1</th>\n",
       "      <td>Rina</td>\n",
       "      <td>DataEngineer</td>\n",
       "      <td>40.75</td>\n",
       "      <td>Mumabi</td>\n",
       "      <td>85000</td>\n",
       "      <td>2</td>\n",
       "    </tr>\n",
       "    <tr>\n",
       "      <th>2</th>\n",
       "      <td>Sam</td>\n",
       "      <td>CyberSecurity</td>\n",
       "      <td>52</td>\n",
       "      <td>NaN</td>\n",
       "      <td>120000</td>\n",
       "      <td>15</td>\n",
       "    </tr>\n",
       "    <tr>\n",
       "      <th>3</th>\n",
       "      <td>Lara</td>\n",
       "      <td>BusinessAnalytics</td>\n",
       "      <td>40.75</td>\n",
       "      <td>Chnai</td>\n",
       "      <td>7000</td>\n",
       "      <td>5</td>\n",
       "    </tr>\n",
       "    <tr>\n",
       "      <th>4</th>\n",
       "      <td>Omar</td>\n",
       "      <td>DeepLearning</td>\n",
       "      <td>38</td>\n",
       "      <td>Delhi</td>\n",
       "      <td>95000</td>\n",
       "      <td>NaN</td>\n",
       "    </tr>\n",
       "    <tr>\n",
       "      <th>5</th>\n",
       "      <td>Tina</td>\n",
       "      <td>CloudComputing</td>\n",
       "      <td>44</td>\n",
       "      <td>Hydrabad</td>\n",
       "      <td>110000</td>\n",
       "      <td>10</td>\n",
       "    </tr>\n",
       "  </tbody>\n",
       "</table>\n",
       "</div>"
      ],
      "text/plain": [
       "   Name             Domain    Age  Location  Salary  Exp\n",
       "0  Alex               AIML     29      Pune   40000    3\n",
       "1  Rina       DataEngineer  40.75    Mumabi   85000    2\n",
       "2   Sam      CyberSecurity     52       NaN  120000   15\n",
       "3  Lara  BusinessAnalytics  40.75     Chnai    7000    5\n",
       "4  Omar       DeepLearning     38     Delhi   95000  NaN\n",
       "5  Tina     CloudComputing     44  Hydrabad  110000   10"
      ]
     },
     "execution_count": 65,
     "metadata": {},
     "output_type": "execute_result"
    }
   ],
   "source": [
    "clean_data"
   ]
  },
  {
   "cell_type": "code",
   "execution_count": 66,
   "id": "b3a5acde-a481-4fa6-9af7-d6122e4343e9",
   "metadata": {},
   "outputs": [],
   "source": [
    "clean_data['Location'] = clean_data['Location'].fillna(clean_data['Location'].mode()[0])"
   ]
  },
  {
   "cell_type": "code",
   "execution_count": 67,
   "id": "4a4d30d1-694f-4358-a0b3-8ba05db9f733",
   "metadata": {},
   "outputs": [
    {
     "data": {
      "text/plain": [
       "0        Pune\n",
       "1      Mumabi\n",
       "2       Chnai\n",
       "3       Chnai\n",
       "4       Delhi\n",
       "5    Hydrabad\n",
       "Name: Location, dtype: object"
      ]
     },
     "execution_count": 67,
     "metadata": {},
     "output_type": "execute_result"
    }
   ],
   "source": [
    "clean_data['Location']"
   ]
  },
  {
   "cell_type": "code",
   "execution_count": 68,
   "id": "0fb3774e-286a-4a47-b349-6b8fa815db1c",
   "metadata": {},
   "outputs": [],
   "source": [
    "clean_data['Exp'] = clean_data['Exp'].fillna(np.mean(pd.to_numeric(clean_data['Exp'])))"
   ]
  },
  {
   "cell_type": "code",
   "execution_count": 69,
   "id": "93733e6c-9721-42bd-a68a-7d8ffea4f8a7",
   "metadata": {},
   "outputs": [
    {
     "data": {
      "text/plain": [
       "0      3\n",
       "1      2\n",
       "2     15\n",
       "3      5\n",
       "4    7.0\n",
       "5     10\n",
       "Name: Exp, dtype: object"
      ]
     },
     "execution_count": 69,
     "metadata": {},
     "output_type": "execute_result"
    }
   ],
   "source": [
    "clean_data['Exp'] "
   ]
  },
  {
   "cell_type": "code",
   "execution_count": 70,
   "id": "5cb25c04-3415-45ba-8e96-29c2c3f556f0",
   "metadata": {},
   "outputs": [
    {
     "data": {
      "text/html": [
       "<div>\n",
       "<style scoped>\n",
       "    .dataframe tbody tr th:only-of-type {\n",
       "        vertical-align: middle;\n",
       "    }\n",
       "\n",
       "    .dataframe tbody tr th {\n",
       "        vertical-align: top;\n",
       "    }\n",
       "\n",
       "    .dataframe thead th {\n",
       "        text-align: right;\n",
       "    }\n",
       "</style>\n",
       "<table border=\"1\" class=\"dataframe\">\n",
       "  <thead>\n",
       "    <tr style=\"text-align: right;\">\n",
       "      <th></th>\n",
       "      <th>Name</th>\n",
       "      <th>Domain</th>\n",
       "      <th>Age</th>\n",
       "      <th>Location</th>\n",
       "      <th>Salary</th>\n",
       "      <th>Exp</th>\n",
       "    </tr>\n",
       "  </thead>\n",
       "  <tbody>\n",
       "    <tr>\n",
       "      <th>0</th>\n",
       "      <td>Alex</td>\n",
       "      <td>AIML</td>\n",
       "      <td>29</td>\n",
       "      <td>Pune</td>\n",
       "      <td>40000</td>\n",
       "      <td>3</td>\n",
       "    </tr>\n",
       "    <tr>\n",
       "      <th>1</th>\n",
       "      <td>Rina</td>\n",
       "      <td>DataEngineer</td>\n",
       "      <td>40.75</td>\n",
       "      <td>Mumabi</td>\n",
       "      <td>85000</td>\n",
       "      <td>2</td>\n",
       "    </tr>\n",
       "    <tr>\n",
       "      <th>2</th>\n",
       "      <td>Sam</td>\n",
       "      <td>CyberSecurity</td>\n",
       "      <td>52</td>\n",
       "      <td>Chnai</td>\n",
       "      <td>120000</td>\n",
       "      <td>15</td>\n",
       "    </tr>\n",
       "    <tr>\n",
       "      <th>3</th>\n",
       "      <td>Lara</td>\n",
       "      <td>BusinessAnalytics</td>\n",
       "      <td>40.75</td>\n",
       "      <td>Chnai</td>\n",
       "      <td>7000</td>\n",
       "      <td>5</td>\n",
       "    </tr>\n",
       "    <tr>\n",
       "      <th>4</th>\n",
       "      <td>Omar</td>\n",
       "      <td>DeepLearning</td>\n",
       "      <td>38</td>\n",
       "      <td>Delhi</td>\n",
       "      <td>95000</td>\n",
       "      <td>7.0</td>\n",
       "    </tr>\n",
       "    <tr>\n",
       "      <th>5</th>\n",
       "      <td>Tina</td>\n",
       "      <td>CloudComputing</td>\n",
       "      <td>44</td>\n",
       "      <td>Hydrabad</td>\n",
       "      <td>110000</td>\n",
       "      <td>10</td>\n",
       "    </tr>\n",
       "  </tbody>\n",
       "</table>\n",
       "</div>"
      ],
      "text/plain": [
       "   Name             Domain    Age  Location  Salary  Exp\n",
       "0  Alex               AIML     29      Pune   40000    3\n",
       "1  Rina       DataEngineer  40.75    Mumabi   85000    2\n",
       "2   Sam      CyberSecurity     52     Chnai  120000   15\n",
       "3  Lara  BusinessAnalytics  40.75     Chnai    7000    5\n",
       "4  Omar       DeepLearning     38     Delhi   95000  7.0\n",
       "5  Tina     CloudComputing     44  Hydrabad  110000   10"
      ]
     },
     "execution_count": 70,
     "metadata": {},
     "output_type": "execute_result"
    }
   ],
   "source": [
    "clean_data"
   ]
  },
  {
   "cell_type": "code",
   "execution_count": 71,
   "id": "901ab5c6-5d5a-40d3-a44b-a6eafeb37088",
   "metadata": {},
   "outputs": [
    {
     "name": "stdout",
     "output_type": "stream",
     "text": [
      "<class 'pandas.core.frame.DataFrame'>\n",
      "RangeIndex: 6 entries, 0 to 5\n",
      "Data columns (total 6 columns):\n",
      " #   Column    Non-Null Count  Dtype \n",
      "---  ------    --------------  ----- \n",
      " 0   Name      6 non-null      object\n",
      " 1   Domain    6 non-null      object\n",
      " 2   Age       6 non-null      object\n",
      " 3   Location  6 non-null      object\n",
      " 4   Salary    6 non-null      object\n",
      " 5   Exp       6 non-null      object\n",
      "dtypes: object(6)\n",
      "memory usage: 420.0+ bytes\n"
     ]
    }
   ],
   "source": [
    "clean_data.info()"
   ]
  },
  {
   "cell_type": "code",
   "execution_count": 75,
   "id": "f6ab08df-1eed-4c71-b2de-075cf99fe5c0",
   "metadata": {},
   "outputs": [],
   "source": [
    "clean_data['Name'] = clean_data['Name'].astype('category')\n",
    "clean_data['domain'] = clean_data['Location'].astype('category')\n",
    "clean_data['Location'] = clean_data['Location'].astype('category')"
   ]
  },
  {
   "cell_type": "code",
   "execution_count": 76,
   "id": "acf45b00-67d3-4914-a16c-de306b62fcd4",
   "metadata": {},
   "outputs": [
    {
     "name": "stdout",
     "output_type": "stream",
     "text": [
      "<class 'pandas.core.frame.DataFrame'>\n",
      "RangeIndex: 6 entries, 0 to 5\n",
      "Data columns (total 7 columns):\n",
      " #   Column    Non-Null Count  Dtype   \n",
      "---  ------    --------------  -----   \n",
      " 0   Name      6 non-null      category\n",
      " 1   Domain    6 non-null      object  \n",
      " 2   Age       6 non-null      object  \n",
      " 3   Location  6 non-null      category\n",
      " 4   Salary    6 non-null      object  \n",
      " 5   Exp       6 non-null      object  \n",
      " 6   domain    6 non-null      category\n",
      "dtypes: category(3), object(4)\n",
      "memory usage: 986.0+ bytes\n"
     ]
    }
   ],
   "source": [
    "clean_data.info()"
   ]
  },
  {
   "cell_type": "code",
   "execution_count": 80,
   "id": "20d045fb-5745-4a27-93c8-38ac53f64831",
   "metadata": {},
   "outputs": [],
   "source": [
    "clean_data['Age'] = clean_data['Age'].astype(int)\n",
    "clean_data['Salary'] = clean_data['Salary'].astype(int)\n",
    "clean_data['Exp'] = clean_data['Exp'].astype(int)"
   ]
  },
  {
   "cell_type": "code",
   "execution_count": 81,
   "id": "ebbe09fe-ddcf-40ce-9a71-b832b3a138a7",
   "metadata": {},
   "outputs": [
    {
     "name": "stdout",
     "output_type": "stream",
     "text": [
      "<class 'pandas.core.frame.DataFrame'>\n",
      "RangeIndex: 6 entries, 0 to 5\n",
      "Data columns (total 7 columns):\n",
      " #   Column    Non-Null Count  Dtype   \n",
      "---  ------    --------------  -----   \n",
      " 0   Name      6 non-null      category\n",
      " 1   Domain    6 non-null      object  \n",
      " 2   Age       6 non-null      int64   \n",
      " 3   Location  6 non-null      category\n",
      " 4   Salary    6 non-null      int64   \n",
      " 5   Exp       6 non-null      int64   \n",
      " 6   domain    6 non-null      category\n",
      "dtypes: category(3), int64(3), object(1)\n",
      "memory usage: 986.0+ bytes\n"
     ]
    }
   ],
   "source": [
    "clean_data.info()"
   ]
  },
  {
   "cell_type": "code",
   "execution_count": 82,
   "id": "ef962047-d032-4c54-8fe1-d64c6ae55d13",
   "metadata": {},
   "outputs": [],
   "source": [
    "clean_data['Domain'] = clean_data['Domain'].astype('category')"
   ]
  },
  {
   "cell_type": "code",
   "execution_count": 83,
   "id": "0f943c07-3045-486d-a2a4-c5e735f14b33",
   "metadata": {},
   "outputs": [
    {
     "name": "stdout",
     "output_type": "stream",
     "text": [
      "<class 'pandas.core.frame.DataFrame'>\n",
      "RangeIndex: 6 entries, 0 to 5\n",
      "Data columns (total 7 columns):\n",
      " #   Column    Non-Null Count  Dtype   \n",
      "---  ------    --------------  -----   \n",
      " 0   Name      6 non-null      category\n",
      " 1   Domain    6 non-null      category\n",
      " 2   Age       6 non-null      int64   \n",
      " 3   Location  6 non-null      category\n",
      " 4   Salary    6 non-null      int64   \n",
      " 5   Exp       6 non-null      int64   \n",
      " 6   domain    6 non-null      category\n",
      "dtypes: category(4), int64(3)\n",
      "memory usage: 1.1 KB\n"
     ]
    }
   ],
   "source": [
    "clean_data.info()"
   ]
  },
  {
   "cell_type": "code",
   "execution_count": 84,
   "id": "8c99ce70-803b-4ead-8b5c-0758edfd6362",
   "metadata": {},
   "outputs": [],
   "source": [
    "import matplotlib.pyplot as plt"
   ]
  },
  {
   "cell_type": "code",
   "execution_count": 85,
   "id": "366d1777-547c-45f1-a36f-7599c10c6db8",
   "metadata": {},
   "outputs": [],
   "source": [
    "import seaborn as sns"
   ]
  },
  {
   "cell_type": "code",
   "execution_count": 86,
   "id": "4244b20f-99b7-4008-a13a-e91c5952c241",
   "metadata": {},
   "outputs": [
    {
     "name": "stderr",
     "output_type": "stream",
     "text": [
      "C:\\Users\\Sanket kshirsagar\\AppData\\Local\\Temp\\ipykernel_16608\\3692155897.py:1: UserWarning: \n",
      "\n",
      "`distplot` is a deprecated function and will be removed in seaborn v0.14.0.\n",
      "\n",
      "Please adapt your code to use either `displot` (a figure-level function with\n",
      "similar flexibility) or `histplot` (an axes-level function for histograms).\n",
      "\n",
      "For a guide to updating your code to use the new functions, please see\n",
      "https://gist.github.com/mwaskom/de44147ed2974457ad6372750bbe5751\n",
      "\n",
      "  vis1 = sns.distplot(clean_data['Salary'])\n"
     ]
    },
    {
     "data": {
      "image/png": "[encoded data removed]",
      "text/plain": [
       "<Figure size 640x480 with 1 Axes>"
      ]
     },
     "metadata": {},
     "output_type": "display_data"
    }
   ],
   "source": [
    "vis1 = sns.distplot(clean_data['Salary'])"
   ]
  },
  {
   "cell_type": "code",
   "execution_count": 87,
   "id": "58293217-612a-4158-b2ff-62e5e5bafbc1",
   "metadata": {},
   "outputs": [
    {
     "data": {
      "image/png": "[encoded data removed]",
      "text/plain": [
       "<Figure size 640x480 with 1 Axes>"
      ]
     },
     "metadata": {},
     "output_type": "display_data"
    }
   ],
   "source": [
    "vis2 = plt.hist(clean_data['Salary'])"
   ]
  },
  {
   "cell_type": "code",
   "execution_count": 91,
   "id": "87a5f948-a739-48d3-854c-338d2df9ddd3",
   "metadata": {},
   "outputs": [
    {
     "data": {
      "image/png": "[encoded data removed]",
      "text/plain": [
       "<Figure size 500x500 with 1 Axes>"
      ]
     },
     "metadata": {},
     "output_type": "display_data"
    }
   ],
   "source": [
    "vis4 = sns.lmplot(clean_data,x='Exp',y='Salary')"
   ]
  },
  {
   "cell_type": "code",
   "execution_count": 93,
   "id": "046b5e9b-7513-4ddb-80c7-a24a5c5fdf51",
   "metadata": {},
   "outputs": [
    {
     "data": {
      "image/png": "[encoded data removed]",
      "text/plain": [
       "<Figure size 640x480 with 1 Axes>"
      ]
     },
     "metadata": {},
     "output_type": "display_data"
    }
   ],
   "source": [
    "vis5 = sns.boxplot(clean_data['Salary'])"
   ]
  },
  {
   "cell_type": "code",
   "execution_count": 96,
   "id": "6f269f3b-9e7d-4755-8f3c-8f405be641b7",
   "metadata": {},
   "outputs": [
    {
     "data": {
      "image/png": "[encoded data removed]",
      "text/plain": [
       "<Figure size 640x480 with 1 Axes>"
      ]
     },
     "metadata": {},
     "output_type": "display_data"
    }
   ],
   "source": [
    "vis = sns.scatterplot(x='Exp',y='Salary',data = clean_data)"
   ]
  },
  {
   "cell_type": "code",
   "execution_count": 97,
   "id": "adfb1918-e109-4e21-b10b-0a206da8b924",
   "metadata": {},
   "outputs": [
    {
     "data": {
      "text/html": [
       "<div>\n",
       "<style scoped>\n",
       "    .dataframe tbody tr th:only-of-type {\n",
       "        vertical-align: middle;\n",
       "    }\n",
       "\n",
       "    .dataframe tbody tr th {\n",
       "        vertical-align: top;\n",
       "    }\n",
       "\n",
       "    .dataframe thead th {\n",
       "        text-align: right;\n",
       "    }\n",
       "</style>\n",
       "<table border=\"1\" class=\"dataframe\">\n",
       "  <thead>\n",
       "    <tr style=\"text-align: right;\">\n",
       "      <th></th>\n",
       "      <th>Name</th>\n",
       "      <th>Domain</th>\n",
       "      <th>Age</th>\n",
       "      <th>Location</th>\n",
       "      <th>Salary</th>\n",
       "      <th>Exp</th>\n",
       "      <th>domain</th>\n",
       "    </tr>\n",
       "  </thead>\n",
       "  <tbody>\n",
       "    <tr>\n",
       "      <th>0</th>\n",
       "      <td>Alex</td>\n",
       "      <td>AIML</td>\n",
       "      <td>29</td>\n",
       "      <td>Pune</td>\n",
       "      <td>40000</td>\n",
       "      <td>3</td>\n",
       "      <td>Pune</td>\n",
       "    </tr>\n",
       "    <tr>\n",
       "      <th>1</th>\n",
       "      <td>Rina</td>\n",
       "      <td>DataEngineer</td>\n",
       "      <td>40</td>\n",
       "      <td>Mumabi</td>\n",
       "      <td>85000</td>\n",
       "      <td>2</td>\n",
       "      <td>Mumabi</td>\n",
       "    </tr>\n",
       "    <tr>\n",
       "      <th>2</th>\n",
       "      <td>Sam</td>\n",
       "      <td>CyberSecurity</td>\n",
       "      <td>52</td>\n",
       "      <td>Chnai</td>\n",
       "      <td>120000</td>\n",
       "      <td>15</td>\n",
       "      <td>Chnai</td>\n",
       "    </tr>\n",
       "    <tr>\n",
       "      <th>3</th>\n",
       "      <td>Lara</td>\n",
       "      <td>BusinessAnalytics</td>\n",
       "      <td>40</td>\n",
       "      <td>Chnai</td>\n",
       "      <td>7000</td>\n",
       "      <td>5</td>\n",
       "      <td>Chnai</td>\n",
       "    </tr>\n",
       "    <tr>\n",
       "      <th>4</th>\n",
       "      <td>Omar</td>\n",
       "      <td>DeepLearning</td>\n",
       "      <td>38</td>\n",
       "      <td>Delhi</td>\n",
       "      <td>95000</td>\n",
       "      <td>7</td>\n",
       "      <td>Delhi</td>\n",
       "    </tr>\n",
       "    <tr>\n",
       "      <th>5</th>\n",
       "      <td>Tina</td>\n",
       "      <td>CloudComputing</td>\n",
       "      <td>44</td>\n",
       "      <td>Hydrabad</td>\n",
       "      <td>110000</td>\n",
       "      <td>10</td>\n",
       "      <td>Hydrabad</td>\n",
       "    </tr>\n",
       "  </tbody>\n",
       "</table>\n",
       "</div>"
      ],
      "text/plain": [
       "   Name             Domain  Age  Location  Salary  Exp    domain\n",
       "0  Alex               AIML   29      Pune   40000    3      Pune\n",
       "1  Rina       DataEngineer   40    Mumabi   85000    2    Mumabi\n",
       "2   Sam      CyberSecurity   52     Chnai  120000   15     Chnai\n",
       "3  Lara  BusinessAnalytics   40     Chnai    7000    5     Chnai\n",
       "4  Omar       DeepLearning   38     Delhi   95000    7     Delhi\n",
       "5  Tina     CloudComputing   44  Hydrabad  110000   10  Hydrabad"
      ]
     },
     "execution_count": 97,
     "metadata": {},
     "output_type": "execute_result"
    }
   ],
   "source": [
    "clean_data"
   ]
  },
  {
   "cell_type": "code",
   "execution_count": 99,
   "id": "a25bb3cd-5b2b-4d4b-b9ee-2ca85b9ccf95",
   "metadata": {},
   "outputs": [],
   "source": [
    "x_iv = clean_data.drop(['Salary'],axis=1)"
   ]
  },
  {
   "cell_type": "code",
   "execution_count": 100,
   "id": "65a12fda-77ea-4d0d-9d51-fcb17ebf7fd2",
   "metadata": {},
   "outputs": [
    {
     "data": {
      "text/html": [
       "<div>\n",
       "<style scoped>\n",
       "    .dataframe tbody tr th:only-of-type {\n",
       "        vertical-align: middle;\n",
       "    }\n",
       "\n",
       "    .dataframe tbody tr th {\n",
       "        vertical-align: top;\n",
       "    }\n",
       "\n",
       "    .dataframe thead th {\n",
       "        text-align: right;\n",
       "    }\n",
       "</style>\n",
       "<table border=\"1\" class=\"dataframe\">\n",
       "  <thead>\n",
       "    <tr style=\"text-align: right;\">\n",
       "      <th></th>\n",
       "      <th>Name</th>\n",
       "      <th>Domain</th>\n",
       "      <th>Age</th>\n",
       "      <th>Location</th>\n",
       "      <th>Exp</th>\n",
       "      <th>domain</th>\n",
       "    </tr>\n",
       "  </thead>\n",
       "  <tbody>\n",
       "    <tr>\n",
       "      <th>0</th>\n",
       "      <td>Alex</td>\n",
       "      <td>AIML</td>\n",
       "      <td>29</td>\n",
       "      <td>Pune</td>\n",
       "      <td>3</td>\n",
       "      <td>Pune</td>\n",
       "    </tr>\n",
       "    <tr>\n",
       "      <th>1</th>\n",
       "      <td>Rina</td>\n",
       "      <td>DataEngineer</td>\n",
       "      <td>40</td>\n",
       "      <td>Mumabi</td>\n",
       "      <td>2</td>\n",
       "      <td>Mumabi</td>\n",
       "    </tr>\n",
       "    <tr>\n",
       "      <th>2</th>\n",
       "      <td>Sam</td>\n",
       "      <td>CyberSecurity</td>\n",
       "      <td>52</td>\n",
       "      <td>Chnai</td>\n",
       "      <td>15</td>\n",
       "      <td>Chnai</td>\n",
       "    </tr>\n",
       "    <tr>\n",
       "      <th>3</th>\n",
       "      <td>Lara</td>\n",
       "      <td>BusinessAnalytics</td>\n",
       "      <td>40</td>\n",
       "      <td>Chnai</td>\n",
       "      <td>5</td>\n",
       "      <td>Chnai</td>\n",
       "    </tr>\n",
       "    <tr>\n",
       "      <th>4</th>\n",
       "      <td>Omar</td>\n",
       "      <td>DeepLearning</td>\n",
       "      <td>38</td>\n",
       "      <td>Delhi</td>\n",
       "      <td>7</td>\n",
       "      <td>Delhi</td>\n",
       "    </tr>\n",
       "    <tr>\n",
       "      <th>5</th>\n",
       "      <td>Tina</td>\n",
       "      <td>CloudComputing</td>\n",
       "      <td>44</td>\n",
       "      <td>Hydrabad</td>\n",
       "      <td>10</td>\n",
       "      <td>Hydrabad</td>\n",
       "    </tr>\n",
       "  </tbody>\n",
       "</table>\n",
       "</div>"
      ],
      "text/plain": [
       "   Name             Domain  Age  Location  Exp    domain\n",
       "0  Alex               AIML   29      Pune    3      Pune\n",
       "1  Rina       DataEngineer   40    Mumabi    2    Mumabi\n",
       "2   Sam      CyberSecurity   52     Chnai   15     Chnai\n",
       "3  Lara  BusinessAnalytics   40     Chnai    5     Chnai\n",
       "4  Omar       DeepLearning   38     Delhi    7     Delhi\n",
       "5  Tina     CloudComputing   44  Hydrabad   10  Hydrabad"
      ]
     },
     "execution_count": 100,
     "metadata": {},
     "output_type": "execute_result"
    }
   ],
   "source": [
    "x_iv"
   ]
  },
  {
   "cell_type": "code",
   "execution_count": 103,
   "id": "29a6fe9c-073c-49c3-942c-5390ad96059d",
   "metadata": {},
   "outputs": [],
   "source": [
    "y_dv =clean_data.drop(['Name','Domain','Age','Location','Exp','domain'],axis =1)"
   ]
  },
  {
   "cell_type": "code",
   "execution_count": 104,
   "id": "963c39d6-3652-4855-adec-bc487a89f1ec",
   "metadata": {},
   "outputs": [
    {
     "data": {
      "text/html": [
       "<div>\n",
       "<style scoped>\n",
       "    .dataframe tbody tr th:only-of-type {\n",
       "        vertical-align: middle;\n",
       "    }\n",
       "\n",
       "    .dataframe tbody tr th {\n",
       "        vertical-align: top;\n",
       "    }\n",
       "\n",
       "    .dataframe thead th {\n",
       "        text-align: right;\n",
       "    }\n",
       "</style>\n",
       "<table border=\"1\" class=\"dataframe\">\n",
       "  <thead>\n",
       "    <tr style=\"text-align: right;\">\n",
       "      <th></th>\n",
       "      <th>Salary</th>\n",
       "    </tr>\n",
       "  </thead>\n",
       "  <tbody>\n",
       "    <tr>\n",
       "      <th>0</th>\n",
       "      <td>40000</td>\n",
       "    </tr>\n",
       "    <tr>\n",
       "      <th>1</th>\n",
       "      <td>85000</td>\n",
       "    </tr>\n",
       "    <tr>\n",
       "      <th>2</th>\n",
       "      <td>120000</td>\n",
       "    </tr>\n",
       "    <tr>\n",
       "      <th>3</th>\n",
       "      <td>7000</td>\n",
       "    </tr>\n",
       "    <tr>\n",
       "      <th>4</th>\n",
       "      <td>95000</td>\n",
       "    </tr>\n",
       "    <tr>\n",
       "      <th>5</th>\n",
       "      <td>110000</td>\n",
       "    </tr>\n",
       "  </tbody>\n",
       "</table>\n",
       "</div>"
      ],
      "text/plain": [
       "   Salary\n",
       "0   40000\n",
       "1   85000\n",
       "2  120000\n",
       "3    7000\n",
       "4   95000\n",
       "5  110000"
      ]
     },
     "execution_count": 104,
     "metadata": {},
     "output_type": "execute_result"
    }
   ],
   "source": [
    "y_dv"
   ]
  },
  {
   "cell_type": "code",
   "execution_count": 105,
   "id": "032a28ac-751e-4735-b2cd-7c1b89c8c2be",
   "metadata": {},
   "outputs": [],
   "source": [
    "imputations = pd.get_dummies(clean_data).astype(int)"
   ]
  },
  {
   "cell_type": "code",
   "execution_count": 106,
   "id": "7590b3e7-eb9d-4609-a4a8-6c32f725f189",
   "metadata": {},
   "outputs": [
    {
     "data": {
      "text/html": [
       "<div>\n",
       "<style scoped>\n",
       "    .dataframe tbody tr th:only-of-type {\n",
       "        vertical-align: middle;\n",
       "    }\n",
       "\n",
       "    .dataframe tbody tr th {\n",
       "        vertical-align: top;\n",
       "    }\n",
       "\n",
       "    .dataframe thead th {\n",
       "        text-align: right;\n",
       "    }\n",
       "</style>\n",
       "<table border=\"1\" class=\"dataframe\">\n",
       "  <thead>\n",
       "    <tr style=\"text-align: right;\">\n",
       "      <th></th>\n",
       "      <th>Age</th>\n",
       "      <th>Salary</th>\n",
       "      <th>Exp</th>\n",
       "      <th>Name_Alex</th>\n",
       "      <th>Name_Lara</th>\n",
       "      <th>Name_Omar</th>\n",
       "      <th>Name_Rina</th>\n",
       "      <th>Name_Sam</th>\n",
       "      <th>Name_Tina</th>\n",
       "      <th>Domain_AIML</th>\n",
       "      <th>...</th>\n",
       "      <th>Location_Chnai</th>\n",
       "      <th>Location_Delhi</th>\n",
       "      <th>Location_Hydrabad</th>\n",
       "      <th>Location_Mumabi</th>\n",
       "      <th>Location_Pune</th>\n",
       "      <th>domain_Chnai</th>\n",
       "      <th>domain_Delhi</th>\n",
       "      <th>domain_Hydrabad</th>\n",
       "      <th>domain_Mumabi</th>\n",
       "      <th>domain_Pune</th>\n",
       "    </tr>\n",
       "  </thead>\n",
       "  <tbody>\n",
       "    <tr>\n",
       "      <th>0</th>\n",
       "      <td>29</td>\n",
       "      <td>40000</td>\n",
       "      <td>3</td>\n",
       "      <td>1</td>\n",
       "      <td>0</td>\n",
       "      <td>0</td>\n",
       "      <td>0</td>\n",
       "      <td>0</td>\n",
       "      <td>0</td>\n",
       "      <td>1</td>\n",
       "      <td>...</td>\n",
       "      <td>0</td>\n",
       "      <td>0</td>\n",
       "      <td>0</td>\n",
       "      <td>0</td>\n",
       "      <td>1</td>\n",
       "      <td>0</td>\n",
       "      <td>0</td>\n",
       "      <td>0</td>\n",
       "      <td>0</td>\n",
       "      <td>1</td>\n",
       "    </tr>\n",
       "    <tr>\n",
       "      <th>1</th>\n",
       "      <td>40</td>\n",
       "      <td>85000</td>\n",
       "      <td>2</td>\n",
       "      <td>0</td>\n",
       "      <td>0</td>\n",
       "      <td>0</td>\n",
       "      <td>1</td>\n",
       "      <td>0</td>\n",
       "      <td>0</td>\n",
       "      <td>0</td>\n",
       "      <td>...</td>\n",
       "      <td>0</td>\n",
       "      <td>0</td>\n",
       "      <td>0</td>\n",
       "      <td>1</td>\n",
       "      <td>0</td>\n",
       "      <td>0</td>\n",
       "      <td>0</td>\n",
       "      <td>0</td>\n",
       "      <td>1</td>\n",
       "      <td>0</td>\n",
       "    </tr>\n",
       "    <tr>\n",
       "      <th>2</th>\n",
       "      <td>52</td>\n",
       "      <td>120000</td>\n",
       "      <td>15</td>\n",
       "      <td>0</td>\n",
       "      <td>0</td>\n",
       "      <td>0</td>\n",
       "      <td>0</td>\n",
       "      <td>1</td>\n",
       "      <td>0</td>\n",
       "      <td>0</td>\n",
       "      <td>...</td>\n",
       "      <td>1</td>\n",
       "      <td>0</td>\n",
       "      <td>0</td>\n",
       "      <td>0</td>\n",
       "      <td>0</td>\n",
       "      <td>1</td>\n",
       "      <td>0</td>\n",
       "      <td>0</td>\n",
       "      <td>0</td>\n",
       "      <td>0</td>\n",
       "    </tr>\n",
       "    <tr>\n",
       "      <th>3</th>\n",
       "      <td>40</td>\n",
       "      <td>7000</td>\n",
       "      <td>5</td>\n",
       "      <td>0</td>\n",
       "      <td>1</td>\n",
       "      <td>0</td>\n",
       "      <td>0</td>\n",
       "      <td>0</td>\n",
       "      <td>0</td>\n",
       "      <td>0</td>\n",
       "      <td>...</td>\n",
       "      <td>1</td>\n",
       "      <td>0</td>\n",
       "      <td>0</td>\n",
       "      <td>0</td>\n",
       "      <td>0</td>\n",
       "      <td>1</td>\n",
       "      <td>0</td>\n",
       "      <td>0</td>\n",
       "      <td>0</td>\n",
       "      <td>0</td>\n",
       "    </tr>\n",
       "    <tr>\n",
       "      <th>4</th>\n",
       "      <td>38</td>\n",
       "      <td>95000</td>\n",
       "      <td>7</td>\n",
       "      <td>0</td>\n",
       "      <td>0</td>\n",
       "      <td>1</td>\n",
       "      <td>0</td>\n",
       "      <td>0</td>\n",
       "      <td>0</td>\n",
       "      <td>0</td>\n",
       "      <td>...</td>\n",
       "      <td>0</td>\n",
       "      <td>1</td>\n",
       "      <td>0</td>\n",
       "      <td>0</td>\n",
       "      <td>0</td>\n",
       "      <td>0</td>\n",
       "      <td>1</td>\n",
       "      <td>0</td>\n",
       "      <td>0</td>\n",
       "      <td>0</td>\n",
       "    </tr>\n",
       "    <tr>\n",
       "      <th>5</th>\n",
       "      <td>44</td>\n",
       "      <td>110000</td>\n",
       "      <td>10</td>\n",
       "      <td>0</td>\n",
       "      <td>0</td>\n",
       "      <td>0</td>\n",
       "      <td>0</td>\n",
       "      <td>0</td>\n",
       "      <td>1</td>\n",
       "      <td>0</td>\n",
       "      <td>...</td>\n",
       "      <td>0</td>\n",
       "      <td>0</td>\n",
       "      <td>1</td>\n",
       "      <td>0</td>\n",
       "      <td>0</td>\n",
       "      <td>0</td>\n",
       "      <td>0</td>\n",
       "      <td>1</td>\n",
       "      <td>0</td>\n",
       "      <td>0</td>\n",
       "    </tr>\n",
       "  </tbody>\n",
       "</table>\n",
       "<p>6 rows × 25 columns</p>\n",
       "</div>"
      ],
      "text/plain": [
       "   Age  Salary  Exp  Name_Alex  Name_Lara  Name_Omar  Name_Rina  Name_Sam  \\\n",
       "0   29   40000    3          1          0          0          0         0   \n",
       "1   40   85000    2          0          0          0          1         0   \n",
       "2   52  120000   15          0          0          0          0         1   \n",
       "3   40    7000    5          0          1          0          0         0   \n",
       "4   38   95000    7          0          0          1          0         0   \n",
       "5   44  110000   10          0          0          0          0         0   \n",
       "\n",
       "   Name_Tina  Domain_AIML  ...  Location_Chnai  Location_Delhi  \\\n",
       "0          0            1  ...               0               0   \n",
       "1          0            0  ...               0               0   \n",
       "2          0            0  ...               1               0   \n",
       "3          0            0  ...               1               0   \n",
       "4          0            0  ...               0               1   \n",
       "5          1            0  ...               0               0   \n",
       "\n",
       "   Location_Hydrabad  Location_Mumabi  Location_Pune  domain_Chnai  \\\n",
       "0                  0                0              1             0   \n",
       "1                  0                1              0             0   \n",
       "2                  0                0              0             1   \n",
       "3                  0                0              0             1   \n",
       "4                  0                0              0             0   \n",
       "5                  1                0              0             0   \n",
       "\n",
       "   domain_Delhi  domain_Hydrabad  domain_Mumabi  domain_Pune  \n",
       "0             0                0              0            1  \n",
       "1             0                0              1            0  \n",
       "2             0                0              0            0  \n",
       "3             0                0              0            0  \n",
       "4             1                0              0            0  \n",
       "5             0                1              0            0  \n",
       "\n",
       "[6 rows x 25 columns]"
      ]
     },
     "execution_count": 106,
     "metadata": {},
     "output_type": "execute_result"
    }
   ],
   "source": [
    "imputations"
   ]
  },
  {
   "cell_type": "code",
   "execution_count": null,
   "id": "ab99f788-0121-47cb-91fc-110fd3c169cf",
   "metadata": {},
   "outputs": [],
   "source": []
  }
 ],
 "metadata": {
  "kernelspec": {
   "display_name": "Python 3 (ipykernel)",
   "language": "python",
   "name": "python3"
  },
  "language_info": {
   "codemirror_mode": {
    "name": "ipython",
    "version": 3
   },
   "file_extension": ".py",
   "mimetype": "text/x-python",
   "name": "python",
   "nbconvert_exporter": "python",
   "pygments_lexer": "ipython3",
   "version": "3.13.5"
  }
 },
 "nbformat": 4,
 "nbformat_minor": 5
}
