{
 "cells": [
  {
   "cell_type": "raw",
   "id": "2ed9ddc9-d2eb-4d7f-b824-ae37056d0818",
   "metadata": {},
   "source": [
    "1. print numbers from 1 to 10 using loop"
   ]
  },
  {
   "cell_type": "code",
   "execution_count": 4,
   "id": "fbb50121-1358-4cd5-ace0-311051528a93",
   "metadata": {},
   "outputs": [
    {
     "name": "stdout",
     "output_type": "stream",
     "text": [
      "1\n",
      "2\n",
      "3\n",
      "4\n",
      "5\n",
      "6\n",
      "7\n",
      "8\n",
      "9\n",
      "10\n"
     ]
    }
   ],
   "source": [
    "for num in range(1,11):\n",
    "    print(num)"
   ]
  },
  {
   "cell_type": "raw",
   "id": "587e65a3-d0ae-446c-a1a5-9a8938bffb5b",
   "metadata": {},
   "source": [
    "2. calculate the sum of numbers from 1 to 10 using a for loop"
   ]
  },
  {
   "cell_type": "code",
   "execution_count": 5,
   "id": "92fafb4a-5f7b-46cf-85ab-85c23d7df98f",
   "metadata": {},
   "outputs": [
    {
     "name": "stdout",
     "output_type": "stream",
     "text": [
      "55\n"
     ]
    }
   ],
   "source": [
    "sum_numbers = 0\n",
    "for num in range(1,11):\n",
    "    sum_numbers += num\n",
    "print(sum_numbers)"
   ]
  },
  {
   "cell_type": "raw",
   "id": "2a8fb26d-d0d0-4c42-ae4a-74180c70c2dd",
   "metadata": {},
   "source": [
    "3. print the elements of a list for a loop"
   ]
  },
  {
   "cell_type": "code",
   "execution_count": 7,
   "id": "5a5c700a-bd17-4be8-85a2-552ab5a8a19b",
   "metadata": {},
   "outputs": [
    {
     "name": "stdout",
     "output_type": "stream",
     "text": [
      "1\n",
      "2\n",
      "3\n",
      "4\n",
      "5\n"
     ]
    }
   ],
   "source": [
    "my_list = [1,2,3,4,5]\n",
    "for element in my_list:\n",
    "    print(element)"
   ]
  },
  {
   "cell_type": "raw",
   "id": "1ed69eee-74b3-45fd-8d72-46a11d3eb1f7",
   "metadata": {},
   "source": [
    "4 calculate the product of elements in a list using a for loop:"
   ]
  },
  {
   "cell_type": "code",
   "execution_count": 8,
   "id": "236530e9-5033-4ec0-9a64-dcd528e1c943",
   "metadata": {},
   "outputs": [
    {
     "name": "stdout",
     "output_type": "stream",
     "text": [
      "120\n"
     ]
    }
   ],
   "source": [
    "my_kist = [2,3,4,5]\n",
    "product = 1\n",
    "for num in my_list:\n",
    "    product *=num\n",
    "print(product)"
   ]
  },
  {
   "cell_type": "raw",
   "id": "4493aacf-6db0-4a7b-b273-d76bc27a4722",
   "metadata": {},
   "source": [
    "5. Print even numbers from 1 to 10 using a for loop"
   ]
  },
  {
   "cell_type": "code",
   "execution_count": 9,
   "id": "fdc02f85-98a2-461c-ab15-1746026eb443",
   "metadata": {},
   "outputs": [
    {
     "name": "stdout",
     "output_type": "stream",
     "text": [
      "2\n",
      "4\n",
      "6\n",
      "8\n",
      "10\n"
     ]
    }
   ],
   "source": [
    "for num in range(2,11,2):\n",
    "    print(num)"
   ]
  },
  {
   "cell_type": "raw",
   "id": "5d5f686c-76be-474f-a67b-0d1d8590b167",
   "metadata": {},
   "source": [
    "6. print number is reverse from 10 to  1 using for loop"
   ]
  },
  {
   "cell_type": "code",
   "execution_count": 10,
   "id": "8e6acc62-2d11-4a97-8d52-8a4db4ad86c3",
   "metadata": {},
   "outputs": [
    {
     "name": "stdout",
     "output_type": "stream",
     "text": [
      "10\n",
      "9\n",
      "8\n",
      "7\n",
      "6\n",
      "5\n",
      "4\n",
      "3\n",
      "2\n",
      "1\n"
     ]
    }
   ],
   "source": [
    "for num in range(10,0,-1):\n",
    "    print(num)"
   ]
  },
  {
   "cell_type": "raw",
   "id": "9fda6c92-5605-471c-ba71-a558effd58aa",
   "metadata": {},
   "source": [
    "7. print characters of a string using a for loop"
   ]
  },
  {
   "cell_type": "code",
   "execution_count": 11,
   "id": "75e2d1ea-02c1-40c7-9e2f-d10e8892ecb7",
   "metadata": {},
   "outputs": [
    {
     "name": "stdout",
     "output_type": "stream",
     "text": [
      "H\n",
      "e\n",
      "l\n",
      "l\n",
      "o\n"
     ]
    }
   ],
   "source": [
    "my_string = 'Hello'\n",
    "for char in my_string:\n",
    "    print(char)"
   ]
  },
  {
   "cell_type": "markdown",
   "id": "c78dc0a8-5e93-41c6-ae7f-7439b6438cc2",
   "metadata": {},
   "source": [
    "8. find the largest number in a list using a for loop"
   ]
  },
  {
   "cell_type": "code",
   "execution_count": 12,
   "id": "ab3f8e35-4085-4ec0-bb96-0b86e562e9cf",
   "metadata": {},
   "outputs": [
    {
     "name": "stdout",
     "output_type": "stream",
     "text": [
      "3\n",
      "9\n",
      "9\n",
      "9\n",
      "9\n",
      "9\n"
     ]
    }
   ],
   "source": [
    "my_list = [3,9,1,6,2,8]\n",
    "largest = my_list[0]\n",
    "for num in my_list:\n",
    "    if num> largest:\n",
    "        largest = num\n",
    "    print(largest)"
   ]
  },
  {
   "cell_type": "markdown",
   "id": "83ae5dfd-9447-41f3-9801-7cd706138e15",
   "metadata": {},
   "source": [
    "9. find the average of numbers in a list using a for loop"
   ]
  },
  {
   "cell_type": "code",
   "execution_count": 13,
   "id": "7c418b55-83f4-46f4-b98c-261f950b95ba",
   "metadata": {},
   "outputs": [
    {
     "name": "stdout",
     "output_type": "stream",
     "text": [
      "5.4\n"
     ]
    }
   ],
   "source": [
    "my_list = [4,7,9,2,5]\n",
    "total=0\n",
    "for num in my_list:\n",
    "    total +=num\n",
    "average = total / len(my_list)\n",
    "print(average)"
   ]
  },
  {
   "cell_type": "markdown",
   "id": "179a0e19-395f-4431-983c-618695a166c0",
   "metadata": {},
   "source": [
    "10. print all uppercase letters in a string using a for loop\n",
    "                                                    "
   ]
  },
  {
   "cell_type": "code",
   "execution_count": 14,
   "id": "071d2785-8d9b-4e7c-9280-9799283b71a2",
   "metadata": {},
   "outputs": [
    {
     "name": "stdout",
     "output_type": "stream",
     "text": [
      "H\n",
      "W\n"
     ]
    }
   ],
   "source": [
    "my_string = 'Hello World'\n",
    "for char in my_string:\n",
    "    if char.isupper():\n",
    "        print(char)"
   ]
  },
  {
   "cell_type": "markdown",
   "id": "a124016d-dadc-4cd9-8e00-5d1071ed9e96",
   "metadata": {},
   "source": [
    "11. count the number of vowels in a string using a for loop"
   ]
  },
  {
   "cell_type": "code",
   "execution_count": 16,
   "id": "7bef5c7e-d23c-4cc8-9412-8a5d1fda3082",
   "metadata": {},
   "outputs": [
    {
     "name": "stdout",
     "output_type": "stream",
     "text": [
      "3\n"
     ]
    }
   ],
   "source": [
    "my_string = 'Hello World'\n",
    "vowels = 'AEIUOaeoiu'\n",
    "count =0\n",
    "for char in my_string:\n",
    "    if char in vowels:\n",
    "        count +=1\n",
    "print(count)\n",
    "        "
   ]
  },
  {
   "cell_type": "markdown",
   "id": "7f00e413-564f-4131-a870-44b738ac0317",
   "metadata": {},
   "source": [
    "12. print a pattern of sars using nested for loops"
   ]
  },
  {
   "cell_type": "code",
   "execution_count": 17,
   "id": "15b57dcc-cfae-4017-a605-36ac47e82c67",
   "metadata": {},
   "outputs": [
    {
     "name": "stdout",
     "output_type": "stream",
     "text": [
      "*\n",
      "**\n",
      "***\n",
      "****\n",
      "*****\n"
     ]
    }
   ],
   "source": [
    "for i in range(5):\n",
    "    for j in range(i+1):\n",
    "        print('*',end='')\n",
    "    print()"
   ]
  },
  {
   "cell_type": "markdown",
   "id": "d6a28afc-aa8b-4bc6-9bd9-b8017cd3a832",
   "metadata": {},
   "source": [
    "13 calculate factorial of a number using a while loop"
   ]
  },
  {
   "cell_type": "code",
   "execution_count": 18,
   "id": "d563d926-5548-451f-b352-336dabd0de90",
   "metadata": {},
   "outputs": [
    {
     "name": "stdout",
     "output_type": "stream",
     "text": [
      "120\n"
     ]
    }
   ],
   "source": [
    "num = 5\n",
    "factorial = 1\n",
    "while num > 0:\n",
    "    factorial *= num\n",
    "    num -=1\n",
    "print(factorial)"
   ]
  },
  {
   "cell_type": "markdown",
   "id": "34892f03-e6bf-40d5-84d7-ae6e2216c8fb",
   "metadata": {},
   "source": [
    "14 find the first occurence of a number in a list using a while loop"
   ]
  },
  {
   "cell_type": "code",
   "execution_count": 19,
   "id": "1db4722a-5de2-490c-bed9-8e2857f283cb",
   "metadata": {},
   "outputs": [
    {
     "name": "stdout",
     "output_type": "stream",
     "text": [
      "3\n"
     ]
    }
   ],
   "source": [
    "my_list = [3,8,2,7,4]\n",
    "target = 7\n",
    "index = 0\n",
    "while index < len(my_list):\n",
    "    if my_list[index] == target:\n",
    "        break\n",
    "    index +=1\n",
    "else:\n",
    "    index =-1\n",
    "print(index)"
   ]
  },
  {
   "cell_type": "markdown",
   "id": "b7cf250a-0b48-47f1-a8b6-8f2167b785bd",
   "metadata": {},
   "source": [
    "15 calculate the sum of numbers from 1 to 100 using a while loop"
   ]
  },
  {
   "cell_type": "code",
   "execution_count": 21,
   "id": "cd813359-109a-4139-9d00-05ca3eb1ce32",
   "metadata": {},
   "outputs": [
    {
     "name": "stdout",
     "output_type": "stream",
     "text": [
      "5050\n"
     ]
    }
   ],
   "source": [
    "num = 1\n",
    "sum_numbers = 0\n",
    "while num <=100:\n",
    "    sum_numbers += num\n",
    "    num +=1\n",
    "print(sum_numbers)"
   ]
  },
  {
   "cell_type": "markdown",
   "id": "965037c0-3723-482d-980c-2253983d3b8a",
   "metadata": {},
   "source": [
    "16 find all prime numbers between 1 to 50 using nested for and if"
   ]
  },
  {
   "cell_type": "code",
   "execution_count": 23,
   "id": "22bab8ef-770e-489a-91b2-ad7f9dc8a5fa",
   "metadata": {},
   "outputs": [
    {
     "name": "stdout",
     "output_type": "stream",
     "text": [
      "2\n",
      "3\n",
      "5\n",
      "7\n",
      "11\n",
      "13\n",
      "17\n",
      "19\n",
      "23\n",
      "29\n",
      "31\n",
      "37\n",
      "41\n",
      "43\n",
      "47\n"
     ]
    }
   ],
   "source": [
    "for num in range(2,51):\n",
    "    for i in range(2, num):\n",
    "        if num % i == 0:\n",
    "            break\n",
    "    else:\n",
    "        print(num)\n",
    "    \n",
    "                 "
   ]
  },
  {
   "cell_type": "markdown",
   "id": "47d5825d-f0b1-433c-8aa0-6e19d982ae6e",
   "metadata": {},
   "source": [
    "17 print numbers divisible by 3 or 5 from 1 to 20 using a for loop"
   ]
  },
  {
   "cell_type": "code",
   "execution_count": 24,
   "id": "06e9ffd7-6931-43ac-98bb-4a0c4764c358",
   "metadata": {},
   "outputs": [
    {
     "name": "stdout",
     "output_type": "stream",
     "text": [
      "3\n",
      "5\n",
      "6\n",
      "9\n",
      "10\n",
      "12\n",
      "15\n",
      "18\n",
      "20\n"
     ]
    }
   ],
   "source": [
    "for num in range(1,21):\n",
    "    if num % 3 == 0 or num % 5 == 0:\n",
    "        print(num)"
   ]
  },
  {
   "cell_type": "markdown",
   "id": "e5f8afc9-a5e0-4c3b-a725-3af30c93518b",
   "metadata": {},
   "source": [
    "18 print a list of squares of numbers from 1 to 5 using a list comprehension"
   ]
  },
  {
   "cell_type": "code",
   "execution_count": 27,
   "id": "0c810788-32c1-44ce-a2a0-7c06055b38b3",
   "metadata": {},
   "outputs": [
    {
     "name": "stdout",
     "output_type": "stream",
     "text": [
      "[1, 4, 9, 16, 25]\n"
     ]
    }
   ],
   "source": [
    "squares = [num**2 for num in range(1,6)]\n",
    "print(squares)"
   ]
  },
  {
   "cell_type": "markdown",
   "id": "15eba909-ec45-48b4-8e07-d8d5a85f46ea",
   "metadata": {},
   "source": [
    "19 print the fibonacci sequence up to the 10th term using a while loop"
   ]
  },
  {
   "cell_type": "code",
   "execution_count": 28,
   "id": "e7f36595-00d9-4f76-bbd0-f9e49073e3dc",
   "metadata": {},
   "outputs": [
    {
     "name": "stdout",
     "output_type": "stream",
     "text": [
      "0112358132134"
     ]
    }
   ],
   "source": [
    "a,b = 0,1\n",
    "count = 0\n",
    "while count < 10:\n",
    "    print(a,end='')\n",
    "    a,b = b, a+b\n",
    "    count +=1"
   ]
  },
  {
   "cell_type": "markdown",
   "id": "859a5b84-db13-4260-94a5-0cc116545aa5",
   "metadata": {},
   "source": [
    "20. Find the common elements in two lists using a for loop:"
   ]
  },
  {
   "cell_type": "code",
   "execution_count": 29,
   "id": "a1d54a4e-c53f-4e81-932b-23dacb2b3fc8",
   "metadata": {},
   "outputs": [
    {
     "name": "stdout",
     "output_type": "stream",
     "text": [
      "[3, 4, 5]\n"
     ]
    }
   ],
   "source": [
    "list1 =[1,2,3,4,5]\n",
    "list2 =[3,4,5,6,7]\n",
    "common_elements = []\n",
    "for element in list1:\n",
    "    if element in list2:\n",
    "        common_elements.append(element)\n",
    "print(common_elements)"
   ]
  },
  {
   "cell_type": "markdown",
   "id": "32f47c6e-3cd0-44bb-bfdf-f4a03241fe1d",
   "metadata": {},
   "source": [
    "21.Print numbers in a list until a negative number is encountered using a \n",
    "while loop: "
   ]
  },
  {
   "cell_type": "code",
   "execution_count": 30,
   "id": "e0a8427a-2b52-4721-a36d-71f04270a31d",
   "metadata": {},
   "outputs": [
    {
     "name": "stdout",
     "output_type": "stream",
     "text": [
      "1\n",
      "4\n",
      "6\n",
      "8\n",
      "10\n"
     ]
    }
   ],
   "source": [
    "my_list = [1,4,6,8,10,-3,5,7]\n",
    "index = 0\n",
    "while my_list[index] >= 0:\n",
    "    print(my_list[index])\n",
    "    index +=1"
   ]
  },
  {
   "cell_type": "markdown",
   "id": "b2fccfc6-eba1-4cd7-abd4-f83e393cc0c0",
   "metadata": {},
   "source": [
    "22. Print numbers from 1 to 5, except 3 using a for loop and continue \n",
    "statement: \n"
   ]
  },
  {
   "cell_type": "code",
   "execution_count": 31,
   "id": "100636c2-439f-4f52-97ff-d7fb89a17fbf",
   "metadata": {},
   "outputs": [
    {
     "name": "stdout",
     "output_type": "stream",
     "text": [
      "1\n",
      "2\n",
      "4\n",
      "5\n"
     ]
    }
   ],
   "source": [
    "for num in range(1,6):\n",
    "    if num == 3:\n",
    "        continue\n",
    "    print(num)"
   ]
  },
  {
   "cell_type": "markdown",
   "id": "0336900d-28bf-43d6-9451-99da32d34277",
   "metadata": {},
   "source": [
    "23. Print numbers from 1 to 10. If a number is divisible by 4, stop the loop \n",
    "using a for loop and break statement:"
   ]
  },
  {
   "cell_type": "code",
   "execution_count": 32,
   "id": "045976fc-741b-43d1-adc3-76f8eb8b851b",
   "metadata": {},
   "outputs": [
    {
     "name": "stdout",
     "output_type": "stream",
     "text": [
      "1\n",
      "2\n",
      "3\n",
      "4\n"
     ]
    }
   ],
   "source": [
    "for num in range (1,11):\n",
    "    print(num)\n",
    "    if num%4 == 0:\n",
    "        break"
   ]
  },
  {
   "cell_type": "markdown",
   "id": "5ff7c688-2fd4-4900-bc7e-c01700fc4a29",
   "metadata": {},
   "source": [
    "24. print numbers from 1 to 10. if a number is even, skip it using a for loop and else clause"
   ]
  },
  {
   "cell_type": "code",
   "execution_count": 33,
   "id": "3e7d7451-2780-4ed8-84cf-0ccaa65cfb0d",
   "metadata": {},
   "outputs": [
    {
     "name": "stdout",
     "output_type": "stream",
     "text": [
      "1\n",
      "3\n",
      "5\n",
      "7\n",
      "9\n",
      "loop completed successfully!\n"
     ]
    }
   ],
   "source": [
    "for num in range(1,11):\n",
    "    if num % 2 == 0:\n",
    "        continue \n",
    "    print(num)\n",
    "else:\n",
    "    print('loop completed successfully!')"
   ]
  },
  {
   "cell_type": "markdown",
   "id": "80cb173f-d9d0-48eb-9388-63cc27794ec1",
   "metadata": {},
   "source": [
    "25. Print numbers from 1 to 10. If a number is even, break the loop using a for \n",
    "loop and else clause:"
   ]
  },
  {
   "cell_type": "code",
   "execution_count": 34,
   "id": "5b06e6e7-1195-42ec-8ca0-3eafb3ee69ee",
   "metadata": {},
   "outputs": [
    {
     "name": "stdout",
     "output_type": "stream",
     "text": [
      "1\n"
     ]
    }
   ],
   "source": [
    "for num in range(1,11):\n",
    "    if num % 2 == 0:\n",
    "        break\n",
    "    print(num)\n",
    "else:\n",
    "    print('loop completed successfully!')"
   ]
  },
  {
   "cell_type": "code",
   "execution_count": null,
   "id": "5414b2e4-841e-4fef-976e-894bf3b6aec1",
   "metadata": {},
   "outputs": [],
   "source": []
  }
 ],
 "metadata": {
  "kernelspec": {
   "display_name": "Python 3 (ipykernel)",
   "language": "python",
   "name": "python3"
  },
  "language_info": {
   "codemirror_mode": {
    "name": "ipython",
    "version": 3
   },
   "file_extension": ".py",
   "mimetype": "text/x-python",
   "name": "python",
   "nbconvert_exporter": "python",
   "pygments_lexer": "ipython3",
   "version": "3.13.5"
  }
 },
 "nbformat": 4,
 "nbformat_minor": 5
}
