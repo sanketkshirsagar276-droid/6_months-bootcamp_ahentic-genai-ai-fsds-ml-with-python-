{
 "cells": [
  {
   "cell_type": "markdown",
   "id": "11f718fc-9a57-4ec0-bcda-fc8dd0ac1618",
   "metadata": {},
   "source": [
    "# print format methhod"
   ]
  },
  {
   "cell_type": "code",
   "execution_count": 1,
   "id": "92150b7b-ad92-4088-bf95-ac9a4751fdec",
   "metadata": {},
   "outputs": [],
   "source": [
    "num1=20 \n",
    "num2=30\n",
    "add=num1+num2"
   ]
  },
  {
   "cell_type": "code",
   "execution_count": 2,
   "id": "b74e1cd8-edac-4c66-8d7a-dbee2992ee11",
   "metadata": {},
   "outputs": [
    {
     "data": {
      "text/plain": [
       "50"
      ]
     },
     "execution_count": 2,
     "metadata": {},
     "output_type": "execute_result"
    }
   ],
   "source": [
    "add"
   ]
  },
  {
   "cell_type": "code",
   "execution_count": 3,
   "id": "0959f1d2-8c0a-4bc7-8664-274c1b7b4ebe",
   "metadata": {},
   "outputs": [
    {
     "data": {
      "text/plain": [
       "('the addition of', 20, 'and', 30, 'is=', 50)"
      ]
     },
     "execution_count": 3,
     "metadata": {},
     "output_type": "execute_result"
    }
   ],
   "source": [
    "('the addition of',num1, 'and', num2, 'is=',add)"
   ]
  },
  {
   "cell_type": "code",
   "execution_count": 4,
   "id": "8592b9cb-3af1-41a7-944c-ddf80ec44cc4",
   "metadata": {},
   "outputs": [
    {
     "name": "stdout",
     "output_type": "stream",
     "text": [
      "The addition of 20 and 30 is= 50\n"
     ]
    }
   ],
   "source": [
    "print('The addition of {} and {} is= {}'.format(num1,num2,add))"
   ]
  },
  {
   "cell_type": "code",
   "execution_count": 8,
   "id": "f6b8ca99-ae5d-4986-8803-0a606695f731",
   "metadata": {},
   "outputs": [
    {
     "name": "stdout",
     "output_type": "stream",
     "text": [
      "The addition of 20 and 30 is= 50\n"
     ]
    }
   ],
   "source": [
    "print('The addition of {} and {} is= {}' .format(num1,num2,add))"
   ]
  },
  {
   "cell_type": "code",
   "execution_count": 9,
   "id": "c58a2176-4171-4c9a-94da-457c95f1b349",
   "metadata": {},
   "outputs": [
    {
     "data": {
      "text/plain": [
       "90"
      ]
     },
     "execution_count": 9,
     "metadata": {},
     "output_type": "execute_result"
    }
   ],
   "source": [
    "num1=20 \n",
    "num2=30\n",
    "num3=40\n",
    "add=num1+num2+num3\n",
    "add"
   ]
  },
  {
   "cell_type": "code",
   "execution_count": 11,
   "id": "41880670-fead-4fa3-9a84-7dcd4eaea92d",
   "metadata": {},
   "outputs": [
    {
     "name": "stdout",
     "output_type": "stream",
     "text": [
      "The addition of 20 and 30 and 40 is= 90\n"
     ]
    }
   ],
   "source": [
    "print('The addition of {} and {} and {} is= {}' .format(num1,num2,num3,add))"
   ]
  },
  {
   "cell_type": "code",
   "execution_count": 2,
   "id": "8116e185-a0a2-4dc3-82d6-ab956439468a",
   "metadata": {},
   "outputs": [
    {
     "ename": "SyntaxError",
     "evalue": "invalid syntax. Maybe you meant '==' or ':=' instead of '='? (1890809380.py, line 1)",
     "output_type": "error",
     "traceback": [
      "\u001b[1;36m  Cell \u001b[1;32mIn[2], line 1\u001b[1;36m\u001b[0m\n\u001b[1;33m    ('hello','hai','how are you',sep='--->')\u001b[0m\n\u001b[1;37m                                 ^\u001b[0m\n\u001b[1;31mSyntaxError\u001b[0m\u001b[1;31m:\u001b[0m invalid syntax. Maybe you meant '==' or ':=' instead of '='?\n"
     ]
    }
   ],
   "source": [
    "('hello','hai','how are you',sep='--->')\n",
    "print"
   ]
  },
  {
   "cell_type": "code",
   "execution_count": 3,
   "id": "2d33ac52-d333-453a-85fe-17e78a3e7607",
   "metadata": {},
   "outputs": [
    {
     "name": "stdout",
     "output_type": "stream",
     "text": [
      "hello***&&&&--->hai***&&&&--->how are you\n"
     ]
    }
   ],
   "source": [
    "print('hello','hai','how are you',sep='***&&&&--->')"
   ]
  },
  {
   "cell_type": "code",
   "execution_count": 4,
   "id": "78353949-7284-48b2-8f1a-2076eb23ce3e",
   "metadata": {},
   "outputs": [
    {
     "name": "stdout",
     "output_type": "stream",
     "text": [
      "hello&&&&--->hai&&&&--->how are you\n"
     ]
    }
   ],
   "source": [
    "print('hello','hai','how are you',sep='&&&&--->')"
   ]
  },
  {
   "cell_type": "code",
   "execution_count": null,
   "id": "17b91065-0b92-4f66-b1c8-117d4dfc60b6",
   "metadata": {},
   "outputs": [],
   "source": []
  }
 ],
 "metadata": {
  "kernelspec": {
   "display_name": "Python 3 (ipykernel)",
   "language": "python",
   "name": "python3"
  },
  "language_info": {
   "codemirror_mode": {
    "name": "ipython",
    "version": 3
   },
   "file_extension": ".py",
   "mimetype": "text/x-python",
   "name": "python",
   "nbconvert_exporter": "python",
   "pygments_lexer": "ipython3",
   "version": "3.13.5"
  }
 },
 "nbformat": 4,
 "nbformat_minor": 5
}
