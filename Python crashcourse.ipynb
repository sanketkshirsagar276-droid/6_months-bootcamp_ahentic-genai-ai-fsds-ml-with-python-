{
 "cells": [
  {
   "cell_type": "code",
   "execution_count": 25,
   "id": "eec82bb5-76c6-488e-86d0-085ccf80d23f",
   "metadata": {},
   "outputs": [],
   "source": [
    "import numpy as np\n"
   ]
  },
  {
   "cell_type": "code",
   "execution_count": 13,
   "id": "2973db5d-df52-401e-a7a3-b2eda1ba24c3",
   "metadata": {},
   "outputs": [
    {
     "data": {
      "text/plain": [
       "'2.1.3'"
      ]
     },
     "execution_count": 13,
     "metadata": {},
     "output_type": "execute_result"
    }
   ],
   "source": [
    "np.__version__"
   ]
  },
  {
   "cell_type": "code",
   "execution_count": 14,
   "id": "feb619f1-2502-4cf9-849a-fb0e217734b8",
   "metadata": {},
   "outputs": [
    {
     "data": {
      "text/plain": [
       "[0, 1, 2, 3, 4, 5]"
      ]
     },
     "execution_count": 14,
     "metadata": {},
     "output_type": "execute_result"
    }
   ],
   "source": [
    "my_list = [0,1,2,3,4,5]\n",
    "my_list"
   ]
  },
  {
   "cell_type": "code",
   "execution_count": 15,
   "id": "7db01287-020a-464c-86c7-5cc9c46094f2",
   "metadata": {},
   "outputs": [
    {
     "data": {
      "text/plain": [
       "list"
      ]
     },
     "execution_count": 15,
     "metadata": {},
     "output_type": "execute_result"
    }
   ],
   "source": [
    "type(my_list)"
   ]
  },
  {
   "cell_type": "code",
   "execution_count": 16,
   "id": "976778d6-7c68-464b-bfd6-a8e5a0215cc0",
   "metadata": {},
   "outputs": [
    {
     "data": {
      "text/plain": [
       "array([0, 1, 2, 3, 4, 5])"
      ]
     },
     "execution_count": 16,
     "metadata": {},
     "output_type": "execute_result"
    }
   ],
   "source": [
    "arr = np.array(my_list)  #converting list into array\n",
    "arr"
   ]
  },
  {
   "cell_type": "code",
   "execution_count": 17,
   "id": "1fcf3c22-ab6d-4f67-a54d-ae739756d072",
   "metadata": {},
   "outputs": [
    {
     "name": "stdout",
     "output_type": "stream",
     "text": [
      "<class 'numpy.ndarray'>\n"
     ]
    }
   ],
   "source": [
    "print(type(arr))"
   ]
  },
  {
   "cell_type": "markdown",
   "id": "3eceb007-d888-4da6-bbaa-1ae2ee7cf5ab",
   "metadata": {},
   "source": [
    "# .arange()"
   ]
  },
  {
   "cell_type": "code",
   "execution_count": 18,
   "id": "08d6f3cd-3244-462b-8cf6-aa36c52a70d9",
   "metadata": {},
   "outputs": [
    {
     "data": {
      "text/plain": [
       "array([0, 1, 2, 3, 4, 5, 6, 7, 8, 9])"
      ]
     },
     "execution_count": 18,
     "metadata": {},
     "output_type": "execute_result"
    }
   ],
   "source": [
    "np.arange(10) # it is same like range function"
   ]
  },
  {
   "cell_type": "code",
   "execution_count": 19,
   "id": "15b987ee-d601-43fd-9b62-286b243c6dbc",
   "metadata": {},
   "outputs": [
    {
     "data": {
      "text/plain": [
       "array([10, 11, 12, 13, 14, 15, 16, 17, 18, 19])"
      ]
     },
     "execution_count": 19,
     "metadata": {},
     "output_type": "execute_result"
    }
   ],
   "source": [
    "np.arange(10,20)"
   ]
  },
  {
   "cell_type": "code",
   "execution_count": 20,
   "id": "7e92bd30-48c2-418b-b27c-27e3142b4a6f",
   "metadata": {},
   "outputs": [
    {
     "data": {
      "text/plain": [
       "array([10, 12, 14, 16, 18])"
      ]
     },
     "execution_count": 20,
     "metadata": {},
     "output_type": "execute_result"
    }
   ],
   "source": [
    "np.arange(10,20,2)"
   ]
  },
  {
   "cell_type": "code",
   "execution_count": 23,
   "id": "8506b752-ab45-4834-9c30-2eaa8e999502",
   "metadata": {},
   "outputs": [
    {
     "data": {
      "text/plain": [
       "array([], dtype=int64)"
      ]
     },
     "execution_count": 23,
     "metadata": {},
     "output_type": "execute_result"
    }
   ],
   "source": [
    "np.arange(20,10)  # first arg is always greater that second"
   ]
  },
  {
   "cell_type": "code",
   "execution_count": 24,
   "id": "3c5dade0-d7b8-4815-9ab9-83dbeac421a7",
   "metadata": {},
   "outputs": [
    {
     "data": {
      "text/plain": [
       "array([-20, -19, -18, -17, -16, -15, -14, -13, -12, -11, -10,  -9,  -8,\n",
       "        -7,  -6,  -5,  -4,  -3,  -2,  -1,   0,   1,   2,   3,   4,   5,\n",
       "         6,   7,   8,   9])"
      ]
     },
     "execution_count": 24,
     "metadata": {},
     "output_type": "execute_result"
    }
   ],
   "source": [
    "np.arange(-20,10)"
   ]
  },
  {
   "cell_type": "code",
   "execution_count": null,
   "id": "c7299637-fa2d-4cc3-a15b-94c29d535135",
   "metadata": {},
   "outputs": [],
   "source": []
  },
  {
   "cell_type": "markdown",
   "id": "c81549eb-75be-454b-bdb0-62295bb5e1dd",
   "metadata": {},
   "source": [
    "# .zeros()"
   ]
  },
  {
   "cell_type": "raw",
   "id": "48314f87-ccb3-43e1-a922-bd19f780c0eb",
   "metadata": {},
   "source": [
    "it will create a numpy array filled with zeros, np.zeros(shape,dtytpe=float,order='C)'"
   ]
  },
  {
   "cell_type": "code",
   "execution_count": 14,
   "id": "f7485cea-797d-44a3-97b9-18e9589a02ab",
   "metadata": {},
   "outputs": [
    {
     "data": {
      "text/plain": [
       "array([0., 0., 0., 0., 0.])"
      ]
     },
     "execution_count": 14,
     "metadata": {},
     "output_type": "execute_result"
    }
   ],
   "source": [
    "np.zeros(5) #parameter tunning"
   ]
  },
  {
   "cell_type": "code",
   "execution_count": 15,
   "id": "34e39e08-6fc0-4fea-ad8e-cb4962b131a7",
   "metadata": {},
   "outputs": [
    {
     "data": {
      "text/plain": [
       "array([0, 0, 0, 0, 0])"
      ]
     },
     "execution_count": 15,
     "metadata": {},
     "output_type": "execute_result"
    }
   ],
   "source": [
    "np.zeros(5, dtype = int) #hyperparameter tunning"
   ]
  },
  {
   "cell_type": "code",
   "execution_count": 16,
   "id": "3c8ede58-1d53-490c-992d-bbbc50b049f5",
   "metadata": {},
   "outputs": [
    {
     "data": {
      "text/plain": [
       "array([[0., 0.],\n",
       "       [0., 0.]])"
      ]
     },
     "execution_count": 16,
     "metadata": {},
     "output_type": "execute_result"
    }
   ],
   "source": [
    "np.zeros([2,2])"
   ]
  },
  {
   "cell_type": "code",
   "execution_count": 17,
   "id": "3318ddee-450c-4815-84be-7e9df2e3cf3d",
   "metadata": {},
   "outputs": [
    {
     "data": {
      "text/plain": [
       "array([[0., 0., 0., 0.],\n",
       "       [0., 0., 0., 0.],\n",
       "       [0., 0., 0., 0.],\n",
       "       [0., 0., 0., 0.],\n",
       "       [0., 0., 0., 0.]])"
      ]
     },
     "execution_count": 17,
     "metadata": {},
     "output_type": "execute_result"
    }
   ],
   "source": [
    "np.zeros([5,4])   #5 rows , 4 columns"
   ]
  },
  {
   "cell_type": "code",
   "execution_count": 18,
   "id": "d4b0d648-53fb-4569-9005-0abbe4c6b58e",
   "metadata": {},
   "outputs": [
    {
     "data": {
      "text/plain": [
       "array([[0., 0., 0., 0., 0., 0., 0., 0., 0., 0.],\n",
       "       [0., 0., 0., 0., 0., 0., 0., 0., 0., 0.],\n",
       "       [0., 0., 0., 0., 0., 0., 0., 0., 0., 0.],\n",
       "       [0., 0., 0., 0., 0., 0., 0., 0., 0., 0.],\n",
       "       [0., 0., 0., 0., 0., 0., 0., 0., 0., 0.],\n",
       "       [0., 0., 0., 0., 0., 0., 0., 0., 0., 0.],\n",
       "       [0., 0., 0., 0., 0., 0., 0., 0., 0., 0.],\n",
       "       [0., 0., 0., 0., 0., 0., 0., 0., 0., 0.],\n",
       "       [0., 0., 0., 0., 0., 0., 0., 0., 0., 0.],\n",
       "       [0., 0., 0., 0., 0., 0., 0., 0., 0., 0.]])"
      ]
     },
     "execution_count": 18,
     "metadata": {},
     "output_type": "execute_result"
    }
   ],
   "source": [
    "np.zeros([10,10])"
   ]
  },
  {
   "cell_type": "markdown",
   "id": "c50183ba-3026-4fc5-80a7-247c64d74240",
   "metadata": {},
   "source": [
    "# .ones()"
   ]
  },
  {
   "cell_type": "markdown",
   "id": "e22b42ca-2bb0-4609-aaec-ac51e2a35d2e",
   "metadata": {},
   "source": [
    "# .ones()"
   ]
  },
  {
   "cell_type": "markdown",
   "id": "df9d2958-4993-404b-b548-d700f4dddcde",
   "metadata": {},
   "source": [
    "it will create a new array filled with the one's"
   ]
  },
  {
   "cell_type": "code",
   "execution_count": 19,
   "id": "82ebd51e-daa5-4890-8f09-b97162118150",
   "metadata": {},
   "outputs": [
    {
     "data": {
      "text/plain": [
       "array([1., 1.])"
      ]
     },
     "execution_count": 19,
     "metadata": {},
     "output_type": "execute_result"
    }
   ],
   "source": [
    "np.ones(2)"
   ]
  },
  {
   "cell_type": "code",
   "execution_count": 20,
   "id": "99a41d37-c19d-4057-8051-54eca1888f39",
   "metadata": {},
   "outputs": [
    {
     "data": {
      "text/plain": [
       "array([1, 1, 1])"
      ]
     },
     "execution_count": 20,
     "metadata": {},
     "output_type": "execute_result"
    }
   ],
   "source": [
    "np.ones(3, dtype = int)"
   ]
  },
  {
   "cell_type": "code",
   "execution_count": 21,
   "id": "8d5dbcf8-1637-4b9d-aefa-58ce08c6788f",
   "metadata": {},
   "outputs": [
    {
     "data": {
      "text/plain": [
       "array([[1, 1, 1],\n",
       "       [1, 1, 1],\n",
       "       [1, 1, 1]])"
      ]
     },
     "execution_count": 21,
     "metadata": {},
     "output_type": "execute_result"
    }
   ],
   "source": [
    "np.ones([3,3], dtype = int)"
   ]
  },
  {
   "cell_type": "code",
   "execution_count": 23,
   "id": "e13bc074-e152-42be-bdd4-0291f4b5eee6",
   "metadata": {},
   "outputs": [
    {
     "data": {
      "text/plain": [
       "array([[1., 1., 1., 1., 1.],\n",
       "       [1., 1., 1., 1., 1.],\n",
       "       [1., 1., 1., 1., 1.],\n",
       "       [1., 1., 1., 1., 1.]])"
      ]
     },
     "execution_count": 23,
     "metadata": {},
     "output_type": "execute_result"
    }
   ],
   "source": [
    "np.ones([4,5])"
   ]
  },
  {
   "cell_type": "code",
   "execution_count": 24,
   "id": "6a68009b-8a1d-40c5-9233-5ecc98e2f325",
   "metadata": {},
   "outputs": [
    {
     "data": {
      "text/plain": [
       "array([0, 1, 2, 3, 4, 5])"
      ]
     },
     "execution_count": 24,
     "metadata": {},
     "output_type": "execute_result"
    }
   ],
   "source": [
    "arr"
   ]
  },
  {
   "cell_type": "markdown",
   "id": "a75b1193-d807-4f47-92ce-20c1a67ce55d",
   "metadata": {},
   "source": [
    "# rand()"
   ]
  },
  {
   "cell_type": "markdown",
   "id": "3202d43e-5d50-4ebc-8ba6-88751eba2d0a",
   "metadata": {},
   "source": [
    "it will create the random values"
   ]
  },
  {
   "cell_type": "code",
   "execution_count": 26,
   "id": "acb12a58-5e1e-4280-98d3-6ac5f03d1a17",
   "metadata": {},
   "outputs": [
    {
     "ename": "NameError",
     "evalue": "name 'rand' is not defined",
     "output_type": "error",
     "traceback": [
      "\u001b[1;31m---------------------------------------------------------------------------\u001b[0m",
      "\u001b[1;31mNameError\u001b[0m                                 Traceback (most recent call last)",
      "Cell \u001b[1;32mIn[26], line 1\u001b[0m\n\u001b[1;32m----> 1\u001b[0m rand(\u001b[38;5;241m3\u001b[39m,\u001b[38;5;241m2\u001b[39m)\n",
      "\u001b[1;31mNameError\u001b[0m: name 'rand' is not defined"
     ]
    }
   ],
   "source": [
    "rand(3,2)"
   ]
  },
  {
   "cell_type": "code",
   "execution_count": 27,
   "id": "ab36e3bf-b93e-4f29-ad60-e5808afee824",
   "metadata": {},
   "outputs": [
    {
     "ename": "NameError",
     "evalue": "name 'random' is not defined",
     "output_type": "error",
     "traceback": [
      "\u001b[1;31m---------------------------------------------------------------------------\u001b[0m",
      "\u001b[1;31mNameError\u001b[0m                                 Traceback (most recent call last)",
      "Cell \u001b[1;32mIn[27], line 1\u001b[0m\n\u001b[1;32m----> 1\u001b[0m random\u001b[38;5;241m.\u001b[39mrand(\u001b[38;5;241m3\u001b[39m,\u001b[38;5;241m2\u001b[39m)\n",
      "\u001b[1;31mNameError\u001b[0m: name 'random' is not defined"
     ]
    }
   ],
   "source": [
    "random.rand(3,2)"
   ]
  },
  {
   "cell_type": "code",
   "execution_count": 28,
   "id": "4c35c90f-c7da-442f-a7b0-80b3e0352f90",
   "metadata": {},
   "outputs": [
    {
     "data": {
      "text/plain": [
       "array([[0.31240764, 0.08057437],\n",
       "       [0.25353502, 0.14535667],\n",
       "       [0.50918823, 0.72034224]])"
      ]
     },
     "execution_count": 28,
     "metadata": {},
     "output_type": "execute_result"
    }
   ],
   "source": [
    "np.random.rand(3,2)"
   ]
  },
  {
   "cell_type": "code",
   "execution_count": 38,
   "id": "80b73aeb-b895-40ea-8943-c6dd02262f0f",
   "metadata": {},
   "outputs": [
    {
     "data": {
      "text/plain": [
       "array([0.36043829, 0.47143477, 0.13456665])"
      ]
     },
     "execution_count": 38,
     "metadata": {},
     "output_type": "execute_result"
    }
   ],
   "source": [
    "np.random.rand(3) #every time we will get new values"
   ]
  },
  {
   "cell_type": "code",
   "execution_count": 39,
   "id": "5f8337b9-1e01-4d2e-85bc-6d9b9634368d",
   "metadata": {},
   "outputs": [
    {
     "data": {
      "text/plain": [
       "5"
      ]
     },
     "execution_count": 39,
     "metadata": {},
     "output_type": "execute_result"
    }
   ],
   "source": [
    "np.random.randint(4,6) #generate the number between 4 and 6, "
   ]
  },
  {
   "cell_type": "code",
   "execution_count": 109,
   "id": "c0303443-32a6-497d-9009-cdc79ea1570b",
   "metadata": {},
   "outputs": [
    {
     "data": {
      "text/plain": [
       "6"
      ]
     },
     "execution_count": 109,
     "metadata": {},
     "output_type": "execute_result"
    }
   ],
   "source": [
    "np.random.randint(0,10)"
   ]
  },
  {
   "cell_type": "code",
   "execution_count": 122,
   "id": "974ebdf7-84ea-4512-95fe-9dcb2863e484",
   "metadata": {},
   "outputs": [
    {
     "data": {
      "text/plain": [
       "array([4, 3, 2, 2], dtype=int32)"
      ]
     },
     "execution_count": 122,
     "metadata": {},
     "output_type": "execute_result"
    }
   ],
   "source": [
    "np.random.randint(1,10,4)"
   ]
  },
  {
   "cell_type": "code",
   "execution_count": 124,
   "id": "36b49228-929a-4b55-a69e-2c361b893db2",
   "metadata": {},
   "outputs": [
    {
     "data": {
      "text/plain": [
       "array([[10, 35, 30, 34, 35, 18, 32, 33],\n",
       "       [32, 20, 30, 19, 19, 27, 28, 23],\n",
       "       [30, 22, 28, 22, 36, 11, 38, 26],\n",
       "       [10, 28, 13, 16, 37, 14, 37, 29],\n",
       "       [32, 32, 35, 17, 19, 18, 19, 38],\n",
       "       [12, 26, 11, 20, 37, 33, 32, 27],\n",
       "       [22, 15, 37, 27, 18, 37, 25, 31],\n",
       "       [14, 12, 17, 32, 15, 29, 28, 32],\n",
       "       [12, 34, 34, 24, 32, 23, 24, 20],\n",
       "       [29, 15, 32, 28, 12, 27, 13, 26]], dtype=int32)"
      ]
     },
     "execution_count": 124,
     "metadata": {},
     "output_type": "execute_result"
    }
   ],
   "source": [
    "np.random.randint(10,40,(10,8))"
   ]
  },
  {
   "cell_type": "markdown",
   "id": "140437b0-0963-4b4f-bdba-0801c7548b3f",
   "metadata": {},
   "source": [
    "# Indxing and slicing in matrix"
   ]
  },
  {
   "cell_type": "code",
   "execution_count": 126,
   "id": "ec35c10a-497d-4135-8839-b43b1f0825b8",
   "metadata": {},
   "outputs": [
    {
     "data": {
      "text/plain": [
       "array([[36, 33, 32, 38, 12, 30, 21, 15],\n",
       "       [18, 29, 21, 15, 24, 32, 21, 17],\n",
       "       [20, 35, 33, 37, 24, 22, 16, 15],\n",
       "       [27, 34, 34, 18, 13, 23, 18, 13],\n",
       "       [33, 30, 27, 39, 31, 20, 11, 38],\n",
       "       [14, 11, 36, 24, 26, 23, 34, 24],\n",
       "       [13, 35, 20, 25, 29, 34, 39, 23],\n",
       "       [27, 17, 37, 23, 14, 32, 28, 26],\n",
       "       [21, 14, 18, 36, 25, 39, 11, 15],\n",
       "       [38, 12, 21, 33, 12, 16, 18, 20]], dtype=int32)"
      ]
     },
     "execution_count": 126,
     "metadata": {},
     "output_type": "execute_result"
    }
   ],
   "source": [
    "n= np.random.randint(10,40,(10,8))\n",
    "n"
   ]
  },
  {
   "cell_type": "code",
   "execution_count": 127,
   "id": "1b6a12be-6f18-48fd-a41c-edcea5811c35",
   "metadata": {},
   "outputs": [
    {
     "data": {
      "text/plain": [
       "array([36, 33, 32, 38, 12, 30, 21, 15], dtype=int32)"
      ]
     },
     "execution_count": 127,
     "metadata": {},
     "output_type": "execute_result"
    }
   ],
   "source": [
    "n[0]"
   ]
  },
  {
   "cell_type": "code",
   "execution_count": 128,
   "id": "fe2d986a-ad0a-4e04-a1ea-24f1e4b00fc3",
   "metadata": {},
   "outputs": [
    {
     "data": {
      "text/plain": [
       "array([14, 11, 36, 24, 26, 23, 34, 24], dtype=int32)"
      ]
     },
     "execution_count": 128,
     "metadata": {},
     "output_type": "execute_result"
    }
   ],
   "source": [
    "n[5]"
   ]
  },
  {
   "cell_type": "code",
   "execution_count": 129,
   "id": "da2f2de2-3b0c-4e66-a66c-2b67ec8f5b80",
   "metadata": {},
   "outputs": [
    {
     "data": {
      "text/plain": [
       "array([[36, 33, 32, 38, 12, 30, 21, 15],\n",
       "       [18, 29, 21, 15, 24, 32, 21, 17],\n",
       "       [20, 35, 33, 37, 24, 22, 16, 15],\n",
       "       [27, 34, 34, 18, 13, 23, 18, 13],\n",
       "       [33, 30, 27, 39, 31, 20, 11, 38],\n",
       "       [14, 11, 36, 24, 26, 23, 34, 24]], dtype=int32)"
      ]
     },
     "execution_count": 129,
     "metadata": {},
     "output_type": "execute_result"
    }
   ],
   "source": [
    "n[0:6]"
   ]
  },
  {
   "cell_type": "code",
   "execution_count": 130,
   "id": "c316aafd-ce87-4d39-b116-01d7a1910f6a",
   "metadata": {},
   "outputs": [
    {
     "data": {
      "text/plain": [
       "array([[18, 29, 21, 15, 24, 32, 21, 17],\n",
       "       [20, 35, 33, 37, 24, 22, 16, 15],\n",
       "       [27, 34, 34, 18, 13, 23, 18, 13]], dtype=int32)"
      ]
     },
     "execution_count": 130,
     "metadata": {},
     "output_type": "execute_result"
    }
   ],
   "source": [
    "n[1:4]"
   ]
  },
  {
   "cell_type": "code",
   "execution_count": 131,
   "id": "13be3739-82bf-4aa6-8c55-1f0969fd6227",
   "metadata": {},
   "outputs": [
    {
     "data": {
      "text/plain": [
       "array([[38, 12, 21, 33, 12, 16, 18, 20],\n",
       "       [21, 14, 18, 36, 25, 39, 11, 15],\n",
       "       [27, 17, 37, 23, 14, 32, 28, 26],\n",
       "       [13, 35, 20, 25, 29, 34, 39, 23],\n",
       "       [14, 11, 36, 24, 26, 23, 34, 24],\n",
       "       [33, 30, 27, 39, 31, 20, 11, 38],\n",
       "       [27, 34, 34, 18, 13, 23, 18, 13],\n",
       "       [20, 35, 33, 37, 24, 22, 16, 15],\n",
       "       [18, 29, 21, 15, 24, 32, 21, 17],\n",
       "       [36, 33, 32, 38, 12, 30, 21, 15]], dtype=int32)"
      ]
     },
     "execution_count": 131,
     "metadata": {},
     "output_type": "execute_result"
    }
   ],
   "source": [
    "n[::-1]"
   ]
  },
  {
   "cell_type": "code",
   "execution_count": 132,
   "id": "8160f8cd-022b-4e5a-a02c-d224092f3c01",
   "metadata": {},
   "outputs": [
    {
     "data": {
      "text/plain": [
       "array([[36, 33, 32, 38, 12, 30, 21, 15],\n",
       "       [20, 35, 33, 37, 24, 22, 16, 15],\n",
       "       [33, 30, 27, 39, 31, 20, 11, 38],\n",
       "       [13, 35, 20, 25, 29, 34, 39, 23],\n",
       "       [21, 14, 18, 36, 25, 39, 11, 15]], dtype=int32)"
      ]
     },
     "execution_count": 132,
     "metadata": {},
     "output_type": "execute_result"
    }
   ],
   "source": [
    "n[::2]"
   ]
  },
  {
   "cell_type": "code",
   "execution_count": 133,
   "id": "d8806eb6-1bae-433e-8046-2c3112f8ce4b",
   "metadata": {},
   "outputs": [
    {
     "data": {
      "text/plain": [
       "array([[36, 33, 32, 38, 12, 30, 21, 15],\n",
       "       [18, 29, 21, 15, 24, 32, 21, 17],\n",
       "       [20, 35, 33, 37, 24, 22, 16, 15],\n",
       "       [27, 34, 34, 18, 13, 23, 18, 13],\n",
       "       [33, 30, 27, 39, 31, 20, 11, 38],\n",
       "       [14, 11, 36, 24, 26, 23, 34, 24],\n",
       "       [13, 35, 20, 25, 29, 34, 39, 23],\n",
       "       [27, 17, 37, 23, 14, 32, 28, 26],\n",
       "       [21, 14, 18, 36, 25, 39, 11, 15],\n",
       "       [38, 12, 21, 33, 12, 16, 18, 20]], dtype=int32)"
      ]
     },
     "execution_count": 133,
     "metadata": {},
     "output_type": "execute_result"
    }
   ],
   "source": [
    "n"
   ]
  },
  {
   "cell_type": "code",
   "execution_count": 134,
   "id": "bc283573-c10a-466a-8a70-3ccd790e0096",
   "metadata": {},
   "outputs": [
    {
     "data": {
      "text/plain": [
       "np.int32(30)"
      ]
     },
     "execution_count": 134,
     "metadata": {},
     "output_type": "execute_result"
    }
   ],
   "source": [
    "n[0,5] # , means it will print the specific element/position"
   ]
  },
  {
   "cell_type": "code",
   "execution_count": 135,
   "id": "ef296f0d-00be-49e2-939f-a74c3fe55330",
   "metadata": {},
   "outputs": [
    {
     "data": {
      "text/plain": [
       "np.int32(23)"
      ]
     },
     "execution_count": 135,
     "metadata": {},
     "output_type": "execute_result"
    }
   ],
   "source": [
    "n[5,-3]"
   ]
  },
  {
   "cell_type": "markdown",
   "id": "c5c90885-5412-495f-a994-36abfaf34bc5",
   "metadata": {},
   "source": [
    "# .reshape()"
   ]
  },
  {
   "cell_type": "code",
   "execution_count": 136,
   "id": "e82fc5fa-15a9-4bb5-a06e-9813005a5503",
   "metadata": {},
   "outputs": [
    {
     "data": {
      "text/plain": [
       "array([[ 1,  2,  3,  4],\n",
       "       [ 5,  6,  7,  8],\n",
       "       [ 9, 10, 11, 12]])"
      ]
     },
     "execution_count": 136,
     "metadata": {},
     "output_type": "execute_result"
    }
   ],
   "source": [
    "np.arange(1,13).reshape(3,4) # print hr numbers as 3 rows snd 4 columns"
   ]
  },
  {
   "cell_type": "code",
   "execution_count": 137,
   "id": "57d48b70-628b-4d3f-9fd5-ae6f980672cf",
   "metadata": {},
   "outputs": [
    {
     "ename": "ValueError",
     "evalue": "cannot reshape array of size 12 into shape (5,5)",
     "output_type": "error",
     "traceback": [
      "\u001b[1;31m---------------------------------------------------------------------------\u001b[0m",
      "\u001b[1;31mValueError\u001b[0m                                Traceback (most recent call last)",
      "Cell \u001b[1;32mIn[137], line 1\u001b[0m\n\u001b[1;32m----> 1\u001b[0m np\u001b[38;5;241m.\u001b[39marange(\u001b[38;5;241m1\u001b[39m,\u001b[38;5;241m13\u001b[39m)\u001b[38;5;241m.\u001b[39mreshape(\u001b[38;5;241m5\u001b[39m,\u001b[38;5;241m5\u001b[39m)\n",
      "\u001b[1;31mValueError\u001b[0m: cannot reshape array of size 12 into shape (5,5)"
     ]
    }
   ],
   "source": [
    "np.arange(1,13).reshape(5,5)"
   ]
  },
  {
   "cell_type": "code",
   "execution_count": 138,
   "id": "d11e1543-d8b1-4c0c-b631-d1c5b45ce03d",
   "metadata": {},
   "outputs": [
    {
     "data": {
      "text/plain": [
       "array([[ 1,  2,  3,  4,  5,  6,  7,  8,  9, 10, 11, 12]])"
      ]
     },
     "execution_count": 138,
     "metadata": {},
     "output_type": "execute_result"
    }
   ],
   "source": [
    "np.arange(1,13).reshape(1,12) # it will work with alla the combinations"
   ]
  },
  {
   "cell_type": "code",
   "execution_count": 139,
   "id": "2221d686-d0db-4c19-bf7b-e761c9b8b054",
   "metadata": {},
   "outputs": [
    {
     "data": {
      "text/plain": [
       "array([[ 1,  2,  3,  4,  5,  6],\n",
       "       [ 7,  8,  9, 10, 11, 12]])"
      ]
     },
     "execution_count": 139,
     "metadata": {},
     "output_type": "execute_result"
    }
   ],
   "source": [
    "np.arange(1,13).reshape(2,6)"
   ]
  },
  {
   "cell_type": "code",
   "execution_count": 140,
   "id": "f0021571-00c0-4945-b0c9-ac3aa2e9d206",
   "metadata": {},
   "outputs": [
    {
     "data": {
      "text/plain": [
       "array([[ 0,  1],\n",
       "       [ 2,  3],\n",
       "       [ 4,  5],\n",
       "       [ 6,  7],\n",
       "       [ 8,  9],\n",
       "       [10, 11],\n",
       "       [12, 13],\n",
       "       [14, 15],\n",
       "       [16, 17],\n",
       "       [18, 19]])"
      ]
     },
     "execution_count": 140,
     "metadata": {},
     "output_type": "execute_result"
    }
   ],
   "source": [
    "np.arange(0,20).reshape(10,2)"
   ]
  },
  {
   "cell_type": "code",
   "execution_count": 141,
   "id": "c2b6fa74-84e1-4add-878a-bcb37a6b719c",
   "metadata": {},
   "outputs": [
    {
     "data": {
      "text/plain": [
       "array([[ 0,  1],\n",
       "       [ 2,  3],\n",
       "       [ 4,  5],\n",
       "       [ 6,  7],\n",
       "       [ 8,  9],\n",
       "       [10, 11],\n",
       "       [12, 13],\n",
       "       [14, 15],\n",
       "       [16, 17],\n",
       "       [18, 19]])"
      ]
     },
     "execution_count": 141,
     "metadata": {},
     "output_type": "execute_result"
    }
   ],
   "source": [
    "np.arange(0,20).reshape(10,2)"
   ]
  },
  {
   "cell_type": "code",
   "execution_count": 142,
   "id": "a485ba70-3600-492a-b15f-a423ac273806",
   "metadata": {},
   "outputs": [
    {
     "data": {
      "text/plain": [
       "array([[ 0,  1,  2,  3],\n",
       "       [ 4,  5,  6,  7],\n",
       "       [ 8,  9, 10, 11],\n",
       "       [12, 13, 14, 15],\n",
       "       [16, 17, 18, 19]])"
      ]
     },
     "execution_count": 142,
     "metadata": {},
     "output_type": "execute_result"
    }
   ],
   "source": [
    "np.arange(0,20).reshape(5,4)"
   ]
  },
  {
   "cell_type": "code",
   "execution_count": 143,
   "id": "f4da78dc-a3c5-4c18-8cbd-96eb815729cd",
   "metadata": {},
   "outputs": [
    {
     "data": {
      "text/plain": [
       "array([[[ 0,  1],\n",
       "        [ 2,  3]],\n",
       "\n",
       "       [[ 4,  5],\n",
       "        [ 6,  7]],\n",
       "\n",
       "       [[ 8,  9],\n",
       "        [10, 11]],\n",
       "\n",
       "       [[12, 13],\n",
       "        [14, 15]],\n",
       "\n",
       "       [[16, 17],\n",
       "        [18, 19]]])"
      ]
     },
     "execution_count": 143,
     "metadata": {},
     "output_type": "execute_result"
    }
   ],
   "source": [
    "np.arange(0,20).reshape(5,2,2)"
   ]
  },
  {
   "cell_type": "code",
   "execution_count": null,
   "id": "2dce9a24-bdd3-41fb-9d57-babd4a4e27de",
   "metadata": {},
   "outputs": [],
   "source": []
  },
  {
   "cell_type": "code",
   "execution_count": null,
   "id": "5247497d-19b1-4867-8729-041f1b205bc8",
   "metadata": {},
   "outputs": [],
   "source": []
  },
  {
   "cell_type": "code",
   "execution_count": null,
   "id": "33f7bd06-37b0-4e14-9ec5-5baa94694577",
   "metadata": {},
   "outputs": [],
   "source": []
  }
 ],
 "metadata": {
  "kernelspec": {
   "display_name": "Python 3 (ipykernel)",
   "language": "python",
   "name": "python3"
  },
  "language_info": {
   "codemirror_mode": {
    "name": "ipython",
    "version": 3
   },
   "file_extension": ".py",
   "mimetype": "text/x-python",
   "name": "python",
   "nbconvert_exporter": "python",
   "pygments_lexer": "ipython3",
   "version": "3.13.5"
  }
 },
 "nbformat": 4,
 "nbformat_minor": 5
}
