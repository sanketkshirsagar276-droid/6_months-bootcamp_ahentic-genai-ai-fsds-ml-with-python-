{
 "cells": [
  {
   "cell_type": "markdown",
   "id": "731bb2fe-2ba1-40b4-b8f0-9f7787c9394a",
   "metadata": {},
   "source": [
    "# 1st aug python datastructure"
   ]
  },
  {
   "cell_type": "code",
   "execution_count": 1,
   "id": "394b47ad-2958-46d9-a154-b2c766551bc3",
   "metadata": {},
   "outputs": [],
   "source": [
    "l=[]"
   ]
  },
  {
   "cell_type": "code",
   "execution_count": 3,
   "id": "8d0357d9-9b34-4d2e-af42-a487ee8580e6",
   "metadata": {},
   "outputs": [
    {
     "data": {
      "text/plain": [
       "[]"
      ]
     },
     "execution_count": 3,
     "metadata": {},
     "output_type": "execute_result"
    }
   ],
   "source": [
    "l"
   ]
  },
  {
   "cell_type": "code",
   "execution_count": 4,
   "id": "2263aca2-1424-4bf4-8767-0e911a7c4a0b",
   "metadata": {},
   "outputs": [
    {
     "data": {
      "text/plain": [
       "list"
      ]
     },
     "execution_count": 4,
     "metadata": {},
     "output_type": "execute_result"
    }
   ],
   "source": [
    "type(l)"
   ]
  },
  {
   "cell_type": "code",
   "execution_count": 5,
   "id": "5b2d9f0a-1193-4c54-ba50-9b40f05c7113",
   "metadata": {},
   "outputs": [
    {
     "data": {
      "text/plain": [
       "0"
      ]
     },
     "execution_count": 5,
     "metadata": {},
     "output_type": "execute_result"
    }
   ],
   "source": [
    "len(l)"
   ]
  },
  {
   "cell_type": "code",
   "execution_count": 6,
   "id": "86ce6c72-efe4-4fac-8fe1-65ef4ae4a246",
   "metadata": {},
   "outputs": [
    {
     "data": {
      "text/plain": [
       "2072979930816"
      ]
     },
     "execution_count": 6,
     "metadata": {},
     "output_type": "execute_result"
    }
   ],
   "source": [
    "id(l)"
   ]
  },
  {
   "cell_type": "code",
   "execution_count": 7,
   "id": "632bf8fb-75e5-4412-a6fa-04b03170098d",
   "metadata": {},
   "outputs": [
    {
     "ename": "TypeError",
     "evalue": "list.append() takes exactly one argument (0 given)",
     "output_type": "error",
     "traceback": [
      "\u001b[1;31m---------------------------------------------------------------------------\u001b[0m",
      "\u001b[1;31mTypeError\u001b[0m                                 Traceback (most recent call last)",
      "Cell \u001b[1;32mIn[7], line 1\u001b[0m\n\u001b[1;32m----> 1\u001b[0m l\u001b[38;5;241m.\u001b[39mappend()\n",
      "\u001b[1;31mTypeError\u001b[0m: list.append() takes exactly one argument (0 given)"
     ]
    }
   ],
   "source": [
    "l.append()"
   ]
  },
  {
   "cell_type": "code",
   "execution_count": 8,
   "id": "f57ae118-a3ec-4451-bcaa-6c2da969649a",
   "metadata": {},
   "outputs": [],
   "source": [
    "l.append(11)"
   ]
  },
  {
   "cell_type": "code",
   "execution_count": 9,
   "id": "47cf7ba2-e7b5-4c9f-a420-2d0052c28e07",
   "metadata": {},
   "outputs": [
    {
     "data": {
      "text/plain": [
       "[11]"
      ]
     },
     "execution_count": 9,
     "metadata": {},
     "output_type": "execute_result"
    }
   ],
   "source": [
    "l"
   ]
  },
  {
   "cell_type": "code",
   "execution_count": 10,
   "id": "316d2dd9-7fba-4e95-a502-4d5ac0c451b2",
   "metadata": {},
   "outputs": [
    {
     "data": {
      "text/plain": [
       "1"
      ]
     },
     "execution_count": 10,
     "metadata": {},
     "output_type": "execute_result"
    }
   ],
   "source": [
    "len(l)"
   ]
  },
  {
   "cell_type": "code",
   "execution_count": 11,
   "id": "d7e35373-cf6d-4eba-b51a-269444e46ee4",
   "metadata": {},
   "outputs": [],
   "source": [
    "l.append(20)\n",
    "l.append(30)\n",
    "l.append(40)\n",
    "l.append(50)"
   ]
  },
  {
   "cell_type": "code",
   "execution_count": 12,
   "id": "91adac91-ff4f-4a81-bcd8-b5f38eedfdc5",
   "metadata": {},
   "outputs": [
    {
     "data": {
      "text/plain": [
       "[11, 20, 30, 40, 50]"
      ]
     },
     "execution_count": 12,
     "metadata": {},
     "output_type": "execute_result"
    }
   ],
   "source": [
    "l"
   ]
  },
  {
   "cell_type": "code",
   "execution_count": 13,
   "id": "df427422-f78a-40c2-8a2d-854b90664660",
   "metadata": {},
   "outputs": [
    {
     "data": {
      "text/plain": [
       "5"
      ]
     },
     "execution_count": 13,
     "metadata": {},
     "output_type": "execute_result"
    }
   ],
   "source": [
    "len(l)"
   ]
  },
  {
   "cell_type": "code",
   "execution_count": 14,
   "id": "53fefada-4977-4663-a177-a422913b0f5b",
   "metadata": {},
   "outputs": [],
   "source": [
    "l1 = l.copy() \n"
   ]
  },
  {
   "cell_type": "code",
   "execution_count": 15,
   "id": "5ef30220-8ce4-49af-bcea-7f0da331818c",
   "metadata": {},
   "outputs": [
    {
     "data": {
      "text/plain": [
       "[11, 20, 30, 40, 50]"
      ]
     },
     "execution_count": 15,
     "metadata": {},
     "output_type": "execute_result"
    }
   ],
   "source": [
    "l1"
   ]
  },
  {
   "cell_type": "code",
   "execution_count": 16,
   "id": "9e1219a2-b838-498e-b6ef-730ac6721a28",
   "metadata": {},
   "outputs": [
    {
     "data": {
      "text/plain": [
       "True"
      ]
     },
     "execution_count": 16,
     "metadata": {},
     "output_type": "execute_result"
    }
   ],
   "source": [
    "l==l1"
   ]
  },
  {
   "cell_type": "code",
   "execution_count": 17,
   "id": "2f7ed955-b0c3-4738-92e7-69542e9876c8",
   "metadata": {},
   "outputs": [
    {
     "data": {
      "text/plain": [
       "[11, 20, 30, 40, 50]"
      ]
     },
     "execution_count": 17,
     "metadata": {},
     "output_type": "execute_result"
    }
   ],
   "source": [
    "l1"
   ]
  },
  {
   "cell_type": "code",
   "execution_count": 18,
   "id": "610de7b3-59b1-43a3-88a8-c7485475d5b0",
   "metadata": {},
   "outputs": [
    {
     "data": {
      "text/plain": [
       "False"
      ]
     },
     "execution_count": 18,
     "metadata": {},
     "output_type": "execute_result"
    }
   ],
   "source": [
    "l !=l1"
   ]
  },
  {
   "cell_type": "code",
   "execution_count": 21,
   "id": "f726e614-19dc-44ce-8da6-2828d7aa1b4c",
   "metadata": {},
   "outputs": [],
   "source": [
    "l1.append(1000)"
   ]
  },
  {
   "cell_type": "code",
   "execution_count": 22,
   "id": "9ce5158e-8c97-45a9-8f7e-6bf0030ca3bd",
   "metadata": {},
   "outputs": [
    {
     "data": {
      "text/plain": [
       "[11, 20, 30, 40, 50, 1000]"
      ]
     },
     "execution_count": 22,
     "metadata": {},
     "output_type": "execute_result"
    }
   ],
   "source": [
    "l1"
   ]
  },
  {
   "cell_type": "code",
   "execution_count": 23,
   "id": "96a714ae-9abd-44b2-b567-a1dd5d1fccd8",
   "metadata": {},
   "outputs": [
    {
     "data": {
      "text/plain": [
       "True"
      ]
     },
     "execution_count": 23,
     "metadata": {},
     "output_type": "execute_result"
    }
   ],
   "source": [
    "l==l1"
   ]
  },
  {
   "cell_type": "code",
   "execution_count": 24,
   "id": "dff10bc0-4b61-4ba3-af7d-279803444aaf",
   "metadata": {},
   "outputs": [
    {
     "data": {
      "text/plain": [
       "False"
      ]
     },
     "execution_count": 24,
     "metadata": {},
     "output_type": "execute_result"
    }
   ],
   "source": [
    "l!=l1"
   ]
  },
  {
   "cell_type": "code",
   "execution_count": 25,
   "id": "6a8b3e85-807a-42a3-aec3-89ed418e0cb4",
   "metadata": {},
   "outputs": [],
   "source": [
    "l2=l=l1"
   ]
  },
  {
   "cell_type": "code",
   "execution_count": 26,
   "id": "479d0d4a-1702-44fc-957d-4ecbd306190a",
   "metadata": {},
   "outputs": [
    {
     "data": {
      "text/plain": [
       "[11, 20, 30, 40, 50, 1000]"
      ]
     },
     "execution_count": 26,
     "metadata": {},
     "output_type": "execute_result"
    }
   ],
   "source": [
    "l2"
   ]
  },
  {
   "cell_type": "code",
   "execution_count": 27,
   "id": "3835c581-d571-46bc-8f49-4ed2d9b63bc2",
   "metadata": {},
   "outputs": [
    {
     "name": "stdout",
     "output_type": "stream",
     "text": [
      "11\n",
      "20\n",
      "30\n",
      "40\n",
      "50\n",
      "1000\n"
     ]
    }
   ],
   "source": [
    "for i in l2:\n",
    "    print(i)"
   ]
  },
  {
   "cell_type": "code",
   "execution_count": 28,
   "id": "cced6909-b209-46a5-a070-c79ced3f7296",
   "metadata": {},
   "outputs": [
    {
     "name": "stdout",
     "output_type": "stream",
     "text": [
      "[11, 20, 30, 40, 50, 1000]\n",
      "[11, 20, 30, 40, 50, 1000]\n"
     ]
    }
   ],
   "source": [
    "print(l)\n",
    "print(l1)"
   ]
  },
  {
   "cell_type": "code",
   "execution_count": 29,
   "id": "2221f8d4-94bc-4597-8753-fd66b51f364b",
   "metadata": {},
   "outputs": [
    {
     "data": {
      "text/plain": [
       "2072995609536"
      ]
     },
     "execution_count": 29,
     "metadata": {},
     "output_type": "execute_result"
    }
   ],
   "source": [
    "id(l)"
   ]
  },
  {
   "cell_type": "code",
   "execution_count": 30,
   "id": "484dea5a-e684-4535-b766-8edbfb8fea4b",
   "metadata": {},
   "outputs": [
    {
     "data": {
      "text/plain": [
       "2072995609536"
      ]
     },
     "execution_count": 30,
     "metadata": {},
     "output_type": "execute_result"
    }
   ],
   "source": [
    "id(l1)"
   ]
  },
  {
   "cell_type": "code",
   "execution_count": 31,
   "id": "0f4848f8-1768-4ef1-9973-970004bb4b56",
   "metadata": {},
   "outputs": [],
   "source": [
    "l1.clear()"
   ]
  },
  {
   "cell_type": "code",
   "execution_count": 32,
   "id": "9eabfe6e-e1f6-4887-a7bc-0d2ec3bbe2f4",
   "metadata": {},
   "outputs": [
    {
     "data": {
      "text/plain": [
       "[]"
      ]
     },
     "execution_count": 32,
     "metadata": {},
     "output_type": "execute_result"
    }
   ],
   "source": [
    "l1"
   ]
  },
  {
   "cell_type": "code",
   "execution_count": 33,
   "id": "3acc6889-aaa9-4290-a76a-343e809cc5a0",
   "metadata": {},
   "outputs": [],
   "source": [
    "l.append('nit')\n",
    "l.append(2.3)\n",
    "l.append(1+2j)\n",
    "l.append(True)\n",
    "l.append([1,2,3])"
   ]
  },
  {
   "cell_type": "code",
   "execution_count": 34,
   "id": "730cbb43-77e9-43c3-aadb-e90fbe235cea",
   "metadata": {},
   "outputs": [
    {
     "data": {
      "text/plain": [
       "['nit', 2.3, (1+2j), True, [1, 2, 3]]"
      ]
     },
     "execution_count": 34,
     "metadata": {},
     "output_type": "execute_result"
    }
   ],
   "source": [
    "l"
   ]
  },
  {
   "cell_type": "code",
   "execution_count": 35,
   "id": "54a252fb-f03d-40ba-bcaf-f17eefcccbfd",
   "metadata": {},
   "outputs": [],
   "source": [
    "l.append(10)\n"
   ]
  },
  {
   "cell_type": "code",
   "execution_count": 36,
   "id": "be02a666-588f-4e03-a122-4dae2063f0fb",
   "metadata": {},
   "outputs": [
    {
     "data": {
      "text/plain": [
       "['nit', 2.3, (1+2j), True, [1, 2, 3], 10]"
      ]
     },
     "execution_count": 36,
     "metadata": {},
     "output_type": "execute_result"
    }
   ],
   "source": [
    "l"
   ]
  },
  {
   "cell_type": "code",
   "execution_count": 37,
   "id": "32ada5ae-09a1-4a58-80c7-e9a7786fb59e",
   "metadata": {},
   "outputs": [],
   "source": [
    "l1=[]"
   ]
  },
  {
   "cell_type": "code",
   "execution_count": 38,
   "id": "091a9d51-9369-4856-83d6-3a76dffb96db",
   "metadata": {},
   "outputs": [
    {
     "data": {
      "text/plain": [
       "[]"
      ]
     },
     "execution_count": 38,
     "metadata": {},
     "output_type": "execute_result"
    }
   ],
   "source": [
    "l1"
   ]
  },
  {
   "cell_type": "code",
   "execution_count": 40,
   "id": "448490b3-60f3-4a73-a245-8d8e4365e168",
   "metadata": {},
   "outputs": [
    {
     "data": {
      "text/plain": [
       "[]"
      ]
     },
     "execution_count": 40,
     "metadata": {},
     "output_type": "execute_result"
    }
   ],
   "source": [
    "l1.copy()"
   ]
  },
  {
   "cell_type": "code",
   "execution_count": 41,
   "id": "1cc32543-fda1-4ef2-a12f-c515d7997142",
   "metadata": {},
   "outputs": [
    {
     "data": {
      "text/plain": [
       "[]"
      ]
     },
     "execution_count": 41,
     "metadata": {},
     "output_type": "execute_result"
    }
   ],
   "source": [
    "l1"
   ]
  },
  {
   "cell_type": "code",
   "execution_count": 42,
   "id": "da91899b-02c2-404f-bc0c-07a8feddedea",
   "metadata": {},
   "outputs": [
    {
     "data": {
      "text/plain": [
       "['nit', 2.3, (1+2j), True, [1, 2, 3], 10]"
      ]
     },
     "execution_count": 42,
     "metadata": {},
     "output_type": "execute_result"
    }
   ],
   "source": [
    "l"
   ]
  },
  {
   "cell_type": "code",
   "execution_count": 43,
   "id": "e1451825-2e22-4271-a227-ea55956d485f",
   "metadata": {},
   "outputs": [
    {
     "name": "stdout",
     "output_type": "stream",
     "text": [
      "['nit', 2.3, (1+2j), True, [1, 2, 3], 10]\n"
     ]
    }
   ],
   "source": [
    "print(l)"
   ]
  },
  {
   "cell_type": "code",
   "execution_count": 44,
   "id": "c0a034fa-f8e3-45e0-a966-2479c9a09255",
   "metadata": {},
   "outputs": [],
   "source": [
    "l1=[]"
   ]
  },
  {
   "cell_type": "code",
   "execution_count": 45,
   "id": "a39e8b21-4217-40e9-b8d6-e9796b48f6e7",
   "metadata": {},
   "outputs": [
    {
     "data": {
      "text/plain": [
       "[]"
      ]
     },
     "execution_count": 45,
     "metadata": {},
     "output_type": "execute_result"
    }
   ],
   "source": [
    "l1"
   ]
  },
  {
   "cell_type": "code",
   "execution_count": 46,
   "id": "fbbe1961-d5f1-4d6e-b14f-9c903d533801",
   "metadata": {},
   "outputs": [],
   "source": [
    "l1 = [10, 2.3, 1+2j, True, 'hello', [1,2,3]]"
   ]
  },
  {
   "cell_type": "code",
   "execution_count": 47,
   "id": "7f1aacb8-2709-4488-a052-cd66bfc99b25",
   "metadata": {},
   "outputs": [
    {
     "data": {
      "text/plain": [
       "[10, 2.3, (1+2j), True, 'hello', [1, 2, 3]]"
      ]
     },
     "execution_count": 47,
     "metadata": {},
     "output_type": "execute_result"
    }
   ],
   "source": [
    "l1"
   ]
  },
  {
   "cell_type": "code",
   "execution_count": 48,
   "id": "6df842b3-34b1-4f35-ad10-cbf0266fb0d8",
   "metadata": {},
   "outputs": [],
   "source": [
    "l1.append(10)"
   ]
  },
  {
   "cell_type": "code",
   "execution_count": 49,
   "id": "550fb4a2-9bd3-4d86-8e4a-58c1fbb27f04",
   "metadata": {},
   "outputs": [
    {
     "data": {
      "text/plain": [
       "[10, 2.3, (1+2j), True, 'hello', [1, 2, 3], 10]"
      ]
     },
     "execution_count": 49,
     "metadata": {},
     "output_type": "execute_result"
    }
   ],
   "source": [
    "l1"
   ]
  },
  {
   "cell_type": "code",
   "execution_count": 50,
   "id": "192c40dc-d428-43bf-b0d0-9f32fffacd9e",
   "metadata": {},
   "outputs": [
    {
     "data": {
      "text/plain": [
       "2"
      ]
     },
     "execution_count": 50,
     "metadata": {},
     "output_type": "execute_result"
    }
   ],
   "source": [
    "l1.count(10)"
   ]
  },
  {
   "cell_type": "code",
   "execution_count": 51,
   "id": "1c16dbc3-c7d2-404c-991b-c45d609bb499",
   "metadata": {},
   "outputs": [
    {
     "data": {
      "text/plain": [
       "1"
      ]
     },
     "execution_count": 51,
     "metadata": {},
     "output_type": "execute_result"
    }
   ],
   "source": [
    "l1.count(2.3)"
   ]
  },
  {
   "cell_type": "code",
   "execution_count": 52,
   "id": "d5321adc-ccb0-401c-afff-e12b31ccb0fb",
   "metadata": {},
   "outputs": [
    {
     "data": {
      "text/plain": [
       "[10, 2.3, (1+2j), True, 'hello', [1, 2, 3], 10]"
      ]
     },
     "execution_count": 52,
     "metadata": {},
     "output_type": "execute_result"
    }
   ],
   "source": [
    "l1"
   ]
  },
  {
   "cell_type": "code",
   "execution_count": 54,
   "id": "6c925553-d402-46d1-b6cf-16d31981ceb9",
   "metadata": {},
   "outputs": [],
   "source": [
    "l1.remove(10)"
   ]
  },
  {
   "cell_type": "code",
   "execution_count": 55,
   "id": "8a1e6fca-db2d-44b8-bb4c-c19d2b29850c",
   "metadata": {},
   "outputs": [
    {
     "data": {
      "text/plain": [
       "[2.3, (1+2j), True, 'hello', [1, 2, 3], 10]"
      ]
     },
     "execution_count": 55,
     "metadata": {},
     "output_type": "execute_result"
    }
   ],
   "source": [
    "l1"
   ]
  },
  {
   "cell_type": "code",
   "execution_count": 56,
   "id": "544e5894-c7da-4855-b68c-0128b24ca862",
   "metadata": {},
   "outputs": [],
   "source": [
    "l1.remove(2.3)"
   ]
  },
  {
   "cell_type": "code",
   "execution_count": 57,
   "id": "f93ba86b-c982-42c5-b2df-e8254ea5b0c7",
   "metadata": {},
   "outputs": [
    {
     "data": {
      "text/plain": [
       "[(1+2j), True, 'hello', [1, 2, 3], 10]"
      ]
     },
     "execution_count": 57,
     "metadata": {},
     "output_type": "execute_result"
    }
   ],
   "source": [
    "l1"
   ]
  },
  {
   "cell_type": "code",
   "execution_count": 58,
   "id": "525578b2-31da-4191-88ed-7420659fe098",
   "metadata": {},
   "outputs": [],
   "source": [
    "l1.remove(1+2j)"
   ]
  },
  {
   "cell_type": "code",
   "execution_count": 59,
   "id": "93b47851-96fe-4bcb-ade1-65842311a9ff",
   "metadata": {},
   "outputs": [
    {
     "data": {
      "text/plain": [
       "[True, 'hello', [1, 2, 3], 10]"
      ]
     },
     "execution_count": 59,
     "metadata": {},
     "output_type": "execute_result"
    }
   ],
   "source": [
    "l1"
   ]
  },
  {
   "cell_type": "code",
   "execution_count": 61,
   "id": "8be591cb-5bba-4307-a0aa-9ca196e579ef",
   "metadata": {},
   "outputs": [
    {
     "data": {
      "text/plain": [
       "10"
      ]
     },
     "execution_count": 61,
     "metadata": {},
     "output_type": "execute_result"
    }
   ],
   "source": [
    "l1.pop()"
   ]
  },
  {
   "cell_type": "code",
   "execution_count": 62,
   "id": "973857a0-9c5c-4672-a8e3-0ad51474c153",
   "metadata": {},
   "outputs": [
    {
     "data": {
      "text/plain": [
       "[True, 'hello', [1, 2, 3]]"
      ]
     },
     "execution_count": 62,
     "metadata": {},
     "output_type": "execute_result"
    }
   ],
   "source": [
    "l1"
   ]
  },
  {
   "cell_type": "code",
   "execution_count": 63,
   "id": "3c066f43-0629-4783-803b-1a9352742f9f",
   "metadata": {},
   "outputs": [
    {
     "data": {
      "text/plain": [
       "[1, 2, 3]"
      ]
     },
     "execution_count": 63,
     "metadata": {},
     "output_type": "execute_result"
    }
   ],
   "source": [
    "l1.pop()"
   ]
  },
  {
   "cell_type": "code",
   "execution_count": 64,
   "id": "2f9dfec6-2219-40a3-bbc5-7f4d857fc330",
   "metadata": {},
   "outputs": [
    {
     "data": {
      "text/plain": [
       "[True, 'hello']"
      ]
     },
     "execution_count": 64,
     "metadata": {},
     "output_type": "execute_result"
    }
   ],
   "source": [
    "l1"
   ]
  },
  {
   "cell_type": "code",
   "execution_count": 65,
   "id": "c5e41d5f-ed52-4864-95eb-4b550bb6b78a",
   "metadata": {},
   "outputs": [],
   "source": [
    "l1.remove(True)\n"
   ]
  },
  {
   "cell_type": "code",
   "execution_count": 66,
   "id": "4e50f5ce-f65f-48a5-86a8-19e5a61a9cad",
   "metadata": {},
   "outputs": [
    {
     "data": {
      "text/plain": [
       "['hello']"
      ]
     },
     "execution_count": 66,
     "metadata": {},
     "output_type": "execute_result"
    }
   ],
   "source": [
    "l1"
   ]
  },
  {
   "cell_type": "code",
   "execution_count": 67,
   "id": "dd420a5f-98df-4f2d-9265-e385e05123cb",
   "metadata": {},
   "outputs": [
    {
     "ename": "IndexError",
     "evalue": "pop index out of range",
     "output_type": "error",
     "traceback": [
      "\u001b[1;31m---------------------------------------------------------------------------\u001b[0m",
      "\u001b[1;31mIndexError\u001b[0m                                Traceback (most recent call last)",
      "Cell \u001b[1;32mIn[67], line 1\u001b[0m\n\u001b[1;32m----> 1\u001b[0m l1\u001b[38;5;241m.\u001b[39mpop(\u001b[38;5;241m2\u001b[39m)\n",
      "\u001b[1;31mIndexError\u001b[0m: pop index out of range"
     ]
    }
   ],
   "source": [
    "l1.pop(2)"
   ]
  },
  {
   "cell_type": "code",
   "execution_count": 68,
   "id": "6c6fa024-713a-4ee1-ae39-f8f1624eaf5d",
   "metadata": {},
   "outputs": [
    {
     "data": {
      "text/plain": [
       "['nit', 2.3, (1+2j), True]"
      ]
     },
     "execution_count": 68,
     "metadata": {},
     "output_type": "execute_result"
    }
   ],
   "source": [
    "l"
   ]
  },
  {
   "cell_type": "code",
   "execution_count": 69,
   "id": "ff6a9b71-64ce-4981-aa94-7f6457f24609",
   "metadata": {},
   "outputs": [
    {
     "data": {
      "text/plain": [
       "(1+2j)"
      ]
     },
     "execution_count": 69,
     "metadata": {},
     "output_type": "execute_result"
    }
   ],
   "source": [
    "l.pop(2)"
   ]
  },
  {
   "cell_type": "code",
   "execution_count": 72,
   "id": "9e0830d2-929a-4cbb-9908-0803b6a0425a",
   "metadata": {},
   "outputs": [
    {
     "data": {
      "text/plain": [
       "['nit', 2.3, True]"
      ]
     },
     "execution_count": 72,
     "metadata": {},
     "output_type": "execute_result"
    }
   ],
   "source": [
    "l"
   ]
  },
  {
   "cell_type": "code",
   "execution_count": 73,
   "id": "0a6923a4-2d25-4f49-8d8a-616a2f1042fa",
   "metadata": {},
   "outputs": [],
   "source": [
    "l.insert(5,4)"
   ]
  },
  {
   "cell_type": "code",
   "execution_count": 74,
   "id": "bd36807e-423e-46ee-98f7-7ce5904eada6",
   "metadata": {},
   "outputs": [
    {
     "data": {
      "text/plain": [
       "['nit', 2.3, True, 4]"
      ]
     },
     "execution_count": 74,
     "metadata": {},
     "output_type": "execute_result"
    }
   ],
   "source": [
    "l"
   ]
  },
  {
   "cell_type": "code",
   "execution_count": 75,
   "id": "df609c53-c529-4056-9e44-7d2174704074",
   "metadata": {},
   "outputs": [],
   "source": [
    "l.insert(1,10)"
   ]
  },
  {
   "cell_type": "code",
   "execution_count": 76,
   "id": "dc43eeba-bad8-4d4e-a83b-2363155ace74",
   "metadata": {},
   "outputs": [
    {
     "data": {
      "text/plain": [
       "['nit', 10, 2.3, True, 4]"
      ]
     },
     "execution_count": 76,
     "metadata": {},
     "output_type": "execute_result"
    }
   ],
   "source": [
    "l"
   ]
  },
  {
   "cell_type": "code",
   "execution_count": 77,
   "id": "afeff8f4-d201-4d93-b89a-f54b81373ebb",
   "metadata": {},
   "outputs": [],
   "source": [
    "l.insert(5,7+6j)"
   ]
  },
  {
   "cell_type": "code",
   "execution_count": 78,
   "id": "cff1847b-3d89-428a-bb8f-bd39e61b0b18",
   "metadata": {},
   "outputs": [
    {
     "data": {
      "text/plain": [
       "['nit', 10, 2.3, True, 4, (7+6j)]"
      ]
     },
     "execution_count": 78,
     "metadata": {},
     "output_type": "execute_result"
    }
   ],
   "source": [
    "l"
   ]
  },
  {
   "cell_type": "code",
   "execution_count": 79,
   "id": "61e4c802-dc00-4a0c-abfe-d623e3811f4c",
   "metadata": {},
   "outputs": [],
   "source": [
    "l.insert(6,6)"
   ]
  },
  {
   "cell_type": "code",
   "execution_count": 80,
   "id": "88056f88-7ced-46bc-9006-8013a9084f6a",
   "metadata": {},
   "outputs": [
    {
     "data": {
      "text/plain": [
       "['nit', 10, 2.3, True, 4, (7+6j), 6]"
      ]
     },
     "execution_count": 80,
     "metadata": {},
     "output_type": "execute_result"
    }
   ],
   "source": [
    "l"
   ]
  },
  {
   "cell_type": "code",
   "execution_count": 81,
   "id": "2cc014b3-4fb8-486a-958a-371623a2409d",
   "metadata": {},
   "outputs": [
    {
     "name": "stdout",
     "output_type": "stream",
     "text": [
      "['hello']\n",
      "['nit', 10, 2.3, True, 4, (7+6j), 6]\n"
     ]
    }
   ],
   "source": [
    "print(l1)\n",
    "print(l)"
   ]
  },
  {
   "cell_type": "code",
   "execution_count": 82,
   "id": "33aa765c-76ef-48b1-bd01-cb9a6bcc6936",
   "metadata": {},
   "outputs": [],
   "source": [
    "l1.extend(l)"
   ]
  },
  {
   "cell_type": "code",
   "execution_count": 83,
   "id": "51d24ab7-5895-4a5c-ad0b-d44ca1c02180",
   "metadata": {},
   "outputs": [
    {
     "data": {
      "text/plain": [
       "['hello', 'nit', 10, 2.3, True, 4, (7+6j), 6]"
      ]
     },
     "execution_count": 83,
     "metadata": {},
     "output_type": "execute_result"
    }
   ],
   "source": [
    "l1"
   ]
  },
  {
   "cell_type": "code",
   "execution_count": 87,
   "id": "19e07f63-0266-435f-a773-4879e210fcba",
   "metadata": {},
   "outputs": [],
   "source": [
    "l1.reverse()"
   ]
  },
  {
   "cell_type": "code",
   "execution_count": 88,
   "id": "ead920c1-a686-4654-acae-9193c2b5fce5",
   "metadata": {},
   "outputs": [
    {
     "data": {
      "text/plain": [
       "[6, (7+6j), 4, True, 2.3, 10, 'nit', 'hello']"
      ]
     },
     "execution_count": 88,
     "metadata": {},
     "output_type": "execute_result"
    }
   ],
   "source": [
    "l1"
   ]
  },
  {
   "cell_type": "code",
   "execution_count": 89,
   "id": "4b34e82f-81ee-4dfe-8092-6451b67dbc03",
   "metadata": {},
   "outputs": [],
   "source": [
    "l5 = [300, 3, 34, 9, 100]"
   ]
  },
  {
   "cell_type": "code",
   "execution_count": 90,
   "id": "68ff9497-066f-4b23-813f-f8da8fda067d",
   "metadata": {},
   "outputs": [
    {
     "data": {
      "text/plain": [
       "[300, 3, 34, 9, 100]"
      ]
     },
     "execution_count": 90,
     "metadata": {},
     "output_type": "execute_result"
    }
   ],
   "source": [
    "l5"
   ]
  },
  {
   "cell_type": "code",
   "execution_count": 92,
   "id": "2d384a96-556f-4d38-9513-c17b94099519",
   "metadata": {},
   "outputs": [],
   "source": [
    "l5.sort()"
   ]
  },
  {
   "cell_type": "code",
   "execution_count": 93,
   "id": "40950ad4-08b9-414c-a5db-7e604da91c47",
   "metadata": {},
   "outputs": [
    {
     "data": {
      "text/plain": [
       "[3, 9, 34, 100, 300]"
      ]
     },
     "execution_count": 93,
     "metadata": {},
     "output_type": "execute_result"
    }
   ],
   "source": [
    "l5"
   ]
  },
  {
   "cell_type": "code",
   "execution_count": 94,
   "id": "81635cdf-2f21-4cc9-b664-65b642b5a32a",
   "metadata": {},
   "outputs": [],
   "source": [
    "l5.sort(reverse=True)"
   ]
  },
  {
   "cell_type": "code",
   "execution_count": 95,
   "id": "ff5ec354-f87c-48c2-a3c8-34b28364e0b7",
   "metadata": {},
   "outputs": [
    {
     "data": {
      "text/plain": [
       "[300, 100, 34, 9, 3]"
      ]
     },
     "execution_count": 95,
     "metadata": {},
     "output_type": "execute_result"
    }
   ],
   "source": [
    "l5"
   ]
  },
  {
   "cell_type": "code",
   "execution_count": 96,
   "id": "316aedee-89e5-4f93-b21d-baae25ed7273",
   "metadata": {},
   "outputs": [
    {
     "data": {
      "text/plain": [
       "[6, (7+6j), 4, True, 2.3, 10, 'nit']"
      ]
     },
     "execution_count": 96,
     "metadata": {},
     "output_type": "execute_result"
    }
   ],
   "source": [
    "l"
   ]
  },
  {
   "cell_type": "code",
   "execution_count": 97,
   "id": "017f3f24-aa3e-4f92-a83a-53fbfa131740",
   "metadata": {},
   "outputs": [
    {
     "data": {
      "text/plain": [
       "[300, 100, 34, 9, 3]"
      ]
     },
     "execution_count": 97,
     "metadata": {},
     "output_type": "execute_result"
    }
   ],
   "source": [
    "l5"
   ]
  },
  {
   "cell_type": "code",
   "execution_count": 99,
   "id": "71758dba-f6c4-415b-b701-0c0b12ca81ff",
   "metadata": {},
   "outputs": [],
   "source": [
    "l5.sort(reverse=False)"
   ]
  },
  {
   "cell_type": "markdown",
   "id": "9f8c74fa-7a76-438a-bde6-5ad2fc8c7c16",
   "metadata": {},
   "source": [
    "##### "
   ]
  },
  {
   "cell_type": "code",
   "execution_count": 100,
   "id": "07717db5-9567-40c8-8bd7-dae73955a441",
   "metadata": {},
   "outputs": [
    {
     "data": {
      "text/plain": [
       "[3, 9, 34, 100, 300]"
      ]
     },
     "execution_count": 100,
     "metadata": {},
     "output_type": "execute_result"
    }
   ],
   "source": [
    "l5"
   ]
  },
  {
   "cell_type": "code",
   "execution_count": null,
   "id": "d699ffc3-fbd0-48e9-896e-8e84f5d27e31",
   "metadata": {},
   "outputs": [],
   "source": []
  }
 ],
 "metadata": {
  "kernelspec": {
   "display_name": "Python 3 (ipykernel)",
   "language": "python",
   "name": "python3"
  },
  "language_info": {
   "codemirror_mode": {
    "name": "ipython",
    "version": 3
   },
   "file_extension": ".py",
   "mimetype": "text/x-python",
   "name": "python",
   "nbconvert_exporter": "python",
   "pygments_lexer": "ipython3",
   "version": "3.13.5"
  }
 },
 "nbformat": 4,
 "nbformat_minor": 5
}
