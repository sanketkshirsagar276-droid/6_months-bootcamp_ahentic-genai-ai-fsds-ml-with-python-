{
 "cells": [
  {
   "cell_type": "code",
   "execution_count": 2,
   "id": "fe0df6ad-cbcb-4e00-838d-68426a6e8b73",
   "metadata": {},
   "outputs": [
    {
     "name": "stdout",
     "output_type": "stream",
     "text": [
      "7pm very smart but some of then are lazy\n"
     ]
    }
   ],
   "source": [
    "def nit():\n",
    "    print('7pm very smart but some of then are lazy')\n",
    "nit()"
   ]
  },
  {
   "cell_type": "code",
   "execution_count": 3,
   "id": "36953b95-8424-46ea-931e-076716ef94ad",
   "metadata": {},
   "outputs": [
    {
     "name": "stdout",
     "output_type": "stream",
     "text": [
      "hello 7pm batch\n",
      "good evening\n",
      "bye bye\n"
     ]
    }
   ],
   "source": [
    "def nit():\n",
    "    print('hello 7pm batch')\n",
    "    print('good evening')\n",
    "    print('bye bye')\n",
    "\n",
    "nit()"
   ]
  },
  {
   "cell_type": "code",
   "execution_count": 4,
   "id": "2b8d13b6-144b-4aa5-9a7f-a32845c07347",
   "metadata": {},
   "outputs": [
    {
     "name": "stdout",
     "output_type": "stream",
     "text": [
      "hello 7pm batch\n",
      "good evening\n",
      "bye bye\n",
      "hello 7pm batch\n",
      "good evening\n",
      "bye bye\n",
      "hello 7pm batch\n",
      "good evening\n",
      "bye bye\n"
     ]
    }
   ],
   "source": [
    "def nit():\n",
    "    print('hello 7pm batch')\n",
    "    print('good evening')\n",
    "    print('bye bye')\n",
    "\n",
    "nit()\n",
    "nit()\n",
    "nit()"
   ]
  },
  {
   "cell_type": "code",
   "execution_count": 5,
   "id": "f0a1fea2-42c9-4f29-8c30-b9b7593fefee",
   "metadata": {},
   "outputs": [
    {
     "name": "stdout",
     "output_type": "stream",
     "text": [
      "7pm team very smart\n",
      "7pm batch never upload the tasks in linkedin & classroom\n",
      "7pm team tou need to showcase talent to the world by create linkdin portfolio\n",
      "7pm batch team need to apply jobs as soon as possible\n",
      "if you are very hard i will share all previous watch ans apply\n"
     ]
    }
   ],
   "source": [
    "def nit():\n",
    "    print('7pm team very smart')\n",
    "    print('7pm batch never upload the tasks in linkedin & classroom')\n",
    "    print('7pm team tou need to showcase talent to the world by create linkdin portfolio')\n",
    "nit()\n",
    "\n",
    "def placement():\n",
    "    print('7pm batch team need to apply jobs as soon as possible')\n",
    "    print('if you are very hard i will share all previous watch ans apply')\n",
    "placement()"
   ]
  },
  {
   "cell_type": "code",
   "execution_count": 6,
   "id": "bf303d3d-f740-4047-8550-3554a60dea59",
   "metadata": {},
   "outputs": [
    {
     "name": "stdout",
     "output_type": "stream",
     "text": [
      "7pm team very very very very very smart\n",
      "7pm team never upload the task in linkedin & google classroom\n",
      "7pm team you need to showcase talent to the world by create linkedin portfolio\n",
      "7pm batch team need to apply jobs as soon as possible\n",
      "if you are very hard work i will share all previous watch ans apply\n"
     ]
    }
   ],
   "source": [
    "def nit():\n",
    "    print('7pm team very very very very very smart' )\n",
    "    print(\"7pm team never upload the task in linkedin & google classroom\")\n",
    "    print(\"7pm team you need to showcase talent to the world by create linkedin portfolio\")\n",
    "\n",
    "def placment():\n",
    "    print('7pm batch team need to apply jobs as soon as possible')\n",
    "    print('if you are very hard work i will share all previous watch ans apply')\n",
    "\n",
    "nit()\n",
    "\n",
    "placment()"
   ]
  },
  {
   "cell_type": "code",
   "execution_count": 7,
   "id": "ec1417f2-7c08-4cca-811e-acccdf41d9a8",
   "metadata": {},
   "outputs": [
    {
     "name": "stdout",
     "output_type": "stream",
     "text": [
      "11\n"
     ]
    }
   ],
   "source": [
    "def add(x,y):\n",
    "    c=x+y\n",
    "    print(c)\n",
    "\n",
    "add(5,6)"
   ]
  },
  {
   "cell_type": "code",
   "execution_count": 8,
   "id": "615c0414-3028-4581-ac02-6f9454eec4ec",
   "metadata": {},
   "outputs": [
    {
     "name": "stdout",
     "output_type": "stream",
     "text": [
      "11\n",
      "7pm batch team need to apply jobs as soon as possible\n",
      "if you are very hard i will share all previous watch ans apply\n"
     ]
    }
   ],
   "source": [
    "def add(x,y):\n",
    "    c=x+y\n",
    "    print(c)\n",
    "\n",
    "def placement():\n",
    "    print('7pm batch team need to apply jobs as soon as possible')\n",
    "    print('if you are very hard i will share all previous watch ans apply')\n",
    "\n",
    "add(5,6)\n",
    "placement()"
   ]
  },
  {
   "cell_type": "code",
   "execution_count": 9,
   "id": "e55e8562-078d-4e1b-b914-b16a033fe3b0",
   "metadata": {},
   "outputs": [
    {
     "name": "stdout",
     "output_type": "stream",
     "text": [
      "9\n"
     ]
    }
   ],
   "source": [
    "def add(x,y):\n",
    "    c=x+y\n",
    "    return c\n",
    "\n",
    "result = add(5,4)\n",
    "print(result)\n"
   ]
  },
  {
   "cell_type": "code",
   "execution_count": 10,
   "id": "cd184d29-7fde-4eb9-98fc-f9b93dd25f92",
   "metadata": {},
   "outputs": [
    {
     "name": "stdout",
     "output_type": "stream",
     "text": [
      "hello\n",
      "good noon\n",
      "9\n"
     ]
    }
   ],
   "source": [
    "def greet():\n",
    "    print('hello')\n",
    "    print('good noon')\n",
    "greet()\n",
    "\n",
    "def add(x,y):\n",
    "    c=x+y\n",
    "    return c\n",
    "\n",
    "result = add(5,4)\n",
    "print(result)"
   ]
  },
  {
   "cell_type": "code",
   "execution_count": 11,
   "id": "2d1680a3-2ee2-4b04-b44c-0165496d6d06",
   "metadata": {},
   "outputs": [
    {
     "data": {
      "text/plain": [
       "(9, -1)"
      ]
     },
     "execution_count": 11,
     "metadata": {},
     "output_type": "execute_result"
    }
   ],
   "source": [
    "def add_sub(x,y):\n",
    "    c=x+y\n",
    "    d=x-y\n",
    "    return c,d\n",
    "\n",
    "add_sub(4,5)\n",
    "    "
   ]
  },
  {
   "cell_type": "code",
   "execution_count": 12,
   "id": "a7feb651-cb65-4edf-a628-6642d65bb5f9",
   "metadata": {},
   "outputs": [
    {
     "name": "stdout",
     "output_type": "stream",
     "text": [
      "(9, -1)\n",
      "<class 'tuple'>\n"
     ]
    }
   ],
   "source": [
    "def add_sub(x,y):\n",
    "    c=x+y\n",
    "    d=x-y\n",
    "    return c,d\n",
    "\n",
    "result = add_sub(4,5)\n",
    "\n",
    "print(result)\n",
    "print(type(result))"
   ]
  },
  {
   "cell_type": "code",
   "execution_count": 13,
   "id": "1461c332-f649-4d69-83e6-bf762621aed0",
   "metadata": {},
   "outputs": [
    {
     "name": "stdout",
     "output_type": "stream",
     "text": [
      "9 1\n",
      "<class 'int'>\n",
      "<class 'int'>\n"
     ]
    }
   ],
   "source": [
    "def add_sub(x,y):\n",
    "    c= x+y\n",
    "    d=x-y\n",
    "    return c,d\n",
    "\n",
    "result1,result2 = add_sub(5,4)\n",
    "\n",
    "print(result1,result2)\n",
    "\n",
    "print(type(result1))\n",
    "print(type(result2))"
   ]
  },
  {
   "cell_type": "markdown",
   "id": "5147e38b-deea-4b29-b257-2d7dc10b6bd1",
   "metadata": {},
   "source": [
    "# 14th -- functional arguement"
   ]
  },
  {
   "cell_type": "raw",
   "id": "8f178136-6366-4445-b09c-4d53cb456a08",
   "metadata": {},
   "source": [
    "- formal arguement\n",
    "- actual arguement"
   ]
  },
  {
   "cell_type": "code",
   "execution_count": 14,
   "id": "72791e51-f8ce-47fc-bb77-b321528b0d8b",
   "metadata": {},
   "outputs": [
    {
     "name": "stdout",
     "output_type": "stream",
     "text": [
      "11\n"
     ]
    }
   ],
   "source": [
    "def add(a,b):\n",
    "    c=a+b\n",
    "    print(c)\n",
    "\n",
    "add(5,6)"
   ]
  },
  {
   "cell_type": "code",
   "execution_count": 15,
   "id": "bcc9cb24-d86b-4f47-a649-9c6f38b385d9",
   "metadata": {},
   "outputs": [
    {
     "name": "stdout",
     "output_type": "stream",
     "text": [
      "18\n"
     ]
    }
   ],
   "source": [
    "def add(a,b,d):\n",
    "    c=a+b+d\n",
    "    print(c)\n",
    "\n",
    "add(5,6,7)\n",
    "    "
   ]
  },
  {
   "cell_type": "markdown",
   "id": "751327e6-f752-46a8-8248-861f2bc27fe4",
   "metadata": {},
   "source": [
    "# actual arguement is 4 part"
   ]
  },
  {
   "cell_type": "raw",
   "id": "55eb029d-5fc3-427d-adcb-2a05104a177e",
   "metadata": {},
   "source": [
    "- positional arguement\n",
    "- keyword arguement\n",
    "- default keyword\n",
    "- variable length arguement"
   ]
  },
  {
   "cell_type": "code",
   "execution_count": 16,
   "id": "6011fa46-eebb-43d0-9909-9c08c8f7b43b",
   "metadata": {},
   "outputs": [
    {
     "name": "stdout",
     "output_type": "stream",
     "text": [
      "nit\n",
      "22\n"
     ]
    }
   ],
   "source": [
    "def person(name,age):\n",
    "    print(name)\n",
    "    print(age)\n",
    "\n",
    "person('nit',22)"
   ]
  },
  {
   "cell_type": "code",
   "execution_count": 17,
   "id": "35341794-bd5a-4d38-aa1d-43e0d1626a2c",
   "metadata": {},
   "outputs": [
    {
     "ename": "TypeError",
     "evalue": "person() takes 2 positional arguments but 3 were given",
     "output_type": "error",
     "traceback": [
      "\u001b[1;31m---------------------------------------------------------------------------\u001b[0m",
      "\u001b[1;31mTypeError\u001b[0m                                 Traceback (most recent call last)",
      "Cell \u001b[1;32mIn[17], line 4\u001b[0m\n\u001b[0;32m      2\u001b[0m     \u001b[38;5;28mprint\u001b[39m(name)\n\u001b[0;32m      3\u001b[0m     \u001b[38;5;28mprint\u001b[39m(age)\n\u001b[1;32m----> 4\u001b[0m person(\u001b[38;5;124m'\u001b[39m\u001b[38;5;124mnit\u001b[39m\u001b[38;5;124m'\u001b[39m,\u001b[38;5;241m24\u001b[39m,\u001b[38;5;241m25\u001b[39m)\n",
      "\u001b[1;31mTypeError\u001b[0m: person() takes 2 positional arguments but 3 were given"
     ]
    }
   ],
   "source": [
    "def person(name,age):\n",
    "    print(name)\n",
    "    print(age)\n",
    "person('nit',24,25)"
   ]
  },
  {
   "cell_type": "code",
   "execution_count": 18,
   "id": "7eef224a-5815-414f-8c24-a82908c726ba",
   "metadata": {},
   "outputs": [
    {
     "name": "stdout",
     "output_type": "stream",
     "text": [
      "22\n",
      "nit\n"
     ]
    }
   ],
   "source": [
    "def person(name,age):\n",
    "    print(name)\n",
    "    print(age)\n",
    "    \n",
    "person(22,'nit')"
   ]
  },
  {
   "cell_type": "code",
   "execution_count": 19,
   "id": "941b797d-08b4-48e4-a0d0-cebdf1927990",
   "metadata": {},
   "outputs": [
    {
     "name": "stdout",
     "output_type": "stream",
     "text": [
      "22\n"
     ]
    },
    {
     "ename": "TypeError",
     "evalue": "unsupported operand type(s) for -: 'str' and 'int'",
     "output_type": "error",
     "traceback": [
      "\u001b[1;31m---------------------------------------------------------------------------\u001b[0m",
      "\u001b[1;31mTypeError\u001b[0m                                 Traceback (most recent call last)",
      "Cell \u001b[1;32mIn[19], line 5\u001b[0m\n\u001b[0;32m      2\u001b[0m     \u001b[38;5;28mprint\u001b[39m(name)\n\u001b[0;32m      3\u001b[0m     \u001b[38;5;28mprint\u001b[39m(age\u001b[38;5;241m-\u001b[39m\u001b[38;5;241m5\u001b[39m)\n\u001b[1;32m----> 5\u001b[0m person(\u001b[38;5;241m22\u001b[39m,\u001b[38;5;124m'\u001b[39m\u001b[38;5;124mnit\u001b[39m\u001b[38;5;124m'\u001b[39m)\n",
      "Cell \u001b[1;32mIn[19], line 3\u001b[0m, in \u001b[0;36mperson\u001b[1;34m(name, age)\u001b[0m\n\u001b[0;32m      1\u001b[0m \u001b[38;5;28;01mdef\u001b[39;00m\u001b[38;5;250m \u001b[39m\u001b[38;5;21mperson\u001b[39m(name,age):\n\u001b[0;32m      2\u001b[0m     \u001b[38;5;28mprint\u001b[39m(name)\n\u001b[1;32m----> 3\u001b[0m     \u001b[38;5;28mprint\u001b[39m(age\u001b[38;5;241m-\u001b[39m\u001b[38;5;241m5\u001b[39m)\n",
      "\u001b[1;31mTypeError\u001b[0m: unsupported operand type(s) for -: 'str' and 'int'"
     ]
    }
   ],
   "source": [
    "def person(name,age):\n",
    "    print(name)\n",
    "    print(age-5)\n",
    "    \n",
    "person(22,'nit')"
   ]
  },
  {
   "cell_type": "code",
   "execution_count": 24,
   "id": "40610568-d1f7-4146-a01b-5e1bac2c26aa",
   "metadata": {},
   "outputs": [
    {
     "name": "stdout",
     "output_type": "stream",
     "text": [
      "nit\n",
      "17\n",
      "hyd\n"
     ]
    }
   ],
   "source": [
    "def person(name,age,city):\n",
    "    print(name)\n",
    "    print(age-5)\n",
    "    print(city)\n",
    "\n",
    "person(age=22,name='nit',city='hyd')"
   ]
  },
  {
   "cell_type": "markdown",
   "id": "4ed9467b-301b-4405-a1cb-780e88794bc3",
   "metadata": {},
   "source": [
    "# keyword arguement"
   ]
  },
  {
   "cell_type": "code",
   "execution_count": 21,
   "id": "c07018ef-d98b-4277-959b-a6d54f30f407",
   "metadata": {},
   "outputs": [
    {
     "ename": "TypeError",
     "evalue": "person() missing 1 required positional argument: 'age'",
     "output_type": "error",
     "traceback": [
      "\u001b[1;31m---------------------------------------------------------------------------\u001b[0m",
      "\u001b[1;31mTypeError\u001b[0m                                 Traceback (most recent call last)",
      "Cell \u001b[1;32mIn[21], line 5\u001b[0m\n\u001b[0;32m      2\u001b[0m     \u001b[38;5;28mprint\u001b[39m(name)\n\u001b[0;32m      3\u001b[0m     \u001b[38;5;28mprint\u001b[39m(age)\n\u001b[1;32m----> 5\u001b[0m person(\u001b[38;5;124m'\u001b[39m\u001b[38;5;124mnit\u001b[39m\u001b[38;5;124m'\u001b[39m)\n",
      "\u001b[1;31mTypeError\u001b[0m: person() missing 1 required positional argument: 'age'"
     ]
    }
   ],
   "source": [
    "def person(name,age):\n",
    "    print(name)\n",
    "    print(age)\n",
    "    \n",
    "person('nit')"
   ]
  },
  {
   "cell_type": "code",
   "execution_count": 22,
   "id": "7f368d30-d86b-47ed-a756-cf5033ae4e4c",
   "metadata": {},
   "outputs": [
    {
     "name": "stdout",
     "output_type": "stream",
     "text": [
      "nit\n",
      "30\n"
     ]
    }
   ],
   "source": [
    "def person(name,age= 20):\n",
    "    print(name)\n",
    "    print(age)\n",
    "    \n",
    "person('nit', 30)"
   ]
  },
  {
   "cell_type": "code",
   "execution_count": 25,
   "id": "b2491336-1653-4b82-b548-dd5140d7aefd",
   "metadata": {},
   "outputs": [
    {
     "name": "stdout",
     "output_type": "stream",
     "text": [
      "nit\n",
      "40\n"
     ]
    }
   ],
   "source": [
    "def person(name,age=18):\n",
    "    print(name)\n",
    "    print(age)\n",
    "\n",
    "person('nit',40)"
   ]
  },
  {
   "cell_type": "markdown",
   "id": "cc24f551-a25f-4bbe-b042-7e8814b21119",
   "metadata": {},
   "source": [
    "# Variable length arguement"
   ]
  },
  {
   "cell_type": "code",
   "execution_count": 26,
   "id": "e6ac1777-41db-4a72-a4f8-1dd3bfed298f",
   "metadata": {},
   "outputs": [
    {
     "name": "stdout",
     "output_type": "stream",
     "text": [
      "11\n"
     ]
    }
   ],
   "source": [
    "def sum(a,b):\n",
    "    c=a+b\n",
    "    print(c)\n",
    "\n",
    "sum(5,6)"
   ]
  },
  {
   "cell_type": "code",
   "execution_count": 27,
   "id": "c8a6020f-eb4f-4dc0-bf63-92acbb93f892",
   "metadata": {},
   "outputs": [
    {
     "ename": "TypeError",
     "evalue": "sum() takes 2 positional arguments but 4 were given",
     "output_type": "error",
     "traceback": [
      "\u001b[1;31m---------------------------------------------------------------------------\u001b[0m",
      "\u001b[1;31mTypeError\u001b[0m                                 Traceback (most recent call last)",
      "Cell \u001b[1;32mIn[27], line 4\u001b[0m\n\u001b[0;32m      2\u001b[0m     c\u001b[38;5;241m=\u001b[39ma\u001b[38;5;241m+\u001b[39mb\n\u001b[0;32m      3\u001b[0m     \u001b[38;5;28;01mreturn\u001b[39;00m c\n\u001b[1;32m----> 4\u001b[0m \u001b[38;5;28msum\u001b[39m(\u001b[38;5;241m5\u001b[39m,\u001b[38;5;241m6\u001b[39m,\u001b[38;5;241m7\u001b[39m,\u001b[38;5;241m8\u001b[39m)\n",
      "\u001b[1;31mTypeError\u001b[0m: sum() takes 2 positional arguments but 4 were given"
     ]
    }
   ],
   "source": [
    "def sum(a,b):\n",
    "    c=a+b\n",
    "    return c\n",
    "sum(5,6,7,8)"
   ]
  },
  {
   "cell_type": "code",
   "execution_count": 28,
   "id": "fe19fe71-eee7-455c-9847-9a3bef146d98",
   "metadata": {},
   "outputs": [
    {
     "ename": "TypeError",
     "evalue": "unsupported operand type(s) for +: 'int' and 'tuple'",
     "output_type": "error",
     "traceback": [
      "\u001b[1;31m---------------------------------------------------------------------------\u001b[0m",
      "\u001b[1;31mTypeError\u001b[0m                                 Traceback (most recent call last)",
      "Cell \u001b[1;32mIn[28], line 5\u001b[0m\n\u001b[0;32m      2\u001b[0m     c\u001b[38;5;241m=\u001b[39ma\u001b[38;5;241m+\u001b[39mb\n\u001b[0;32m      3\u001b[0m     \u001b[38;5;28;01mreturn\u001b[39;00m c\n\u001b[1;32m----> 5\u001b[0m \u001b[38;5;28msum\u001b[39m(\u001b[38;5;241m5\u001b[39m,\u001b[38;5;241m6\u001b[39m,\u001b[38;5;241m7\u001b[39m,\u001b[38;5;241m8\u001b[39m)\n",
      "Cell \u001b[1;32mIn[28], line 2\u001b[0m, in \u001b[0;36msum\u001b[1;34m(a, *b)\u001b[0m\n\u001b[0;32m      1\u001b[0m \u001b[38;5;28;01mdef\u001b[39;00m\u001b[38;5;250m \u001b[39m\u001b[38;5;21msum\u001b[39m(a, \u001b[38;5;241m*\u001b[39mb):\n\u001b[1;32m----> 2\u001b[0m     c\u001b[38;5;241m=\u001b[39ma\u001b[38;5;241m+\u001b[39mb\n\u001b[0;32m      3\u001b[0m     \u001b[38;5;28;01mreturn\u001b[39;00m c\n",
      "\u001b[1;31mTypeError\u001b[0m: unsupported operand type(s) for +: 'int' and 'tuple'"
     ]
    }
   ],
   "source": [
    "def sum(a, *b):\n",
    "    c=a+b\n",
    "    return c\n",
    "\n",
    "sum(5,6,7,8)"
   ]
  },
  {
   "cell_type": "code",
   "execution_count": 29,
   "id": "be313b11-23aa-44af-919a-cbf1901571b0",
   "metadata": {},
   "outputs": [
    {
     "name": "stdout",
     "output_type": "stream",
     "text": [
      "<class 'int'>\n",
      "<class 'tuple'>\n"
     ]
    }
   ],
   "source": [
    "def sum(a, *b):\n",
    "    print(type(a))\n",
    "    print(type(b))\n",
    "sum(5,6,7,8)"
   ]
  },
  {
   "cell_type": "code",
   "execution_count": 30,
   "id": "f11044c3-52af-4c87-acd8-92c1e2f05f69",
   "metadata": {},
   "outputs": [
    {
     "name": "stdout",
     "output_type": "stream",
     "text": [
      "26\n"
     ]
    }
   ],
   "source": [
    "def sum(a, *b):\n",
    "    c=a\n",
    "    for i in b:\n",
    "        c=c+i\n",
    "    print(c)\n",
    "sum(5,6,7,8)"
   ]
  },
  {
   "cell_type": "code",
   "execution_count": 31,
   "id": "cbebe96a-584f-4358-9ef3-cd2019eac47a",
   "metadata": {},
   "outputs": [
    {
     "name": "stdout",
     "output_type": "stream",
     "text": [
      "1238\n"
     ]
    }
   ],
   "source": [
    "def sum(a, *b):\n",
    "    c=a\n",
    "    for i in b:\n",
    "        c=c+i\n",
    "    print(c)\n",
    "sum(5,6,7,8,200,456,500,56)"
   ]
  },
  {
   "cell_type": "code",
   "execution_count": 32,
   "id": "a0528d45-038f-4b08-958a-26567e441eee",
   "metadata": {},
   "outputs": [
    {
     "name": "stdout",
     "output_type": "stream",
     "text": [
      "26\n"
     ]
    }
   ],
   "source": [
    "def sum(a, *b):\n",
    "    for i in b:\n",
    "        a=a+i\n",
    "    print(a)\n",
    "sum(5,6,7,8)"
   ]
  },
  {
   "cell_type": "code",
   "execution_count": 33,
   "id": "d3254723-b948-4a97-8f9c-ea828f331d12",
   "metadata": {},
   "outputs": [
    {
     "name": "stdout",
     "output_type": "stream",
     "text": [
      "26\n"
     ]
    }
   ],
   "source": [
    "def sum(a, *b):\n",
    "    a=5\n",
    "    for i in b:\n",
    "        a=a+i\n",
    "    print(a)\n",
    "sum(5,6,7,8)"
   ]
  },
  {
   "cell_type": "raw",
   "id": "c3dcceaa-199a-4dff-901c-29b64abb9253",
   "metadata": {},
   "source": [
    "kwargs(keyword arguement + variable length arguement)"
   ]
  },
  {
   "cell_type": "code",
   "execution_count": 34,
   "id": "699cc0a4-ce5f-4e36-82ca-ee1e16dc69f0",
   "metadata": {},
   "outputs": [
    {
     "ename": "TypeError",
     "evalue": "person() takes 0 positional arguments but 4 were given",
     "output_type": "error",
     "traceback": [
      "\u001b[1;31m---------------------------------------------------------------------------\u001b[0m",
      "\u001b[1;31mTypeError\u001b[0m                                 Traceback (most recent call last)",
      "Cell \u001b[1;32mIn[34], line 4\u001b[0m\n\u001b[0;32m      2\u001b[0m     \u001b[38;5;28mprint\u001b[39m(name)\n\u001b[0;32m      3\u001b[0m     \u001b[38;5;28mprint\u001b[39m(data)\n\u001b[1;32m----> 4\u001b[0m person(\u001b[38;5;124m'\u001b[39m\u001b[38;5;124mALEX\u001b[39m\u001b[38;5;124m'\u001b[39m, \u001b[38;5;241m36\u001b[39m, \u001b[38;5;124m'\u001b[39m\u001b[38;5;124mJOHN\u001b[39m\u001b[38;5;124m'\u001b[39m, \u001b[38;5;241m987767\u001b[39m)\n",
      "\u001b[1;31mTypeError\u001b[0m: person() takes 0 positional arguments but 4 were given"
     ]
    }
   ],
   "source": [
    "def person():\n",
    "    print(name)\n",
    "    print(data)\n",
    "person('ALEX', 36, 'JOHN', 987767)"
   ]
  },
  {
   "cell_type": "code",
   "execution_count": 35,
   "id": "b7a91b97-b4fc-4667-809c-f354baea4759",
   "metadata": {},
   "outputs": [
    {
     "name": "stdout",
     "output_type": "stream",
     "text": [
      "ALEX\n",
      "(36, 'JOHN', 987767)\n"
     ]
    }
   ],
   "source": [
    "def person(name, *data):\n",
    "    print(name)\n",
    "    print(data)\n",
    "person('ALEX', 36, 'JOHN', 987767)"
   ]
  },
  {
   "cell_type": "code",
   "execution_count": 37,
   "id": "b8c7e592-178b-4d81-b2e0-525565dae461",
   "metadata": {},
   "outputs": [
    {
     "ename": "TypeError",
     "evalue": "person() got an unexpected keyword argument 'age'",
     "output_type": "error",
     "traceback": [
      "\u001b[1;31m---------------------------------------------------------------------------\u001b[0m",
      "\u001b[1;31mTypeError\u001b[0m                                 Traceback (most recent call last)",
      "Cell \u001b[1;32mIn[37], line 4\u001b[0m\n\u001b[0;32m      2\u001b[0m     \u001b[38;5;28mprint\u001b[39m(name)\n\u001b[0;32m      3\u001b[0m     \u001b[38;5;28mprint\u001b[39m(data)\n\u001b[1;32m----> 4\u001b[0m person(\u001b[38;5;124m'\u001b[39m\u001b[38;5;124mALEX\u001b[39m\u001b[38;5;124m'\u001b[39m, age\u001b[38;5;241m=\u001b[39m\u001b[38;5;241m36\u001b[39m,addr\u001b[38;5;241m=\u001b[39m \u001b[38;5;124m'\u001b[39m\u001b[38;5;124mJOHN\u001b[39m\u001b[38;5;124m'\u001b[39m, mob\u001b[38;5;241m=\u001b[39m\u001b[38;5;241m987767\u001b[39m)\n",
      "\u001b[1;31mTypeError\u001b[0m: person() got an unexpected keyword argument 'age'"
     ]
    }
   ],
   "source": [
    "def person(name, *data):\n",
    "    print(name)\n",
    "    print(data)\n",
    "person('ALEX', age=36,addr= 'JOHN', mob=987767)"
   ]
  },
  {
   "cell_type": "code",
   "execution_count": 38,
   "id": "876226f7-2032-4d28-9c85-6a525d8f7e4d",
   "metadata": {},
   "outputs": [
    {
     "ename": "TypeError",
     "evalue": "person() got an unexpected keyword argument 'age'",
     "output_type": "error",
     "traceback": [
      "\u001b[1;31m---------------------------------------------------------------------------\u001b[0m",
      "\u001b[1;31mTypeError\u001b[0m                                 Traceback (most recent call last)",
      "Cell \u001b[1;32mIn[38], line 4\u001b[0m\n\u001b[0;32m      2\u001b[0m     \u001b[38;5;28mprint\u001b[39m(name)\n\u001b[0;32m      3\u001b[0m     \u001b[38;5;28mprint\u001b[39m(data)\n\u001b[1;32m----> 4\u001b[0m person(\u001b[38;5;124m'\u001b[39m\u001b[38;5;124mmark\u001b[39m\u001b[38;5;124m'\u001b[39m, age\u001b[38;5;241m=\u001b[39m\u001b[38;5;241m36\u001b[39m, home_place\u001b[38;5;241m=\u001b[39m\u001b[38;5;124m'\u001b[39m\u001b[38;5;124msouthcity\u001b[39m\u001b[38;5;124m'\u001b[39m, mob\u001b[38;5;241m=\u001b[39m\u001b[38;5;241m9877677\u001b[39m)\n",
      "\u001b[1;31mTypeError\u001b[0m: person() got an unexpected keyword argument 'age'"
     ]
    }
   ],
   "source": [
    "def person(name, *data):\n",
    "    print(name)\n",
    "    print(data)\n",
    "person('mark', age=36, home_place='southcity', mob=9877677)"
   ]
  },
  {
   "cell_type": "code",
   "execution_count": 39,
   "id": "f330e532-d245-4199-891e-657d2507ee7f",
   "metadata": {},
   "outputs": [
    {
     "name": "stdout",
     "output_type": "stream",
     "text": [
      "mark\n",
      "{'age': 36, 'home_place': 'southcity', 'mob': 9877677}\n"
     ]
    }
   ],
   "source": [
    "def person(name, **data):\n",
    "    print(name)\n",
    "    print(data)\n",
    "person('mark', age=36, home_place='southcity', mob=9877677)"
   ]
  },
  {
   "cell_type": "code",
   "execution_count": 44,
   "id": "3f87764b-adcf-495e-9bbc-2a7962c938e1",
   "metadata": {},
   "outputs": [
    {
     "name": "stdout",
     "output_type": "stream",
     "text": [
      "mark\n",
      "{'age': 36, 'home_place': 'southcity', 'mob': 9877677, 'degree': 'phd', 'bank': 'icici'}\n"
     ]
    }
   ],
   "source": [
    "def person(name, **data):\n",
    "    print(name)\n",
    "    print(data)\n",
    "person('mark', age=36, home_place='southcity', mob=9877677, degree= 'phd', bank='icici')"
   ]
  },
  {
   "cell_type": "code",
   "execution_count": null,
   "id": "d9cfa273-485a-4e72-9820-4c103a889d6a",
   "metadata": {},
   "outputs": [],
   "source": []
  }
 ],
 "metadata": {
  "kernelspec": {
   "display_name": "Python 3 (ipykernel)",
   "language": "python",
   "name": "python3"
  },
  "language_info": {
   "codemirror_mode": {
    "name": "ipython",
    "version": 3
   },
   "file_extension": ".py",
   "mimetype": "text/x-python",
   "name": "python",
   "nbconvert_exporter": "python",
   "pygments_lexer": "ipython3",
   "version": "3.13.5"
  }
 },
 "nbformat": 4,
 "nbformat_minor": 5
}
