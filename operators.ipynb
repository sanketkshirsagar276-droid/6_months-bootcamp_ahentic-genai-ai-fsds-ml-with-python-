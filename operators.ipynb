{
 "cells": [
  {
   "cell_type": "markdown",
   "id": "dc32340d-1000-404d-aa9d-09f5a752c8fa",
   "metadata": {},
   "source": [
    "# Operators"
   ]
  },
  {
   "cell_type": "markdown",
   "id": "0c87aefa-113c-4d69-9c8d-f1face857cb8",
   "metadata": {},
   "source": [
    "1. Arithmetic Operator"
   ]
  },
  {
   "cell_type": "markdown",
   "id": "e328dd84-65e4-4afe-b7d1-0d1a9fa5e713",
   "metadata": {},
   "source": [
    "(+,-,*,/,//,%,**)"
   ]
  },
  {
   "cell_type": "code",
   "execution_count": 1,
   "id": "077fccb3-7db0-4967-98cd-c31cbd7b977f",
   "metadata": {},
   "outputs": [
    {
     "data": {
      "text/plain": [
       "15"
      ]
     },
     "execution_count": 1,
     "metadata": {},
     "output_type": "execute_result"
    }
   ],
   "source": [
    "x1, y1 = 10, 5\n",
    "x1 + y1"
   ]
  },
  {
   "cell_type": "code",
   "execution_count": 2,
   "id": "9014b231-5301-4b3b-a360-0d86a19b57d9",
   "metadata": {},
   "outputs": [
    {
     "data": {
      "text/plain": [
       "5"
      ]
     },
     "execution_count": 2,
     "metadata": {},
     "output_type": "execute_result"
    }
   ],
   "source": [
    "x1-y1"
   ]
  },
  {
   "cell_type": "code",
   "execution_count": 3,
   "id": "34b6e4b9-d149-445e-aac1-5a9bc6bfa200",
   "metadata": {},
   "outputs": [
    {
     "data": {
      "text/plain": [
       "50"
      ]
     },
     "execution_count": 3,
     "metadata": {},
     "output_type": "execute_result"
    }
   ],
   "source": [
    "x1*y1"
   ]
  },
  {
   "cell_type": "code",
   "execution_count": 4,
   "id": "46f2699b-b31e-4563-a30f-3ce96cc4e40b",
   "metadata": {},
   "outputs": [
    {
     "data": {
      "text/plain": [
       "2.0"
      ]
     },
     "execution_count": 4,
     "metadata": {},
     "output_type": "execute_result"
    }
   ],
   "source": [
    "x1/y1"
   ]
  },
  {
   "cell_type": "code",
   "execution_count": 5,
   "id": "ad66dc12-03c9-40f6-8fd6-db22c0a78422",
   "metadata": {},
   "outputs": [
    {
     "data": {
      "text/plain": [
       "2"
      ]
     },
     "execution_count": 5,
     "metadata": {},
     "output_type": "execute_result"
    }
   ],
   "source": [
    "x1//y1"
   ]
  },
  {
   "cell_type": "code",
   "execution_count": 6,
   "id": "c95a5123-4e80-4cf1-9bbf-83c8b92ed2b7",
   "metadata": {},
   "outputs": [
    {
     "data": {
      "text/plain": [
       "0"
      ]
     },
     "execution_count": 6,
     "metadata": {},
     "output_type": "execute_result"
    }
   ],
   "source": [
    "x1%y1"
   ]
  },
  {
   "cell_type": "code",
   "execution_count": 7,
   "id": "fd818bd4-a0c2-4abf-881d-e19b4b0c13a8",
   "metadata": {},
   "outputs": [
    {
     "data": {
      "text/plain": [
       "100000"
      ]
     },
     "execution_count": 7,
     "metadata": {},
     "output_type": "execute_result"
    }
   ],
   "source": [
    "x1**y1"
   ]
  },
  {
   "cell_type": "code",
   "execution_count": 8,
   "id": "df3ac760-8443-4900-8d6d-d15e11218ba0",
   "metadata": {},
   "outputs": [
    {
     "ename": "SyntaxError",
     "evalue": "invalid syntax (3511430113.py, line 1)",
     "output_type": "error",
     "traceback": [
      "\u001b[1;36m  Cell \u001b[1;32mIn[8], line 1\u001b[1;36m\u001b[0m\n\u001b[1;33m    2***3\u001b[0m\n\u001b[1;37m       ^\u001b[0m\n\u001b[1;31mSyntaxError\u001b[0m\u001b[1;31m:\u001b[0m invalid syntax\n"
     ]
    }
   ],
   "source": [
    "2***3"
   ]
  },
  {
   "cell_type": "code",
   "execution_count": 9,
   "id": "2202d7a7-0959-42ea-b8ec-6520c3aedc97",
   "metadata": {},
   "outputs": [
    {
     "data": {
      "text/plain": [
       "8"
      ]
     },
     "execution_count": 9,
     "metadata": {},
     "output_type": "execute_result"
    }
   ],
   "source": [
    "2**3"
   ]
  },
  {
   "cell_type": "code",
   "execution_count": 10,
   "id": "591768a6-9a33-40c6-8620-163d19821a0b",
   "metadata": {},
   "outputs": [
    {
     "data": {
      "text/plain": [
       "16"
      ]
     },
     "execution_count": 10,
     "metadata": {},
     "output_type": "execute_result"
    }
   ],
   "source": [
    "2**4"
   ]
  },
  {
   "cell_type": "code",
   "execution_count": null,
   "id": "521bd908-c854-4c07-8cf6-82fccb0c17c4",
   "metadata": {},
   "outputs": [],
   "source": []
  },
  {
   "cell_type": "markdown",
   "id": "e70392a4-a01e-4d1b-ab17-cc133f5f7789",
   "metadata": {},
   "source": [
    "2. Assignment operator"
   ]
  },
  {
   "cell_type": "code",
   "execution_count": 29,
   "id": "65430d20-3c00-4cca-867f-398b8a20d9f4",
   "metadata": {},
   "outputs": [],
   "source": [
    "x=2"
   ]
  },
  {
   "cell_type": "code",
   "execution_count": 30,
   "id": "97291781-986b-436a-b48f-903368abc8f6",
   "metadata": {},
   "outputs": [
    {
     "data": {
      "text/plain": [
       "2"
      ]
     },
     "execution_count": 30,
     "metadata": {},
     "output_type": "execute_result"
    }
   ],
   "source": [
    "x"
   ]
  },
  {
   "cell_type": "code",
   "execution_count": 32,
   "id": "25d12e69-3a38-4c9d-9fc2-36457e99c272",
   "metadata": {},
   "outputs": [
    {
     "data": {
      "text/plain": [
       "4"
      ]
     },
     "execution_count": 32,
     "metadata": {},
     "output_type": "execute_result"
    }
   ],
   "source": [
    "x=x+2\n",
    "x"
   ]
  },
  {
   "cell_type": "code",
   "execution_count": 33,
   "id": "5cdafd0a-4966-49d4-8ea9-139fc09081eb",
   "metadata": {},
   "outputs": [
    {
     "data": {
      "text/plain": [
       "6"
      ]
     },
     "execution_count": 33,
     "metadata": {},
     "output_type": "execute_result"
    }
   ],
   "source": [
    "x+=2\n",
    "x"
   ]
  },
  {
   "cell_type": "code",
   "execution_count": 34,
   "id": "88138786-7bda-4ac6-8d22-3b0823c37355",
   "metadata": {},
   "outputs": [
    {
     "data": {
      "text/plain": [
       "8"
      ]
     },
     "execution_count": 34,
     "metadata": {},
     "output_type": "execute_result"
    }
   ],
   "source": [
    "x+=2\n",
    "x"
   ]
  },
  {
   "cell_type": "code",
   "execution_count": 35,
   "id": "35fb9b9f-4988-4080-8edd-d5fc49204040",
   "metadata": {},
   "outputs": [
    {
     "data": {
      "text/plain": [
       "16"
      ]
     },
     "execution_count": 35,
     "metadata": {},
     "output_type": "execute_result"
    }
   ],
   "source": [
    "x*=2\n",
    "x"
   ]
  },
  {
   "cell_type": "code",
   "execution_count": 36,
   "id": "ab9d76e1-906d-4ec7-b4f5-1e0d73a5945a",
   "metadata": {},
   "outputs": [
    {
     "data": {
      "text/plain": [
       "14"
      ]
     },
     "execution_count": 36,
     "metadata": {},
     "output_type": "execute_result"
    }
   ],
   "source": [
    "x-=2\n",
    "x"
   ]
  },
  {
   "cell_type": "code",
   "execution_count": 37,
   "id": "a10c0ac9-5951-4322-819b-e69d45e69ac0",
   "metadata": {},
   "outputs": [
    {
     "data": {
      "text/plain": [
       "7.0"
      ]
     },
     "execution_count": 37,
     "metadata": {},
     "output_type": "execute_result"
    }
   ],
   "source": [
    "x/=2\n",
    "x"
   ]
  },
  {
   "cell_type": "code",
   "execution_count": 38,
   "id": "af7de180-8dd5-4d60-8fe5-a05a8b12b485",
   "metadata": {},
   "outputs": [
    {
     "data": {
      "text/plain": [
       "3.0"
      ]
     },
     "execution_count": 38,
     "metadata": {},
     "output_type": "execute_result"
    }
   ],
   "source": [
    "x//=2\n",
    "x"
   ]
  },
  {
   "cell_type": "code",
   "execution_count": 39,
   "id": "e959f79d-5a9c-4364-bf95-dfcd3d26eb3d",
   "metadata": {},
   "outputs": [
    {
     "name": "stdout",
     "output_type": "stream",
     "text": [
      "5\n",
      "6\n"
     ]
    }
   ],
   "source": [
    "a,b=5,6\n",
    "print(a)\n",
    "print(b)"
   ]
  },
  {
   "cell_type": "code",
   "execution_count": null,
   "id": "6e8ae94c-90c1-490b-967d-4fbc0bfd18e2",
   "metadata": {},
   "outputs": [],
   "source": []
  },
  {
   "cell_type": "markdown",
   "id": "3f31ec9e-a052-4359-a621-fd61a2c769de",
   "metadata": {},
   "source": [
    "3. Unary Operator"
   ]
  },
  {
   "cell_type": "markdown",
   "id": "f3b58c05-dec5-4494-bd72-bb4bd1ff5420",
   "metadata": {},
   "source": [
    "Here we applying unary minus operatir(-) on the operand"
   ]
  },
  {
   "cell_type": "code",
   "execution_count": 43,
   "id": "34897f10-e715-4856-8be5-1245145e61e3",
   "metadata": {},
   "outputs": [],
   "source": [
    "n=7\n",
    "m=-(n)"
   ]
  },
  {
   "cell_type": "code",
   "execution_count": 44,
   "id": "33732c47-18d3-4c1f-a770-f076c0c33216",
   "metadata": {},
   "outputs": [
    {
     "data": {
      "text/plain": [
       "-7"
      ]
     },
     "execution_count": 44,
     "metadata": {},
     "output_type": "execute_result"
    }
   ],
   "source": [
    "m"
   ]
  },
  {
   "cell_type": "code",
   "execution_count": 42,
   "id": "79d3e859-d0df-4852-a1b4-f0c84c44cb14",
   "metadata": {},
   "outputs": [
    {
     "data": {
      "text/plain": [
       "7"
      ]
     },
     "execution_count": 42,
     "metadata": {},
     "output_type": "execute_result"
    }
   ],
   "source": [
    "n"
   ]
  },
  {
   "cell_type": "code",
   "execution_count": null,
   "id": "15513247-a268-4fbe-9747-5cedbbf6a0dc",
   "metadata": {},
   "outputs": [],
   "source": []
  },
  {
   "cell_type": "markdown",
   "id": "8dca7a03-0eeb-4daa-bc15-7d2c6c38f96a",
   "metadata": {},
   "source": [
    "4. Relational Operator"
   ]
  },
  {
   "cell_type": "code",
   "execution_count": 45,
   "id": "8d9d5e58-e220-4979-a390-07b23f7dd7bb",
   "metadata": {},
   "outputs": [],
   "source": [
    "a=5\n",
    "b=7"
   ]
  },
  {
   "cell_type": "code",
   "execution_count": 46,
   "id": "4a0a31eb-eacd-487d-86f0-e449a6710c34",
   "metadata": {},
   "outputs": [
    {
     "data": {
      "text/plain": [
       "False"
      ]
     },
     "execution_count": 46,
     "metadata": {},
     "output_type": "execute_result"
    }
   ],
   "source": [
    "a==b"
   ]
  },
  {
   "cell_type": "code",
   "execution_count": 47,
   "id": "8cad4dc9-caa5-4f64-9ba2-110bc28ccbf7",
   "metadata": {},
   "outputs": [
    {
     "data": {
      "text/plain": [
       "False"
      ]
     },
     "execution_count": 47,
     "metadata": {},
     "output_type": "execute_result"
    }
   ],
   "source": [
    "b==a"
   ]
  },
  {
   "cell_type": "code",
   "execution_count": 48,
   "id": "b6b7908f-716c-42e3-a002-fa0b06179085",
   "metadata": {},
   "outputs": [
    {
     "data": {
      "text/plain": [
       "True"
      ]
     },
     "execution_count": 48,
     "metadata": {},
     "output_type": "execute_result"
    }
   ],
   "source": [
    "a<b"
   ]
  },
  {
   "cell_type": "code",
   "execution_count": 49,
   "id": "b87f5b68-321b-40ee-a60e-06afbb640366",
   "metadata": {},
   "outputs": [
    {
     "data": {
      "text/plain": [
       "False"
      ]
     },
     "execution_count": 49,
     "metadata": {},
     "output_type": "execute_result"
    }
   ],
   "source": [
    "b<a"
   ]
  },
  {
   "cell_type": "code",
   "execution_count": 50,
   "id": "7eb33f3f-38d5-47af-8391-4dc1a83d44a4",
   "metadata": {},
   "outputs": [
    {
     "data": {
      "text/plain": [
       "False"
      ]
     },
     "execution_count": 50,
     "metadata": {},
     "output_type": "execute_result"
    }
   ],
   "source": [
    "a>b"
   ]
  },
  {
   "cell_type": "code",
   "execution_count": 51,
   "id": "89ba0739-636d-43f9-8cd9-44dec24c383b",
   "metadata": {},
   "outputs": [
    {
     "data": {
      "text/plain": [
       "True"
      ]
     },
     "execution_count": 51,
     "metadata": {},
     "output_type": "execute_result"
    }
   ],
   "source": [
    "b>a"
   ]
  },
  {
   "cell_type": "code",
   "execution_count": 52,
   "id": "45cae310-f8de-46cb-97fc-b2261dd36d9b",
   "metadata": {},
   "outputs": [
    {
     "data": {
      "text/plain": [
       "True"
      ]
     },
     "execution_count": 52,
     "metadata": {},
     "output_type": "execute_result"
    }
   ],
   "source": [
    "a!=b"
   ]
  },
  {
   "cell_type": "code",
   "execution_count": 53,
   "id": "06a37c9e-9013-458f-9cc5-0ef59c26da10",
   "metadata": {},
   "outputs": [
    {
     "data": {
      "text/plain": [
       "True"
      ]
     },
     "execution_count": 53,
     "metadata": {},
     "output_type": "execute_result"
    }
   ],
   "source": [
    "b!=a"
   ]
  },
  {
   "cell_type": "code",
   "execution_count": 54,
   "id": "f5c4f8f7-1a07-4199-b006-bcb89d5ae567",
   "metadata": {},
   "outputs": [],
   "source": [
    "b=5"
   ]
  },
  {
   "cell_type": "code",
   "execution_count": 55,
   "id": "3a3484a1-f716-4e46-b0b3-92e0c3482412",
   "metadata": {},
   "outputs": [
    {
     "data": {
      "text/plain": [
       "True"
      ]
     },
     "execution_count": 55,
     "metadata": {},
     "output_type": "execute_result"
    }
   ],
   "source": [
    "a==b"
   ]
  },
  {
   "cell_type": "code",
   "execution_count": 57,
   "id": "eaefa568-9e95-4567-b0ac-cd0c56b29c2e",
   "metadata": {},
   "outputs": [
    {
     "data": {
      "text/plain": [
       "True"
      ]
     },
     "execution_count": 57,
     "metadata": {},
     "output_type": "execute_result"
    }
   ],
   "source": [
    "a<=b"
   ]
  },
  {
   "cell_type": "code",
   "execution_count": 58,
   "id": "97668725-20d4-4b07-992d-5154a393aaf9",
   "metadata": {},
   "outputs": [
    {
     "data": {
      "text/plain": [
       "True"
      ]
     },
     "execution_count": 58,
     "metadata": {},
     "output_type": "execute_result"
    }
   ],
   "source": [
    "a>=b"
   ]
  },
  {
   "cell_type": "code",
   "execution_count": 59,
   "id": "78249e6b-8741-45f9-b884-2576e3124043",
   "metadata": {},
   "outputs": [
    {
     "data": {
      "text/plain": [
       "False"
      ]
     },
     "execution_count": 59,
     "metadata": {},
     "output_type": "execute_result"
    }
   ],
   "source": [
    "a<b"
   ]
  },
  {
   "cell_type": "code",
   "execution_count": 60,
   "id": "5f525201-cafc-4945-8703-f0f361f0c463",
   "metadata": {},
   "outputs": [
    {
     "data": {
      "text/plain": [
       "False"
      ]
     },
     "execution_count": 60,
     "metadata": {},
     "output_type": "execute_result"
    }
   ],
   "source": [
    "a>b"
   ]
  },
  {
   "cell_type": "code",
   "execution_count": 61,
   "id": "079a4f7c-1ae2-47bf-ab65-4f91d8debbec",
   "metadata": {},
   "outputs": [
    {
     "data": {
      "text/plain": [
       "False"
      ]
     },
     "execution_count": 61,
     "metadata": {},
     "output_type": "execute_result"
    }
   ],
   "source": [
    "a!=b"
   ]
  },
  {
   "cell_type": "code",
   "execution_count": null,
   "id": "bfebba65-f036-432a-af9e-1635ef88b91e",
   "metadata": {},
   "outputs": [],
   "source": []
  },
  {
   "cell_type": "markdown",
   "id": "923a0f4f-7895-4134-8a72-5b7d72137b54",
   "metadata": {},
   "source": [
    "5. Logical operator"
   ]
  },
  {
   "cell_type": "code",
   "execution_count": 62,
   "id": "38f2bcd0-e7c5-415e-a66b-9e1c76f83d3c",
   "metadata": {},
   "outputs": [],
   "source": [
    "a=5\n",
    "b=4"
   ]
  },
  {
   "cell_type": "code",
   "execution_count": 63,
   "id": "7f15bf56-21d1-43ed-85da-583438007ec3",
   "metadata": {},
   "outputs": [
    {
     "data": {
      "text/plain": [
       "True"
      ]
     },
     "execution_count": 63,
     "metadata": {},
     "output_type": "execute_result"
    }
   ],
   "source": [
    "a<8 and b<5"
   ]
  },
  {
   "cell_type": "code",
   "execution_count": 65,
   "id": "04dc5557-9395-40f8-8734-4a376c0fc3fd",
   "metadata": {},
   "outputs": [
    {
     "data": {
      "text/plain": [
       "False"
      ]
     },
     "execution_count": 65,
     "metadata": {},
     "output_type": "execute_result"
    }
   ],
   "source": [
    "a>8 and b>5"
   ]
  },
  {
   "cell_type": "code",
   "execution_count": 66,
   "id": "d21b2e4d-e0c4-4caf-9167-9e0bb9d45806",
   "metadata": {},
   "outputs": [
    {
     "data": {
      "text/plain": [
       "False"
      ]
     },
     "execution_count": 66,
     "metadata": {},
     "output_type": "execute_result"
    }
   ],
   "source": [
    "a<8 and b<2"
   ]
  },
  {
   "cell_type": "code",
   "execution_count": 67,
   "id": "f0acaeae-fd8a-438d-be1c-0d6522152603",
   "metadata": {},
   "outputs": [
    {
     "data": {
      "text/plain": [
       "False"
      ]
     },
     "execution_count": 67,
     "metadata": {},
     "output_type": "execute_result"
    }
   ],
   "source": [
    "a>8 and b<2"
   ]
  },
  {
   "cell_type": "code",
   "execution_count": 68,
   "id": "9ba97fea-367a-403a-920a-57fa26376672",
   "metadata": {},
   "outputs": [
    {
     "data": {
      "text/plain": [
       "False"
      ]
     },
     "execution_count": 68,
     "metadata": {},
     "output_type": "execute_result"
    }
   ],
   "source": [
    "x=False\n",
    "x"
   ]
  },
  {
   "cell_type": "code",
   "execution_count": 70,
   "id": "db7283ff-a37b-4645-8722-9a9c09b5d709",
   "metadata": {},
   "outputs": [
    {
     "data": {
      "text/plain": [
       "True"
      ]
     },
     "execution_count": 70,
     "metadata": {},
     "output_type": "execute_result"
    }
   ],
   "source": [
    "not x"
   ]
  },
  {
   "cell_type": "code",
   "execution_count": 71,
   "id": "d7ff0e76-fc67-49e4-9155-b94c0526d50a",
   "metadata": {},
   "outputs": [
    {
     "data": {
      "text/plain": [
       "True"
      ]
     },
     "execution_count": 71,
     "metadata": {},
     "output_type": "execute_result"
    }
   ],
   "source": [
    "x= not x\n",
    "x"
   ]
  },
  {
   "cell_type": "code",
   "execution_count": 72,
   "id": "e6096526-6639-44f8-afe7-c804de6602e7",
   "metadata": {},
   "outputs": [
    {
     "data": {
      "text/plain": [
       "False"
      ]
     },
     "execution_count": 72,
     "metadata": {},
     "output_type": "execute_result"
    }
   ],
   "source": [
    "not x"
   ]
  },
  {
   "cell_type": "code",
   "execution_count": null,
   "id": "5e34b99d-c790-4f7e-811c-33dac2fa6a2a",
   "metadata": {},
   "outputs": [],
   "source": []
  },
  {
   "cell_type": "markdown",
   "id": "68317a88-9e50-4267-bdf6-7106006498da",
   "metadata": {},
   "source": [
    "Number System conversion"
   ]
  },
  {
   "cell_type": "code",
   "execution_count": 73,
   "id": "8fda865f-9e76-44a2-b648-3402304af5d3",
   "metadata": {},
   "outputs": [
    {
     "data": {
      "text/plain": [
       "25"
      ]
     },
     "execution_count": 73,
     "metadata": {},
     "output_type": "execute_result"
    }
   ],
   "source": [
    "25"
   ]
  },
  {
   "cell_type": "code",
   "execution_count": 74,
   "id": "d68603e7-7b49-460d-8a01-146b90182078",
   "metadata": {},
   "outputs": [
    {
     "data": {
      "text/plain": [
       "'0b11001'"
      ]
     },
     "execution_count": 74,
     "metadata": {},
     "output_type": "execute_result"
    }
   ],
   "source": [
    "bin(25)"
   ]
  },
  {
   "cell_type": "code",
   "execution_count": 75,
   "id": "a46abd94-64b8-4a13-babc-01a6afe7229b",
   "metadata": {},
   "outputs": [
    {
     "data": {
      "text/plain": [
       "25"
      ]
     },
     "execution_count": 75,
     "metadata": {},
     "output_type": "execute_result"
    }
   ],
   "source": [
    "0b11001"
   ]
  },
  {
   "cell_type": "code",
   "execution_count": 76,
   "id": "c886b3eb-f059-42f9-94ba-a39e7d8f8e08",
   "metadata": {},
   "outputs": [
    {
     "data": {
      "text/plain": [
       "25"
      ]
     },
     "execution_count": 76,
     "metadata": {},
     "output_type": "execute_result"
    }
   ],
   "source": [
    "int(0b11001)"
   ]
  },
  {
   "cell_type": "code",
   "execution_count": 77,
   "id": "4f584fa0-6f03-4f76-b616-7098d6a84175",
   "metadata": {},
   "outputs": [
    {
     "data": {
      "text/plain": [
       "'0b100011'"
      ]
     },
     "execution_count": 77,
     "metadata": {},
     "output_type": "execute_result"
    }
   ],
   "source": [
    "bin(35)"
   ]
  },
  {
   "cell_type": "code",
   "execution_count": 78,
   "id": "ecaab8c5-6081-43eb-896e-6c74d0654ba0",
   "metadata": {},
   "outputs": [
    {
     "data": {
      "text/plain": [
       "35"
      ]
     },
     "execution_count": 78,
     "metadata": {},
     "output_type": "execute_result"
    }
   ],
   "source": [
    "0b100011"
   ]
  },
  {
   "cell_type": "code",
   "execution_count": 79,
   "id": "2c63e056-8a9b-4ed7-8437-8ba69a0677b5",
   "metadata": {},
   "outputs": [
    {
     "data": {
      "text/plain": [
       "35"
      ]
     },
     "execution_count": 79,
     "metadata": {},
     "output_type": "execute_result"
    }
   ],
   "source": [
    "int(0b100011)"
   ]
  },
  {
   "cell_type": "code",
   "execution_count": 80,
   "id": "fc14a240-d3cd-4253-a3d6-9fbe668af6f7",
   "metadata": {},
   "outputs": [
    {
     "data": {
      "text/plain": [
       "'0b10100'"
      ]
     },
     "execution_count": 80,
     "metadata": {},
     "output_type": "execute_result"
    }
   ],
   "source": [
    "bin(20)"
   ]
  },
  {
   "cell_type": "code",
   "execution_count": 81,
   "id": "95238a55-1e50-4a99-b567-29dc83469940",
   "metadata": {},
   "outputs": [
    {
     "data": {
      "text/plain": [
       "20"
      ]
     },
     "execution_count": 81,
     "metadata": {},
     "output_type": "execute_result"
    }
   ],
   "source": [
    "0b10100"
   ]
  },
  {
   "cell_type": "code",
   "execution_count": 82,
   "id": "db1e3bb8-74d4-4ef2-a2fc-b4ea7f0120ad",
   "metadata": {},
   "outputs": [
    {
     "data": {
      "text/plain": [
       "20"
      ]
     },
     "execution_count": 82,
     "metadata": {},
     "output_type": "execute_result"
    }
   ],
   "source": [
    "int(0b10100)"
   ]
  },
  {
   "cell_type": "code",
   "execution_count": 83,
   "id": "4cc10791-414a-48cf-9d6e-51d17be66b9c",
   "metadata": {},
   "outputs": [
    {
     "data": {
      "text/plain": [
       "'0b1111'"
      ]
     },
     "execution_count": 83,
     "metadata": {},
     "output_type": "execute_result"
    }
   ],
   "source": [
    "bin(15)"
   ]
  },
  {
   "cell_type": "code",
   "execution_count": 84,
   "id": "b25854d9-da96-473b-8c8e-4035fc373373",
   "metadata": {},
   "outputs": [
    {
     "data": {
      "text/plain": [
       "15"
      ]
     },
     "execution_count": 84,
     "metadata": {},
     "output_type": "execute_result"
    }
   ],
   "source": [
    "0b1111"
   ]
  },
  {
   "cell_type": "code",
   "execution_count": 85,
   "id": "4fdae460-6c99-48f7-872b-dfff9eaade6e",
   "metadata": {},
   "outputs": [
    {
     "data": {
      "text/plain": [
       "'0o17'"
      ]
     },
     "execution_count": 85,
     "metadata": {},
     "output_type": "execute_result"
    }
   ],
   "source": [
    "oct(15)"
   ]
  },
  {
   "cell_type": "code",
   "execution_count": 86,
   "id": "93f769ff-b60e-4de1-b742-9cbaf5f2927e",
   "metadata": {},
   "outputs": [
    {
     "data": {
      "text/plain": [
       "15"
      ]
     },
     "execution_count": 86,
     "metadata": {},
     "output_type": "execute_result"
    }
   ],
   "source": [
    "0o17"
   ]
  },
  {
   "cell_type": "code",
   "execution_count": 87,
   "id": "2c71a523-50cf-4b1c-99d5-01ff25a0fae8",
   "metadata": {},
   "outputs": [
    {
     "data": {
      "text/plain": [
       "'0x9'"
      ]
     },
     "execution_count": 87,
     "metadata": {},
     "output_type": "execute_result"
    }
   ],
   "source": [
    "hex(9)"
   ]
  },
  {
   "cell_type": "code",
   "execution_count": 88,
   "id": "7d4f203c-7fa1-4622-b108-cfc11bf7445f",
   "metadata": {},
   "outputs": [
    {
     "data": {
      "text/plain": [
       "15"
      ]
     },
     "execution_count": 88,
     "metadata": {},
     "output_type": "execute_result"
    }
   ],
   "source": [
    "0xf"
   ]
  },
  {
   "cell_type": "code",
   "execution_count": 89,
   "id": "e047a703-e905-4f5f-80fe-836d890d088e",
   "metadata": {},
   "outputs": [
    {
     "data": {
      "text/plain": [
       "'0xa'"
      ]
     },
     "execution_count": 89,
     "metadata": {},
     "output_type": "execute_result"
    }
   ],
   "source": [
    "hex(10)"
   ]
  },
  {
   "cell_type": "code",
   "execution_count": 90,
   "id": "9e694e46-3c03-4856-a734-773557b839e2",
   "metadata": {},
   "outputs": [
    {
     "data": {
      "text/plain": [
       "'0x19'"
      ]
     },
     "execution_count": 90,
     "metadata": {},
     "output_type": "execute_result"
    }
   ],
   "source": [
    "hex(25)"
   ]
  },
  {
   "cell_type": "code",
   "execution_count": 91,
   "id": "e5d1070c-df08-4749-a128-8cba5da08cf5",
   "metadata": {},
   "outputs": [
    {
     "data": {
      "text/plain": [
       "21"
      ]
     },
     "execution_count": 91,
     "metadata": {},
     "output_type": "execute_result"
    }
   ],
   "source": [
    "0x15"
   ]
  },
  {
   "cell_type": "code",
   "execution_count": null,
   "id": "112894ab-34d1-4ee1-b890-0e9dc7a80d67",
   "metadata": {},
   "outputs": [],
   "source": []
  },
  {
   "cell_type": "markdown",
   "id": "dc45a30d-e6fd-43f1-9e3d-f6b6bd8f163c",
   "metadata": {},
   "source": [
    "Swap Variables in Python"
   ]
  },
  {
   "cell_type": "code",
   "execution_count": 92,
   "id": "2fe87cd4-42bf-4fbd-8e81-d1cb828eff7c",
   "metadata": {},
   "outputs": [],
   "source": [
    "a=5\n",
    "b=6"
   ]
  },
  {
   "cell_type": "code",
   "execution_count": 93,
   "id": "bfff3c28-0b37-4552-9e89-f075556836fb",
   "metadata": {},
   "outputs": [],
   "source": [
    "a=b\n",
    "b=a"
   ]
  },
  {
   "cell_type": "code",
   "execution_count": 94,
   "id": "034a723b-c82f-40da-99e6-c5189aa9654b",
   "metadata": {},
   "outputs": [],
   "source": [
    "a,b=b,a"
   ]
  },
  {
   "cell_type": "code",
   "execution_count": 95,
   "id": "e28c30b1-f946-46af-9f60-69437af40561",
   "metadata": {},
   "outputs": [
    {
     "name": "stdout",
     "output_type": "stream",
     "text": [
      "6\n",
      "6\n"
     ]
    }
   ],
   "source": [
    "print(a)\n",
    "print(b)"
   ]
  },
  {
   "cell_type": "markdown",
   "id": "cde934dc-148b-4735-b0c2-b2fa069ae7c9",
   "metadata": {},
   "source": [
    "Swaping two numbers using third number"
   ]
  },
  {
   "cell_type": "code",
   "execution_count": 102,
   "id": "1b53c55d-0930-4b48-8ab4-f1cccfa0e325",
   "metadata": {},
   "outputs": [],
   "source": [
    "a1=7\n",
    "b1=8"
   ]
  },
  {
   "cell_type": "code",
   "execution_count": 103,
   "id": "55f341c4-f402-4602-9b55-d2b802114809",
   "metadata": {},
   "outputs": [],
   "source": [
    "temp = a1\n",
    "a1 = b1\n",
    "b1 = temp"
   ]
  },
  {
   "cell_type": "code",
   "execution_count": 104,
   "id": "9abeaa73-46c4-492b-88f1-6e2016dac18c",
   "metadata": {},
   "outputs": [
    {
     "name": "stdout",
     "output_type": "stream",
     "text": [
      "8\n",
      "7\n"
     ]
    }
   ],
   "source": [
    "print(a1)\n",
    "print(b1)"
   ]
  },
  {
   "cell_type": "markdown",
   "id": "742f0a35-0e05-45d1-b524-f11dd5825487",
   "metadata": {},
   "source": [
    "Swapping Two numbers without using third variable "
   ]
  },
  {
   "cell_type": "code",
   "execution_count": 105,
   "id": "bdaca97d-2ed8-446e-b5bc-7b4b814643d5",
   "metadata": {},
   "outputs": [],
   "source": [
    "a2=5\n",
    "b2=6"
   ]
  },
  {
   "cell_type": "code",
   "execution_count": 106,
   "id": "9230e542-d0f6-49e6-a0de-411c42adc274",
   "metadata": {},
   "outputs": [],
   "source": [
    "a2=a2+b2\n",
    "b2=a2-b2\n",
    "a2=a2-b2"
   ]
  },
  {
   "cell_type": "code",
   "execution_count": 108,
   "id": "e101f870-27e7-4ebb-a150-641be00d467b",
   "metadata": {},
   "outputs": [
    {
     "name": "stdout",
     "output_type": "stream",
     "text": [
      "6\n",
      "5\n"
     ]
    }
   ],
   "source": [
    "print(a2)\n",
    "print(b2)"
   ]
  },
  {
   "cell_type": "code",
   "execution_count": null,
   "id": "f2644403-9b94-4d9f-acc5-136682a393b5",
   "metadata": {},
   "outputs": [],
   "source": [
    "Swaping using binary number"
   ]
  },
  {
   "cell_type": "code",
   "execution_count": 109,
   "id": "cf5554af-b0d9-414f-ad1c-2d5db0b98149",
   "metadata": {},
   "outputs": [
    {
     "name": "stdout",
     "output_type": "stream",
     "text": [
      "5\n",
      "6\n"
     ]
    }
   ],
   "source": [
    "print(0b101)\n",
    "print(0b110)"
   ]
  },
  {
   "cell_type": "code",
   "execution_count": 110,
   "id": "2255bbf6-1913-4313-b51a-b3dc31aae7cd",
   "metadata": {},
   "outputs": [
    {
     "name": "stdout",
     "output_type": "stream",
     "text": [
      "0b1011\n"
     ]
    }
   ],
   "source": [
    "print(bin(11))"
   ]
  },
  {
   "cell_type": "code",
   "execution_count": 111,
   "id": "d09dfd1f-8d37-41e1-b056-59b13d030f33",
   "metadata": {},
   "outputs": [
    {
     "name": "stdout",
     "output_type": "stream",
     "text": [
      "0b1011\n",
      "11\n"
     ]
    }
   ],
   "source": [
    "print(bin(11))\n",
    "print(0b1011)"
   ]
  },
  {
   "cell_type": "code",
   "execution_count": 112,
   "id": "abcf4b2c-1273-4593-9f79-d2e0d1dd7369",
   "metadata": {},
   "outputs": [],
   "source": [
    "a2=a2^b2\n",
    "b2=a2^b2\n",
    "a2=a2^b2"
   ]
  },
  {
   "cell_type": "code",
   "execution_count": 113,
   "id": "c2fe4ee1-5f28-46da-8376-d5ad6b62766f",
   "metadata": {},
   "outputs": [
    {
     "name": "stdout",
     "output_type": "stream",
     "text": [
      "5\n",
      "6\n"
     ]
    }
   ],
   "source": [
    "print(a2)\n",
    "print(b2)"
   ]
  },
  {
   "cell_type": "markdown",
   "id": "7c2a2ae1-629b-451b-88fa-5edd40a6488b",
   "metadata": {},
   "source": [
    "Another way"
   ]
  },
  {
   "cell_type": "code",
   "execution_count": 114,
   "id": "27fc60c2-c01b-4286-b93f-941b668462e1",
   "metadata": {},
   "outputs": [
    {
     "name": "stdout",
     "output_type": "stream",
     "text": [
      "5\n",
      "6\n"
     ]
    }
   ],
   "source": [
    "print(a2)\n",
    "print(b2)"
   ]
  },
  {
   "cell_type": "code",
   "execution_count": 115,
   "id": "fcbcf832-da57-4640-99a2-0ade1682e15f",
   "metadata": {},
   "outputs": [],
   "source": [
    "a2,b2 = b2,a2"
   ]
  },
  {
   "cell_type": "code",
   "execution_count": 116,
   "id": "cc87b860-e9ef-446b-ad10-d1117330ec1b",
   "metadata": {},
   "outputs": [
    {
     "name": "stdout",
     "output_type": "stream",
     "text": [
      "6\n",
      "5\n"
     ]
    }
   ],
   "source": [
    "print(a2)\n",
    "print(b2)"
   ]
  },
  {
   "cell_type": "code",
   "execution_count": null,
   "id": "7876fc6d-2522-4872-9032-01c4de7579e2",
   "metadata": {},
   "outputs": [],
   "source": []
  },
  {
   "cell_type": "markdown",
   "id": "d91334cd-2b06-4479-98f9-553e98f2c63d",
   "metadata": {},
   "source": [
    "6. Bitwise Operator"
   ]
  },
  {
   "cell_type": "code",
   "execution_count": 118,
   "id": "b97cbe8f-1bce-4a72-9269-70c7dae02e7f",
   "metadata": {},
   "outputs": [
    {
     "data": {
      "text/plain": [
       "-46"
      ]
     },
     "execution_count": 118,
     "metadata": {},
     "output_type": "execute_result"
    }
   ],
   "source": [
    "~45 #it basically (1's complement+1 )"
   ]
  },
  {
   "cell_type": "code",
   "execution_count": 119,
   "id": "b61d587c-70b8-40f4-b687-3fc996f56d5d",
   "metadata": {},
   "outputs": [
    {
     "data": {
      "text/plain": [
       "-13"
      ]
     },
     "execution_count": 119,
     "metadata": {},
     "output_type": "execute_result"
    }
   ],
   "source": [
    "~12"
   ]
  },
  {
   "cell_type": "code",
   "execution_count": 120,
   "id": "3de582bb-d05a-4eea-b5ec-00f6929a7106",
   "metadata": {},
   "outputs": [
    {
     "data": {
      "text/plain": [
       "9"
      ]
     },
     "execution_count": 120,
     "metadata": {},
     "output_type": "execute_result"
    }
   ],
   "source": [
    "~-10"
   ]
  },
  {
   "cell_type": "code",
   "execution_count": 121,
   "id": "1c266245-b356-410c-9727-3caeabc5d44b",
   "metadata": {},
   "outputs": [
    {
     "data": {
      "text/plain": [
       "49"
      ]
     },
     "execution_count": 121,
     "metadata": {},
     "output_type": "execute_result"
    }
   ],
   "source": [
    "~-50"
   ]
  },
  {
   "cell_type": "code",
   "execution_count": 122,
   "id": "2be0d9bc-e1c9-4542-9d63-8c3652aa4232",
   "metadata": {},
   "outputs": [
    {
     "data": {
      "text/plain": [
       "12"
      ]
     },
     "execution_count": 122,
     "metadata": {},
     "output_type": "execute_result"
    }
   ],
   "source": [
    "12&13"
   ]
  },
  {
   "cell_type": "code",
   "execution_count": 123,
   "id": "62263248-dc5e-41f1-ab9b-3d3e5e7ff210",
   "metadata": {},
   "outputs": [
    {
     "data": {
      "text/plain": [
       "1"
      ]
     },
     "execution_count": 123,
     "metadata": {},
     "output_type": "execute_result"
    }
   ],
   "source": [
    "1&1"
   ]
  },
  {
   "cell_type": "code",
   "execution_count": 124,
   "id": "85db6bfe-d04c-41c4-b41b-aa940f0f7656",
   "metadata": {},
   "outputs": [
    {
     "data": {
      "text/plain": [
       "0"
      ]
     },
     "execution_count": 124,
     "metadata": {},
     "output_type": "execute_result"
    }
   ],
   "source": [
    "1&0"
   ]
  },
  {
   "cell_type": "code",
   "execution_count": 125,
   "id": "b8cf20c7-4211-4c6c-83fc-91c595e85728",
   "metadata": {},
   "outputs": [
    {
     "data": {
      "text/plain": [
       "1"
      ]
     },
     "execution_count": 125,
     "metadata": {},
     "output_type": "execute_result"
    }
   ],
   "source": [
    "1|1"
   ]
  },
  {
   "cell_type": "code",
   "execution_count": 126,
   "id": "904bdb7e-de55-4e24-8bda-964c2d887775",
   "metadata": {},
   "outputs": [
    {
     "data": {
      "text/plain": [
       "1"
      ]
     },
     "execution_count": 126,
     "metadata": {},
     "output_type": "execute_result"
    }
   ],
   "source": [
    "1|0"
   ]
  },
  {
   "cell_type": "code",
   "execution_count": 127,
   "id": "8ee11443-3a71-46f5-a5e0-1c50cdbcc802",
   "metadata": {},
   "outputs": [
    {
     "data": {
      "text/plain": [
       "32"
      ]
     },
     "execution_count": 127,
     "metadata": {},
     "output_type": "execute_result"
    }
   ],
   "source": [
    "35&40"
   ]
  },
  {
   "cell_type": "code",
   "execution_count": 128,
   "id": "770bd8da-2e4d-4783-a354-cd5f5f6d2232",
   "metadata": {},
   "outputs": [
    {
     "data": {
      "text/plain": [
       "13"
      ]
     },
     "execution_count": 128,
     "metadata": {},
     "output_type": "execute_result"
    }
   ],
   "source": [
    "12|13"
   ]
  },
  {
   "cell_type": "code",
   "execution_count": 129,
   "id": "f306881d-eb20-464f-be73-41b8695c5955",
   "metadata": {},
   "outputs": [
    {
     "data": {
      "text/plain": [
       "1"
      ]
     },
     "execution_count": 129,
     "metadata": {},
     "output_type": "execute_result"
    }
   ],
   "source": [
    "12^13"
   ]
  },
  {
   "cell_type": "code",
   "execution_count": 130,
   "id": "38e02d52-b0d9-4bbb-a54a-df1d193b1ae2",
   "metadata": {},
   "outputs": [
    {
     "data": {
      "text/plain": [
       "7"
      ]
     },
     "execution_count": 130,
     "metadata": {},
     "output_type": "execute_result"
    }
   ],
   "source": [
    "25^30"
   ]
  },
  {
   "cell_type": "code",
   "execution_count": 131,
   "id": "006baac8-ff1c-4ba0-9407-dd2a02d2e2c9",
   "metadata": {},
   "outputs": [
    {
     "data": {
      "text/plain": [
       "'0b11001'"
      ]
     },
     "execution_count": 131,
     "metadata": {},
     "output_type": "execute_result"
    }
   ],
   "source": [
    "bin(25)"
   ]
  },
  {
   "cell_type": "code",
   "execution_count": 132,
   "id": "d90cffb9-563f-4aab-a6b8-a38e9de89118",
   "metadata": {},
   "outputs": [
    {
     "data": {
      "text/plain": [
       "'0b11110'"
      ]
     },
     "execution_count": 132,
     "metadata": {},
     "output_type": "execute_result"
    }
   ],
   "source": [
    "bin(30)"
   ]
  },
  {
   "cell_type": "code",
   "execution_count": 133,
   "id": "7cd0f28f-6cb8-4b5a-8925-84722a721588",
   "metadata": {},
   "outputs": [
    {
     "data": {
      "text/plain": [
       "30"
      ]
     },
     "execution_count": 133,
     "metadata": {},
     "output_type": "execute_result"
    }
   ],
   "source": [
    "int(0b11110)"
   ]
  },
  {
   "cell_type": "code",
   "execution_count": 134,
   "id": "853235dd-165e-457e-9fe2-d76eb87a44de",
   "metadata": {},
   "outputs": [
    {
     "data": {
      "text/plain": [
       "'0b111'"
      ]
     },
     "execution_count": 134,
     "metadata": {},
     "output_type": "execute_result"
    }
   ],
   "source": [
    "bin(7)"
   ]
  },
  {
   "cell_type": "code",
   "execution_count": 135,
   "id": "021b587b-5839-440d-9bc1-ab98fa818926",
   "metadata": {},
   "outputs": [
    {
     "data": {
      "text/plain": [
       "7"
      ]
     },
     "execution_count": 135,
     "metadata": {},
     "output_type": "execute_result"
    }
   ],
   "source": [
    "0b111"
   ]
  },
  {
   "cell_type": "code",
   "execution_count": 136,
   "id": "afbc3507-b0be-475e-a709-9d42e4107f3a",
   "metadata": {},
   "outputs": [
    {
     "data": {
      "text/plain": [
       "40"
      ]
     },
     "execution_count": 136,
     "metadata": {},
     "output_type": "execute_result"
    }
   ],
   "source": [
    "10 << 2 # left operator(miltiply by 10 ki power 2)"
   ]
  },
  {
   "cell_type": "code",
   "execution_count": 137,
   "id": "fee876c8-525a-4ad0-9abd-c16ec63f3b33",
   "metadata": {},
   "outputs": [
    {
     "data": {
      "text/plain": [
       "80"
      ]
     },
     "execution_count": 137,
     "metadata": {},
     "output_type": "execute_result"
    }
   ],
   "source": [
    "20 << 2"
   ]
  },
  {
   "cell_type": "code",
   "execution_count": 138,
   "id": "c115d6ca-9b59-4bb2-8674-3b2e8185bacf",
   "metadata": {},
   "outputs": [
    {
     "data": {
      "text/plain": [
       "320"
      ]
     },
     "execution_count": 138,
     "metadata": {},
     "output_type": "execute_result"
    }
   ],
   "source": [
    "20<<4"
   ]
  },
  {
   "cell_type": "code",
   "execution_count": 139,
   "id": "d5d2e96d-4592-4a9a-8cc6-908e67cf402d",
   "metadata": {},
   "outputs": [
    {
     "data": {
      "text/plain": [
       "2"
      ]
     },
     "execution_count": 139,
     "metadata": {},
     "output_type": "execute_result"
    }
   ],
   "source": [
    "10>>2"
   ]
  },
  {
   "cell_type": "code",
   "execution_count": 140,
   "id": "9fcbbb96-9413-42f2-a7a0-13f1c2ae564d",
   "metadata": {},
   "outputs": [
    {
     "data": {
      "text/plain": [
       "0"
      ]
     },
     "execution_count": 140,
     "metadata": {},
     "output_type": "execute_result"
    }
   ],
   "source": [
    "10>>4"
   ]
  },
  {
   "cell_type": "code",
   "execution_count": 141,
   "id": "a73dd7ac-61c9-4c3e-b9d4-965619d2652b",
   "metadata": {},
   "outputs": [
    {
     "data": {
      "text/plain": [
       "1"
      ]
     },
     "execution_count": 141,
     "metadata": {},
     "output_type": "execute_result"
    }
   ],
   "source": [
    "20>>4"
   ]
  },
  {
   "cell_type": "markdown",
   "id": "1fda5af1-c735-40a2-a21e-346ed2873e09",
   "metadata": {},
   "source": [
    "# Import Math Module"
   ]
  },
  {
   "cell_type": "code",
   "execution_count": 142,
   "id": "d73c9172-a6b6-4306-b366-57e91f93774b",
   "metadata": {},
   "outputs": [
    {
     "ename": "NameError",
     "evalue": "name 'sqrt' is not defined",
     "output_type": "error",
     "traceback": [
      "\u001b[1;31m---------------------------------------------------------------------------\u001b[0m",
      "\u001b[1;31mNameError\u001b[0m                                 Traceback (most recent call last)",
      "Cell \u001b[1;32mIn[142], line 1\u001b[0m\n\u001b[1;32m----> 1\u001b[0m x \u001b[38;5;241m=\u001b[39m sqrt(\u001b[38;5;241m25\u001b[39m)\n",
      "\u001b[1;31mNameError\u001b[0m: name 'sqrt' is not defined"
     ]
    }
   ],
   "source": [
    "x = sqrt(25)"
   ]
  },
  {
   "cell_type": "code",
   "execution_count": 143,
   "id": "1bf1051a-8820-4e5d-8a03-b5c936fe9e32",
   "metadata": {},
   "outputs": [],
   "source": [
    "import math"
   ]
  },
  {
   "cell_type": "code",
   "execution_count": 147,
   "id": "9479d0e8-5121-46f5-b215-cedfea713e45",
   "metadata": {},
   "outputs": [
    {
     "data": {
      "text/plain": [
       "5.0"
      ]
     },
     "execution_count": 147,
     "metadata": {},
     "output_type": "execute_result"
    }
   ],
   "source": [
    "x = math.sqrt(25)\n",
    "x"
   ]
  },
  {
   "cell_type": "code",
   "execution_count": 149,
   "id": "caa3d917-05c8-4aa9-a9f9-dde8fd019844",
   "metadata": {},
   "outputs": [
    {
     "data": {
      "text/plain": [
       "3.872983346207417"
      ]
     },
     "execution_count": 149,
     "metadata": {},
     "output_type": "execute_result"
    }
   ],
   "source": [
    "x1 = math.sqrt(15)\n",
    "x1"
   ]
  },
  {
   "cell_type": "code",
   "execution_count": 150,
   "id": "c6e88203-f278-4c00-9ab6-79865686812f",
   "metadata": {},
   "outputs": [
    {
     "name": "stdout",
     "output_type": "stream",
     "text": [
      "2\n"
     ]
    }
   ],
   "source": [
    "print(math.floor(2.9))"
   ]
  },
  {
   "cell_type": "code",
   "execution_count": 152,
   "id": "edbbedb0-cab3-4e44-89a2-d7b4b29f1234",
   "metadata": {},
   "outputs": [
    {
     "name": "stdout",
     "output_type": "stream",
     "text": [
      "3\n"
     ]
    }
   ],
   "source": [
    "print(math.ceil(2.9))"
   ]
  },
  {
   "cell_type": "code",
   "execution_count": 154,
   "id": "b4451e5a-057c-4f49-9cc3-fcfdd2565a9a",
   "metadata": {},
   "outputs": [
    {
     "name": "stdout",
     "output_type": "stream",
     "text": [
      "3\n"
     ]
    }
   ],
   "source": [
    "print(math.ceil(2.3))"
   ]
  },
  {
   "cell_type": "code",
   "execution_count": 155,
   "id": "e439979f-196d-4f6b-922b-c5d62808b1a0",
   "metadata": {},
   "outputs": [
    {
     "name": "stdout",
     "output_type": "stream",
     "text": [
      "2\n"
     ]
    }
   ],
   "source": [
    "print(math.floor(2.3))"
   ]
  },
  {
   "cell_type": "code",
   "execution_count": 156,
   "id": "1ad55456-2088-4f74-94d5-a1557d356cb6",
   "metadata": {},
   "outputs": [
    {
     "name": "stdout",
     "output_type": "stream",
     "text": [
      "8.0\n"
     ]
    }
   ],
   "source": [
    "print(math.pow(2,3))"
   ]
  },
  {
   "cell_type": "code",
   "execution_count": 157,
   "id": "e619ce57-a0b9-4f48-8147-d7fb6c74b3a6",
   "metadata": {},
   "outputs": [
    {
     "name": "stdout",
     "output_type": "stream",
     "text": [
      "16.0\n"
     ]
    }
   ],
   "source": [
    "print(math.pow(2,4))"
   ]
  },
  {
   "cell_type": "code",
   "execution_count": 159,
   "id": "440ad4a7-6df5-4cb3-ac29-e084afa66e4b",
   "metadata": {},
   "outputs": [
    {
     "name": "stdout",
     "output_type": "stream",
     "text": [
      "3.141592653589793\n"
     ]
    }
   ],
   "source": [
    "print(math.pi)"
   ]
  },
  {
   "cell_type": "code",
   "execution_count": 161,
   "id": "c457f2ef-d5b5-4487-9824-ab401fe045d2",
   "metadata": {},
   "outputs": [
    {
     "name": "stdout",
     "output_type": "stream",
     "text": [
      "2.718281828459045\n"
     ]
    }
   ],
   "source": [
    "print(math.e)"
   ]
  },
  {
   "cell_type": "code",
   "execution_count": 163,
   "id": "aa82c831-fa49-47c1-88c8-d8152fea5fcb",
   "metadata": {},
   "outputs": [
    {
     "data": {
      "text/plain": [
       "3.1622776601683795"
      ]
     },
     "execution_count": 163,
     "metadata": {},
     "output_type": "execute_result"
    }
   ],
   "source": [
    "import math as m\n",
    "m.sqrt(10)"
   ]
  },
  {
   "cell_type": "code",
   "execution_count": 169,
   "id": "42f3783c-681e-4dbb-b680-7a4c2bf28f53",
   "metadata": {},
   "outputs": [
    {
     "data": {
      "text/plain": [
       "5.0"
      ]
     },
     "execution_count": 169,
     "metadata": {},
     "output_type": "execute_result"
    }
   ],
   "source": [
    "import math as m\n",
    "m.sqrt(25)"
   ]
  },
  {
   "cell_type": "code",
   "execution_count": 170,
   "id": "72c7fef5-4fb5-4ec5-b341-fc9dbcd00d87",
   "metadata": {},
   "outputs": [
    {
     "data": {
      "text/plain": [
       "4.0"
      ]
     },
     "execution_count": 170,
     "metadata": {},
     "output_type": "execute_result"
    }
   ],
   "source": [
    "from math import sqrt, pow\n",
    "pow(2,2)"
   ]
  },
  {
   "cell_type": "code",
   "execution_count": 171,
   "id": "3c64ecba-8d1d-4a8c-b807-80e87af452df",
   "metadata": {},
   "outputs": [
    {
     "data": {
      "text/plain": [
       "4"
      ]
     },
     "execution_count": 171,
     "metadata": {},
     "output_type": "execute_result"
    }
   ],
   "source": [
    "round(pow(2,2))"
   ]
  },
  {
   "cell_type": "code",
   "execution_count": null,
   "id": "70c69c89-11f5-4a60-8b22-7e86b9a6a54a",
   "metadata": {},
   "outputs": [],
   "source": []
  },
  {
   "cell_type": "markdown",
   "id": "64333032-3ee7-4a3a-8bbe-a108894d3fcc",
   "metadata": {},
   "source": [
    "# Input Function in Python"
   ]
  },
  {
   "cell_type": "code",
   "execution_count": 172,
   "id": "36931cff-4275-4c23-8268-41db6c08ce7e",
   "metadata": {},
   "outputs": [
    {
     "name": "stdin",
     "output_type": "stream",
     "text": [
      " 13\n",
      " 12\n"
     ]
    },
    {
     "data": {
      "text/plain": [
       "'1312'"
      ]
     },
     "execution_count": 172,
     "metadata": {},
     "output_type": "execute_result"
    }
   ],
   "source": [
    "x = input()\n",
    "y = input()\n",
    "z= x+y # so its basically concatination of string\n",
    "z"
   ]
  },
  {
   "cell_type": "code",
   "execution_count": 174,
   "id": "4bbc567a-9f64-461e-afc1-d445a52fa35b",
   "metadata": {},
   "outputs": [
    {
     "name": "stdin",
     "output_type": "stream",
     "text": [
      "Enter the 1st element: 13\n",
      "Enter the 2nd element: 13\n"
     ]
    },
    {
     "name": "stdout",
     "output_type": "stream",
     "text": [
      "1313\n"
     ]
    }
   ],
   "source": [
    "x1 = input('Enter the 1st element:')\n",
    "y1 = input('Enter the 2nd element:')\n",
    "z1 = x1+y1\n",
    "print(z1)           "
   ]
  },
  {
   "cell_type": "code",
   "execution_count": 175,
   "id": "ae6cccd2-9a65-439b-9c1b-c88d48d03983",
   "metadata": {},
   "outputs": [
    {
     "name": "stdout",
     "output_type": "stream",
     "text": [
      "<class 'str'>\n",
      "<class 'str'>\n"
     ]
    }
   ],
   "source": [
    "print(type(x1))\n",
    "print(type(y1))"
   ]
  },
  {
   "cell_type": "code",
   "execution_count": 176,
   "id": "e99c219c-2acb-47d3-a468-89f0a5d1f060",
   "metadata": {},
   "outputs": [
    {
     "name": "stdin",
     "output_type": "stream",
     "text": [
      "Enter the 1st element: 10\n",
      "Enter the 2nd element: 5\n"
     ]
    },
    {
     "data": {
      "text/plain": [
       "15"
      ]
     },
     "execution_count": 176,
     "metadata": {},
     "output_type": "execute_result"
    }
   ],
   "source": [
    "x1 = input('Enter the 1st element:')\n",
    "a1 = int(x1)\n",
    "y1 = input('Enter the 2nd element:')\n",
    "b1 = int(y1)\n",
    "z1=a1+b1\n",
    "z1"
   ]
  },
  {
   "cell_type": "code",
   "execution_count": 180,
   "id": "818363ac-6367-4a07-a751-b341c3978980",
   "metadata": {},
   "outputs": [
    {
     "name": "stdin",
     "output_type": "stream",
     "text": [
      "enter the 1st element: 100\n",
      "enter the 2nd element: 150\n"
     ]
    },
    {
     "data": {
      "text/plain": [
       "250"
      ]
     },
     "execution_count": 180,
     "metadata": {},
     "output_type": "execute_result"
    }
   ],
   "source": [
    "x2=int(input('enter the 1st element:'))\n",
    "y2 = int(input('enter the 2nd element:'))\n",
    "z2 = x2 + y2\n",
    "z2"
   ]
  },
  {
   "cell_type": "code",
   "execution_count": 181,
   "id": "03f29d68-f830-4d01-81a7-ade7e020df09",
   "metadata": {},
   "outputs": [
    {
     "name": "stdin",
     "output_type": "stream",
     "text": [
      "Enter the character: morning\n"
     ]
    },
    {
     "name": "stdout",
     "output_type": "stream",
     "text": [
      "morning\n",
      "m\n",
      "o\n",
      "g\n",
      "mo\n"
     ]
    }
   ],
   "source": [
    "ch = input('Enter the character:') \n",
    "print(ch)\n",
    "print(ch[0])\n",
    "print(ch[1])\n",
    "print(ch[-1])\n",
    "print(ch[0:2])"
   ]
  },
  {
   "cell_type": "code",
   "execution_count": 182,
   "id": "690b9930-be97-4c43-ad40-9fdfd86bf68b",
   "metadata": {},
   "outputs": [
    {
     "name": "stdin",
     "output_type": "stream",
     "text": [
      "Enter the character: hello\n"
     ]
    },
    {
     "name": "stdout",
     "output_type": "stream",
     "text": [
      "h\n"
     ]
    }
   ],
   "source": [
    "ch = input('Enter the character:')[0]\n",
    "print(ch)"
   ]
  },
  {
   "cell_type": "code",
   "execution_count": 183,
   "id": "6af55e57-f924-494d-a6d5-86ade6e12f92",
   "metadata": {},
   "outputs": [
    {
     "name": "stdin",
     "output_type": "stream",
     "text": [
      "Enter the character: hello\n"
     ]
    },
    {
     "name": "stdout",
     "output_type": "stream",
     "text": [
      "e\n"
     ]
    }
   ],
   "source": [
    "ch = input('Enter the character:')[1]\n",
    "print(ch)"
   ]
  },
  {
   "cell_type": "code",
   "execution_count": 184,
   "id": "18dcfa0d-e30f-46a5-9acf-a3df0b6b703c",
   "metadata": {},
   "outputs": [
    {
     "name": "stdin",
     "output_type": "stream",
     "text": [
      "Enter the character: hello\n"
     ]
    },
    {
     "name": "stdout",
     "output_type": "stream",
     "text": [
      "hel\n"
     ]
    }
   ],
   "source": [
    "ch = input('Enter the character:')[0:3]\n",
    "print(ch)"
   ]
  },
  {
   "cell_type": "code",
   "execution_count": 185,
   "id": "488e25f4-8c7f-463c-8f53-8e1d159c8f87",
   "metadata": {},
   "outputs": [
    {
     "name": "stdin",
     "output_type": "stream",
     "text": [
      "Enterv the character: 20+10*2\n"
     ]
    },
    {
     "name": "stdout",
     "output_type": "stream",
     "text": [
      "20+10*2\n"
     ]
    }
   ],
   "source": [
    "ch = input('Enterv the character:')\n",
    "print(ch)"
   ]
  },
  {
   "cell_type": "code",
   "execution_count": 186,
   "id": "cffd42c0-5e7f-4603-b311-74865b104506",
   "metadata": {},
   "outputs": [
    {
     "name": "stdin",
     "output_type": "stream",
     "text": [
      "Enter the character: 1+1+1\n"
     ]
    },
    {
     "name": "stdout",
     "output_type": "stream",
     "text": [
      "1+1+1\n"
     ]
    }
   ],
   "source": [
    "ch = input('Enter the character:')\n",
    "print(ch)\n"
   ]
  },
  {
   "cell_type": "code",
   "execution_count": 188,
   "id": "c28c7a40-a72d-42b9-80f7-1a4857200fba",
   "metadata": {},
   "outputs": [
    {
     "name": "stdin",
     "output_type": "stream",
     "text": [
      "Enter the character: 8+9\n"
     ]
    },
    {
     "name": "stdout",
     "output_type": "stream",
     "text": [
      "8+9\n"
     ]
    }
   ],
   "source": [
    "ch = input('Enter the character:')\n",
    "print(ch)"
   ]
  },
  {
   "cell_type": "code",
   "execution_count": 2,
   "id": "bdf0235e-6018-4de0-933d-c892fbe17494",
   "metadata": {},
   "outputs": [
    {
     "name": "stdin",
     "output_type": "stream",
     "text": [
      "Enter the character: 20+11*2\n"
     ]
    },
    {
     "ename": "ValueError",
     "evalue": "invalid literal for int() with base 10: '20+11*2'",
     "output_type": "error",
     "traceback": [
      "\u001b[1;31m---------------------------------------------------------------------------\u001b[0m",
      "\u001b[1;31mValueError\u001b[0m                                Traceback (most recent call last)",
      "Cell \u001b[1;32mIn[2], line 1\u001b[0m\n\u001b[1;32m----> 1\u001b[0m a \u001b[38;5;241m=\u001b[39m \u001b[38;5;28mint\u001b[39m(\u001b[38;5;28minput\u001b[39m(\u001b[38;5;124m'\u001b[39m\u001b[38;5;124mEnter the character:\u001b[39m\u001b[38;5;124m'\u001b[39m))\n\u001b[0;32m      2\u001b[0m \u001b[38;5;28mprint\u001b[39m(a)\n",
      "\u001b[1;31mValueError\u001b[0m: invalid literal for int() with base 10: '20+11*2'"
     ]
    }
   ],
   "source": [
    "a = int(input('Enter the character:'))\n",
    "print(a)"
   ]
  },
  {
   "cell_type": "markdown",
   "id": "efce7256-1e63-4a10-8bf4-3e69955beda7",
   "metadata": {},
   "source": [
    "# EVAL function using input"
   ]
  },
  {
   "cell_type": "code",
   "execution_count": 3,
   "id": "48f00153-c4f4-4f8c-8dbb-cd5da25ffabf",
   "metadata": {},
   "outputs": [
    {
     "name": "stdin",
     "output_type": "stream",
     "text": [
      "Enter the velue: 10+2*3\n"
     ]
    },
    {
     "name": "stdout",
     "output_type": "stream",
     "text": [
      "16\n"
     ]
    }
   ],
   "source": [
    "result = eval(input('Enter the velue:'))\n",
    "print(result)"
   ]
  },
  {
   "cell_type": "code",
   "execution_count": null,
   "id": "87774534-33f2-4add-aa55-f8bbf295a38a",
   "metadata": {},
   "outputs": [],
   "source": []
  },
  {
   "cell_type": "code",
   "execution_count": null,
   "id": "6d57b1f8-d185-4548-a9ac-c24a1b5753a6",
   "metadata": {},
   "outputs": [],
   "source": []
  },
  {
   "cell_type": "code",
   "execution_count": null,
   "id": "3cbaa9dc-7bba-440c-b98b-136bfaa65769",
   "metadata": {},
   "outputs": [],
   "source": []
  }
 ],
 "metadata": {
  "kernelspec": {
   "display_name": "Python 3 (ipykernel)",
   "language": "python",
   "name": "python3"
  },
  "language_info": {
   "codemirror_mode": {
    "name": "ipython",
    "version": 3
   },
   "file_extension": ".py",
   "mimetype": "text/x-python",
   "name": "python",
   "nbconvert_exporter": "python",
   "pygments_lexer": "ipython3",
   "version": "3.13.5"
  }
 },
 "nbformat": 4,
 "nbformat_minor": 5
}
