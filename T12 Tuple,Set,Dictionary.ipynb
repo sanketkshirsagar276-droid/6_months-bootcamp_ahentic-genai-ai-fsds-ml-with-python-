{
 "cells": [
  {
   "cell_type": "markdown",
   "id": "ae6d49d8-ea41-4b35-82d1-acb749e7dd74",
   "metadata": {},
   "source": [
    "# Tuple Creation"
   ]
  },
  {
   "cell_type": "code",
   "execution_count": 20,
   "id": "a4b28794-abc1-49cd-aa1f-df3bb93a29bc",
   "metadata": {},
   "outputs": [],
   "source": [
    "tup1=()"
   ]
  },
  {
   "cell_type": "code",
   "execution_count": 21,
   "id": "a6b5a06f-bd01-4849-a7b7-37275ee74d14",
   "metadata": {},
   "outputs": [],
   "source": [
    "tup2 = (10,30,60) "
   ]
  },
  {
   "cell_type": "code",
   "execution_count": 22,
   "id": "8ae660b1-f6e4-4d22-ac0f-c043f07adbdd",
   "metadata": {},
   "outputs": [],
   "source": [
    "tup3 = (10.77,30.66,60.89)"
   ]
  },
  {
   "cell_type": "code",
   "execution_count": 23,
   "id": "ed481054-08b2-4f5a-ba5d-4bd199d1a11c",
   "metadata": {},
   "outputs": [],
   "source": [
    "tup4 = ('one','two' , \"three\") "
   ]
  },
  {
   "cell_type": "code",
   "execution_count": 24,
   "id": "0b3fd1d3-61be-421b-9593-3a8480a7a18a",
   "metadata": {},
   "outputs": [],
   "source": [
    "tup5 = ('Asif', 25 ,(50, 100),(150, 90)) "
   ]
  },
  {
   "cell_type": "code",
   "execution_count": 25,
   "id": "671fa053-7126-405d-a377-aa82be37068f",
   "metadata": {},
   "outputs": [],
   "source": [
    "tup6 = (100, 'Asif', 17.765)"
   ]
  },
  {
   "cell_type": "code",
   "execution_count": 26,
   "id": "a488ce28-1e3f-4a3e-964b-9fc032297b0e",
   "metadata": {},
   "outputs": [],
   "source": [
    "tup7 = ('Asif', 25 ,[50, 100],[150, 90] , {'John' , 'David'} , (99,22,33))"
   ]
  },
  {
   "cell_type": "code",
   "execution_count": 27,
   "id": "22f978cf-8f51-4233-bd12-a0627c017279",
   "metadata": {},
   "outputs": [
    {
     "data": {
      "text/plain": [
       "6"
      ]
     },
     "execution_count": 27,
     "metadata": {},
     "output_type": "execute_result"
    }
   ],
   "source": [
    "len(tup7)"
   ]
  },
  {
   "cell_type": "code",
   "execution_count": 28,
   "id": "d5379d10-d07f-4316-bb08-b2727f76a8f0",
   "metadata": {},
   "outputs": [
    {
     "data": {
      "text/plain": [
       "3"
      ]
     },
     "execution_count": 28,
     "metadata": {},
     "output_type": "execute_result"
    }
   ],
   "source": [
    "len(tup6)"
   ]
  },
  {
   "cell_type": "code",
   "execution_count": null,
   "id": "421b5601-cbe6-4396-99ea-be2c9a61ba39",
   "metadata": {},
   "outputs": [],
   "source": []
  },
  {
   "cell_type": "markdown",
   "id": "2147e7aa-ac52-46a6-ace3-0e08288bd6ba",
   "metadata": {},
   "source": [
    "# Tuple Indexing"
   ]
  },
  {
   "cell_type": "code",
   "execution_count": 29,
   "id": "a71cf3ad-128a-4def-8019-26f620e37e6b",
   "metadata": {},
   "outputs": [
    {
     "data": {
      "text/plain": [
       "(10, 30, 60)"
      ]
     },
     "execution_count": 29,
     "metadata": {},
     "output_type": "execute_result"
    }
   ],
   "source": [
    "tup2"
   ]
  },
  {
   "cell_type": "code",
   "execution_count": 30,
   "id": "10df31b4-e114-434a-83de-832e5b8ba19e",
   "metadata": {},
   "outputs": [
    {
     "data": {
      "text/plain": [
       "10"
      ]
     },
     "execution_count": 30,
     "metadata": {},
     "output_type": "execute_result"
    }
   ],
   "source": [
    "tup2[0]"
   ]
  },
  {
   "cell_type": "code",
   "execution_count": 31,
   "id": "6b3dc660-eb8f-43bb-9bcb-0c82a378a3dd",
   "metadata": {},
   "outputs": [
    {
     "data": {
      "text/plain": [
       "(10, 30, 60)"
      ]
     },
     "execution_count": 31,
     "metadata": {},
     "output_type": "execute_result"
    }
   ],
   "source": [
    "tup2"
   ]
  },
  {
   "cell_type": "code",
   "execution_count": 32,
   "id": "aa554ba8-64b0-45c0-bd21-dcc131a9f439",
   "metadata": {},
   "outputs": [
    {
     "data": {
      "text/plain": [
       "'one'"
      ]
     },
     "execution_count": 32,
     "metadata": {},
     "output_type": "execute_result"
    }
   ],
   "source": [
    "tup4[0]"
   ]
  },
  {
   "cell_type": "code",
   "execution_count": 33,
   "id": "9277b904-c0d5-4367-80db-92eb67d43fbb",
   "metadata": {},
   "outputs": [
    {
     "data": {
      "text/plain": [
       "'three'"
      ]
     },
     "execution_count": 33,
     "metadata": {},
     "output_type": "execute_result"
    }
   ],
   "source": [
    "tup4[-1]"
   ]
  },
  {
   "cell_type": "code",
   "execution_count": 34,
   "id": "64b34919-6547-4a5f-a3ba-02388d7d264c",
   "metadata": {},
   "outputs": [
    {
     "data": {
      "text/plain": [
       "(150, 90)"
      ]
     },
     "execution_count": 34,
     "metadata": {},
     "output_type": "execute_result"
    }
   ],
   "source": [
    "tup5[-1]"
   ]
  },
  {
   "cell_type": "code",
   "execution_count": null,
   "id": "dd6a6bd2-5de2-4bd0-872d-8240bd785151",
   "metadata": {},
   "outputs": [],
   "source": []
  },
  {
   "cell_type": "markdown",
   "id": "b885ebe8-118a-4de2-a562-7b4fd2e27ad2",
   "metadata": {},
   "source": [
    "# Tuple Slicing"
   ]
  },
  {
   "cell_type": "code",
   "execution_count": 42,
   "id": "2679ab3b-81bd-45ed-adaf-e8803bf156be",
   "metadata": {},
   "outputs": [],
   "source": [
    "mytuple=('one', 'two', 'three', 'four', 'five', 'six', 'seven', 'eight')"
   ]
  },
  {
   "cell_type": "code",
   "execution_count": 43,
   "id": "fbcf428d-9574-4868-a43b-49b3adc930dc",
   "metadata": {},
   "outputs": [
    {
     "data": {
      "text/plain": [
       "('one', 'two', 'three', 'four', 'five', 'six', 'seven', 'eight')"
      ]
     },
     "execution_count": 43,
     "metadata": {},
     "output_type": "execute_result"
    }
   ],
   "source": [
    "mytuple"
   ]
  },
  {
   "cell_type": "code",
   "execution_count": 44,
   "id": "347d08f7-c015-4995-b64e-c0d017f74811",
   "metadata": {},
   "outputs": [
    {
     "name": "stdout",
     "output_type": "stream",
     "text": [
      "one\n",
      "two\n",
      "three\n",
      "four\n",
      "five\n",
      "six\n",
      "seven\n",
      "eight\n"
     ]
    }
   ],
   "source": [
    "for i in mytuple:\n",
    "    print (i)"
   ]
  },
  {
   "cell_type": "code",
   "execution_count": 45,
   "id": "963c1e56-0d60-4afc-aabd-5c195bb19af2",
   "metadata": {},
   "outputs": [
    {
     "name": "stdout",
     "output_type": "stream",
     "text": [
      "(0, 'one')\n",
      "(1, 'two')\n",
      "(2, 'three')\n",
      "(3, 'four')\n",
      "(4, 'five')\n",
      "(5, 'six')\n",
      "(6, 'seven')\n",
      "(7, 'eight')\n"
     ]
    }
   ],
   "source": [
    "for i in enumerate(mytuple):\n",
    "    print(i)"
   ]
  },
  {
   "cell_type": "code",
   "execution_count": null,
   "id": "01634b6e-58b1-45a3-ad47-ff635281e92e",
   "metadata": {},
   "outputs": [],
   "source": []
  },
  {
   "cell_type": "markdown",
   "id": "bab9eb1f-c7d9-452d-85ee-a1df0ea33489",
   "metadata": {},
   "source": [
    "Count"
   ]
  },
  {
   "cell_type": "code",
   "execution_count": 46,
   "id": "b44143f5-6d8f-4473-a916-ded74af48bfd",
   "metadata": {},
   "outputs": [
    {
     "data": {
      "text/plain": [
       "('one', 'two', 'three', 'four', 'five', 'six', 'seven', 'eight')"
      ]
     },
     "execution_count": 46,
     "metadata": {},
     "output_type": "execute_result"
    }
   ],
   "source": [
    "mytuple"
   ]
  },
  {
   "cell_type": "code",
   "execution_count": 47,
   "id": "d67bab30-983f-4f2e-b45f-10291c9947c3",
   "metadata": {},
   "outputs": [
    {
     "data": {
      "text/plain": [
       "True"
      ]
     },
     "execution_count": 47,
     "metadata": {},
     "output_type": "execute_result"
    }
   ],
   "source": [
    "'one' in mytuple"
   ]
  },
  {
   "cell_type": "code",
   "execution_count": 48,
   "id": "1599a022-d921-4013-9263-1ceeed3690db",
   "metadata": {},
   "outputs": [
    {
     "data": {
      "text/plain": [
       "True"
      ]
     },
     "execution_count": 48,
     "metadata": {},
     "output_type": "execute_result"
    }
   ],
   "source": [
    "'two' in mytuple"
   ]
  },
  {
   "cell_type": "markdown",
   "id": "e6ed065f-8253-45af-a04e-e3f9b578eaec",
   "metadata": {},
   "source": [
    "'ten' in mytuple"
   ]
  },
  {
   "cell_type": "code",
   "execution_count": 52,
   "id": "ba23471d-9d75-4b33-9767-5cb5e51a40f9",
   "metadata": {},
   "outputs": [
    {
     "name": "stdout",
     "output_type": "stream",
     "text": [
      "Three is present in the tuple\n"
     ]
    }
   ],
   "source": [
    "if 'three' in mytuple:\n",
    "    print('Three is present in the tuple')\n",
    "else:\n",
    "    print('Three is not present in the tuple')"
   ]
  },
  {
   "cell_type": "code",
   "execution_count": 53,
   "id": "9072983e-f6a1-4d8b-be5f-067a13103247",
   "metadata": {},
   "outputs": [
    {
     "name": "stdout",
     "output_type": "stream",
     "text": [
      "Eleven is not present in the tuple\n"
     ]
    }
   ],
   "source": [
    "if 'eleven' in mytuple:\n",
    "    print('Eleven is present in the tuple')\n",
    "else:\n",
    "    print('Eleven is not present in the tuple')"
   ]
  },
  {
   "cell_type": "code",
   "execution_count": null,
   "id": "fcbd2ae9-acbd-438f-9bbb-7ecc0fa8fdde",
   "metadata": {},
   "outputs": [],
   "source": []
  },
  {
   "cell_type": "markdown",
   "id": "5fee6e48-e76c-4b0c-ac58-825c2cc6b80e",
   "metadata": {},
   "source": [
    "Index Position"
   ]
  },
  {
   "cell_type": "code",
   "execution_count": 54,
   "id": "b13fa386-b148-4f4d-ac8c-02a0e1f9b346",
   "metadata": {},
   "outputs": [
    {
     "data": {
      "text/plain": [
       "('one', 'two', 'three', 'four', 'five', 'six', 'seven', 'eight')"
      ]
     },
     "execution_count": 54,
     "metadata": {},
     "output_type": "execute_result"
    }
   ],
   "source": [
    "mytuple"
   ]
  },
  {
   "cell_type": "code",
   "execution_count": 55,
   "id": "abc45059-3ff6-4bf8-a8b4-ad0c036409c7",
   "metadata": {},
   "outputs": [
    {
     "data": {
      "text/plain": [
       "0"
      ]
     },
     "execution_count": 55,
     "metadata": {},
     "output_type": "execute_result"
    }
   ],
   "source": [
    "mytuple.index('one')"
   ]
  },
  {
   "cell_type": "code",
   "execution_count": 56,
   "id": "e431db13-b6c2-46a2-813f-a8a733a38257",
   "metadata": {},
   "outputs": [
    {
     "data": {
      "text/plain": [
       "4"
      ]
     },
     "execution_count": 56,
     "metadata": {},
     "output_type": "execute_result"
    }
   ],
   "source": [
    "mytuple.index('five')"
   ]
  },
  {
   "cell_type": "code",
   "execution_count": 61,
   "id": "fb1310d0-c222-4421-847f-183fdb9f60f1",
   "metadata": {},
   "outputs": [],
   "source": [
    "mytuple1 = ('one', 'two', 'three', 'four', 'one', 'one', 'two', 'three') "
   ]
  },
  {
   "cell_type": "code",
   "execution_count": 62,
   "id": "8fb76811-be8b-461d-94f6-31785c00ddcb",
   "metadata": {},
   "outputs": [
    {
     "data": {
      "text/plain": [
       "('one', 'two', 'three', 'four', 'one', 'one', 'two', 'three')"
      ]
     },
     "execution_count": 62,
     "metadata": {},
     "output_type": "execute_result"
    }
   ],
   "source": [
    "mytuple1"
   ]
  },
  {
   "cell_type": "code",
   "execution_count": 63,
   "id": "cd355c75-5f01-4171-9056-98f977583803",
   "metadata": {},
   "outputs": [
    {
     "data": {
      "text/plain": [
       "0"
      ]
     },
     "execution_count": 63,
     "metadata": {},
     "output_type": "execute_result"
    }
   ],
   "source": [
    "mytuple1.index('one')"
   ]
  },
  {
   "cell_type": "code",
   "execution_count": null,
   "id": "cadc401e-e485-4879-87da-83e7a46a74eb",
   "metadata": {},
   "outputs": [],
   "source": []
  },
  {
   "cell_type": "markdown",
   "id": "b477b65d-cc8f-4e76-b9ae-d96127ac6458",
   "metadata": {},
   "source": [
    "Sorting"
   ]
  },
  {
   "cell_type": "code",
   "execution_count": 65,
   "id": "44c3abc2-4372-42e0-89a3-e2ff7e01ba6b",
   "metadata": {},
   "outputs": [
    {
     "data": {
      "text/plain": [
       "(43, 67, 99, 12, 6, 90, 67)"
      ]
     },
     "execution_count": 65,
     "metadata": {},
     "output_type": "execute_result"
    }
   ],
   "source": [
    "mytuple2 = (43,67,99,12,6,90,67) \n",
    "mytuple2"
   ]
  },
  {
   "cell_type": "code",
   "execution_count": 66,
   "id": "9314612a-de6c-4357-b250-48d3e1605617",
   "metadata": {},
   "outputs": [
    {
     "data": {
      "text/plain": [
       "[99, 90, 67, 67, 43, 12, 6]"
      ]
     },
     "execution_count": 66,
     "metadata": {},
     "output_type": "execute_result"
    }
   ],
   "source": [
    "sorted(mytuple2, reverse=True)"
   ]
  },
  {
   "cell_type": "code",
   "execution_count": null,
   "id": "f944a7c6-5d13-493a-ad9f-a88deec08219",
   "metadata": {},
   "outputs": [],
   "source": []
  },
  {
   "cell_type": "markdown",
   "id": "eacbddb4-e24e-4d74-a442-1cb7933b9f8f",
   "metadata": {},
   "source": [
    "# Set"
   ]
  },
  {
   "cell_type": "markdown",
   "id": "010b419f-609d-45e9-af53-0285c4c1ecbd",
   "metadata": {},
   "source": [
    "Set Creation"
   ]
  },
  {
   "cell_type": "code",
   "execution_count": 68,
   "id": "722f455c-f401-4f28-9ca5-e4ea10d43961",
   "metadata": {},
   "outputs": [],
   "source": [
    "myset = {1,2,3,4,5} "
   ]
  },
  {
   "cell_type": "code",
   "execution_count": 69,
   "id": "fdad9ecb-7c59-4b45-a426-29766f031a28",
   "metadata": {},
   "outputs": [
    {
     "data": {
      "text/plain": [
       "{1, 2, 3, 4, 5}"
      ]
     },
     "execution_count": 69,
     "metadata": {},
     "output_type": "execute_result"
    }
   ],
   "source": [
    "myset"
   ]
  },
  {
   "cell_type": "code",
   "execution_count": 70,
   "id": "b48e910e-9094-4042-8ac1-ce69d46faeb7",
   "metadata": {},
   "outputs": [
    {
     "data": {
      "text/plain": [
       "5"
      ]
     },
     "execution_count": 70,
     "metadata": {},
     "output_type": "execute_result"
    }
   ],
   "source": [
    "len(myset)"
   ]
  },
  {
   "cell_type": "code",
   "execution_count": 71,
   "id": "35f15304-acc6-4f56-9f12-88d3c362e2e2",
   "metadata": {},
   "outputs": [
    {
     "data": {
      "text/plain": [
       "{1, 2, 3, 4, 5}"
      ]
     },
     "execution_count": 71,
     "metadata": {},
     "output_type": "execute_result"
    }
   ],
   "source": [
    "my_set = {1,1,2,2,3,4,5,5} \n",
    "my_set"
   ]
  },
  {
   "cell_type": "code",
   "execution_count": 75,
   "id": "c1376a5d-19a9-45e3-9188-14410ebce969",
   "metadata": {},
   "outputs": [
    {
     "data": {
      "text/plain": [
       "{1.79, 2.08, 3.99, 4.56, 5.45}"
      ]
     },
     "execution_count": 75,
     "metadata": {},
     "output_type": "execute_result"
    }
   ],
   "source": [
    "myset1 = {1.79,2.08,3.99,4.56,5.45}\n",
    "myset1"
   ]
  },
  {
   "cell_type": "code",
   "execution_count": 76,
   "id": "16e2d58d-386e-48c5-a8d9-8d0762b4f768",
   "metadata": {},
   "outputs": [
    {
     "data": {
      "text/plain": [
       "{'Asif', 'John', 'Tyrion'}"
      ]
     },
     "execution_count": 76,
     "metadata": {},
     "output_type": "execute_result"
    }
   ],
   "source": [
    "myset2 = {'Asif' , 'John' , 'Tyrion'}\n",
    "myset2"
   ]
  },
  {
   "cell_type": "code",
   "execution_count": 77,
   "id": "98d23b94-0b52-419a-8168-50e4a0faaeff",
   "metadata": {},
   "outputs": [
    {
     "data": {
      "text/plain": [
       "{(11, 22, 32), 10, 20, 'Hola'}"
      ]
     },
     "execution_count": 77,
     "metadata": {},
     "output_type": "execute_result"
    }
   ],
   "source": [
    "myset3 = {10,20, \"Hola\", (11, 22, 32)}\n",
    "myset3"
   ]
  },
  {
   "cell_type": "code",
   "execution_count": null,
   "id": "3f4b9b10-49a1-4c16-9e40-78190c7e5f42",
   "metadata": {},
   "outputs": [],
   "source": [
    "myset3 = {10,20, \"Hola\", [11, 22, 32]}\n",
    "myset3"
   ]
  },
  {
   "cell_type": "code",
   "execution_count": 80,
   "id": "874cd9d1-92b2-4c87-b0c1-248ff96786de",
   "metadata": {},
   "outputs": [
    {
     "name": "stdout",
     "output_type": "stream",
     "text": [
      "<class 'set'>\n"
     ]
    }
   ],
   "source": [
    "myset4 = set() \n",
    "print(type(myset4)) "
   ]
  },
  {
   "cell_type": "code",
   "execution_count": 83,
   "id": "201d44d2-5d3d-4072-a5ba-a00af0cdb1fb",
   "metadata": {},
   "outputs": [
    {
     "data": {
      "text/plain": [
       "{'four', 'one', 'three', 'two'}"
      ]
     },
     "execution_count": 83,
     "metadata": {},
     "output_type": "execute_result"
    }
   ],
   "source": [
    "my_set1 = set(('one' , 'two' , 'three' , 'four'))\n",
    "my_set1"
   ]
  },
  {
   "cell_type": "code",
   "execution_count": null,
   "id": "4c26bef3-ee09-4961-acc5-5ee5ad45571c",
   "metadata": {},
   "outputs": [],
   "source": []
  },
  {
   "cell_type": "markdown",
   "id": "8af09f11-719c-4558-8245-421397868d41",
   "metadata": {},
   "source": [
    "Loop Through a Set"
   ]
  },
  {
   "cell_type": "code",
   "execution_count": 87,
   "id": "f557f066-7636-41a9-bd53-36c5fc98b91a",
   "metadata": {},
   "outputs": [
    {
     "data": {
      "text/plain": [
       "{'eight', 'five', 'four', 'one', 'seven', 'six', 'three', 'two'}"
      ]
     },
     "execution_count": 87,
     "metadata": {},
     "output_type": "execute_result"
    }
   ],
   "source": [
    "myset = {'one', 'two', 'three', 'four', 'five', 'six', 'seven', 'eight'}\n",
    "myset"
   ]
  },
  {
   "cell_type": "code",
   "execution_count": 88,
   "id": "ff388bed-e9f1-4861-8ab9-af8c813ad16b",
   "metadata": {},
   "outputs": [
    {
     "name": "stdout",
     "output_type": "stream",
     "text": [
      "seven\n",
      "six\n",
      "three\n",
      "four\n",
      "one\n",
      "five\n",
      "two\n",
      "eight\n"
     ]
    }
   ],
   "source": [
    "for i in myset:\n",
    "    print(i)"
   ]
  },
  {
   "cell_type": "code",
   "execution_count": 89,
   "id": "cb5617a8-1709-4731-b1ae-a809d8f399a9",
   "metadata": {},
   "outputs": [
    {
     "name": "stdout",
     "output_type": "stream",
     "text": [
      "(0, 'seven')\n",
      "(1, 'six')\n",
      "(2, 'three')\n",
      "(3, 'four')\n",
      "(4, 'one')\n",
      "(5, 'five')\n",
      "(6, 'two')\n",
      "(7, 'eight')\n"
     ]
    }
   ],
   "source": [
    "for i in enumerate(myset):\n",
    "    print(i)"
   ]
  },
  {
   "cell_type": "code",
   "execution_count": null,
   "id": "28a913d3-a549-49e9-9170-4bc8cde4bc02",
   "metadata": {},
   "outputs": [],
   "source": []
  },
  {
   "cell_type": "markdown",
   "id": "494156a6-02c4-485b-9a9d-2b1239fa8649",
   "metadata": {},
   "source": [
    "Set Membership"
   ]
  },
  {
   "cell_type": "code",
   "execution_count": 90,
   "id": "89bb6846-81ab-4440-95d6-3fd33e36a1bd",
   "metadata": {},
   "outputs": [
    {
     "data": {
      "text/plain": [
       "{'eight', 'five', 'four', 'one', 'seven', 'six', 'three', 'two'}"
      ]
     },
     "execution_count": 90,
     "metadata": {},
     "output_type": "execute_result"
    }
   ],
   "source": [
    "myset"
   ]
  },
  {
   "cell_type": "code",
   "execution_count": 91,
   "id": "9624b724-a318-4a22-8147-9214b277960c",
   "metadata": {},
   "outputs": [
    {
     "data": {
      "text/plain": [
       "True"
      ]
     },
     "execution_count": 91,
     "metadata": {},
     "output_type": "execute_result"
    }
   ],
   "source": [
    "'one' in myset"
   ]
  },
  {
   "cell_type": "code",
   "execution_count": 92,
   "id": "c3e92447-83bc-4a0e-9c60-52305175bc6b",
   "metadata": {},
   "outputs": [
    {
     "data": {
      "text/plain": [
       "False"
      ]
     },
     "execution_count": 92,
     "metadata": {},
     "output_type": "execute_result"
    }
   ],
   "source": [
    "'Eleven' in myset"
   ]
  },
  {
   "cell_type": "code",
   "execution_count": 95,
   "id": "86626ad5-e0cd-4bd6-9982-df0f688e3bb1",
   "metadata": {},
   "outputs": [
    {
     "name": "stdout",
     "output_type": "stream",
     "text": [
      "Three is present in the myset\n"
     ]
    }
   ],
   "source": [
    "if 'three' in myset:\n",
    "    print('Three is present in the myset')\n",
    "else:\n",
    "    print('Three is not present in the myset')\n"
   ]
  },
  {
   "cell_type": "code",
   "execution_count": 98,
   "id": "1901a944-e895-4d55-939f-b8505066bbc0",
   "metadata": {},
   "outputs": [
    {
     "name": "stdout",
     "output_type": "stream",
     "text": [
      "eleven is not present in th myset\n"
     ]
    }
   ],
   "source": [
    "if 'eleven' in myset:\n",
    "    print('eleven is present in the myset')\n",
    "else:\n",
    "    print('eleven is not present in th myset')"
   ]
  },
  {
   "cell_type": "code",
   "execution_count": null,
   "id": "a0169cd6-80af-4cae-b166-e8b3aeab84de",
   "metadata": {},
   "outputs": [],
   "source": []
  },
  {
   "cell_type": "markdown",
   "id": "b776e13c-09cb-4800-9c1a-7cac1e2626bd",
   "metadata": {},
   "source": [
    "Add and Remove Items"
   ]
  },
  {
   "cell_type": "code",
   "execution_count": 100,
   "id": "f8e485ae-3f62-4262-b4d0-d041e5be9602",
   "metadata": {},
   "outputs": [
    {
     "data": {
      "text/plain": [
       "{'eight', 'five', 'four', 'one', 'seven', 'six', 'three', 'two'}"
      ]
     },
     "execution_count": 100,
     "metadata": {},
     "output_type": "execute_result"
    }
   ],
   "source": [
    "myset"
   ]
  },
  {
   "cell_type": "code",
   "execution_count": 114,
   "id": "ea86b573-6900-4907-9203-ab37aee0694d",
   "metadata": {},
   "outputs": [],
   "source": [
    "myset = ({'eight', 'five', 'four', 'one', 'seven', 'six', 'three', 'two'})"
   ]
  },
  {
   "cell_type": "code",
   "execution_count": 115,
   "id": "a882f1c4-7a06-49f5-b84e-3a56857c4422",
   "metadata": {},
   "outputs": [
    {
     "data": {
      "text/plain": [
       "{'eight', 'five', 'four', 'one', 'seven', 'six', 'three', 'two'}"
      ]
     },
     "execution_count": 115,
     "metadata": {},
     "output_type": "execute_result"
    }
   ],
   "source": [
    "myset"
   ]
  },
  {
   "cell_type": "code",
   "execution_count": 116,
   "id": "fe1ca853-8bf9-4983-9225-74d7dc694fcc",
   "metadata": {},
   "outputs": [
    {
     "data": {
      "text/plain": [
       "{'NINE', 'eight', 'five', 'four', 'one', 'seven', 'six', 'three', 'two'}"
      ]
     },
     "execution_count": 116,
     "metadata": {},
     "output_type": "execute_result"
    }
   ],
   "source": [
    "myset.add('NINE')\n",
    "myset"
   ]
  },
  {
   "cell_type": "code",
   "execution_count": 117,
   "id": "86f10904-6c1f-49dc-a03f-2c96f54a9990",
   "metadata": {},
   "outputs": [],
   "source": [
    "myset.update(['TEN','ELEVEN','TWELVE'])"
   ]
  },
  {
   "cell_type": "code",
   "execution_count": 118,
   "id": "4a75df12-7cb3-4c78-8645-02998370f819",
   "metadata": {},
   "outputs": [
    {
     "data": {
      "text/plain": [
       "{'ELEVEN',\n",
       " 'NINE',\n",
       " 'TEN',\n",
       " 'TWELVE',\n",
       " 'eight',\n",
       " 'five',\n",
       " 'four',\n",
       " 'one',\n",
       " 'seven',\n",
       " 'six',\n",
       " 'three',\n",
       " 'two'}"
      ]
     },
     "execution_count": 118,
     "metadata": {},
     "output_type": "execute_result"
    }
   ],
   "source": [
    "myset"
   ]
  },
  {
   "cell_type": "code",
   "execution_count": 120,
   "id": "2afc5bea-05eb-4823-a9e8-7806af9b60be",
   "metadata": {},
   "outputs": [
    {
     "data": {
      "text/plain": [
       "{'ELEVEN',\n",
       " 'NINE',\n",
       " 'TWELVE',\n",
       " 'eight',\n",
       " 'five',\n",
       " 'four',\n",
       " 'one',\n",
       " 'seven',\n",
       " 'six',\n",
       " 'three',\n",
       " 'two'}"
      ]
     },
     "execution_count": 120,
     "metadata": {},
     "output_type": "execute_result"
    }
   ],
   "source": [
    "myset.discard('TEN')\n",
    "myset"
   ]
  },
  {
   "cell_type": "code",
   "execution_count": 122,
   "id": "01355e80-6750-46e9-928d-b33d5e944a06",
   "metadata": {},
   "outputs": [
    {
     "data": {
      "text/plain": [
       "set()"
      ]
     },
     "execution_count": 122,
     "metadata": {},
     "output_type": "execute_result"
    }
   ],
   "source": [
    "myset.clear()\n",
    "myset"
   ]
  },
  {
   "cell_type": "code",
   "execution_count": 124,
   "id": "a05ec9f0-7f81-46e0-8cdb-1faa9ef9d2f1",
   "metadata": {},
   "outputs": [
    {
     "ename": "NameError",
     "evalue": "name 'myset' is not defined",
     "output_type": "error",
     "traceback": [
      "\u001b[1;31m---------------------------------------------------------------------------\u001b[0m",
      "\u001b[1;31mNameError\u001b[0m                                 Traceback (most recent call last)",
      "Cell \u001b[1;32mIn[124], line 1\u001b[0m\n\u001b[1;32m----> 1\u001b[0m \u001b[38;5;28;01mdel\u001b[39;00m myset\n\u001b[0;32m      2\u001b[0m myset\n",
      "\u001b[1;31mNameError\u001b[0m: name 'myset' is not defined"
     ]
    }
   ],
   "source": [
    "del myset\n",
    "myset"
   ]
  },
  {
   "cell_type": "code",
   "execution_count": null,
   "id": "0f817b6e-7771-42e2-969f-03fb2cab14ba",
   "metadata": {},
   "outputs": [],
   "source": []
  },
  {
   "cell_type": "markdown",
   "id": "8448a9ac-e224-4710-983a-3a7593ca5265",
   "metadata": {},
   "source": [
    "Copy Set"
   ]
  },
  {
   "cell_type": "code",
   "execution_count": 125,
   "id": "6e598ba1-30ca-4f8c-894c-8e980c12bcad",
   "metadata": {},
   "outputs": [
    {
     "data": {
      "text/plain": [
       "{'eight', 'five', 'four', 'one', 'seven', 'six', 'three', 'two'}"
      ]
     },
     "execution_count": 125,
     "metadata": {},
     "output_type": "execute_result"
    }
   ],
   "source": [
    "myset = {'one', 'two', 'three', 'four', 'five', 'six', 'seven', 'eight'} \n",
    "myset"
   ]
  },
  {
   "cell_type": "code",
   "execution_count": 126,
   "id": "844ffc23-a748-425a-8fa0-3a02ac966198",
   "metadata": {},
   "outputs": [
    {
     "data": {
      "text/plain": [
       "{'eight', 'five', 'four', 'one', 'seven', 'six', 'three', 'two'}"
      ]
     },
     "execution_count": 126,
     "metadata": {},
     "output_type": "execute_result"
    }
   ],
   "source": [
    "myset1=myset\n",
    "myset1"
   ]
  },
  {
   "cell_type": "code",
   "execution_count": 127,
   "id": "b6859b7f-209b-4d68-a3f8-9deee5936fa5",
   "metadata": {},
   "outputs": [
    {
     "data": {
      "text/plain": [
       "(1928236436608, 1928236436608)"
      ]
     },
     "execution_count": 127,
     "metadata": {},
     "output_type": "execute_result"
    }
   ],
   "source": [
    "id(myset),id(myset1)\n"
   ]
  },
  {
   "cell_type": "code",
   "execution_count": 129,
   "id": "d4af4c31-6bdd-4df7-9c47-08c3f8ccc433",
   "metadata": {},
   "outputs": [
    {
     "data": {
      "text/plain": [
       "{'eight', 'five', 'four', 'one', 'seven', 'six', 'three', 'two'}"
      ]
     },
     "execution_count": 129,
     "metadata": {},
     "output_type": "execute_result"
    }
   ],
   "source": [
    "my_set=myset.copy()\n",
    "my_set"
   ]
  },
  {
   "cell_type": "code",
   "execution_count": 130,
   "id": "f968b371-24d1-48b8-8d98-d3f11e299483",
   "metadata": {},
   "outputs": [
    {
     "data": {
      "text/plain": [
       "1928231107072"
      ]
     },
     "execution_count": 130,
     "metadata": {},
     "output_type": "execute_result"
    }
   ],
   "source": [
    "id(my_set)"
   ]
  },
  {
   "cell_type": "code",
   "execution_count": 131,
   "id": "3bd4ce20-96a8-4b7c-824f-ae0048379a10",
   "metadata": {},
   "outputs": [
    {
     "data": {
      "text/plain": [
       "{'eight', 'five', 'four', 'nine', 'one', 'seven', 'six', 'three', 'two'}"
      ]
     },
     "execution_count": 131,
     "metadata": {},
     "output_type": "execute_result"
    }
   ],
   "source": [
    "myset.add('nine')\n",
    "myset"
   ]
  },
  {
   "cell_type": "code",
   "execution_count": 132,
   "id": "beeaf36c-af79-4019-a178-e591b782df93",
   "metadata": {},
   "outputs": [
    {
     "data": {
      "text/plain": [
       "{'eight', 'five', 'four', 'nine', 'one', 'seven', 'six', 'three', 'two'}"
      ]
     },
     "execution_count": 132,
     "metadata": {},
     "output_type": "execute_result"
    }
   ],
   "source": [
    "myset1"
   ]
  },
  {
   "cell_type": "code",
   "execution_count": 133,
   "id": "6c56c4d2-7c5c-4f8d-aa73-82140eb56e34",
   "metadata": {},
   "outputs": [
    {
     "data": {
      "text/plain": [
       "{'eight', 'five', 'four', 'one', 'seven', 'six', 'three', 'two'}"
      ]
     },
     "execution_count": 133,
     "metadata": {},
     "output_type": "execute_result"
    }
   ],
   "source": [
    "my_set"
   ]
  },
  {
   "cell_type": "code",
   "execution_count": null,
   "id": "75cf1372-955f-4453-aeb3-c12c7d574d6c",
   "metadata": {},
   "outputs": [],
   "source": []
  },
  {
   "cell_type": "markdown",
   "id": "6a6ff8a4-8d75-4c6d-b4dc-62486d336dff",
   "metadata": {},
   "source": [
    "# Set Operation"
   ]
  },
  {
   "cell_type": "markdown",
   "id": "56b48ce8-1fa4-4dfe-97bc-6a197c677b85",
   "metadata": {},
   "source": [
    "Union"
   ]
  },
  {
   "cell_type": "code",
   "execution_count": 138,
   "id": "2f14b7fd-17c0-4b39-b110-ef95a9e7a5bc",
   "metadata": {},
   "outputs": [],
   "source": [
    "a = {1,2,3,4,5} \n",
    "b = {4,5,6,7,8} \n",
    "c = {8,9,10} "
   ]
  },
  {
   "cell_type": "markdown",
   "id": "a8f62852-2d9a-4a54-b062-2c84ea1ccc32",
   "metadata": {},
   "source": [
    "a|b"
   ]
  },
  {
   "cell_type": "code",
   "execution_count": 140,
   "id": "aa281016-3b5d-41d5-8ea3-2ae24176bf7d",
   "metadata": {},
   "outputs": [
    {
     "data": {
      "text/plain": [
       "{1, 2, 3, 4, 5, 6, 7, 8}"
      ]
     },
     "execution_count": 140,
     "metadata": {},
     "output_type": "execute_result"
    }
   ],
   "source": [
    "b|a"
   ]
  },
  {
   "cell_type": "code",
   "execution_count": 141,
   "id": "2e2e2511-d7bd-4476-9e7d-cf341a31e317",
   "metadata": {},
   "outputs": [
    {
     "data": {
      "text/plain": [
       "{1, 2, 3, 4, 5, 6, 7, 8}"
      ]
     },
     "execution_count": 141,
     "metadata": {},
     "output_type": "execute_result"
    }
   ],
   "source": [
    "a.union(b)"
   ]
  },
  {
   "cell_type": "code",
   "execution_count": 142,
   "id": "4756309a-3e4e-4c4e-ad38-48faeb778aa3",
   "metadata": {
    "scrolled": true
   },
   "outputs": [
    {
     "data": {
      "text/plain": [
       "{1, 2, 3, 4, 5, 6, 7, 8, 9, 10}"
      ]
     },
     "execution_count": 142,
     "metadata": {},
     "output_type": "execute_result"
    }
   ],
   "source": [
    "a.union(b,c)"
   ]
  },
  {
   "cell_type": "code",
   "execution_count": 149,
   "id": "81f93669-f2ae-4267-abcd-983e82fd87f3",
   "metadata": {},
   "outputs": [
    {
     "data": {
      "text/plain": [
       "{1, 2, 3, 4, 5, 6, 7, 8, 9, 10}"
      ]
     },
     "execution_count": 149,
     "metadata": {},
     "output_type": "execute_result"
    }
   ],
   "source": [
    "a.update(b,c)\n",
    "a"
   ]
  },
  {
   "cell_type": "code",
   "execution_count": null,
   "id": "ddd25726-f345-471a-836e-cabcf1d77c53",
   "metadata": {},
   "outputs": [],
   "source": []
  },
  {
   "cell_type": "markdown",
   "id": "92564ae2-fde4-4fde-985c-a811f849e312",
   "metadata": {},
   "source": [
    "Intersection"
   ]
  },
  {
   "cell_type": "code",
   "execution_count": 152,
   "id": "e6a99e4b-32d2-489b-8d15-67fd71274f6b",
   "metadata": {},
   "outputs": [],
   "source": [
    "a= {1,2,3,4,5} \n",
    "b = {4,5,6,7,8} "
   ]
  },
  {
   "cell_type": "code",
   "execution_count": 153,
   "id": "10982298-1967-48a5-b6da-986b6efb16b8",
   "metadata": {},
   "outputs": [
    {
     "data": {
      "text/plain": [
       "{4, 5}"
      ]
     },
     "execution_count": 153,
     "metadata": {},
     "output_type": "execute_result"
    }
   ],
   "source": [
    "a&b"
   ]
  },
  {
   "cell_type": "code",
   "execution_count": 154,
   "id": "7bfe808c-4631-4a16-9ab1-b67e3678333e",
   "metadata": {},
   "outputs": [
    {
     "data": {
      "text/plain": [
       "{4, 5}"
      ]
     },
     "execution_count": 154,
     "metadata": {},
     "output_type": "execute_result"
    }
   ],
   "source": [
    "a.intersection(b)\n"
   ]
  },
  {
   "cell_type": "code",
   "execution_count": 161,
   "id": "6b982441-bdaf-441c-a290-c1c35e9e3dce",
   "metadata": {},
   "outputs": [
    {
     "data": {
      "text/plain": [
       "{4, 5}"
      ]
     },
     "execution_count": 161,
     "metadata": {},
     "output_type": "execute_result"
    }
   ],
   "source": [
    "a.intersection_update(b)\n",
    "a\n"
   ]
  },
  {
   "cell_type": "code",
   "execution_count": 175,
   "id": "0b3a631e-f360-4a50-adb8-da712806a532",
   "metadata": {},
   "outputs": [
    {
     "data": {
      "text/plain": [
       "set()"
      ]
     },
     "execution_count": 175,
     "metadata": {},
     "output_type": "execute_result"
    }
   ],
   "source": [
    "b.intersection(a)"
   ]
  },
  {
   "cell_type": "code",
   "execution_count": 176,
   "id": "476ea970-07c7-4b51-8b05-f5cd9077e3d6",
   "metadata": {},
   "outputs": [
    {
     "data": {
      "text/plain": [
       "set()"
      ]
     },
     "execution_count": 176,
     "metadata": {},
     "output_type": "execute_result"
    }
   ],
   "source": [
    "b.intersection_update(a)\n",
    "b"
   ]
  },
  {
   "cell_type": "code",
   "execution_count": null,
   "id": "9111e623-c227-4fa2-a55b-c23b7c59ee27",
   "metadata": {},
   "outputs": [],
   "source": []
  },
  {
   "cell_type": "markdown",
   "id": "d700ec82-e34d-4269-a5b8-81b74ecd5c2a",
   "metadata": {},
   "source": [
    "Difference"
   ]
  },
  {
   "cell_type": "code",
   "execution_count": 162,
   "id": "9ccfc76c-deee-4c31-9d3c-d2e917fe5d07",
   "metadata": {},
   "outputs": [],
   "source": [
    "a = {1,2,3,4,5} \n",
    "b = {4,5,6,7,8} "
   ]
  },
  {
   "cell_type": "code",
   "execution_count": 163,
   "id": "4643e067-23ac-4c93-bb09-05f5c53f46cc",
   "metadata": {},
   "outputs": [
    {
     "data": {
      "text/plain": [
       "{1, 2, 3}"
      ]
     },
     "execution_count": 163,
     "metadata": {},
     "output_type": "execute_result"
    }
   ],
   "source": [
    "a-b"
   ]
  },
  {
   "cell_type": "code",
   "execution_count": 164,
   "id": "535aa791-2dbf-480a-b982-ea79b46caf5b",
   "metadata": {},
   "outputs": [
    {
     "data": {
      "text/plain": [
       "{6, 7, 8}"
      ]
     },
     "execution_count": 164,
     "metadata": {},
     "output_type": "execute_result"
    }
   ],
   "source": [
    "b-a"
   ]
  },
  {
   "cell_type": "code",
   "execution_count": 165,
   "id": "9004346a-7d58-4d44-b369-b9b39a4f1e04",
   "metadata": {},
   "outputs": [
    {
     "data": {
      "text/plain": [
       "{1, 2, 3}"
      ]
     },
     "execution_count": 165,
     "metadata": {},
     "output_type": "execute_result"
    }
   ],
   "source": [
    "a.difference(b)"
   ]
  },
  {
   "cell_type": "code",
   "execution_count": 166,
   "id": "1f489023-f473-4d86-ab94-ab9501a595d0",
   "metadata": {},
   "outputs": [
    {
     "data": {
      "text/plain": [
       "{6, 7, 8}"
      ]
     },
     "execution_count": 166,
     "metadata": {},
     "output_type": "execute_result"
    }
   ],
   "source": [
    "b.difference(a)"
   ]
  },
  {
   "cell_type": "code",
   "execution_count": 173,
   "id": "42314c80-076f-4efa-bddd-6c2f84a36dc7",
   "metadata": {},
   "outputs": [],
   "source": [
    "b.difference_update(a)"
   ]
  },
  {
   "cell_type": "code",
   "execution_count": 174,
   "id": "b74f981c-fb20-4ea6-920e-66ade923ab96",
   "metadata": {},
   "outputs": [
    {
     "data": {
      "text/plain": [
       "{6, 7, 8}"
      ]
     },
     "execution_count": 174,
     "metadata": {},
     "output_type": "execute_result"
    }
   ],
   "source": [
    "b"
   ]
  },
  {
   "cell_type": "code",
   "execution_count": null,
   "id": "96520ec1-7a8a-4510-8ddf-a426cfccf62b",
   "metadata": {},
   "outputs": [],
   "source": []
  },
  {
   "cell_type": "markdown",
   "id": "0ca4dd95-1bed-4b26-906f-d289406f0242",
   "metadata": {},
   "source": [
    "Symmetric Difference"
   ]
  },
  {
   "cell_type": "code",
   "execution_count": 9,
   "id": "db1e88d3-e195-411f-af14-bc38a2c99965",
   "metadata": {},
   "outputs": [],
   "source": [
    "a = {1,2,3,4,5} \n",
    "b = {4,5,6,7,8} "
   ]
  },
  {
   "cell_type": "code",
   "execution_count": 10,
   "id": "9ffe2d18-18ed-47d9-9098-5300bc428a96",
   "metadata": {},
   "outputs": [
    {
     "data": {
      "text/plain": [
       "{1, 2, 3, 6, 7, 8}"
      ]
     },
     "execution_count": 10,
     "metadata": {},
     "output_type": "execute_result"
    }
   ],
   "source": [
    "a^b"
   ]
  },
  {
   "cell_type": "code",
   "execution_count": 11,
   "id": "1cafaeb9-23e3-491f-8b0e-1181f943f901",
   "metadata": {},
   "outputs": [
    {
     "data": {
      "text/plain": [
       "{1, 2, 3, 6, 7, 8}"
      ]
     },
     "execution_count": 11,
     "metadata": {},
     "output_type": "execute_result"
    }
   ],
   "source": [
    "a.symmetric_difference(b)"
   ]
  },
  {
   "cell_type": "code",
   "execution_count": 12,
   "id": "9a4465d3-aec1-43bc-a845-c605c1a06a3e",
   "metadata": {},
   "outputs": [
    {
     "data": {
      "text/plain": [
       "{1, 2, 3, 6, 7, 8}"
      ]
     },
     "execution_count": 12,
     "metadata": {},
     "output_type": "execute_result"
    }
   ],
   "source": [
    "a.symmetric_difference_update(b)\n",
    "a"
   ]
  },
  {
   "cell_type": "code",
   "execution_count": null,
   "id": "57f77c29-ac0c-40c7-afaf-64d96c8c72e3",
   "metadata": {},
   "outputs": [],
   "source": []
  },
  {
   "cell_type": "markdown",
   "id": "59ccc0c2-185a-4de9-abed-e1a9453486dd",
   "metadata": {},
   "source": [
    "Subset, Superset, Disjoint"
   ]
  },
  {
   "cell_type": "markdown",
   "id": "a1978d91-0972-46fa-bcaf-7f6ee0455dd8",
   "metadata": {},
   "source": [
    "Superset, Subset, Disjoint"
   ]
  },
  {
   "cell_type": "code",
   "execution_count": 15,
   "id": "953b750e-98dc-4f64-8632-ff2ff459ccdf",
   "metadata": {},
   "outputs": [],
   "source": [
    "a = {1,2,3,4,5,6,7,8,9} \n",
    "b = {3,4,5,6,7,8} \n",
    "c = {10,20,30,40}"
   ]
  },
  {
   "cell_type": "code",
   "execution_count": 23,
   "id": "e9e759f4-1b95-4ce8-a62d-2767366527fa",
   "metadata": {},
   "outputs": [
    {
     "data": {
      "text/plain": [
       "True"
      ]
     },
     "execution_count": 23,
     "metadata": {},
     "output_type": "execute_result"
    }
   ],
   "source": [
    "a.issuperset(b)"
   ]
  },
  {
   "cell_type": "code",
   "execution_count": 25,
   "id": "2b8f23f6-6cde-49fc-9bdb-505c04b6ed6b",
   "metadata": {},
   "outputs": [
    {
     "data": {
      "text/plain": [
       "True"
      ]
     },
     "execution_count": 25,
     "metadata": {},
     "output_type": "execute_result"
    }
   ],
   "source": [
    "b.issubset(a)"
   ]
  },
  {
   "cell_type": "code",
   "execution_count": 26,
   "id": "ba8cd6df-5c81-44ff-a2ad-e522ff172c96",
   "metadata": {},
   "outputs": [
    {
     "data": {
      "text/plain": [
       "True"
      ]
     },
     "execution_count": 26,
     "metadata": {},
     "output_type": "execute_result"
    }
   ],
   "source": [
    "c.isdisjoint(b)"
   ]
  },
  {
   "cell_type": "code",
   "execution_count": 27,
   "id": "8a59c3f6-94ac-4f6f-bf04-0b6375f078b5",
   "metadata": {},
   "outputs": [
    {
     "data": {
      "text/plain": [
       "True"
      ]
     },
     "execution_count": 27,
     "metadata": {},
     "output_type": "execute_result"
    }
   ],
   "source": [
    "c.isdisjoint(a)"
   ]
  },
  {
   "cell_type": "code",
   "execution_count": 28,
   "id": "44a96608-405f-45be-951b-60df0d51e16d",
   "metadata": {},
   "outputs": [
    {
     "data": {
      "text/plain": [
       "False"
      ]
     },
     "execution_count": 28,
     "metadata": {},
     "output_type": "execute_result"
    }
   ],
   "source": [
    "b.isdisjoint(a)"
   ]
  },
  {
   "cell_type": "code",
   "execution_count": 29,
   "id": "132db010-434a-4ca8-a5a5-96e7a7cd51cd",
   "metadata": {},
   "outputs": [],
   "source": [
    "a2 = {1,2,3,4,5,6,7,8,9}\n",
    "b2 = {35,45,55,65,75,58}\n",
    "c2 = {10,20,30,40}"
   ]
  },
  {
   "cell_type": "code",
   "execution_count": 30,
   "id": "eacd1181-6029-4c1c-85ab-2d0d05cab8bb",
   "metadata": {},
   "outputs": [
    {
     "data": {
      "text/plain": [
       "True"
      ]
     },
     "execution_count": 30,
     "metadata": {},
     "output_type": "execute_result"
    }
   ],
   "source": [
    "a2.isdisjoint(b2)"
   ]
  },
  {
   "cell_type": "code",
   "execution_count": 31,
   "id": "c664c188-ef0b-463f-95ab-d86cf9d97607",
   "metadata": {},
   "outputs": [
    {
     "data": {
      "text/plain": [
       "False"
      ]
     },
     "execution_count": 31,
     "metadata": {},
     "output_type": "execute_result"
    }
   ],
   "source": [
    "a2.issubset(b2)"
   ]
  },
  {
   "cell_type": "code",
   "execution_count": 32,
   "id": "beea34be-db9d-4779-84e6-048bcc2e3e95",
   "metadata": {},
   "outputs": [
    {
     "data": {
      "text/plain": [
       "False"
      ]
     },
     "execution_count": 32,
     "metadata": {},
     "output_type": "execute_result"
    }
   ],
   "source": [
    "b2.issuperset(a2)"
   ]
  },
  {
   "cell_type": "code",
   "execution_count": null,
   "id": "99a9be5b-7bc2-4f2f-af4c-c5c0d0d36f85",
   "metadata": {},
   "outputs": [],
   "source": []
  },
  {
   "cell_type": "markdown",
   "id": "7e5f84da-7629-4e90-b465-496397cceb00",
   "metadata": {},
   "source": [
    "# Dictionary"
   ]
  },
  {
   "cell_type": "code",
   "execution_count": 35,
   "id": "b3b8b8c7-f24d-4143-95cb-13fd190fed9c",
   "metadata": {},
   "outputs": [
    {
     "data": {
      "text/plain": [
       "{}"
      ]
     },
     "execution_count": 35,
     "metadata": {},
     "output_type": "execute_result"
    }
   ],
   "source": [
    "d={}\n",
    "d"
   ]
  },
  {
   "cell_type": "code",
   "execution_count": 36,
   "id": "6b1a6738-753c-446d-b300-191e8267c1c1",
   "metadata": {},
   "outputs": [
    {
     "data": {
      "text/plain": [
       "dict"
      ]
     },
     "execution_count": 36,
     "metadata": {},
     "output_type": "execute_result"
    }
   ],
   "source": [
    "type(d)"
   ]
  },
  {
   "cell_type": "code",
   "execution_count": 37,
   "id": "70cd29ec-8986-464b-810d-265e000355e4",
   "metadata": {},
   "outputs": [
    {
     "data": {
      "text/plain": [
       "{1: 'one', 2: 'two', 3: 'three'}"
      ]
     },
     "execution_count": 37,
     "metadata": {},
     "output_type": "execute_result"
    }
   ],
   "source": [
    "d1 = {1:'one' , 2:'two' , 3:'three'} \n",
    "d1"
   ]
  },
  {
   "cell_type": "code",
   "execution_count": 38,
   "id": "15419323-2d62-4fdf-9cd2-1549c617d28a",
   "metadata": {},
   "outputs": [
    {
     "data": {
      "text/plain": [
       "dict_keys([1, 2, 3])"
      ]
     },
     "execution_count": 38,
     "metadata": {},
     "output_type": "execute_result"
    }
   ],
   "source": [
    "d1.keys()"
   ]
  },
  {
   "cell_type": "code",
   "execution_count": 39,
   "id": "18785b9c-2fba-45d7-806f-d7ccdefc8595",
   "metadata": {},
   "outputs": [
    {
     "data": {
      "text/plain": [
       "dict_values(['one', 'two', 'three'])"
      ]
     },
     "execution_count": 39,
     "metadata": {},
     "output_type": "execute_result"
    }
   ],
   "source": [
    "d1.values()"
   ]
  },
  {
   "cell_type": "code",
   "execution_count": 40,
   "id": "40b6625b-78d8-4142-8ea0-0298c1938316",
   "metadata": {},
   "outputs": [
    {
     "data": {
      "text/plain": [
       "dict_items([(1, 'one'), (2, 'two'), (3, 'three')])"
      ]
     },
     "execution_count": 40,
     "metadata": {},
     "output_type": "execute_result"
    }
   ],
   "source": [
    "d1.items()"
   ]
  },
  {
   "cell_type": "code",
   "execution_count": 41,
   "id": "52c2d79b-1df0-497c-8861-59b6addcca09",
   "metadata": {},
   "outputs": [
    {
     "ename": "SyntaxError",
     "evalue": "invalid syntax (3439989805.py, line 1)",
     "output_type": "error",
     "traceback": [
      "\u001b[1;36m  Cell \u001b[1;32mIn[41], line 1\u001b[1;36m\u001b[0m\n\u001b[1;33m    d1[]\u001b[0m\n\u001b[1;37m       ^\u001b[0m\n\u001b[1;31mSyntaxError\u001b[0m\u001b[1;31m:\u001b[0m invalid syntax\n"
     ]
    }
   ],
   "source": [
    "d1[]"
   ]
  },
  {
   "cell_type": "code",
   "execution_count": 42,
   "id": "c5bcb88d-fe32-411a-96a2-717fafdd2453",
   "metadata": {},
   "outputs": [
    {
     "data": {
      "text/plain": [
       "'one'"
      ]
     },
     "execution_count": 42,
     "metadata": {},
     "output_type": "execute_result"
    }
   ],
   "source": [
    "d1[1]"
   ]
  },
  {
   "cell_type": "code",
   "execution_count": 43,
   "id": "1c0fcb08-cee9-44f9-995e-b01da49e5d5d",
   "metadata": {},
   "outputs": [
    {
     "data": {
      "text/plain": [
       "'two'"
      ]
     },
     "execution_count": 43,
     "metadata": {},
     "output_type": "execute_result"
    }
   ],
   "source": [
    "d1[2]"
   ]
  },
  {
   "cell_type": "code",
   "execution_count": 45,
   "id": "b6e077d5-d487-43ea-a301-0a548ec55ef3",
   "metadata": {},
   "outputs": [
    {
     "ename": "KeyError",
     "evalue": "'one'",
     "output_type": "error",
     "traceback": [
      "\u001b[1;31m---------------------------------------------------------------------------\u001b[0m",
      "\u001b[1;31mKeyError\u001b[0m                                  Traceback (most recent call last)",
      "Cell \u001b[1;32mIn[45], line 1\u001b[0m\n\u001b[1;32m----> 1\u001b[0m d1[\u001b[38;5;124m'\u001b[39m\u001b[38;5;124mone\u001b[39m\u001b[38;5;124m'\u001b[39m]\n",
      "\u001b[1;31mKeyError\u001b[0m: 'one'"
     ]
    }
   ],
   "source": [
    "d1['one']"
   ]
  },
  {
   "cell_type": "code",
   "execution_count": 46,
   "id": "a29b2632-e010-43bd-80e1-f63181a3610d",
   "metadata": {},
   "outputs": [
    {
     "data": {
      "text/plain": [
       "{1: 'one', 2: 'two', 3: 'three'}"
      ]
     },
     "execution_count": 46,
     "metadata": {},
     "output_type": "execute_result"
    }
   ],
   "source": [
    "d1"
   ]
  },
  {
   "cell_type": "code",
   "execution_count": 54,
   "id": "07bc5155-8a71-4af3-9548-0414a097e671",
   "metadata": {},
   "outputs": [
    {
     "data": {
      "text/plain": [
       "{1: 'one', 2: 'two', 3: 'three'}"
      ]
     },
     "execution_count": 54,
     "metadata": {},
     "output_type": "execute_result"
    }
   ],
   "source": [
    "d1.get(99)\n",
    "d1"
   ]
  },
  {
   "cell_type": "code",
   "execution_count": 55,
   "id": "a04e7193-cbb7-467a-910f-a02726c868eb",
   "metadata": {},
   "outputs": [
    {
     "data": {
      "text/plain": [
       "2447068926272"
      ]
     },
     "execution_count": 55,
     "metadata": {},
     "output_type": "execute_result"
    }
   ],
   "source": [
    "id(d1)"
   ]
  },
  {
   "cell_type": "code",
   "execution_count": 59,
   "id": "1efbbed2-98df-4650-a3f0-21ecf535751a",
   "metadata": {},
   "outputs": [
    {
     "name": "stdout",
     "output_type": "stream",
     "text": [
      "1\n",
      "2\n",
      "3\n"
     ]
    }
   ],
   "source": [
    "for i in d1:\n",
    "    print(i)"
   ]
  },
  {
   "cell_type": "markdown",
   "id": "559bb50a-2a29-43a4-b261-1a2660ba129b",
   "metadata": {},
   "source": [
    "Create Dictionary"
   ]
  },
  {
   "cell_type": "code",
   "execution_count": 1,
   "id": "239d7b3c-8f2b-48ad-9fc9-3c03de6139fc",
   "metadata": {},
   "outputs": [
    {
     "data": {
      "text/plain": [
       "{}"
      ]
     },
     "execution_count": 1,
     "metadata": {},
     "output_type": "execute_result"
    }
   ],
   "source": [
    "mydict = dict() \n",
    "mydict"
   ]
  },
  {
   "cell_type": "code",
   "execution_count": null,
   "id": "69ee799f-c614-4696-a68c-a5ccd2700acb",
   "metadata": {},
   "outputs": [],
   "source": []
  },
  {
   "cell_type": "code",
   "execution_count": 2,
   "id": "92f1a224-5b02-46c8-b75a-996341d518c3",
   "metadata": {},
   "outputs": [
    {
     "data": {
      "text/plain": [
       "{1: 'one', 2: 'two', 3: 'three'}"
      ]
     },
     "execution_count": 2,
     "metadata": {},
     "output_type": "execute_result"
    }
   ],
   "source": [
    "mydict = {1:'one' , 2:'two' , 3:'three'}\n",
    "mydict"
   ]
  },
  {
   "cell_type": "code",
   "execution_count": null,
   "id": "aca8a2f3-2b10-46cc-b4a6-91d1daad854e",
   "metadata": {},
   "outputs": [],
   "source": []
  },
  {
   "cell_type": "code",
   "execution_count": 3,
   "id": "11b214bd-9d6c-4142-b639-e32cabc55f69",
   "metadata": {},
   "outputs": [
    {
     "data": {
      "text/plain": [
       "{1: 'one', 2: 'two', 3: 'three'}"
      ]
     },
     "execution_count": 3,
     "metadata": {},
     "output_type": "execute_result"
    }
   ],
   "source": [
    "mydict = dict({1:'one' , 2:'two' , 3:'three'})\n",
    "mydict"
   ]
  },
  {
   "cell_type": "code",
   "execution_count": null,
   "id": "dd730bb8-676d-481b-90e9-c6d1dbc40ed9",
   "metadata": {},
   "outputs": [],
   "source": []
  },
  {
   "cell_type": "code",
   "execution_count": 4,
   "id": "5db5e1fe-4977-47af-8886-9950f30be4f9",
   "metadata": {},
   "outputs": [
    {
     "data": {
      "text/plain": [
       "{'A': 'one', 'B': 'two', 'C': 'three'}"
      ]
     },
     "execution_count": 4,
     "metadata": {},
     "output_type": "execute_result"
    }
   ],
   "source": [
    "mydict = {'A':'one' , 'B':'two' , 'C':'three'} \n",
    "mydict"
   ]
  },
  {
   "cell_type": "code",
   "execution_count": 5,
   "id": "df537efb-9669-46c4-9794-08798a613ae6",
   "metadata": {},
   "outputs": [
    {
     "data": {
      "text/plain": [
       "{1: 'one', 'A': 'two', 3: 'three'}"
      ]
     },
     "execution_count": 5,
     "metadata": {},
     "output_type": "execute_result"
    }
   ],
   "source": [
    "mydict = {1:'one' , 'A':'two' , 3:'three'}\n",
    "mydict"
   ]
  },
  {
   "cell_type": "code",
   "execution_count": 8,
   "id": "ce333d1c-c12f-41fc-b5c8-84b1210e823b",
   "metadata": {},
   "outputs": [
    {
     "data": {
      "text/plain": [
       "dict_keys([1, 'A', 3])"
      ]
     },
     "execution_count": 8,
     "metadata": {},
     "output_type": "execute_result"
    }
   ],
   "source": [
    "mydict.keys()"
   ]
  },
  {
   "cell_type": "code",
   "execution_count": 10,
   "id": "fe153cf7-00e4-4569-89c2-8a3b4cdeb101",
   "metadata": {},
   "outputs": [
    {
     "data": {
      "text/plain": [
       "dict_values(['one', 'two', 'three'])"
      ]
     },
     "execution_count": 10,
     "metadata": {},
     "output_type": "execute_result"
    }
   ],
   "source": [
    "mydict.values()"
   ]
  },
  {
   "cell_type": "code",
   "execution_count": 11,
   "id": "47e10eb4-e9c6-4df4-a5ae-9e5f6f4938be",
   "metadata": {},
   "outputs": [
    {
     "data": {
      "text/plain": [
       "dict_items([(1, 'one'), ('A', 'two'), (3, 'three')])"
      ]
     },
     "execution_count": 11,
     "metadata": {},
     "output_type": "execute_result"
    }
   ],
   "source": [
    "mydict.items()"
   ]
  },
  {
   "cell_type": "code",
   "execution_count": null,
   "id": "b355eb73-1e0a-47c3-ae02-3b8d724a2813",
   "metadata": {},
   "outputs": [],
   "source": []
  },
  {
   "cell_type": "code",
   "execution_count": 12,
   "id": "dba389b6-e9ff-4528-9999-c7d32154e8c2",
   "metadata": {},
   "outputs": [
    {
     "data": {
      "text/plain": [
       "{1: 'one', 2: 'two', 'A': ['asif', 'john', 'Maria']}"
      ]
     },
     "execution_count": 12,
     "metadata": {},
     "output_type": "execute_result"
    }
   ],
   "source": [
    "mydict = {1:'one' , 2:'two' , 'A':['asif' , 'john' , 'Maria']}\n",
    "mydict"
   ]
  },
  {
   "cell_type": "code",
   "execution_count": 13,
   "id": "76bfe145-3d61-44e9-8daa-25135165dca2",
   "metadata": {},
   "outputs": [
    {
     "data": {
      "text/plain": [
       "{1: 'one', 2: 'two', 'A': ['asif', 'john', 'Maria'], 'B': ('Bat', 'cat')}"
      ]
     },
     "execution_count": 13,
     "metadata": {},
     "output_type": "execute_result"
    }
   ],
   "source": [
    "mydict = {1:'one' , 2:'(two' , 'A':['asif' , 'john' , 'Maria'], 'B':('Bat' , 'cat')}\n",
    "mydict"
   ]
  },
  {
   "cell_type": "code",
   "execution_count": 14,
   "id": "64d4f1fe-78b1-47ad-8ca8-54313456f86c",
   "metadata": {},
   "outputs": [
    {
     "data": {
      "text/plain": [
       "dict_values(['one', 'two', ['asif', 'john', 'Maria'], ('Bat', 'cat')])"
      ]
     },
     "execution_count": 14,
     "metadata": {},
     "output_type": "execute_result"
    }
   ],
   "source": [
    "mydict.values()"
   ]
  },
  {
   "cell_type": "code",
   "execution_count": null,
   "id": "16d3e647-677c-459e-8356-d2943d61264c",
   "metadata": {},
   "outputs": [],
   "source": []
  },
  {
   "cell_type": "code",
   "execution_count": 25,
   "id": "0c02456e-8ffd-4fce-94d8-29e26c6998f6",
   "metadata": {},
   "outputs": [
    {
     "data": {
      "text/plain": [
       "{'b': None, 'a': None, 'd': None, 'c': None}"
      ]
     },
     "execution_count": 25,
     "metadata": {},
     "output_type": "execute_result"
    }
   ],
   "source": [
    "keys = {'a' , 'b' , 'c' , 'd'} \n",
    "mydict3 = dict.fromkeys(keys)\n",
    "mydict3"
   ]
  },
  {
   "cell_type": "code",
   "execution_count": 27,
   "id": "84f8dbc9-caa6-4120-99b3-0f44691a5b89",
   "metadata": {},
   "outputs": [
    {
     "data": {
      "text/plain": [
       "{'b': 10, 'a': 10, 'd': 10, 'c': 10}"
      ]
     },
     "execution_count": 27,
     "metadata": {},
     "output_type": "execute_result"
    }
   ],
   "source": [
    "keys = {'a' , 'b' , 'c' , 'd'} \n",
    "values = (10)\n",
    "mydict3 = dict.fromkeys(keys,values)\n",
    "mydict3"
   ]
  },
  {
   "cell_type": "code",
   "execution_count": 33,
   "id": "edd20f3c-c18c-4146-8a82-08624aa34b24",
   "metadata": {},
   "outputs": [
    {
     "data": {
      "text/plain": [
       "{'b': (10, 20, 30), 'a': (10, 20, 30), 'd': (10, 20, 30), 'c': (10, 20, 30)}"
      ]
     },
     "execution_count": 33,
     "metadata": {},
     "output_type": "execute_result"
    }
   ],
   "source": [
    "keys = {'a' , 'b' , 'c' , 'd'} \n",
    "values = (10,20,30)\n",
    "mydict3 = dict.fromkeys(keys,values)\n",
    "mydict3"
   ]
  },
  {
   "cell_type": "code",
   "execution_count": null,
   "id": "e6f9e980-94c4-46fd-9b69-3e4d929b08ea",
   "metadata": {},
   "outputs": [],
   "source": []
  },
  {
   "cell_type": "markdown",
   "id": "0ff54a4e-93d8-4005-ad01-89177d2dfa4e",
   "metadata": {},
   "source": [
    "Accessing Items"
   ]
  },
  {
   "cell_type": "code",
   "execution_count": 34,
   "id": "6931bc7e-bbcb-45f0-b1e9-88c8ab38ed8f",
   "metadata": {},
   "outputs": [
    {
     "data": {
      "text/plain": [
       "{1: 'one', 2: 'two', 3: 'three', 4: 'four'}"
      ]
     },
     "execution_count": 34,
     "metadata": {},
     "output_type": "execute_result"
    }
   ],
   "source": [
    "mydict = {1:'one' , 2:'two' , 3:'three' , 4:'four'}\n",
    "mydict"
   ]
  },
  {
   "cell_type": "code",
   "execution_count": 35,
   "id": "f581113d-a40f-4b60-9a54-053c6c924343",
   "metadata": {},
   "outputs": [
    {
     "data": {
      "text/plain": [
       "'one'"
      ]
     },
     "execution_count": 35,
     "metadata": {},
     "output_type": "execute_result"
    }
   ],
   "source": [
    "mydict[1]"
   ]
  },
  {
   "cell_type": "code",
   "execution_count": 36,
   "id": "658df752-9f75-48f1-b0d8-9215d9e610ff",
   "metadata": {},
   "outputs": [
    {
     "data": {
      "text/plain": [
       "'four'"
      ]
     },
     "execution_count": 36,
     "metadata": {},
     "output_type": "execute_result"
    }
   ],
   "source": [
    "mydict[4]"
   ]
  },
  {
   "cell_type": "code",
   "execution_count": 37,
   "id": "9a60d380-c431-4896-a5b9-6820993efd20",
   "metadata": {},
   "outputs": [
    {
     "data": {
      "text/plain": [
       "'four'"
      ]
     },
     "execution_count": 37,
     "metadata": {},
     "output_type": "execute_result"
    }
   ],
   "source": [
    "mydict.get(4)"
   ]
  },
  {
   "cell_type": "markdown",
   "id": "32eb759f-9186-4b33-99cb-3fc99f957039",
   "metadata": {},
   "source": [
    "mydict1 = {'Name':'Asif' , 'ID': 74123 , 'DOB': 1991 , 'job' :'Analyst'} \n",
    "mydict1"
   ]
  },
  {
   "cell_type": "code",
   "execution_count": 40,
   "id": "b7db35a2-ea69-4df5-ac3d-b0af4148d12a",
   "metadata": {},
   "outputs": [
    {
     "data": {
      "text/plain": [
       "74123"
      ]
     },
     "execution_count": 40,
     "metadata": {},
     "output_type": "execute_result"
    }
   ],
   "source": [
    "mydict1['ID']"
   ]
  },
  {
   "cell_type": "code",
   "execution_count": 41,
   "id": "09675a10-f0ac-4961-b025-dbd799ed9493",
   "metadata": {},
   "outputs": [
    {
     "data": {
      "text/plain": [
       "'Asif'"
      ]
     },
     "execution_count": 41,
     "metadata": {},
     "output_type": "execute_result"
    }
   ],
   "source": [
    "mydict1['Name']"
   ]
  },
  {
   "cell_type": "code",
   "execution_count": 43,
   "id": "9e08a15a-c8cd-46e3-b935-641bc0876523",
   "metadata": {},
   "outputs": [
    {
     "data": {
      "text/plain": [
       "'Analyst'"
      ]
     },
     "execution_count": 43,
     "metadata": {},
     "output_type": "execute_result"
    }
   ],
   "source": [
    "mydict1.get('job')"
   ]
  },
  {
   "cell_type": "code",
   "execution_count": null,
   "id": "3201f28d-6862-4a76-aeb9-2380e96abd4e",
   "metadata": {},
   "outputs": [],
   "source": []
  },
  {
   "cell_type": "markdown",
   "id": "bbe7c215-82d3-4558-9730-18fdf1fd27db",
   "metadata": {},
   "source": [
    "Add, Remove & Change items"
   ]
  },
  {
   "cell_type": "code",
   "execution_count": 1,
   "id": "1dfaf777-4fd2-4a66-99ea-b765357f0cf8",
   "metadata": {},
   "outputs": [
    {
     "data": {
      "text/plain": [
       "{'Name': 'Asif', 'ID': 12345, 'DOB': 1991, 'Address': 'Hilsinki'}"
      ]
     },
     "execution_count": 1,
     "metadata": {},
     "output_type": "execute_result"
    }
   ],
   "source": [
    "mydict1 = {'Name':'Asif' , 'ID': 12345 , 'DOB': 1991 , 'Address' : 'Hilsinki'} \n",
    "mydict1\n"
   ]
  },
  {
   "cell_type": "code",
   "execution_count": 3,
   "id": "7f10f503-dc45-4d2f-8c2d-f1f0d96bc4c1",
   "metadata": {},
   "outputs": [
    {
     "data": {
      "text/plain": [
       "{'Name': 'Asif', 'ID': 12345, 'DOB': 1992, 'Address': 'Delhi'}"
      ]
     },
     "execution_count": 3,
     "metadata": {},
     "output_type": "execute_result"
    }
   ],
   "source": [
    "mydict1['DOB'] = 1992 \n",
    "mydict1['Address'] = 'Delhi'\n",
    "mydict1"
   ]
  },
  {
   "cell_type": "code",
   "execution_count": 5,
   "id": "b4539584-8968-47fb-9606-a608627d5b13",
   "metadata": {},
   "outputs": [
    {
     "data": {
      "text/plain": [
       "{'Name': 'Asif', 'ID': 12345, 'DOB': 1995, 'Address': 'Delhi'}"
      ]
     },
     "execution_count": 5,
     "metadata": {},
     "output_type": "execute_result"
    }
   ],
   "source": [
    "dict1 = {'DOB':1995} \n",
    "mydict1.update(dict1)\n",
    "mydict1"
   ]
  },
  {
   "cell_type": "code",
   "execution_count": 9,
   "id": "d3872a97-968e-4bbd-bca4-92dc4681b9da",
   "metadata": {},
   "outputs": [
    {
     "data": {
      "text/plain": [
       "{'Name': 'Asif',\n",
       " 'ID': 12345,\n",
       " 'DOB': 1995,\n",
       " 'Address': 'Delhi',\n",
       " 'Job': 'Analyst'}"
      ]
     },
     "execution_count": 9,
     "metadata": {},
     "output_type": "execute_result"
    }
   ],
   "source": [
    "mydict1['Job'] = 'Analyst' \n",
    "mydict1"
   ]
  },
  {
   "cell_type": "code",
   "execution_count": 10,
   "id": "a7737edd-55f2-4b9e-a08a-2154613f8369",
   "metadata": {},
   "outputs": [
    {
     "data": {
      "text/plain": [
       "{'Name': 'Asif', 'ID': 12345, 'DOB': 1995, 'Address': 'Delhi'}"
      ]
     },
     "execution_count": 10,
     "metadata": {},
     "output_type": "execute_result"
    }
   ],
   "source": [
    "mydict1.pop('Job') \n",
    "mydict1"
   ]
  },
  {
   "cell_type": "code",
   "execution_count": 11,
   "id": "eda53c47-48d7-4f14-9943-7759c430bdab",
   "metadata": {},
   "outputs": [
    {
     "data": {
      "text/plain": [
       "('Address', 'Delhi')"
      ]
     },
     "execution_count": 11,
     "metadata": {},
     "output_type": "execute_result"
    }
   ],
   "source": [
    "mydict1.popitem()"
   ]
  },
  {
   "cell_type": "markdown",
   "id": "8c7a694d-da6e-4691-98e1-0547180ad3b5",
   "metadata": {},
   "source": [
    "mydict1"
   ]
  },
  {
   "cell_type": "code",
   "execution_count": 15,
   "id": "32ac1f33-4847-42f8-bb8a-3270bc0f7939",
   "metadata": {},
   "outputs": [
    {
     "data": {
      "text/plain": [
       "{}"
      ]
     },
     "execution_count": 15,
     "metadata": {},
     "output_type": "execute_result"
    }
   ],
   "source": [
    "mydict1.clear()\n",
    "mydict1"
   ]
  },
  {
   "cell_type": "code",
   "execution_count": null,
   "id": "e81797d7-fc76-491c-b3be-7cfa4749d83d",
   "metadata": {},
   "outputs": [],
   "source": []
  },
  {
   "cell_type": "markdown",
   "id": "02c097ca-051f-4784-9e26-6b2904c0793a",
   "metadata": {},
   "source": [
    "Copy Dictionary"
   ]
  },
  {
   "cell_type": "code",
   "execution_count": 16,
   "id": "f85d1627-a35a-4ddd-88f2-b9716c700d84",
   "metadata": {},
   "outputs": [
    {
     "data": {
      "text/plain": [
       "{'Name': 'Asif', 'ID': 12345, 'DOB': 1991, 'Address': 'Hilsinki'}"
      ]
     },
     "execution_count": 16,
     "metadata": {},
     "output_type": "execute_result"
    }
   ],
   "source": [
    "mydict = {'Name':'Asif' , 'ID': 12345 , 'DOB': 1991 , 'Address' : 'Hilsinki'} \n",
    "mydict"
   ]
  },
  {
   "cell_type": "code",
   "execution_count": 18,
   "id": "50b954e4-5b1c-463b-8f76-2bd69db4864a",
   "metadata": {},
   "outputs": [
    {
     "data": {
      "text/plain": [
       "{'Name': 'Asif', 'ID': 12345, 'DOB': 1991, 'Address': 'Hilsinki'}"
      ]
     },
     "execution_count": 18,
     "metadata": {},
     "output_type": "execute_result"
    }
   ],
   "source": [
    "mydict1=mydict\n",
    "mydict1"
   ]
  },
  {
   "cell_type": "code",
   "execution_count": 19,
   "id": "91f82f97-7494-458e-894f-509410ef7fea",
   "metadata": {},
   "outputs": [
    {
     "data": {
      "text/plain": [
       "(2228063659456, 2228063659456)"
      ]
     },
     "execution_count": 19,
     "metadata": {},
     "output_type": "execute_result"
    }
   ],
   "source": [
    "id(mydict) , id(mydict1)"
   ]
  },
  {
   "cell_type": "code",
   "execution_count": 21,
   "id": "96cfcbd5-b02d-4479-95b3-d2d5c52b9518",
   "metadata": {},
   "outputs": [],
   "source": [
    "mydict2=mydict.copy()"
   ]
  },
  {
   "cell_type": "code",
   "execution_count": 22,
   "id": "1a77072f-3732-43be-bb20-930a39b532aa",
   "metadata": {},
   "outputs": [
    {
     "data": {
      "text/plain": [
       "2228064331840"
      ]
     },
     "execution_count": 22,
     "metadata": {},
     "output_type": "execute_result"
    }
   ],
   "source": [
    "id(mydict2)"
   ]
  },
  {
   "cell_type": "code",
   "execution_count": 23,
   "id": "2792e391-939e-4668-8bf3-4a102aca00fe",
   "metadata": {},
   "outputs": [
    {
     "data": {
      "text/plain": [
       "{'Name': 'Asif', 'ID': 12345, 'DOB': 1991, 'Address': 'Mumbai'}"
      ]
     },
     "execution_count": 23,
     "metadata": {},
     "output_type": "execute_result"
    }
   ],
   "source": [
    "mydict['Address']='Mumbai'\n",
    "mydict"
   ]
  },
  {
   "cell_type": "code",
   "execution_count": 24,
   "id": "25120573-e5fb-43e4-927a-7eb313db6c7b",
   "metadata": {},
   "outputs": [
    {
     "data": {
      "text/plain": [
       "{'Name': 'Asif', 'ID': 12345, 'DOB': 1991, 'Address': 'Mumbai'}"
      ]
     },
     "execution_count": 24,
     "metadata": {},
     "output_type": "execute_result"
    }
   ],
   "source": [
    "mydict1"
   ]
  },
  {
   "cell_type": "code",
   "execution_count": 27,
   "id": "545d4843-8493-4830-af53-f3822a004107",
   "metadata": {},
   "outputs": [
    {
     "data": {
      "text/plain": [
       "{'Name': 'Asif', 'ID': 12345, 'DOB': 1991, 'Address': 'Hilsinki'}"
      ]
     },
     "execution_count": 27,
     "metadata": {},
     "output_type": "execute_result"
    }
   ],
   "source": [
    "mydict2"
   ]
  },
  {
   "cell_type": "code",
   "execution_count": null,
   "id": "604868ac-b02c-483d-9ad5-c2a3af475f6a",
   "metadata": {},
   "outputs": [],
   "source": []
  },
  {
   "cell_type": "markdown",
   "id": "130ad188-e958-4648-98e6-e5c51f5e0c25",
   "metadata": {},
   "source": [
    "Loop Through Dictionary"
   ]
  },
  {
   "cell_type": "code",
   "execution_count": 28,
   "id": "aec3eaa3-8a2f-41bd-9c92-2362f4ec870b",
   "metadata": {},
   "outputs": [
    {
     "data": {
      "text/plain": [
       "{'Name': 'Asif',\n",
       " 'ID': 12345,\n",
       " 'DOB': 1991,\n",
       " 'Address': 'Hilsinki',\n",
       " 'Job': 'Analyst'}"
      ]
     },
     "execution_count": 28,
     "metadata": {},
     "output_type": "execute_result"
    }
   ],
   "source": [
    "mydict1 = {'Name':'Asif' , 'ID': 12345 , 'DOB': 1991 , 'Address' : 'Hilsinki' , 'Job': 'Analyst'}\n",
    "mydict1\n"
   ]
  },
  {
   "cell_type": "code",
   "execution_count": 29,
   "id": "86835cec-cf49-429b-a80e-221e3e22059c",
   "metadata": {},
   "outputs": [
    {
     "name": "stdout",
     "output_type": "stream",
     "text": [
      "Name : Asif\n",
      "ID : 12345\n",
      "DOB : 1991\n",
      "Address : Hilsinki\n",
      "Job : Analyst\n"
     ]
    }
   ],
   "source": [
    "for i in mydict1:\n",
    "    print(i ,':', mydict1[i])"
   ]
  },
  {
   "cell_type": "code",
   "execution_count": 31,
   "id": "6da8a0a1-f1ce-49db-beb1-3f99d24e0b56",
   "metadata": {},
   "outputs": [
    {
     "name": "stdout",
     "output_type": "stream",
     "text": [
      "Name\n",
      "ID\n",
      "DOB\n",
      "Address\n",
      "Job\n"
     ]
    }
   ],
   "source": [
    "for i in mydict1:\n",
    "    print (i)\n"
   ]
  },
  {
   "cell_type": "code",
   "execution_count": 33,
   "id": "cc36a98f-09ca-4ced-8c50-5adef8764401",
   "metadata": {},
   "outputs": [
    {
     "name": "stdout",
     "output_type": "stream",
     "text": [
      "Asif\n",
      "12345\n",
      "1991\n",
      "Hilsinki\n",
      "Analyst\n"
     ]
    }
   ],
   "source": [
    "for i in mydict1:\n",
    "    print (mydict1[i])"
   ]
  },
  {
   "cell_type": "code",
   "execution_count": null,
   "id": "72bd4389-6c09-423b-837d-fedc2f477e31",
   "metadata": {},
   "outputs": [],
   "source": []
  },
  {
   "cell_type": "markdown",
   "id": "f275609a-db68-4cac-b54c-9f332cd535ab",
   "metadata": {},
   "source": [
    "Dictionary Membership"
   ]
  },
  {
   "cell_type": "code",
   "execution_count": 35,
   "id": "fb385c4b-9b03-4549-b20a-299ceb8908df",
   "metadata": {},
   "outputs": [
    {
     "data": {
      "text/plain": [
       "{'Name': 'Asif', 'ID': 12345, 'DOB': 1991, 'Job': 'Analyst'}"
      ]
     },
     "execution_count": 35,
     "metadata": {},
     "output_type": "execute_result"
    }
   ],
   "source": [
    "mydict1 = {'Name':'Asif' , 'ID': 12345 , 'DOB': 1991 , 'Job': 'Analyst'} \n",
    "mydict1"
   ]
  },
  {
   "cell_type": "code",
   "execution_count": 36,
   "id": "aa8c1238-a3a6-4599-be80-93ca3c50dc2b",
   "metadata": {},
   "outputs": [
    {
     "data": {
      "text/plain": [
       "True"
      ]
     },
     "execution_count": 36,
     "metadata": {},
     "output_type": "execute_result"
    }
   ],
   "source": [
    "'Name' in mydict1"
   ]
  },
  {
   "cell_type": "code",
   "execution_count": 37,
   "id": "4a7031a7-6da5-47f1-a5d3-8129a2fa245d",
   "metadata": {},
   "outputs": [
    {
     "data": {
      "text/plain": [
       "False"
      ]
     },
     "execution_count": 37,
     "metadata": {},
     "output_type": "execute_result"
    }
   ],
   "source": [
    "'Game' in mydict1"
   ]
  },
  {
   "cell_type": "code",
   "execution_count": 38,
   "id": "ff7ecd42-4c6d-43ea-b802-eaec816e809e",
   "metadata": {},
   "outputs": [
    {
     "data": {
      "text/plain": [
       "False"
      ]
     },
     "execution_count": 38,
     "metadata": {},
     "output_type": "execute_result"
    }
   ],
   "source": [
    "'Asif' in mydict1"
   ]
  },
  {
   "cell_type": "code",
   "execution_count": 39,
   "id": "aff30818-1f63-4ebe-be3e-930f6b1cc783",
   "metadata": {},
   "outputs": [
    {
     "data": {
      "text/plain": [
       "False"
      ]
     },
     "execution_count": 39,
     "metadata": {},
     "output_type": "execute_result"
    }
   ],
   "source": [
    "'Analyst' in mydict1"
   ]
  },
  {
   "cell_type": "code",
   "execution_count": 40,
   "id": "bdbcd8a2-402f-4924-a6e8-0b920098e5d9",
   "metadata": {},
   "outputs": [
    {
     "data": {
      "text/plain": [
       "True"
      ]
     },
     "execution_count": 40,
     "metadata": {},
     "output_type": "execute_result"
    }
   ],
   "source": [
    "'DOB' in mydict1"
   ]
  },
  {
   "cell_type": "code",
   "execution_count": null,
   "id": "63d1c406-1dfa-4d80-8280-c118e8119af2",
   "metadata": {},
   "outputs": [],
   "source": []
  },
  {
   "cell_type": "markdown",
   "id": "77eaab1a-b3ca-4489-ab96-fae4607567c8",
   "metadata": {},
   "source": [
    "All/ Any"
   ]
  },
  {
   "cell_type": "code",
   "execution_count": null,
   "id": "b9566f1d-81f9-42d7-a28f-d4f5ca1a648c",
   "metadata": {},
   "outputs": [],
   "source": []
  },
  {
   "cell_type": "code",
   "execution_count": 41,
   "id": "78095d0e-b376-4055-ab7e-e5aa23eae8e5",
   "metadata": {},
   "outputs": [
    {
     "data": {
      "text/plain": [
       "{'Name': 'Asif', 'ID': 12345, 'DOB': 1991, 'Job': 'Analyst'}"
      ]
     },
     "execution_count": 41,
     "metadata": {},
     "output_type": "execute_result"
    }
   ],
   "source": [
    "mydict1"
   ]
  },
  {
   "cell_type": "code",
   "execution_count": 42,
   "id": "312e739a-1b16-44cb-8a34-a8d089c6c582",
   "metadata": {},
   "outputs": [
    {
     "data": {
      "text/plain": [
       "True"
      ]
     },
     "execution_count": 42,
     "metadata": {},
     "output_type": "execute_result"
    }
   ],
   "source": [
    "all(mydict1)"
   ]
  },
  {
   "cell_type": "code",
   "execution_count": null,
   "id": "2d84e2a6-a2a4-4139-ad88-72614300c2a8",
   "metadata": {},
   "outputs": [],
   "source": []
  },
  {
   "cell_type": "code",
   "execution_count": null,
   "id": "fdcb7661-48ed-4430-af4c-f4b5d2ca393d",
   "metadata": {},
   "outputs": [],
   "source": []
  },
  {
   "cell_type": "code",
   "execution_count": null,
   "id": "9b3ca9e0-a405-4ab7-877b-a041bc9fef75",
   "metadata": {},
   "outputs": [],
   "source": []
  },
  {
   "cell_type": "code",
   "execution_count": null,
   "id": "cdeb4844-f471-4286-bb01-3e4cf8e4842c",
   "metadata": {},
   "outputs": [],
   "source": []
  },
  {
   "cell_type": "code",
   "execution_count": null,
   "id": "3990345b-5d16-4338-806f-508877d05cb6",
   "metadata": {},
   "outputs": [],
   "source": []
  }
 ],
 "metadata": {
  "kernelspec": {
   "display_name": "Python 3 (ipykernel)",
   "language": "python",
   "name": "python3"
  },
  "language_info": {
   "codemirror_mode": {
    "name": "ipython",
    "version": 3
   },
   "file_extension": ".py",
   "mimetype": "text/x-python",
   "name": "python",
   "nbconvert_exporter": "python",
   "pygments_lexer": "ipython3",
   "version": "3.13.5"
  }
 },
 "nbformat": 4,
 "nbformat_minor": 5
}
