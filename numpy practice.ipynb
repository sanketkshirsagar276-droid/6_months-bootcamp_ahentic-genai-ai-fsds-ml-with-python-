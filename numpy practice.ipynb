{
 "cells": [
  {
   "cell_type": "code",
   "execution_count": 3,
   "id": "d5d1a30b",
   "metadata": {},
   "outputs": [],
   "source": [
    "import numpy as np"
   ]
  },
  {
   "cell_type": "code",
   "execution_count": 2,
   "id": "8fa1e059",
   "metadata": {},
   "outputs": [
    {
     "data": {
      "text/plain": [
       "array([1, 2, 3, 4, 5, 6, 7, 8, 9])"
      ]
     },
     "execution_count": 2,
     "metadata": {},
     "output_type": "execute_result"
    }
   ],
   "source": [
    "np.arange(1,10)"
   ]
  },
  {
   "cell_type": "code",
   "execution_count": 4,
   "id": "59df7cdf",
   "metadata": {},
   "outputs": [
    {
     "name": "stdout",
     "output_type": "stream",
     "text": [
      "[[1 2 3]\n",
      " [4 5 6]\n",
      " [7 8 9]]\n"
     ]
    }
   ],
   "source": [
    "a = np.arange(1, 10)\n",
    "print(a.reshape(3, 3))\n"
   ]
  },
  {
   "cell_type": "code",
   "execution_count": 5,
   "id": "3f229f50",
   "metadata": {},
   "outputs": [
    {
     "data": {
      "text/plain": [
       "array([[0., 0., 0., 0., 0.],\n",
       "       [0., 0., 0., 0., 0.]])"
      ]
     },
     "execution_count": 5,
     "metadata": {},
     "output_type": "execute_result"
    }
   ],
   "source": [
    "a1 = np.zeros((1,10))\n",
    "np.reshape( a1, (2,5) )"
   ]
  },
  {
   "cell_type": "code",
   "execution_count": 14,
   "id": "378db775",
   "metadata": {},
   "outputs": [
    {
     "data": {
      "text/plain": [
       "array([[1., 1., 1., 1.],\n",
       "       [1., 1., 1., 1.],\n",
       "       [1., 1., 1., 1.],\n",
       "       [1., 1., 1., 1.]])"
      ]
     },
     "execution_count": 14,
     "metadata": {},
     "output_type": "execute_result"
    }
   ],
   "source": [
    "a2 = np.ones((4,4))\n",
    "a2\n"
   ]
  },
  {
   "cell_type": "code",
   "execution_count": 15,
   "id": "5fc46bdd",
   "metadata": {},
   "outputs": [
    {
     "data": {
      "text/plain": [
       "array([[1, 1, 1, 1],\n",
       "       [1, 1, 1, 1],\n",
       "       [1, 1, 1, 1],\n",
       "       [1, 1, 1, 1]])"
      ]
     },
     "execution_count": 15,
     "metadata": {},
     "output_type": "execute_result"
    }
   ],
   "source": [
    "a2 = np.ones((4,4), dtype=int)\n",
    "a2"
   ]
  },
  {
   "cell_type": "code",
   "execution_count": 17,
   "id": "f5cc75e8",
   "metadata": {},
   "outputs": [
    {
     "data": {
      "text/plain": [
       "array([[1, 1, 1, 1],\n",
       "       [1, 1, 1, 1],\n",
       "       [1, 1, 1, 1],\n",
       "       [1, 1, 1, 1]])"
      ]
     },
     "execution_count": 17,
     "metadata": {},
     "output_type": "execute_result"
    }
   ],
   "source": [
    "a2 = np.ones((1,16), dtype=int)\n",
    "np.reshape(a2, (4,4))"
   ]
  },
  {
   "cell_type": "code",
   "execution_count": 20,
   "id": "c4eaf6b5",
   "metadata": {},
   "outputs": [
    {
     "data": {
      "text/plain": [
       "array([49, 43, 40, 43, 17], dtype=int32)"
      ]
     },
     "execution_count": 20,
     "metadata": {},
     "output_type": "execute_result"
    }
   ],
   "source": [
    "np.random.randint(10,50,5) "
   ]
  },
  {
   "cell_type": "code",
   "execution_count": 6,
   "id": "e62cc4cf",
   "metadata": {},
   "outputs": [
    {
     "data": {
      "text/plain": [
       "array([40, 50])"
      ]
     },
     "execution_count": 6,
     "metadata": {},
     "output_type": "execute_result"
    }
   ],
   "source": [
    "a = np.array([10, 20, 30, 40, 50])\n",
    "a[0:3]\n",
    "a[-2:]"
   ]
  },
  {
   "cell_type": "code",
   "execution_count": 8,
   "id": "6d74bb9d",
   "metadata": {},
   "outputs": [
    {
     "data": {
      "text/plain": [
       "array([2, 3, 4, 5])"
      ]
     },
     "execution_count": 8,
     "metadata": {},
     "output_type": "execute_result"
    }
   ],
   "source": [
    "arr = np.array([1,2,3,4,5])\n",
    "arr[1:5]  # Slicing from index 1 to 3 (exclusive of 4)"
   ]
  },
  {
   "cell_type": "code",
   "execution_count": 10,
   "id": "7d8ecae3",
   "metadata": {},
   "outputs": [
    {
     "name": "stdout",
     "output_type": "stream",
     "text": [
      "[[1 2]\n",
      " [5 6]]\n"
     ]
    }
   ],
   "source": [
    "a = np.array([[1,2,3,4]\n",
    "              ,[5,6,7,8]\n",
    "              ,[9,10,11,12]])\n",
    "print(a[0:2,0:2])  # Accessing element at row 2, column 2\n"
   ]
  },
  {
   "cell_type": "code",
   "execution_count": 12,
   "id": "21dbc062",
   "metadata": {},
   "outputs": [
    {
     "name": "stdout",
     "output_type": "stream",
     "text": [
      "[[ 9 10 11 12]\n",
      " [ 5  6  7  8]\n",
      " [ 1  2  3  4]]\n"
     ]
    }
   ],
   "source": [
    "a = np.array([[1,2,3,4]\n",
    "              ,[5,6,7,8]\n",
    "              ,[9,10,11,12]])\n",
    "print(a[::-1])  # Accessing element at row 2, column 2\n"
   ]
  },
  {
   "cell_type": "code",
   "execution_count": 13,
   "id": "c94e70ea",
   "metadata": {},
   "outputs": [
    {
     "name": "stdout",
     "output_type": "stream",
     "text": [
      "[5 4 3 2 1]\n"
     ]
    }
   ],
   "source": [
    "arr = np.array([1,2,3,4,5])\n",
    "print(arr[::-1])  # Slicing from index 1 to 3 (exclusive of 4)"
   ]
  },
  {
   "cell_type": "code",
   "execution_count": 14,
   "id": "5923d2e1",
   "metadata": {},
   "outputs": [
    {
     "name": "stdout",
     "output_type": "stream",
     "text": [
      "[5 7 9]\n"
     ]
    }
   ],
   "source": [
    "a = np.array([1,2,3])\n",
    "b = np.array([4,5,6])\n",
    "c = a+b\n",
    "print(c)  # Element-wise addition"
   ]
  },
  {
   "cell_type": "code",
   "execution_count": 15,
   "id": "f36e6551",
   "metadata": {},
   "outputs": [],
   "source": [
    "arr = np.array([1,2,3,4])\n",
    "arr2 = arr*2"
   ]
  },
  {
   "cell_type": "code",
   "execution_count": 16,
   "id": "a39511b7",
   "metadata": {},
   "outputs": [
    {
     "data": {
      "text/plain": [
       "array([2, 4, 6, 8])"
      ]
     },
     "execution_count": 16,
     "metadata": {},
     "output_type": "execute_result"
    }
   ],
   "source": [
    "arr2"
   ]
  },
  {
   "cell_type": "code",
   "execution_count": 19,
   "id": "b96972ad",
   "metadata": {},
   "outputs": [
    {
     "name": "stdout",
     "output_type": "stream",
     "text": [
      "15\n"
     ]
    }
   ],
   "source": [
    "arr = np.array([1,2,3,4,5])\n",
    "arr2 = np.sum(arr)\n",
    "print(arr2)  # Sum of all elements in the array"
   ]
  },
  {
   "cell_type": "code",
   "execution_count": 20,
   "id": "3215f2dc",
   "metadata": {},
   "outputs": [
    {
     "name": "stdout",
     "output_type": "stream",
     "text": [
      "3.0\n",
      "1.4142135623730951\n"
     ]
    }
   ],
   "source": [
    "arr = np.array([1,2,3,4,5])\n",
    "print(np.mean(arr))\n",
    "print(np.std(arr))  "
   ]
  },
  {
   "cell_type": "code",
   "execution_count": 21,
   "id": "3e510f9b",
   "metadata": {},
   "outputs": [
    {
     "name": "stdout",
     "output_type": "stream",
     "text": [
      "[ 1  4  9 16 25]\n"
     ]
    }
   ],
   "source": [
    "arr = np.array([1,2,3,4,5])\n",
    "print(np.square(arr))  # Squaring each element in the array"
   ]
  },
  {
   "cell_type": "code",
   "execution_count": 22,
   "id": "347f3dfd",
   "metadata": {},
   "outputs": [],
   "source": [
    "arr = np.square([1,2,3,4,5])  # Squaring each element in the array"
   ]
  },
  {
   "cell_type": "code",
   "execution_count": 23,
   "id": "bc587a65",
   "metadata": {},
   "outputs": [
    {
     "data": {
      "text/plain": [
       "array([ 1,  4,  9, 16, 25])"
      ]
     },
     "execution_count": 23,
     "metadata": {},
     "output_type": "execute_result"
    }
   ],
   "source": [
    "arr"
   ]
  },
  {
   "cell_type": "code",
   "execution_count": 26,
   "id": "e4228f4b",
   "metadata": {},
   "outputs": [],
   "source": [
    "arr = np.array([10, 25, 30, 45])\n",
    "arr2 = np.greater(arr, 20) \n",
    " # Boolean array where elements greater than 20 are True"
   ]
  },
  {
   "cell_type": "code",
   "execution_count": 27,
   "id": "8162a74b",
   "metadata": {},
   "outputs": [
    {
     "data": {
      "text/plain": [
       "array([False,  True,  True,  True])"
      ]
     },
     "execution_count": 27,
     "metadata": {},
     "output_type": "execute_result"
    }
   ],
   "source": [
    "arr2"
   ]
  },
  {
   "cell_type": "code",
   "execution_count": 34,
   "id": "ca333818",
   "metadata": {},
   "outputs": [
    {
     "name": "stdout",
     "output_type": "stream",
     "text": [
      "[25 30 45]\n"
     ]
    }
   ],
   "source": [
    "arr = np.array([10, 25, 30, 45])\n",
    "arr2 = arr[arr > 20]\n",
    "print(arr2)  # Boolean array where elements greater than 20 are True"
   ]
  },
  {
   "cell_type": "code",
   "execution_count": 35,
   "id": "e235bee6",
   "metadata": {},
   "outputs": [
    {
     "ename": "AttributeError",
     "evalue": "'numpy.ndarray' object has no attribute 'replace'",
     "output_type": "error",
     "traceback": [
      "\u001b[1;31m---------------------------------------------------------------------------\u001b[0m",
      "\u001b[1;31mAttributeError\u001b[0m                            Traceback (most recent call last)",
      "Cell \u001b[1;32mIn[35], line 3\u001b[0m\n\u001b[0;32m      1\u001b[0m arr \u001b[38;5;241m=\u001b[39m np\u001b[38;5;241m.\u001b[39marray([\u001b[38;5;241m10\u001b[39m, \u001b[38;5;241m25\u001b[39m, \u001b[38;5;241m30\u001b[39m, \u001b[38;5;241m45\u001b[39m])\n\u001b[0;32m      2\u001b[0m arr2 \u001b[38;5;241m=\u001b[39m arr[arr\u001b[38;5;241m>\u001b[39m\u001b[38;5;241m15\u001b[39m]\n\u001b[1;32m----> 3\u001b[0m arr2\u001b[38;5;241m.\u001b[39mreplace(\u001b[38;5;241m15\u001b[39m) \n\u001b[0;32m      4\u001b[0m arr2\n",
      "\u001b[1;31mAttributeError\u001b[0m: 'numpy.ndarray' object has no attribute 'replace'"
     ]
    }
   ],
   "source": [
    "arr = np.array([10, 25, 30, 45])\n",
    "arr2 = arr[arr>15]\n",
    "arr2.replace(15) \n",
    "arr2 # Boolean array where elements greater than 20 are True"
   ]
  },
  {
   "cell_type": "code",
   "execution_count": 36,
   "id": "c69fc4d1",
   "metadata": {},
   "outputs": [],
   "source": [
    "arr = np.array([10, 25, 30, 45])\n",
    "arr[1] = 99"
   ]
  },
  {
   "cell_type": "code",
   "execution_count": 37,
   "id": "f284beaf",
   "metadata": {},
   "outputs": [
    {
     "data": {
      "text/plain": [
       "array([10, 99, 30, 45])"
      ]
     },
     "execution_count": 37,
     "metadata": {},
     "output_type": "execute_result"
    }
   ],
   "source": [
    "arr"
   ]
  },
  {
   "cell_type": "code",
   "execution_count": 38,
   "id": "a5c0ddc8",
   "metadata": {},
   "outputs": [
    {
     "name": "stdout",
     "output_type": "stream",
     "text": [
      "[ 5 10 15 99 99 99]\n"
     ]
    }
   ],
   "source": [
    "arr = np.array([5, 10, 15, 20, 25, 30])\n",
    "arr[arr> 15] =99\n",
    "print(arr)  # Replacing elements greater than 15 with 99"
   ]
  },
  {
   "cell_type": "code",
   "execution_count": 39,
   "id": "0a41142d",
   "metadata": {},
   "outputs": [
    {
     "name": "stdout",
     "output_type": "stream",
     "text": [
      "[10 99 99 99]\n"
     ]
    }
   ],
   "source": [
    "arr = np.array([10, 25, 30, 45])\n",
    "arr[arr > 15] = 99\n",
    "print(arr)  # Replacing elements greater than 15 with 99"
   ]
  },
  {
   "cell_type": "code",
   "execution_count": null,
   "id": "091e842a",
   "metadata": {},
   "outputs": [
    {
     "ename": "ValueError",
     "evalue": "The truth value of an array with more than one element is ambiguous. Use a.any() or a.all()",
     "output_type": "error",
     "traceback": [
      "\u001b[1;31m---------------------------------------------------------------------------\u001b[0m",
      "\u001b[1;31mValueError\u001b[0m                                Traceback (most recent call last)",
      "Cell \u001b[1;32mIn[41], line 2\u001b[0m\n\u001b[0;32m      1\u001b[0m arr \u001b[38;5;241m=\u001b[39m np\u001b[38;5;241m.\u001b[39marray([\u001b[38;5;241m1\u001b[39m,\u001b[38;5;241m2\u001b[39m,\u001b[38;5;241m3\u001b[39m,\u001b[38;5;241m4\u001b[39m,\u001b[38;5;241m5\u001b[39m,\u001b[38;5;241m6\u001b[39m,\u001b[38;5;241m7\u001b[39m,\u001b[38;5;241m8\u001b[39m])\n\u001b[1;32m----> 2\u001b[0m \u001b[38;5;28;01mif\u001b[39;00m arr\u001b[38;5;241m%\u001b[39m\u001b[38;5;241m2\u001b[39m \u001b[38;5;241m==\u001b[39m \u001b[38;5;241m0\u001b[39m:\n\u001b[0;32m      3\u001b[0m     \u001b[38;5;28mprint\u001b[39m(\u001b[38;5;124m\"\u001b[39m\u001b[38;5;124mEven\u001b[39m\u001b[38;5;124m\"\u001b[39m)\n",
      "\u001b[1;31mValueError\u001b[0m: The truth value of an array with more than one element is ambiguous. Use a.any() or a.all()"
     ]
    }
   ],
   "source": [
    "arr = np.array([1,2,3,4,5,6,7,8])\n",
    "if arr%2 == 0:\n",
    "    print(\"Even\")"
   ]
  },
  {
   "cell_type": "code",
   "execution_count": 42,
   "id": "25fa130f",
   "metadata": {},
   "outputs": [
    {
     "name": "stdout",
     "output_type": "stream",
     "text": [
      "4\n"
     ]
    }
   ],
   "source": [
    "arr = np.array([1,2,3,4,5,6,7,8])\n",
    "arr2 = np.sum(arr%2 == 0)  # Summing only even numbers\n",
    "print(arr2)  # Output the sum of even numbers"
   ]
  },
  {
   "cell_type": "code",
   "execution_count": 43,
   "id": "72533f63",
   "metadata": {},
   "outputs": [
    {
     "name": "stdout",
     "output_type": "stream",
     "text": [
      "[-5 -1]\n"
     ]
    }
   ],
   "source": [
    "arr = np.array([-5, 2, -1, 0, 4])\n",
    "arr2 = arr[arr<0]  # Extracting negative numbers\n",
    "print(arr2)  # Output the negative numbers  \n",
    "               "
   ]
  },
  {
   "cell_type": "code",
   "execution_count": 44,
   "id": "cc64896a",
   "metadata": {},
   "outputs": [
    {
     "name": "stdout",
     "output_type": "stream",
     "text": [
      "[50 50]\n"
     ]
    }
   ],
   "source": [
    "arr = np.array([10,50,30,50,70])\n",
    "arr = arr[arr == 50]  # Extracting elements equal to 50\n",
    "print(arr)  # Output the elements equal to 50"
   ]
  },
  {
   "cell_type": "code",
   "execution_count": 48,
   "id": "7cfd4eeb",
   "metadata": {},
   "outputs": [
    {
     "name": "stdout",
     "output_type": "stream",
     "text": [
      "(array([1, 3]),)\n"
     ]
    }
   ],
   "source": [
    "arr = np.array([10,50,30,50,70])\n",
    "arr2 = np.where (arr == 50)# Extracting elements equal to 50\n",
    "print(arr2)  # Output the elements equal to 50"
   ]
  },
  {
   "cell_type": "code",
   "execution_count": 51,
   "id": "4d1e630c",
   "metadata": {},
   "outputs": [
    {
     "name": "stdout",
     "output_type": "stream",
     "text": [
      "[[ 1  2  3  4]\n",
      " [ 5  6  7  8]\n",
      " [ 9 10 11 12]]\n"
     ]
    }
   ],
   "source": [
    "arr = np.array([1,2,3,4,5,6,7,8,9,10,11,12]) \n",
    "print(arr.reshape(3,4))# Output the reshaped array"
   ]
  },
  {
   "cell_type": "code",
   "execution_count": 58,
   "id": "3c3f45d4",
   "metadata": {},
   "outputs": [
    {
     "data": {
      "text/plain": [
       "array([1, 2, 3, 4, 5, 6, 7, 8, 9])"
      ]
     },
     "execution_count": 58,
     "metadata": {},
     "output_type": "execute_result"
    }
   ],
   "source": [
    "arr = np.array([[1, 2, 3], [4, 5, 6],\n",
    "                [7, 8, 9]])\n",
    "                \n",
    "arr.ravel()\n"
   ]
  },
  {
   "cell_type": "code",
   "execution_count": 59,
   "id": "47c1124c",
   "metadata": {},
   "outputs": [
    {
     "data": {
      "text/plain": [
       "array([1, 2, 3, 4, 5, 6, 7, 8, 9])"
      ]
     },
     "execution_count": 59,
     "metadata": {},
     "output_type": "execute_result"
    }
   ],
   "source": [
    "arr = np.array([[1, 2, 3], [4, 5, 6],[7, 8, 9]])\n",
    "arr.flatten()"
   ]
  },
  {
   "cell_type": "code",
   "execution_count": 80,
   "id": "6047f274",
   "metadata": {},
   "outputs": [
    {
     "data": {
      "text/plain": [
       "array([1, 2, 3, 4, 5, 6, 4, 5, 6, 4, 5, 6, 3, 4, 6, 4, 3, 4])"
      ]
     },
     "execution_count": 80,
     "metadata": {},
     "output_type": "execute_result"
    }
   ],
   "source": [
    "arr = np.array([[1,2,3,4,5,6],[4,5,6,4,5,6],[3,4,6,4,3,4]])\n",
    "arr = np.hstack(arr)\n",
    "arr\n"
   ]
  },
  {
   "cell_type": "code",
   "execution_count": 83,
   "id": "b7a0d920",
   "metadata": {},
   "outputs": [
    {
     "data": {
      "text/plain": [
       "array([1, 2, 3, 4, 5, 6, 5, 4, 3, 2, 3, 2, 4, 7, 9])"
      ]
     },
     "execution_count": 83,
     "metadata": {},
     "output_type": "execute_result"
    }
   ],
   "source": [
    "arr = np.array([[1,2,3,4,5],[6,5,4,3,2],[3,2,4,7,9]])\n",
    "arr = np.hstack(arr)\n",
    "arr"
   ]
  },
  {
   "cell_type": "code",
   "execution_count": 84,
   "id": "b128c43e",
   "metadata": {},
   "outputs": [],
   "source": [
    "arr = np.vstack(arr)"
   ]
  },
  {
   "cell_type": "code",
   "execution_count": 85,
   "id": "d563c75b",
   "metadata": {},
   "outputs": [
    {
     "data": {
      "text/plain": [
       "array([[1],\n",
       "       [2],\n",
       "       [3],\n",
       "       [4],\n",
       "       [5],\n",
       "       [6],\n",
       "       [5],\n",
       "       [4],\n",
       "       [3],\n",
       "       [2],\n",
       "       [3],\n",
       "       [2],\n",
       "       [4],\n",
       "       [7],\n",
       "       [9]])"
      ]
     },
     "execution_count": 85,
     "metadata": {},
     "output_type": "execute_result"
    }
   ],
   "source": [
    "arr"
   ]
  },
  {
   "cell_type": "code",
   "execution_count": 86,
   "id": "89ba39d8",
   "metadata": {},
   "outputs": [
    {
     "name": "stdout",
     "output_type": "stream",
     "text": [
      "[[1. 0. 0. 0.]\n",
      " [0. 1. 0. 0.]\n",
      " [0. 0. 1. 0.]\n",
      " [0. 0. 0. 1.]]\n"
     ]
    }
   ],
   "source": [
    "arr = np.eye(4,4)\n",
    "print (arr)"
   ]
  },
  {
   "cell_type": "code",
   "execution_count": null,
   "id": "9cdc1805",
   "metadata": {},
   "outputs": [],
   "source": []
  }
 ],
 "metadata": {
  "kernelspec": {
   "display_name": "base",
   "language": "python",
   "name": "python3"
  },
  "language_info": {
   "codemirror_mode": {
    "name": "ipython",
    "version": 3
   },
   "file_extension": ".py",
   "mimetype": "text/x-python",
   "name": "python",
   "nbconvert_exporter": "python",
   "pygments_lexer": "ipython3",
   "version": "3.13.5"
  }
 },
 "nbformat": 4,
 "nbformat_minor": 5
}
