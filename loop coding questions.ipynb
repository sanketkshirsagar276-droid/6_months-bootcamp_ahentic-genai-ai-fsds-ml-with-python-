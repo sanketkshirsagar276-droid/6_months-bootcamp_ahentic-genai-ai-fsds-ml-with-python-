{
 "cells": [
  {
   "cell_type": "code",
   "execution_count": 4,
   "id": "ea1910e0-cbb3-4fbd-b038-d6e307b29c34",
   "metadata": {},
   "outputs": [
    {
     "name": "stdout",
     "output_type": "stream",
     "text": [
      "1\n",
      "2\n",
      "3\n",
      "4\n",
      "5\n",
      "6\n",
      "7\n",
      "8\n",
      "9\n",
      "10\n"
     ]
    }
   ],
   "source": [
    "for i in range(1,11):\n",
    " print (i)"
   ]
  },
  {
   "cell_type": "code",
   "execution_count": null,
   "id": "b85d4d1f-b0c0-40d3-be98-6c7beaae7c6a",
   "metadata": {},
   "outputs": [],
   "source": []
  },
  {
   "cell_type": "code",
   "execution_count": 12,
   "id": "12cf01dc-57da-477b-ab0f-2b40e2925ad6",
   "metadata": {},
   "outputs": [
    {
     "name": "stdout",
     "output_type": "stream",
     "text": [
      "The sum of numbers 1 to 10 is 55\n"
     ]
    }
   ],
   "source": [
    "a = 0\n",
    "for i in range(1,11):\n",
    "    a+=i\n",
    "print(\"The sum of numbers 1 to 10 is\",a)"
   ]
  },
  {
   "cell_type": "code",
   "execution_count": 1,
   "id": "30e7b69a-0f27-4b09-94ed-969538ef9261",
   "metadata": {},
   "outputs": [
    {
     "name": "stdout",
     "output_type": "stream",
     "text": [
      "1\n",
      "2\n",
      "3\n",
      "4\n",
      "5\n",
      "6\n",
      "3\n",
      "2\n",
      "1\n"
     ]
    }
   ],
   "source": [
    "a = [1,2,3,4,5,6,3,2,1]\n",
    "for i in a:\n",
    "    print(i)"
   ]
  },
  {
   "cell_type": "code",
   "execution_count": 17,
   "id": "1f1e9893-e816-4caa-8132-b646b06a58ef",
   "metadata": {},
   "outputs": [
    {
     "name": "stdout",
     "output_type": "stream",
     "text": [
      "24\n"
     ]
    }
   ],
   "source": [
    "item = [1,2,3,4]\n",
    "product = 1\n",
    "for i in item:\n",
    "    product*=i\n",
    "print (product)"
   ]
  },
  {
   "cell_type": "code",
   "execution_count": 20,
   "id": "f1b0fba9-aa96-4d0d-8abc-eb60a4100743",
   "metadata": {},
   "outputs": [
    {
     "name": "stdout",
     "output_type": "stream",
     "text": [
      "2\n",
      "4\n",
      "6\n",
      "8\n",
      "10\n"
     ]
    }
   ],
   "source": [
    "for i in range(1,11):\n",
    "    if i%2==0:\n",
    "        print(i)\n",
    "    "
   ]
  },
  {
   "cell_type": "code",
   "execution_count": 26,
   "id": "9436c765-beae-4c99-81f1-28538aa02ad5",
   "metadata": {},
   "outputs": [
    {
     "name": "stdout",
     "output_type": "stream",
     "text": [
      "10\n",
      "9\n",
      "8\n",
      "7\n",
      "6\n",
      "5\n",
      "4\n",
      "3\n",
      "2\n",
      "1\n"
     ]
    }
   ],
   "source": [
    "for i in range(10,0,-1):\n",
    "    print(i)\n",
    "    "
   ]
  },
  {
   "cell_type": "code",
   "execution_count": 32,
   "id": "c5f56ef6-29f3-4fde-bc46-653653843e84",
   "metadata": {},
   "outputs": [
    {
     "name": "stdout",
     "output_type": "stream",
     "text": [
      "I\n",
      " \n",
      "l\n",
      "o\n",
      "v\n",
      "e\n",
      " \n",
      "p\n",
      "y\n",
      "t\n",
      "h\n",
      "o\n",
      "n\n"
     ]
    }
   ],
   "source": [
    "a = \"I love python\"\n",
    "for char in a:\n",
    "    print (char)"
   ]
  },
  {
   "cell_type": "code",
   "execution_count": 42,
   "id": "7edc1603-72a2-4cf2-a1b8-67c596c6cabe",
   "metadata": {},
   "outputs": [
    {
     "name": "stdout",
     "output_type": "stream",
     "text": [
      "largest number in the list is: 25\n"
     ]
    }
   ],
   "source": [
    "list1= [1,2,9,25]\n",
    "largest = list1[0]\n",
    "for num in list1:\n",
    "    if num>largest:\n",
    "        largest=num\n",
    "\n",
    "print(\"largest number in the list is:\",largest)\n",
    "\n",
    "    \n"
   ]
  },
  {
   "cell_type": "code",
   "execution_count": 43,
   "id": "b3bd8e25-cc58-4f87-8c66-3858cbee24d9",
   "metadata": {},
   "outputs": [
    {
     "name": "stdout",
     "output_type": "stream",
     "text": [
      "largest number in the list is: 25\n"
     ]
    }
   ],
   "source": [
    "list1= [1,2,9,25]\n",
    "largest = list1[0]\n",
    "for i in list1:\n",
    "    if i>largest:\n",
    "        largest=i\n",
    "\n",
    "print(\"largest number in the list is:\",largest)\n"
   ]
  },
  {
   "cell_type": "code",
   "execution_count": 46,
   "id": "6c3618fe-18e7-44a3-9142-a489927e707a",
   "metadata": {},
   "outputs": [
    {
     "name": "stdout",
     "output_type": "stream",
     "text": [
      "3.0\n"
     ]
    }
   ],
   "source": [
    "list2 = [1,2,3,4,5]\n",
    "average = 0\n",
    "count = 0\n",
    "for i in list2:\n",
    "    average+=i\n",
    "    count+=1\n",
    "\n",
    "print(average/count)"
   ]
  },
  {
   "cell_type": "code",
   "execution_count": 56,
   "id": "4a100e4f-e2a2-4ecf-b59c-fc3fe00c3f61",
   "metadata": {},
   "outputs": [
    {
     "name": "stdout",
     "output_type": "stream",
     "text": [
      "I\n",
      "L\n",
      "P\n"
     ]
    }
   ],
   "source": [
    "a = \"I Love Python\"\n",
    "for char in a:\n",
    "     if char.isupper():\n",
    "        print(char)"
   ]
  },
  {
   "cell_type": "code",
   "execution_count": 59,
   "id": "1bed7b4e-1dcb-4230-9a7e-f143bbb5c496",
   "metadata": {},
   "outputs": [
    {
     "name": "stdout",
     "output_type": "stream",
     "text": [
      "a\n",
      "i\n",
      "i\n",
      "e\n",
      "o\n",
      "u\n",
      "u\n"
     ]
    }
   ],
   "source": [
    "a = \"aiyridndebhdourhbuhf\"\n",
    "vowels = \"aeiouAEIOU\"\n",
    "for char in a:\n",
    "    if char in vowels:\n",
    "        print(char)"
   ]
  },
  {
   "cell_type": "code",
   "execution_count": 60,
   "id": "d2634724-cfcb-455b-bbca-a8b4190a5fc6",
   "metadata": {},
   "outputs": [
    {
     "name": "stdout",
     "output_type": "stream",
     "text": [
      "****\n",
      "****\n",
      "****\n",
      "****\n",
      "****\n",
      "****\n"
     ]
    }
   ],
   "source": [
    "for i in range(1,4):\n",
    "    for j in range(1,3):\n",
    "        print(\"****\")\n"
   ]
  },
  {
   "cell_type": "code",
   "execution_count": 2,
   "id": "c45481cf-8e1c-4646-ae54-255a231176e3",
   "metadata": {},
   "outputs": [
    {
     "name": "stdout",
     "output_type": "stream",
     "text": [
      "120\n"
     ]
    }
   ],
   "source": [
    "num = 5\n",
    "fact = 1\n",
    "i = 1\n",
    "while i <= 5:\n",
    "    fact*=i\n",
    "    i+=1\n",
    "print(fact)"
   ]
  },
  {
   "cell_type": "code",
   "execution_count": 1,
   "id": "816fa52c-35f5-47ad-a25d-2b6d375ef16e",
   "metadata": {},
   "outputs": [
    {
     "name": "stdout",
     "output_type": "stream",
     "text": [
      "120\n"
     ]
    }
   ],
   "source": [
    "num = 5\n",
    "fact = 1\n",
    "i = 1\n",
    "while i <= 5:\n",
    "    fact *= i\n",
    "    i += 1\n",
    "print(fact)"
   ]
  },
  {
   "cell_type": "code",
   "execution_count": 7,
   "id": "43c89297-5dd3-4fff-918c-4f209ac6325a",
   "metadata": {},
   "outputs": [
    {
     "name": "stdout",
     "output_type": "stream",
     "text": [
      "first occurence 6 is at 5\n"
     ]
    }
   ],
   "source": [
    "list1 = [1,2,3,4,5,6]\n",
    "\n",
    "target = 6\n",
    "i = 0\n",
    "\n",
    "found_index = i\n",
    "\n",
    "while i<len(list1):\n",
    "    if list1[i] ==target:\n",
    "        found_index = i\n",
    "        break\n",
    "    i+=1\n",
    "\n",
    "if found_index!= -1:\n",
    "    print(f'first occurence {target} is at {found_index}')\n",
    "else:\n",
    "    print('not found')\n",
    "    \n"
   ]
  },
  {
   "cell_type": "code",
   "execution_count": 1,
   "id": "8a0b6fd3-f25c-4cb7-972c-7dff2b5bca78",
   "metadata": {},
   "outputs": [
    {
     "name": "stdout",
     "output_type": "stream",
     "text": [
      "The sum of numbers from 1 to 100 is : 5050\n"
     ]
    }
   ],
   "source": [
    "num = 1\n",
    "total = 0\n",
    "\n",
    "while num <= 100:\n",
    "    total += num\n",
    "    num +=1\n",
    "\n",
    "print(\"The sum of numbers from 1 to 100 is :\",total)\n",
    "\n",
    "\n"
   ]
  },
  {
   "cell_type": "code",
   "execution_count": 3,
   "id": "ee2cbc0a-895e-4ade-a48a-7b883bdeb7cb",
   "metadata": {},
   "outputs": [
    {
     "name": "stdout",
     "output_type": "stream",
     "text": [
      "2 3 5 7 11 13 17 19 23 29 31 37 41 43 47 "
     ]
    }
   ],
   "source": [
    "for num in range(2,51):\n",
    "    is_prime = True\n",
    "    for i in range(2,num):\n",
    "        if num%i == 0:\n",
    "            is_prime = False\n",
    "            break\n",
    "    if is_prime:\n",
    "        print(num, end=\" \")"
   ]
  },
  {
   "cell_type": "code",
   "execution_count": 7,
   "id": "74f4f843-6d9e-4bed-81e2-179a38680870",
   "metadata": {},
   "outputs": [
    {
     "name": "stdout",
     "output_type": "stream",
     "text": [
      "3 5 6 9 10 12 15 18 20 "
     ]
    }
   ],
   "source": [
    "for i in range(1,21):\n",
    "    if i%3 == 0 or i%5 == 0:\n",
    "        print(i,end=\" \")"
   ]
  },
  {
   "cell_type": "code",
   "execution_count": 8,
   "id": "dc4baa6f-af36-497d-9035-43fe7b36bf88",
   "metadata": {},
   "outputs": [
    {
     "name": "stdout",
     "output_type": "stream",
     "text": [
      "[1, 4, 9, 16, 25]\n"
     ]
    }
   ],
   "source": [
    "squares = [x**2 for x in range(1,6)]\n",
    "print(squares)\n"
   ]
  },
  {
   "cell_type": "code",
   "execution_count": 9,
   "id": "470da2cd-6048-499e-9b6b-1dbbb5f2a2c6",
   "metadata": {},
   "outputs": [
    {
     "name": "stdout",
     "output_type": "stream",
     "text": [
      "0 1 1 2 3 5 8 13 21 34 "
     ]
    }
   ],
   "source": [
    "a, b = 0, 1\n",
    "count = 0\n",
    "while count < 10:\n",
    "    print(a, end=\" \")\n",
    "    a, b = b, a + b\n",
    "    count += 1"
   ]
  },
  {
   "cell_type": "code",
   "execution_count": 23,
   "id": "aad6aadd-f39d-4043-a1b2-ba8ea01e6205",
   "metadata": {},
   "outputs": [
    {
     "name": "stdout",
     "output_type": "stream",
     "text": [
      "[1, 2, 5, 6]\n"
     ]
    }
   ],
   "source": [
    "l1 = [1,2,3,4,5,6]\n",
    "l2 = [5,6,7,8,1,2]\n",
    "common = []\n",
    "\n",
    "for i in l1:\n",
    "    if i in l2:\n",
    "        common.append(i)\n",
    "        \n",
    "print(common)"
   ]
  },
  {
   "cell_type": "code",
   "execution_count": 24,
   "id": "092fe722-b9b9-493a-8eb9-d34a91359a47",
   "metadata": {},
   "outputs": [
    {
     "name": "stdout",
     "output_type": "stream",
     "text": [
      "[1, 2]\n"
     ]
    }
   ],
   "source": [
    "l1 = [1,2,3,4,5]\n",
    "l2 = [6,7,8,1,2]\n",
    "common = []\n",
    "for i in l1:\n",
    "    if i in l2:\n",
    "        common.append(i)\n",
    "print(common)"
   ]
  },
  {
   "cell_type": "code",
   "execution_count": 25,
   "id": "1fd378d4-a0cb-4886-a517-575a5361db98",
   "metadata": {},
   "outputs": [
    {
     "name": "stdout",
     "output_type": "stream",
     "text": [
      "5\n",
      "10\n",
      "15\n"
     ]
    }
   ],
   "source": [
    "numbers = [5, 10, 15, -3, 20, 25]\n",
    "\n",
    "i = 0\n",
    "while i < len(numbers):\n",
    "    if numbers[i] < 0:\n",
    "        break   # stop when a negative number is found\n",
    "    print(numbers[i])\n",
    "    i += 1"
   ]
  },
  {
   "cell_type": "code",
   "execution_count": 26,
   "id": "7982d5f2-aa42-4fd8-b69a-55da53e291e1",
   "metadata": {},
   "outputs": [
    {
     "name": "stdout",
     "output_type": "stream",
     "text": [
      "5\n",
      "10\n",
      "2\n",
      "6\n",
      "8\n",
      "3\n"
     ]
    }
   ],
   "source": [
    "numbers = [5,10,2,6,8,3,-7]\n",
    "i = 0\n",
    "while i<len(numbers):\n",
    "    if numbers[i] < 0:\n",
    "        break\n",
    "    print(numbers[i])\n",
    "    i +=1"
   ]
  },
  {
   "cell_type": "code",
   "execution_count": 28,
   "id": "04f77a3a-0e45-4958-aeaa-775152fd4885",
   "metadata": {},
   "outputs": [
    {
     "name": "stdout",
     "output_type": "stream",
     "text": [
      "1\n",
      "2\n",
      "4\n",
      "5\n"
     ]
    }
   ],
   "source": [
    "for i in range(1,6):\n",
    "    if i == 3:\n",
    "        continue\n",
    "    print(i)"
   ]
  },
  {
   "cell_type": "code",
   "execution_count": 29,
   "id": "749ec404-c454-4c40-a70d-eef0864c59b1",
   "metadata": {},
   "outputs": [
    {
     "name": "stdout",
     "output_type": "stream",
     "text": [
      "1\n",
      "2\n",
      "4\n"
     ]
    }
   ],
   "source": [
    "for i in range(1,5):\n",
    "    if i ==3:\n",
    "        continue\n",
    "    print(i)"
   ]
  },
  {
   "cell_type": "code",
   "execution_count": 31,
   "id": "760ae90d-3127-4303-bad4-53026a58e2fb",
   "metadata": {},
   "outputs": [
    {
     "name": "stdout",
     "output_type": "stream",
     "text": [
      "1\n",
      "2\n",
      "3\n"
     ]
    }
   ],
   "source": [
    "for i in range(1,11):\n",
    "    if i%4 == 0:\n",
    "        break\n",
    "    print(i)"
   ]
  },
  {
   "cell_type": "code",
   "execution_count": null,
   "id": "7aad93dc-125b-40be-8130-3a266b004a55",
   "metadata": {},
   "outputs": [],
   "source": []
  }
 ],
 "metadata": {
  "kernelspec": {
   "display_name": "Python 3 (ipykernel)",
   "language": "python",
   "name": "python3"
  },
  "language_info": {
   "codemirror_mode": {
    "name": "ipython",
    "version": 3
   },
   "file_extension": ".py",
   "mimetype": "text/x-python",
   "name": "python",
   "nbconvert_exporter": "python",
   "pygments_lexer": "ipython3",
   "version": "3.13.5"
  }
 },
 "nbformat": 4,
 "nbformat_minor": 5
}
